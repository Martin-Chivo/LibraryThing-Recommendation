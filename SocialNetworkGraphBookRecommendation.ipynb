{
 "cells": [
  {
   "cell_type": "code",
   "execution_count": 1,
   "id": "30567bab",
   "metadata": {
    "scrolled": true
   },
   "outputs": [
    {
     "name": "stderr",
     "output_type": "stream",
     "text": [
      "/var/folders/ss/bwt02jls00d7gjr4fbxtn14m0000gn/T/ipykernel_26352/2720155385.py:4: DeprecationWarning: `import pandas_profiling` is going to be deprecated by April 1st. Please use `import ydata_profiling` instead.\n",
      "  import pandas_profiling\n"
     ]
    }
   ],
   "source": [
    "import tarfile\n",
    "import pandas as pd\n",
    "import numpy as np\n",
    "import pandas_profiling\n",
    "from matplotlib import pyplot as plt\n",
    "import pickle\n",
    "from tqdm.notebook import tqdm\n",
    "\n",
    "\n",
    "from surprise import Reader\n",
    "from surprise import Dataset\n",
    "from surprise.model_selection.split import train_test_split\n",
    "from surprise.model_selection import cross_validate, GridSearchCV\n",
    "\n",
    "\n",
    "from surprise import KNNBasic, KNNWithMeans\n",
    "from surprise import SVDpp\n",
    "from surprise import SVD\n",
    "from surprise import accuracy\n",
    "from surprise import SlopeOne\n",
    "from surprise import NMF\n",
    "from surprise import NormalPredictor\n",
    "from surprise import KNNBaseline \n",
    "from surprise import KNNBasic \n",
    "from surprise import KNNWithMeans \n",
    "from surprise import KNNWithZScore \n",
    "from surprise import BaselineOnly \n",
    "from surprise import CoClustering\n",
    "\n",
    "from community import community_louvain\n"
   ]
  },
  {
   "cell_type": "code",
   "execution_count": 2,
   "id": "22ced421",
   "metadata": {},
   "outputs": [],
   "source": [
    "import networkx as nx\n",
    "from pyvis.network import Network\n",
    "net                = Network()"
   ]
  },
  {
   "cell_type": "code",
   "execution_count": 3,
   "id": "769d9c86",
   "metadata": {},
   "outputs": [],
   "source": [
    "edges_info = pd.read_csv('LibraryThing/lthing_data/edges.txt', sep=\" \", header=None)"
   ]
  },
  {
   "cell_type": "code",
   "execution_count": 4,
   "id": "b6960c3a",
   "metadata": {},
   "outputs": [],
   "source": [
    "# open file\n",
    "file = tarfile.open('lthing_data.tar.gz')\n",
    "  \n",
    "# extracting file\n",
    "file.extractall('LibraryThing')\n",
    "  \n",
    "file.close()"
   ]
  },
  {
   "cell_type": "code",
   "execution_count": 5,
   "id": "dfa31033",
   "metadata": {},
   "outputs": [
    {
     "data": {
      "text/html": [
       "<div>\n",
       "<style scoped>\n",
       "    .dataframe tbody tr th:only-of-type {\n",
       "        vertical-align: middle;\n",
       "    }\n",
       "\n",
       "    .dataframe tbody tr th {\n",
       "        vertical-align: top;\n",
       "    }\n",
       "\n",
       "    .dataframe thead th {\n",
       "        text-align: right;\n",
       "    }\n",
       "</style>\n",
       "<table border=\"1\" class=\"dataframe\">\n",
       "  <thead>\n",
       "    <tr style=\"text-align: right;\">\n",
       "      <th></th>\n",
       "      <th>0</th>\n",
       "      <th>1</th>\n",
       "    </tr>\n",
       "  </thead>\n",
       "  <tbody>\n",
       "    <tr>\n",
       "      <th>0</th>\n",
       "      <td>Rodo</td>\n",
       "      <td>anehan</td>\n",
       "    </tr>\n",
       "    <tr>\n",
       "      <th>1</th>\n",
       "      <td>Rodo</td>\n",
       "      <td>sevilemar</td>\n",
       "    </tr>\n",
       "    <tr>\n",
       "      <th>2</th>\n",
       "      <td>Rodo</td>\n",
       "      <td>dingsi</td>\n",
       "    </tr>\n",
       "    <tr>\n",
       "      <th>3</th>\n",
       "      <td>Rodo</td>\n",
       "      <td>slash</td>\n",
       "    </tr>\n",
       "    <tr>\n",
       "      <th>4</th>\n",
       "      <td>RelaxedReader</td>\n",
       "      <td>AnnRig</td>\n",
       "    </tr>\n",
       "    <tr>\n",
       "      <th>...</th>\n",
       "      <td>...</td>\n",
       "      <td>...</td>\n",
       "    </tr>\n",
       "    <tr>\n",
       "      <th>219785</th>\n",
       "      <td>Capfox</td>\n",
       "      <td>lampbane</td>\n",
       "    </tr>\n",
       "    <tr>\n",
       "      <th>219786</th>\n",
       "      <td>Capfox</td>\n",
       "      <td>maberry</td>\n",
       "    </tr>\n",
       "    <tr>\n",
       "      <th>219787</th>\n",
       "      <td>Capfox</td>\n",
       "      <td>raphinou</td>\n",
       "    </tr>\n",
       "    <tr>\n",
       "      <th>219788</th>\n",
       "      <td>Capfox</td>\n",
       "      <td>library1359</td>\n",
       "    </tr>\n",
       "    <tr>\n",
       "      <th>219789</th>\n",
       "      <td>Capfox</td>\n",
       "      <td>nataliepm</td>\n",
       "    </tr>\n",
       "  </tbody>\n",
       "</table>\n",
       "<p>219790 rows × 2 columns</p>\n",
       "</div>"
      ],
      "text/plain": [
       "                    0            1\n",
       "0                Rodo       anehan\n",
       "1                Rodo    sevilemar\n",
       "2                Rodo       dingsi\n",
       "3                Rodo        slash\n",
       "4       RelaxedReader       AnnRig\n",
       "...               ...          ...\n",
       "219785         Capfox     lampbane\n",
       "219786         Capfox      maberry\n",
       "219787         Capfox     raphinou\n",
       "219788         Capfox  library1359\n",
       "219789         Capfox    nataliepm\n",
       "\n",
       "[219790 rows x 2 columns]"
      ]
     },
     "execution_count": 5,
     "metadata": {},
     "output_type": "execute_result"
    }
   ],
   "source": [
    "edges_info"
   ]
  },
  {
   "cell_type": "markdown",
   "id": "be6ebff5",
   "metadata": {},
   "source": [
    "___"
   ]
  },
  {
   "cell_type": "markdown",
   "id": "e553c364",
   "metadata": {},
   "source": [
    "### Kartikeya's data pre-processing\n"
   ]
  },
  {
   "cell_type": "code",
   "execution_count": 6,
   "id": "e32a7fd1",
   "metadata": {},
   "outputs": [],
   "source": [
    "with open('adjacency_matrix.pkl', 'rb') as f:\n",
    "    adjacency_matrix = pickle.load(f)"
   ]
  },
  {
   "cell_type": "code",
   "execution_count": 7,
   "id": "27faa397",
   "metadata": {},
   "outputs": [],
   "source": [
    "with open('new_filtered_df.pkl', 'rb') as f:\n",
    "    new_filtered_df = pickle.load(f)\n"
   ]
  },
  {
   "cell_type": "code",
   "execution_count": 8,
   "id": "eee2f286",
   "metadata": {},
   "outputs": [
    {
     "data": {
      "text/html": [
       "<div>\n",
       "<style scoped>\n",
       "    .dataframe tbody tr th:only-of-type {\n",
       "        vertical-align: middle;\n",
       "    }\n",
       "\n",
       "    .dataframe tbody tr th {\n",
       "        vertical-align: top;\n",
       "    }\n",
       "\n",
       "    .dataframe thead th {\n",
       "        text-align: right;\n",
       "    }\n",
       "</style>\n",
       "<table border=\"1\" class=\"dataframe\">\n",
       "  <thead>\n",
       "    <tr style=\"text-align: right;\">\n",
       "      <th></th>\n",
       "      <th>nhelpful</th>\n",
       "      <th>unixtime</th>\n",
       "      <th>work</th>\n",
       "      <th>user</th>\n",
       "      <th>stars</th>\n",
       "      <th>comment_embedding</th>\n",
       "    </tr>\n",
       "  </thead>\n",
       "  <tbody>\n",
       "    <tr>\n",
       "      <th>0</th>\n",
       "      <td>0</td>\n",
       "      <td>1.332288e+09</td>\n",
       "      <td>73960</td>\n",
       "      <td>Elizabeth.Wong98</td>\n",
       "      <td>4.5</td>\n",
       "      <td>[-145.84668869990855, 60.59739338606596, 134.0...</td>\n",
       "    </tr>\n",
       "    <tr>\n",
       "      <th>1</th>\n",
       "      <td>0</td>\n",
       "      <td>1.253405e+09</td>\n",
       "      <td>69413</td>\n",
       "      <td>rivkat</td>\n",
       "      <td>3.0</td>\n",
       "      <td>[-2.4631957905367017, -21.9402019623667, 28.03...</td>\n",
       "    </tr>\n",
       "    <tr>\n",
       "      <th>2</th>\n",
       "      <td>0</td>\n",
       "      <td>1.299888e+09</td>\n",
       "      <td>9523995</td>\n",
       "      <td>suz.haugland</td>\n",
       "      <td>4.0</td>\n",
       "      <td>[-134.0713327061385, -4.0732360277324915, 222....</td>\n",
       "    </tr>\n",
       "    <tr>\n",
       "      <th>4</th>\n",
       "      <td>0</td>\n",
       "      <td>1.329005e+09</td>\n",
       "      <td>11243828</td>\n",
       "      <td>CandyH</td>\n",
       "      <td>4.0</td>\n",
       "      <td>[-38.956352949142456, 26.277297034859657, 21.7...</td>\n",
       "    </tr>\n",
       "    <tr>\n",
       "      <th>5</th>\n",
       "      <td>0</td>\n",
       "      <td>1.278893e+09</td>\n",
       "      <td>9071901</td>\n",
       "      <td>miyurose</td>\n",
       "      <td>2.0</td>\n",
       "      <td>[-13.054501704871655, 23.149324550293386, 29.8...</td>\n",
       "    </tr>\n",
       "    <tr>\n",
       "      <th>...</th>\n",
       "      <td>...</td>\n",
       "      <td>...</td>\n",
       "      <td>...</td>\n",
       "      <td>...</td>\n",
       "      <td>...</td>\n",
       "      <td>...</td>\n",
       "    </tr>\n",
       "    <tr>\n",
       "      <th>1707060</th>\n",
       "      <td>0</td>\n",
       "      <td>1.248048e+09</td>\n",
       "      <td>2129329</td>\n",
       "      <td>heidijane</td>\n",
       "      <td>4.0</td>\n",
       "      <td>[-10.742771357297897, 6.943109214305878, 10.36...</td>\n",
       "    </tr>\n",
       "    <tr>\n",
       "      <th>1707061</th>\n",
       "      <td>0</td>\n",
       "      <td>1.373242e+09</td>\n",
       "      <td>11234213</td>\n",
       "      <td>wyvernfriend</td>\n",
       "      <td>3.5</td>\n",
       "      <td>[-60.59554514568299, 2.6624271483160555, 30.68...</td>\n",
       "    </tr>\n",
       "    <tr>\n",
       "      <th>1707062</th>\n",
       "      <td>0</td>\n",
       "      <td>1.330906e+09</td>\n",
       "      <td>87328</td>\n",
       "      <td>bookwormteri</td>\n",
       "      <td>2.0</td>\n",
       "      <td>[-4.7271137102507055, 6.203029625117779, 69.68...</td>\n",
       "    </tr>\n",
       "    <tr>\n",
       "      <th>1707066</th>\n",
       "      <td>0</td>\n",
       "      <td>1.364688e+09</td>\n",
       "      <td>11749693</td>\n",
       "      <td>AmyMacEvilly</td>\n",
       "      <td>5.0</td>\n",
       "      <td>[-50.50408464670181, 32.07558064162731, 81.494...</td>\n",
       "    </tr>\n",
       "    <tr>\n",
       "      <th>1707069</th>\n",
       "      <td>3</td>\n",
       "      <td>1.188518e+09</td>\n",
       "      <td>32396</td>\n",
       "      <td>jlelliott</td>\n",
       "      <td>4.0</td>\n",
       "      <td>[-32.50463633891195, 13.910426087677479, -13.3...</td>\n",
       "    </tr>\n",
       "  </tbody>\n",
       "</table>\n",
       "<p>938898 rows × 6 columns</p>\n",
       "</div>"
      ],
      "text/plain": [
       "         nhelpful      unixtime      work              user  stars  \\\n",
       "0               0  1.332288e+09     73960  Elizabeth.Wong98    4.5   \n",
       "1               0  1.253405e+09     69413            rivkat    3.0   \n",
       "2               0  1.299888e+09   9523995      suz.haugland    4.0   \n",
       "4               0  1.329005e+09  11243828            CandyH    4.0   \n",
       "5               0  1.278893e+09   9071901          miyurose    2.0   \n",
       "...           ...           ...       ...               ...    ...   \n",
       "1707060         0  1.248048e+09   2129329         heidijane    4.0   \n",
       "1707061         0  1.373242e+09  11234213      wyvernfriend    3.5   \n",
       "1707062         0  1.330906e+09     87328      bookwormteri    2.0   \n",
       "1707066         0  1.364688e+09  11749693      AmyMacEvilly    5.0   \n",
       "1707069         3  1.188518e+09     32396         jlelliott    4.0   \n",
       "\n",
       "                                         comment_embedding  \n",
       "0        [-145.84668869990855, 60.59739338606596, 134.0...  \n",
       "1        [-2.4631957905367017, -21.9402019623667, 28.03...  \n",
       "2        [-134.0713327061385, -4.0732360277324915, 222....  \n",
       "4        [-38.956352949142456, 26.277297034859657, 21.7...  \n",
       "5        [-13.054501704871655, 23.149324550293386, 29.8...  \n",
       "...                                                    ...  \n",
       "1707060  [-10.742771357297897, 6.943109214305878, 10.36...  \n",
       "1707061  [-60.59554514568299, 2.6624271483160555, 30.68...  \n",
       "1707062  [-4.7271137102507055, 6.203029625117779, 69.68...  \n",
       "1707066  [-50.50408464670181, 32.07558064162731, 81.494...  \n",
       "1707069  [-32.50463633891195, 13.910426087677479, -13.3...  \n",
       "\n",
       "[938898 rows x 6 columns]"
      ]
     },
     "execution_count": 8,
     "metadata": {},
     "output_type": "execute_result"
    }
   ],
   "source": [
    "new_filtered_df"
   ]
  },
  {
   "cell_type": "code",
   "execution_count": 9,
   "id": "ee9dd2b3",
   "metadata": {},
   "outputs": [],
   "source": [
    "df_users = set(new_filtered_df.user)\n",
    "edges_users = set(pd.concat([edges_info[0], edges_info[1]]))"
   ]
  },
  {
   "cell_type": "code",
   "execution_count": 10,
   "id": "3eed2beb",
   "metadata": {},
   "outputs": [
    {
     "data": {
      "text/plain": [
       "65946"
      ]
     },
     "execution_count": 10,
     "metadata": {},
     "output_type": "execute_result"
    }
   ],
   "source": [
    "len(edges_users)"
   ]
  },
  {
   "cell_type": "code",
   "execution_count": 11,
   "id": "e7291d9a",
   "metadata": {},
   "outputs": [
    {
     "data": {
      "text/plain": [
       "25275"
      ]
     },
     "execution_count": 11,
     "metadata": {},
     "output_type": "execute_result"
    }
   ],
   "source": [
    "len(df_users)"
   ]
  },
  {
   "cell_type": "code",
   "execution_count": 12,
   "id": "5396fe75",
   "metadata": {},
   "outputs": [
    {
     "data": {
      "text/plain": [
       "25275"
      ]
     },
     "execution_count": 12,
     "metadata": {},
     "output_type": "execute_result"
    }
   ],
   "source": [
    "len(df_users.intersection(edges_users))"
   ]
  },
  {
   "cell_type": "code",
   "execution_count": 13,
   "id": "dc2104e7",
   "metadata": {},
   "outputs": [],
   "source": [
    "common_users = df_users.intersection(edges_users)"
   ]
  },
  {
   "cell_type": "code",
   "execution_count": 14,
   "id": "3dd20b46",
   "metadata": {},
   "outputs": [
    {
     "data": {
      "text/plain": [
       "25275"
      ]
     },
     "execution_count": 14,
     "metadata": {},
     "output_type": "execute_result"
    }
   ],
   "source": [
    "len(common_users)"
   ]
  },
  {
   "cell_type": "markdown",
   "id": "1344d100",
   "metadata": {},
   "source": [
    "### Martin's data pre-processing"
   ]
  },
  {
   "cell_type": "code",
   "execution_count": 15,
   "id": "e3fddffd",
   "metadata": {},
   "outputs": [],
   "source": [
    "G = nx.Graph()\n",
    "G.add_nodes_from(common_users)"
   ]
  },
  {
   "cell_type": "code",
   "execution_count": 16,
   "id": "401efb24",
   "metadata": {},
   "outputs": [
    {
     "data": {
      "text/plain": [
       "25275"
      ]
     },
     "execution_count": 16,
     "metadata": {},
     "output_type": "execute_result"
    }
   ],
   "source": [
    "len(G.nodes)"
   ]
  },
  {
   "cell_type": "code",
   "execution_count": 17,
   "id": "e4e4f5fb",
   "metadata": {},
   "outputs": [],
   "source": [
    "for i, j in edges_info.values:\n",
    "    if i in common_users and j in common_users:\n",
    "        G.add_edge(i, j)\n",
    "     "
   ]
  },
  {
   "cell_type": "code",
   "execution_count": 18,
   "id": "77e50763",
   "metadata": {},
   "outputs": [
    {
     "data": {
      "text/plain": [
       "False"
      ]
     },
     "execution_count": 18,
     "metadata": {},
     "output_type": "execute_result"
    }
   ],
   "source": [
    "nx.is_connected(G)"
   ]
  },
  {
   "cell_type": "markdown",
   "id": "1c997166",
   "metadata": {},
   "source": [
    "There a lot of subgraphs because the network is not connected."
   ]
  },
  {
   "cell_type": "code",
   "execution_count": 19,
   "id": "76f1fd48",
   "metadata": {},
   "outputs": [
    {
     "name": "stdout",
     "output_type": "stream",
     "text": [
      "size:  18161\n",
      "size:  68\n",
      "size:  56\n",
      "size:  54\n",
      "size:  46\n",
      "size:  41\n",
      "size:  24\n",
      "size:  17\n",
      "size:  17\n",
      "size:  16\n",
      "size:  15\n",
      "size:  14\n",
      "size:  13\n",
      "size:  12\n",
      "size:  12\n",
      "size:  12\n",
      "size:  12\n",
      "size:  11\n",
      "size:  10\n",
      "size:  10\n",
      "size:  9\n",
      "size:  9\n",
      "size:  9\n",
      "size:  9\n",
      "size:  8\n",
      "size:  8\n",
      "size:  8\n",
      "size:  8\n",
      "size:  8\n",
      "size:  8\n",
      "size:  7\n",
      "size:  7\n",
      "size:  7\n",
      "size:  7\n",
      "size:  7\n",
      "size:  6\n",
      "size:  6\n",
      "size:  6\n",
      "size:  6\n",
      "size:  6\n",
      "size:  6\n",
      "size:  6\n",
      "size:  5\n",
      "size:  5\n",
      "size:  5\n",
      "size:  5\n",
      "size:  5\n",
      "size:  5\n",
      "size:  5\n",
      "size:  5\n",
      "size:  5\n",
      "size:  5\n",
      "size:  4\n",
      "size:  4\n",
      "size:  4\n",
      "size:  4\n",
      "size:  4\n",
      "size:  4\n",
      "size:  4\n",
      "size:  4\n",
      "size:  4\n",
      "size:  4\n",
      "size:  4\n",
      "size:  4\n",
      "size:  4\n",
      "size:  4\n",
      "size:  4\n",
      "size:  4\n",
      "size:  4\n",
      "size:  4\n",
      "size:  4\n",
      "size:  4\n",
      "size:  4\n",
      "size:  4\n",
      "size:  4\n",
      "size:  4\n",
      "size:  4\n",
      "size:  4\n",
      "size:  4\n",
      "size:  4\n",
      "size:  4\n"
     ]
    }
   ],
   "source": [
    "for i in [len(c) for c in sorted(nx.connected_components(G), key=len, reverse=True)]:\n",
    "    if i > 3:\n",
    "        print(\"size: \", i)"
   ]
  },
  {
   "cell_type": "markdown",
   "id": "d6e71991",
   "metadata": {},
   "source": [
    "We kept the largest subgraph for simplicity. To ensure that the other algorithms will not run into issues and not have to add global nodes to make the entire graph connected."
   ]
  },
  {
   "cell_type": "code",
   "execution_count": 20,
   "id": "82df887b",
   "metadata": {},
   "outputs": [],
   "source": [
    "Gcc = sorted(nx.connected_components(G), key=len, reverse=True)\n",
    "G_m = G.subgraph(Gcc[0])"
   ]
  },
  {
   "cell_type": "code",
   "execution_count": 21,
   "id": "1e90a24c",
   "metadata": {},
   "outputs": [],
   "source": [
    "# users from the largest subgraph\n",
    "users_main = set(G_m.nodes)"
   ]
  },
  {
   "cell_type": "code",
   "execution_count": 22,
   "id": "c5f7a191",
   "metadata": {},
   "outputs": [
    {
     "data": {
      "text/plain": [
       "25275"
      ]
     },
     "execution_count": 22,
     "metadata": {},
     "output_type": "execute_result"
    }
   ],
   "source": [
    "len(common_users)"
   ]
  },
  {
   "cell_type": "code",
   "execution_count": 23,
   "id": "d1eeebb4",
   "metadata": {},
   "outputs": [
    {
     "data": {
      "text/plain": [
       "18161"
      ]
     },
     "execution_count": 23,
     "metadata": {},
     "output_type": "execute_result"
    }
   ],
   "source": [
    "len(users_main) "
   ]
  },
  {
   "cell_type": "markdown",
   "id": "b2c6d0ba",
   "metadata": {},
   "source": [
    "There are less users when we filter out the subgraphs, about 7k less"
   ]
  },
  {
   "cell_type": "code",
   "execution_count": 24,
   "id": "e84c34bf",
   "metadata": {},
   "outputs": [
    {
     "data": {
      "text/plain": [
       "7114"
      ]
     },
     "execution_count": 24,
     "metadata": {},
     "output_type": "execute_result"
    }
   ],
   "source": [
    "len(common_users) - len(users_main) "
   ]
  },
  {
   "cell_type": "markdown",
   "id": "b11235a4",
   "metadata": {},
   "source": [
    "Filter out the dataframe provided by Kartikeya and keep only the entries that contain users found in the largest subgraph"
   ]
  },
  {
   "cell_type": "code",
   "execution_count": 25,
   "id": "8e0b2b42",
   "metadata": {},
   "outputs": [],
   "source": [
    "main_df = new_filtered_df[new_filtered_df['user'].isin(users_main)]\n"
   ]
  },
  {
   "cell_type": "code",
   "execution_count": 26,
   "id": "3f980601",
   "metadata": {},
   "outputs": [
    {
     "data": {
      "text/html": [
       "<div>\n",
       "<style scoped>\n",
       "    .dataframe tbody tr th:only-of-type {\n",
       "        vertical-align: middle;\n",
       "    }\n",
       "\n",
       "    .dataframe tbody tr th {\n",
       "        vertical-align: top;\n",
       "    }\n",
       "\n",
       "    .dataframe thead th {\n",
       "        text-align: right;\n",
       "    }\n",
       "</style>\n",
       "<table border=\"1\" class=\"dataframe\">\n",
       "  <thead>\n",
       "    <tr style=\"text-align: right;\">\n",
       "      <th></th>\n",
       "      <th>nhelpful</th>\n",
       "      <th>unixtime</th>\n",
       "      <th>work</th>\n",
       "      <th>user</th>\n",
       "      <th>stars</th>\n",
       "      <th>comment_embedding</th>\n",
       "    </tr>\n",
       "  </thead>\n",
       "  <tbody>\n",
       "    <tr>\n",
       "      <th>0</th>\n",
       "      <td>0</td>\n",
       "      <td>1.332288e+09</td>\n",
       "      <td>73960</td>\n",
       "      <td>Elizabeth.Wong98</td>\n",
       "      <td>4.5</td>\n",
       "      <td>[-145.84668869990855, 60.59739338606596, 134.0...</td>\n",
       "    </tr>\n",
       "    <tr>\n",
       "      <th>1</th>\n",
       "      <td>0</td>\n",
       "      <td>1.253405e+09</td>\n",
       "      <td>69413</td>\n",
       "      <td>rivkat</td>\n",
       "      <td>3.0</td>\n",
       "      <td>[-2.4631957905367017, -21.9402019623667, 28.03...</td>\n",
       "    </tr>\n",
       "    <tr>\n",
       "      <th>2</th>\n",
       "      <td>0</td>\n",
       "      <td>1.299888e+09</td>\n",
       "      <td>9523995</td>\n",
       "      <td>suz.haugland</td>\n",
       "      <td>4.0</td>\n",
       "      <td>[-134.0713327061385, -4.0732360277324915, 222....</td>\n",
       "    </tr>\n",
       "    <tr>\n",
       "      <th>4</th>\n",
       "      <td>0</td>\n",
       "      <td>1.329005e+09</td>\n",
       "      <td>11243828</td>\n",
       "      <td>CandyH</td>\n",
       "      <td>4.0</td>\n",
       "      <td>[-38.956352949142456, 26.277297034859657, 21.7...</td>\n",
       "    </tr>\n",
       "    <tr>\n",
       "      <th>5</th>\n",
       "      <td>0</td>\n",
       "      <td>1.278893e+09</td>\n",
       "      <td>9071901</td>\n",
       "      <td>miyurose</td>\n",
       "      <td>2.0</td>\n",
       "      <td>[-13.054501704871655, 23.149324550293386, 29.8...</td>\n",
       "    </tr>\n",
       "    <tr>\n",
       "      <th>...</th>\n",
       "      <td>...</td>\n",
       "      <td>...</td>\n",
       "      <td>...</td>\n",
       "      <td>...</td>\n",
       "      <td>...</td>\n",
       "      <td>...</td>\n",
       "    </tr>\n",
       "    <tr>\n",
       "      <th>1707060</th>\n",
       "      <td>0</td>\n",
       "      <td>1.248048e+09</td>\n",
       "      <td>2129329</td>\n",
       "      <td>heidijane</td>\n",
       "      <td>4.0</td>\n",
       "      <td>[-10.742771357297897, 6.943109214305878, 10.36...</td>\n",
       "    </tr>\n",
       "    <tr>\n",
       "      <th>1707061</th>\n",
       "      <td>0</td>\n",
       "      <td>1.373242e+09</td>\n",
       "      <td>11234213</td>\n",
       "      <td>wyvernfriend</td>\n",
       "      <td>3.5</td>\n",
       "      <td>[-60.59554514568299, 2.6624271483160555, 30.68...</td>\n",
       "    </tr>\n",
       "    <tr>\n",
       "      <th>1707062</th>\n",
       "      <td>0</td>\n",
       "      <td>1.330906e+09</td>\n",
       "      <td>87328</td>\n",
       "      <td>bookwormteri</td>\n",
       "      <td>2.0</td>\n",
       "      <td>[-4.7271137102507055, 6.203029625117779, 69.68...</td>\n",
       "    </tr>\n",
       "    <tr>\n",
       "      <th>1707066</th>\n",
       "      <td>0</td>\n",
       "      <td>1.364688e+09</td>\n",
       "      <td>11749693</td>\n",
       "      <td>AmyMacEvilly</td>\n",
       "      <td>5.0</td>\n",
       "      <td>[-50.50408464670181, 32.07558064162731, 81.494...</td>\n",
       "    </tr>\n",
       "    <tr>\n",
       "      <th>1707069</th>\n",
       "      <td>3</td>\n",
       "      <td>1.188518e+09</td>\n",
       "      <td>32396</td>\n",
       "      <td>jlelliott</td>\n",
       "      <td>4.0</td>\n",
       "      <td>[-32.50463633891195, 13.910426087677479, -13.3...</td>\n",
       "    </tr>\n",
       "  </tbody>\n",
       "</table>\n",
       "<p>836543 rows × 6 columns</p>\n",
       "</div>"
      ],
      "text/plain": [
       "         nhelpful      unixtime      work              user  stars  \\\n",
       "0               0  1.332288e+09     73960  Elizabeth.Wong98    4.5   \n",
       "1               0  1.253405e+09     69413            rivkat    3.0   \n",
       "2               0  1.299888e+09   9523995      suz.haugland    4.0   \n",
       "4               0  1.329005e+09  11243828            CandyH    4.0   \n",
       "5               0  1.278893e+09   9071901          miyurose    2.0   \n",
       "...           ...           ...       ...               ...    ...   \n",
       "1707060         0  1.248048e+09   2129329         heidijane    4.0   \n",
       "1707061         0  1.373242e+09  11234213      wyvernfriend    3.5   \n",
       "1707062         0  1.330906e+09     87328      bookwormteri    2.0   \n",
       "1707066         0  1.364688e+09  11749693      AmyMacEvilly    5.0   \n",
       "1707069         3  1.188518e+09     32396         jlelliott    4.0   \n",
       "\n",
       "                                         comment_embedding  \n",
       "0        [-145.84668869990855, 60.59739338606596, 134.0...  \n",
       "1        [-2.4631957905367017, -21.9402019623667, 28.03...  \n",
       "2        [-134.0713327061385, -4.0732360277324915, 222....  \n",
       "4        [-38.956352949142456, 26.277297034859657, 21.7...  \n",
       "5        [-13.054501704871655, 23.149324550293386, 29.8...  \n",
       "...                                                    ...  \n",
       "1707060  [-10.742771357297897, 6.943109214305878, 10.36...  \n",
       "1707061  [-60.59554514568299, 2.6624271483160555, 30.68...  \n",
       "1707062  [-4.7271137102507055, 6.203029625117779, 69.68...  \n",
       "1707066  [-50.50408464670181, 32.07558064162731, 81.494...  \n",
       "1707069  [-32.50463633891195, 13.910426087677479, -13.3...  \n",
       "\n",
       "[836543 rows x 6 columns]"
      ]
     },
     "execution_count": 26,
     "metadata": {},
     "output_type": "execute_result"
    }
   ],
   "source": [
    "main_df"
   ]
  },
  {
   "cell_type": "code",
   "execution_count": 27,
   "id": "51c5c130",
   "metadata": {},
   "outputs": [
    {
     "data": {
      "text/plain": [
       "938898"
      ]
     },
     "execution_count": 27,
     "metadata": {},
     "output_type": "execute_result"
    }
   ],
   "source": [
    "len(new_filtered_df)"
   ]
  },
  {
   "cell_type": "code",
   "execution_count": 28,
   "id": "238da465",
   "metadata": {},
   "outputs": [
    {
     "data": {
      "text/plain": [
       "836543"
      ]
     },
     "execution_count": 28,
     "metadata": {},
     "output_type": "execute_result"
    }
   ],
   "source": [
    "len(main_df)"
   ]
  },
  {
   "cell_type": "markdown",
   "id": "fd76bf05",
   "metadata": {},
   "source": [
    "We filtered out about 100k entries from the dataframe by filtering out the data and making sure our graph is connected"
   ]
  },
  {
   "cell_type": "code",
   "execution_count": 29,
   "id": "3855c9f5",
   "metadata": {},
   "outputs": [
    {
     "data": {
      "text/plain": [
       "102355"
      ]
     },
     "execution_count": 29,
     "metadata": {},
     "output_type": "execute_result"
    }
   ],
   "source": [
    "len(new_filtered_df) - len(main_df)"
   ]
  },
  {
   "cell_type": "code",
   "execution_count": 30,
   "id": "7c121e20",
   "metadata": {},
   "outputs": [],
   "source": [
    "with open('main_df.pkl', 'wb') as f:\n",
    "    pickle.dump(main_df, f)"
   ]
  },
  {
   "cell_type": "markdown",
   "id": "800c9bb2",
   "metadata": {},
   "source": [
    "Created an adjacency list in case team needs it"
   ]
  },
  {
   "cell_type": "code",
   "execution_count": 31,
   "id": "e373ef17",
   "metadata": {},
   "outputs": [],
   "source": [
    "user_to_index = {}\n",
    "for i, user in enumerate(users_main):\n",
    "    user_to_index[user] = i\n",
    "    \n",
    "index_to_user = {}\n",
    "for i, user in enumerate(users_main):\n",
    "    index_to_user[i] = user"
   ]
  },
  {
   "cell_type": "code",
   "execution_count": 32,
   "id": "296d4553",
   "metadata": {},
   "outputs": [],
   "source": [
    "adj_ls = np.zeros([len(users_main), len(users_main)])\n",
    "for i, j in G_m.edges:\n",
    "    if i in users_main and j in users_main:\n",
    "        u, v = user_to_index[i], user_to_index[j]\n",
    "        adj_ls[u][v] = adj_ls[v][u] = 1"
   ]
  },
  {
   "cell_type": "code",
   "execution_count": 33,
   "id": "f77dec1a",
   "metadata": {},
   "outputs": [],
   "source": [
    "with open('adj_ls.pkl', 'wb') as f:\n",
    "    pickle.dump(adj_ls, f)"
   ]
  },
  {
   "cell_type": "markdown",
   "id": "02e06d9a",
   "metadata": {},
   "source": [
    "---"
   ]
  },
  {
   "cell_type": "markdown",
   "id": "eb82e6c8",
   "metadata": {},
   "source": [
    "___"
   ]
  },
  {
   "cell_type": "markdown",
   "id": "af67b72a",
   "metadata": {},
   "source": [
    "# Start Graph Recomendation System using network of users"
   ]
  },
  {
   "cell_type": "code",
   "execution_count": 34,
   "id": "e81c3fb3",
   "metadata": {},
   "outputs": [],
   "source": [
    "with open('main_df.pkl', 'rb') as f:\n",
    "    main_df = pickle.load(f)"
   ]
  },
  {
   "cell_type": "code",
   "execution_count": 35,
   "id": "0366f40d",
   "metadata": {},
   "outputs": [
    {
     "data": {
      "text/plain": [
       "{'roblong': 0,\n",
       " 'lexport': 1,\n",
       " 'hockeygalscores': 2,\n",
       " 'Munchkinelf': 3,\n",
       " 'Kelpp': 4,\n",
       " 'RobertBast': 5,\n",
       " 'lovelyluck': 6,\n",
       " 'maxairborne': 7,\n",
       " 'rdurie': 8,\n",
       " 'Truly_Bookish': 9}"
      ]
     },
     "execution_count": 35,
     "metadata": {},
     "output_type": "execute_result"
    }
   ],
   "source": [
    "{key: user_to_index[key] for key in list(user_to_index.keys())[:10]}"
   ]
  },
  {
   "cell_type": "code",
   "execution_count": 36,
   "id": "ab442809",
   "metadata": {},
   "outputs": [
    {
     "data": {
      "text/plain": [
       "{0: 'roblong',\n",
       " 1: 'lexport',\n",
       " 2: 'hockeygalscores',\n",
       " 3: 'Munchkinelf',\n",
       " 4: 'Kelpp',\n",
       " 5: 'RobertBast',\n",
       " 6: 'lovelyluck',\n",
       " 7: 'maxairborne',\n",
       " 8: 'rdurie',\n",
       " 9: 'Truly_Bookish'}"
      ]
     },
     "execution_count": 36,
     "metadata": {},
     "output_type": "execute_result"
    }
   ],
   "source": [
    "{key: index_to_user[key] for key in list(index_to_user.keys())[:10]}"
   ]
  },
  {
   "cell_type": "code",
   "execution_count": 37,
   "id": "c4901770",
   "metadata": {},
   "outputs": [],
   "source": [
    "dispersion = nx.dispersion(G_m)\n"
   ]
  },
  {
   "cell_type": "code",
   "execution_count": 38,
   "id": "f363f2f4",
   "metadata": {},
   "outputs": [],
   "source": [
    "# collect all the values of dispersion\n",
    "dispersion_values = []\n",
    "\n",
    "for d in dispersion.values():\n",
    "    for value in d.values():\n",
    "        dispersion_values.append(value)\n",
    "        \n",
    "        \n"
   ]
  },
  {
   "cell_type": "markdown",
   "id": "bf12207d",
   "metadata": {},
   "source": [
    "show the distribution of dispersion values"
   ]
  },
  {
   "cell_type": "code",
   "execution_count": 39,
   "id": "36875017",
   "metadata": {},
   "outputs": [
    {
     "data": {
      "image/png": "[encoded data removed]",
      "text/plain": [
       "<Figure size 640x480 with 1 Axes>"
      ]
     },
     "metadata": {},
     "output_type": "display_data"
    }
   ],
   "source": [
    "plt.hist(dispersion_values, bins=300)\n",
    "plt.xlabel('Dispersion value')\n",
    "plt.ylabel('Frequency')\n",
    "plt.title('Distribution of dispersion values')\n",
    "plt.xlim([0, 5])\n",
    "plt.show()"
   ]
  },
  {
   "cell_type": "markdown",
   "id": "951a6bcf",
   "metadata": {},
   "source": [
    "Dispersion might not be a good measurement to use because a two users in a community might not have a dispersion value for one another. "
   ]
  },
  {
   "cell_type": "code",
   "execution_count": 40,
   "id": "142964c5",
   "metadata": {},
   "outputs": [],
   "source": [
    "degree = dict(nx.degree(G_m))"
   ]
  },
  {
   "cell_type": "code",
   "execution_count": 41,
   "id": "25aa3fda",
   "metadata": {},
   "outputs": [
    {
     "name": "stdout",
     "output_type": "stream",
     "text": [
      "Degree range: 1 - 1704\n"
     ]
    }
   ],
   "source": [
    "# Get degree distribution values\n",
    "degree_values = list(degree.values())\n",
    "print('Degree range:', min(degree_values), '-', max(degree_values))"
   ]
  },
  {
   "cell_type": "code",
   "execution_count": 42,
   "id": "cca74287",
   "metadata": {},
   "outputs": [
    {
     "data": {
      "image/png": "[encoded data removed]",
      "text/plain": [
       "<Figure size 640x480 with 1 Axes>"
      ]
     },
     "metadata": {},
     "output_type": "display_data"
    }
   ],
   "source": [
    "# Create histogram\n",
    "plt.hist(degree_values, bins=500)\n",
    "plt.xlabel('Degree')\n",
    "plt.ylabel('Frequency')\n",
    "plt.title('Degree Distribution')\n",
    "plt.xlim([0, 500])\n",
    "plt.show()"
   ]
  },
  {
   "cell_type": "code",
   "execution_count": 43,
   "id": "11b5e557",
   "metadata": {},
   "outputs": [
    {
     "data": {
      "image/png": "[encoded data removed]",
      "text/plain": [
       "<Figure size 640x480 with 1 Axes>"
      ]
     },
     "metadata": {},
     "output_type": "display_data"
    }
   ],
   "source": [
    "# Create histogram\n",
    "plt.hist(degree_values, bins=500)\n",
    "plt.xlabel('Degree')\n",
    "plt.ylabel('Frequency')\n",
    "plt.title('Degree Distribution')\n",
    "plt.xlim([0, 250])\n",
    "plt.show()"
   ]
  },
  {
   "cell_type": "code",
   "execution_count": 44,
   "id": "d4016ef8",
   "metadata": {
    "scrolled": false
   },
   "outputs": [
    {
     "data": {
      "image/png": "[encoded data removed]",
      "text/plain": [
       "<Figure size 640x480 with 1 Axes>"
      ]
     },
     "metadata": {},
     "output_type": "display_data"
    }
   ],
   "source": [
    "# Create histogram\n",
    "plt.hist(degree_values, bins=800)\n",
    "plt.xlabel('Degree')\n",
    "plt.ylabel('Frequency')\n",
    "plt.title('Degree Distribution')\n",
    "plt.xlim([0, 50])\n",
    "plt.show()"
   ]
  },
  {
   "cell_type": "markdown",
   "id": "1639785c",
   "metadata": {},
   "source": [
    "An additional measurement to determine how important a node is, we will use eigenvector. The eigenvector measures the importance of a node based on the importance of its neighbors.Nodes with a high eigenvector centrality are thought to be more important because they are able to spread influence throughout the network."
   ]
  },
  {
   "cell_type": "code",
   "execution_count": 45,
   "id": "461c851d",
   "metadata": {},
   "outputs": [],
   "source": [
    "eigenvector_cent = nx.eigenvector_centrality(G_m)\n"
   ]
  },
  {
   "cell_type": "code",
   "execution_count": 46,
   "id": "26b783c6",
   "metadata": {},
   "outputs": [
    {
     "name": "stdout",
     "output_type": "stream",
     "text": [
      "Degree range: 4.3534024169324535e-17 - 0.4197863120410799\n"
     ]
    }
   ],
   "source": [
    "# Get degree distribution values\n",
    "eigen_values = list(eigenvector_cent.values())\n",
    "print('Degree range:', min(eigen_values), '-', max(eigen_values))"
   ]
  },
  {
   "cell_type": "code",
   "execution_count": 47,
   "id": "db4b1b52",
   "metadata": {},
   "outputs": [
    {
     "data": {
      "image/png": "[encoded data removed]",
      "text/plain": [
       "<Figure size 640x480 with 1 Axes>"
      ]
     },
     "metadata": {},
     "output_type": "display_data"
    }
   ],
   "source": [
    "# Create histogram\n",
    "plt.hist(eigen_values, bins=50)\n",
    "plt.xlabel('Eigenvector centrality value')\n",
    "plt.ylabel('Frequency')\n",
    "plt.title('Distribution of eigenvector centrality values')\n",
    "plt.xlim([0, .4])\n",
    "plt.show()\n"
   ]
  },
  {
   "cell_type": "code",
   "execution_count": 48,
   "id": "ec2adf88",
   "metadata": {},
   "outputs": [
    {
     "data": {
      "image/png": "[encoded data removed]",
      "text/plain": [
       "<Figure size 640x480 with 1 Axes>"
      ]
     },
     "metadata": {},
     "output_type": "display_data"
    }
   ],
   "source": [
    "# Create histogram\n",
    "plt.hist(eigen_values, bins=200)\n",
    "plt.xlabel('Eigenvector centrality value')\n",
    "plt.ylabel('Frequency')\n",
    "plt.title('Distribution of eigenvector centrality values')\n",
    "plt.xlim([0, .05])\n",
    "plt.show()\n"
   ]
  },
  {
   "cell_type": "code",
   "execution_count": 49,
   "id": "1ff47aab",
   "metadata": {},
   "outputs": [
    {
     "data": {
      "image/png": "[encoded data removed]",
      "text/plain": [
       "<Figure size 640x480 with 1 Axes>"
      ]
     },
     "metadata": {},
     "output_type": "display_data"
    }
   ],
   "source": [
    "# Create histogram\n",
    "plt.hist(eigen_values, bins=500)\n",
    "plt.xlabel('Eigenvector centrality value')\n",
    "plt.ylabel('Frequency')\n",
    "plt.title('Distribution of eigenvector centrality values')\n",
    "plt.xlim([0, .02])\n",
    "plt.show()\n"
   ]
  },
  {
   "cell_type": "markdown",
   "id": "4677011b",
   "metadata": {},
   "source": [
    "To take into account how many shortest paths pass through a node and have a different measurement to determine the importance of a node in the graph we will use betweenness centrality. However, here I used subgraphs to make things faster because using the whole graph took too long. I broke down the graph by determining the centraility of a node by using a subggraph of its neighbors. "
   ]
  },
  {
   "cell_type": "code",
   "execution_count": 50,
   "id": "346b07a7",
   "metadata": {},
   "outputs": [
    {
     "data": {
      "application/vnd.jupyter.widget-view+json": {
       "model_id": "06c04af20ce346e39eef356ca61a8f40",
       "version_major": 2,
       "version_minor": 0
      },
      "text/plain": [
       "  0%|          | 0/18161 [00:00<?, ?it/s]"
      ]
     },
     "metadata": {},
     "output_type": "display_data"
    }
   ],
   "source": [
    "betweenness_centralities = {}\n",
    "for node in tqdm(G_m.nodes()):\n",
    "    neighbors = G_m.neighbors(node)\n",
    "    subgraph = G_m.subgraph(neighbors)\n",
    "    betweenness_centrality = nx.betweenness_centrality(subgraph)\n",
    "    for k, v in betweenness_centrality.items():\n",
    "        if k not in betweenness_centralities:\n",
    "            betweenness_centralities[k] = 0\n",
    "        betweenness_centralities[k] += v"
   ]
  },
  {
   "cell_type": "code",
   "execution_count": 51,
   "id": "dbf89241",
   "metadata": {},
   "outputs": [
    {
     "name": "stdout",
     "output_type": "stream",
     "text": [
      "Degree range: 0.0 - 164.87687793353558\n"
     ]
    }
   ],
   "source": [
    "# Get degree distribution values\n",
    "between_values = list(betweenness_centralities.values())\n",
    "print('Degree range:', min(between_values), '-', max(between_values))"
   ]
  },
  {
   "cell_type": "code",
   "execution_count": 52,
   "id": "56ac581d",
   "metadata": {},
   "outputs": [
    {
     "data": {
      "image/png": "[encoded data removed]",
      "text/plain": [
       "<Figure size 640x480 with 1 Axes>"
      ]
     },
     "metadata": {},
     "output_type": "display_data"
    }
   ],
   "source": [
    "# Create histogram\n",
    "plt.hist(between_values, bins=1000)\n",
    "plt.xlabel('Betweenness centrality value')\n",
    "plt.ylabel('Frequency')\n",
    "plt.title('Distribution of betweenness centrality values')\n",
    "plt.xlim([0, 2])\n",
    "plt.show()\n"
   ]
  },
  {
   "cell_type": "markdown",
   "id": "115c8712",
   "metadata": {},
   "source": [
    "To identify communities within the graph we will use the Louvain Community Detection algorithm. This will allow us to quickly generate a group of similar users when generating recommendations. "
   ]
  },
  {
   "cell_type": "code",
   "execution_count": 53,
   "id": "6c9c3b75",
   "metadata": {},
   "outputs": [],
   "source": [
    "louvian_com = nx.community.louvain_communities(G_m)"
   ]
  },
  {
   "cell_type": "code",
   "execution_count": 54,
   "id": "9f35bf97",
   "metadata": {},
   "outputs": [
    {
     "data": {
      "text/plain": [
       "list"
      ]
     },
     "execution_count": 54,
     "metadata": {},
     "output_type": "execute_result"
    }
   ],
   "source": [
    "type(louvian_com)"
   ]
  },
  {
   "cell_type": "code",
   "execution_count": 55,
   "id": "b8d07f33",
   "metadata": {},
   "outputs": [],
   "source": [
    "# will be useful for find the community with a username\n",
    "louvian_dict = {node: i for i, comm in enumerate(louvian_com) for node in comm}"
   ]
  },
  {
   "cell_type": "code",
   "execution_count": 56,
   "id": "f6b86285",
   "metadata": {},
   "outputs": [],
   "source": [
    "import community"
   ]
  },
  {
   "cell_type": "code",
   "execution_count": 57,
   "id": "239c3715",
   "metadata": {},
   "outputs": [],
   "source": [
    "partition = community.best_partition(G_m)"
   ]
  },
  {
   "cell_type": "markdown",
   "id": "337b7e4b",
   "metadata": {},
   "source": [
    "### Generate a dataframe to use for model creation"
   ]
  },
  {
   "cell_type": "code",
   "execution_count": 58,
   "id": "1c3d746d",
   "metadata": {},
   "outputs": [
    {
     "data": {
      "text/html": [
       "<div>\n",
       "<style scoped>\n",
       "    .dataframe tbody tr th:only-of-type {\n",
       "        vertical-align: middle;\n",
       "    }\n",
       "\n",
       "    .dataframe tbody tr th {\n",
       "        vertical-align: top;\n",
       "    }\n",
       "\n",
       "    .dataframe thead th {\n",
       "        text-align: right;\n",
       "    }\n",
       "</style>\n",
       "<table border=\"1\" class=\"dataframe\">\n",
       "  <thead>\n",
       "    <tr style=\"text-align: right;\">\n",
       "      <th></th>\n",
       "      <th>nhelpful</th>\n",
       "      <th>unixtime</th>\n",
       "      <th>work</th>\n",
       "      <th>user</th>\n",
       "      <th>stars</th>\n",
       "      <th>comment_embedding</th>\n",
       "    </tr>\n",
       "  </thead>\n",
       "  <tbody>\n",
       "    <tr>\n",
       "      <th>0</th>\n",
       "      <td>0</td>\n",
       "      <td>1.332288e+09</td>\n",
       "      <td>73960</td>\n",
       "      <td>Elizabeth.Wong98</td>\n",
       "      <td>4.5</td>\n",
       "      <td>[-145.84668869990855, 60.59739338606596, 134.0...</td>\n",
       "    </tr>\n",
       "    <tr>\n",
       "      <th>1</th>\n",
       "      <td>0</td>\n",
       "      <td>1.253405e+09</td>\n",
       "      <td>69413</td>\n",
       "      <td>rivkat</td>\n",
       "      <td>3.0</td>\n",
       "      <td>[-2.4631957905367017, -21.9402019623667, 28.03...</td>\n",
       "    </tr>\n",
       "    <tr>\n",
       "      <th>2</th>\n",
       "      <td>0</td>\n",
       "      <td>1.299888e+09</td>\n",
       "      <td>9523995</td>\n",
       "      <td>suz.haugland</td>\n",
       "      <td>4.0</td>\n",
       "      <td>[-134.0713327061385, -4.0732360277324915, 222....</td>\n",
       "    </tr>\n",
       "    <tr>\n",
       "      <th>4</th>\n",
       "      <td>0</td>\n",
       "      <td>1.329005e+09</td>\n",
       "      <td>11243828</td>\n",
       "      <td>CandyH</td>\n",
       "      <td>4.0</td>\n",
       "      <td>[-38.956352949142456, 26.277297034859657, 21.7...</td>\n",
       "    </tr>\n",
       "    <tr>\n",
       "      <th>5</th>\n",
       "      <td>0</td>\n",
       "      <td>1.278893e+09</td>\n",
       "      <td>9071901</td>\n",
       "      <td>miyurose</td>\n",
       "      <td>2.0</td>\n",
       "      <td>[-13.054501704871655, 23.149324550293386, 29.8...</td>\n",
       "    </tr>\n",
       "    <tr>\n",
       "      <th>...</th>\n",
       "      <td>...</td>\n",
       "      <td>...</td>\n",
       "      <td>...</td>\n",
       "      <td>...</td>\n",
       "      <td>...</td>\n",
       "      <td>...</td>\n",
       "    </tr>\n",
       "    <tr>\n",
       "      <th>1707060</th>\n",
       "      <td>0</td>\n",
       "      <td>1.248048e+09</td>\n",
       "      <td>2129329</td>\n",
       "      <td>heidijane</td>\n",
       "      <td>4.0</td>\n",
       "      <td>[-10.742771357297897, 6.943109214305878, 10.36...</td>\n",
       "    </tr>\n",
       "    <tr>\n",
       "      <th>1707061</th>\n",
       "      <td>0</td>\n",
       "      <td>1.373242e+09</td>\n",
       "      <td>11234213</td>\n",
       "      <td>wyvernfriend</td>\n",
       "      <td>3.5</td>\n",
       "      <td>[-60.59554514568299, 2.6624271483160555, 30.68...</td>\n",
       "    </tr>\n",
       "    <tr>\n",
       "      <th>1707062</th>\n",
       "      <td>0</td>\n",
       "      <td>1.330906e+09</td>\n",
       "      <td>87328</td>\n",
       "      <td>bookwormteri</td>\n",
       "      <td>2.0</td>\n",
       "      <td>[-4.7271137102507055, 6.203029625117779, 69.68...</td>\n",
       "    </tr>\n",
       "    <tr>\n",
       "      <th>1707066</th>\n",
       "      <td>0</td>\n",
       "      <td>1.364688e+09</td>\n",
       "      <td>11749693</td>\n",
       "      <td>AmyMacEvilly</td>\n",
       "      <td>5.0</td>\n",
       "      <td>[-50.50408464670181, 32.07558064162731, 81.494...</td>\n",
       "    </tr>\n",
       "    <tr>\n",
       "      <th>1707069</th>\n",
       "      <td>3</td>\n",
       "      <td>1.188518e+09</td>\n",
       "      <td>32396</td>\n",
       "      <td>jlelliott</td>\n",
       "      <td>4.0</td>\n",
       "      <td>[-32.50463633891195, 13.910426087677479, -13.3...</td>\n",
       "    </tr>\n",
       "  </tbody>\n",
       "</table>\n",
       "<p>836543 rows × 6 columns</p>\n",
       "</div>"
      ],
      "text/plain": [
       "         nhelpful      unixtime      work              user  stars  \\\n",
       "0               0  1.332288e+09     73960  Elizabeth.Wong98    4.5   \n",
       "1               0  1.253405e+09     69413            rivkat    3.0   \n",
       "2               0  1.299888e+09   9523995      suz.haugland    4.0   \n",
       "4               0  1.329005e+09  11243828            CandyH    4.0   \n",
       "5               0  1.278893e+09   9071901          miyurose    2.0   \n",
       "...           ...           ...       ...               ...    ...   \n",
       "1707060         0  1.248048e+09   2129329         heidijane    4.0   \n",
       "1707061         0  1.373242e+09  11234213      wyvernfriend    3.5   \n",
       "1707062         0  1.330906e+09     87328      bookwormteri    2.0   \n",
       "1707066         0  1.364688e+09  11749693      AmyMacEvilly    5.0   \n",
       "1707069         3  1.188518e+09     32396         jlelliott    4.0   \n",
       "\n",
       "                                         comment_embedding  \n",
       "0        [-145.84668869990855, 60.59739338606596, 134.0...  \n",
       "1        [-2.4631957905367017, -21.9402019623667, 28.03...  \n",
       "2        [-134.0713327061385, -4.0732360277324915, 222....  \n",
       "4        [-38.956352949142456, 26.277297034859657, 21.7...  \n",
       "5        [-13.054501704871655, 23.149324550293386, 29.8...  \n",
       "...                                                    ...  \n",
       "1707060  [-10.742771357297897, 6.943109214305878, 10.36...  \n",
       "1707061  [-60.59554514568299, 2.6624271483160555, 30.68...  \n",
       "1707062  [-4.7271137102507055, 6.203029625117779, 69.68...  \n",
       "1707066  [-50.50408464670181, 32.07558064162731, 81.494...  \n",
       "1707069  [-32.50463633891195, 13.910426087677479, -13.3...  \n",
       "\n",
       "[836543 rows x 6 columns]"
      ]
     },
     "execution_count": 58,
     "metadata": {},
     "output_type": "execute_result"
    }
   ],
   "source": [
    "main_df"
   ]
  },
  {
   "cell_type": "code",
   "execution_count": 59,
   "id": "c16dc20b",
   "metadata": {},
   "outputs": [],
   "source": [
    "# turn book ids to int\n",
    "main_df['work'] = main_df['work'].astype(int)"
   ]
  },
  {
   "cell_type": "code",
   "execution_count": 60,
   "id": "2c21b8e3",
   "metadata": {},
   "outputs": [
    {
     "name": "stdout",
     "output_type": "stream",
     "text": [
      "<class 'pandas.core.frame.DataFrame'>\n",
      "Int64Index: 836543 entries, 0 to 1707069\n",
      "Data columns (total 6 columns):\n",
      " #   Column             Non-Null Count   Dtype  \n",
      "---  ------             --------------   -----  \n",
      " 0   nhelpful           836543 non-null  int64  \n",
      " 1   unixtime           836543 non-null  float64\n",
      " 2   work               836543 non-null  int64  \n",
      " 3   user               836543 non-null  object \n",
      " 4   stars              836543 non-null  float64\n",
      " 5   comment_embedding  836543 non-null  object \n",
      "dtypes: float64(2), int64(2), object(2)\n",
      "memory usage: 44.7+ MB\n"
     ]
    }
   ],
   "source": [
    "main_df.info()"
   ]
  },
  {
   "cell_type": "code",
   "execution_count": 61,
   "id": "f5e554a6",
   "metadata": {},
   "outputs": [],
   "source": [
    "main_df['user'] = main_df['user'].map(user_to_index)"
   ]
  },
  {
   "cell_type": "code",
   "execution_count": 62,
   "id": "e4a6a0ef",
   "metadata": {},
   "outputs": [
    {
     "data": {
      "text/html": [
       "<div>\n",
       "<style scoped>\n",
       "    .dataframe tbody tr th:only-of-type {\n",
       "        vertical-align: middle;\n",
       "    }\n",
       "\n",
       "    .dataframe tbody tr th {\n",
       "        vertical-align: top;\n",
       "    }\n",
       "\n",
       "    .dataframe thead th {\n",
       "        text-align: right;\n",
       "    }\n",
       "</style>\n",
       "<table border=\"1\" class=\"dataframe\">\n",
       "  <thead>\n",
       "    <tr style=\"text-align: right;\">\n",
       "      <th></th>\n",
       "      <th>nhelpful</th>\n",
       "      <th>unixtime</th>\n",
       "      <th>work</th>\n",
       "      <th>user</th>\n",
       "      <th>stars</th>\n",
       "      <th>comment_embedding</th>\n",
       "    </tr>\n",
       "  </thead>\n",
       "  <tbody>\n",
       "    <tr>\n",
       "      <th>0</th>\n",
       "      <td>0</td>\n",
       "      <td>1.332288e+09</td>\n",
       "      <td>73960</td>\n",
       "      <td>16707</td>\n",
       "      <td>4.5</td>\n",
       "      <td>[-145.84668869990855, 60.59739338606596, 134.0...</td>\n",
       "    </tr>\n",
       "    <tr>\n",
       "      <th>1</th>\n",
       "      <td>0</td>\n",
       "      <td>1.253405e+09</td>\n",
       "      <td>69413</td>\n",
       "      <td>7565</td>\n",
       "      <td>3.0</td>\n",
       "      <td>[-2.4631957905367017, -21.9402019623667, 28.03...</td>\n",
       "    </tr>\n",
       "    <tr>\n",
       "      <th>2</th>\n",
       "      <td>0</td>\n",
       "      <td>1.299888e+09</td>\n",
       "      <td>9523995</td>\n",
       "      <td>15771</td>\n",
       "      <td>4.0</td>\n",
       "      <td>[-134.0713327061385, -4.0732360277324915, 222....</td>\n",
       "    </tr>\n",
       "    <tr>\n",
       "      <th>4</th>\n",
       "      <td>0</td>\n",
       "      <td>1.329005e+09</td>\n",
       "      <td>11243828</td>\n",
       "      <td>15509</td>\n",
       "      <td>4.0</td>\n",
       "      <td>[-38.956352949142456, 26.277297034859657, 21.7...</td>\n",
       "    </tr>\n",
       "    <tr>\n",
       "      <th>5</th>\n",
       "      <td>0</td>\n",
       "      <td>1.278893e+09</td>\n",
       "      <td>9071901</td>\n",
       "      <td>11740</td>\n",
       "      <td>2.0</td>\n",
       "      <td>[-13.054501704871655, 23.149324550293386, 29.8...</td>\n",
       "    </tr>\n",
       "    <tr>\n",
       "      <th>...</th>\n",
       "      <td>...</td>\n",
       "      <td>...</td>\n",
       "      <td>...</td>\n",
       "      <td>...</td>\n",
       "      <td>...</td>\n",
       "      <td>...</td>\n",
       "    </tr>\n",
       "    <tr>\n",
       "      <th>1707060</th>\n",
       "      <td>0</td>\n",
       "      <td>1.248048e+09</td>\n",
       "      <td>2129329</td>\n",
       "      <td>12934</td>\n",
       "      <td>4.0</td>\n",
       "      <td>[-10.742771357297897, 6.943109214305878, 10.36...</td>\n",
       "    </tr>\n",
       "    <tr>\n",
       "      <th>1707061</th>\n",
       "      <td>0</td>\n",
       "      <td>1.373242e+09</td>\n",
       "      <td>11234213</td>\n",
       "      <td>5155</td>\n",
       "      <td>3.5</td>\n",
       "      <td>[-60.59554514568299, 2.6624271483160555, 30.68...</td>\n",
       "    </tr>\n",
       "    <tr>\n",
       "      <th>1707062</th>\n",
       "      <td>0</td>\n",
       "      <td>1.330906e+09</td>\n",
       "      <td>87328</td>\n",
       "      <td>2875</td>\n",
       "      <td>2.0</td>\n",
       "      <td>[-4.7271137102507055, 6.203029625117779, 69.68...</td>\n",
       "    </tr>\n",
       "    <tr>\n",
       "      <th>1707066</th>\n",
       "      <td>0</td>\n",
       "      <td>1.364688e+09</td>\n",
       "      <td>11749693</td>\n",
       "      <td>5129</td>\n",
       "      <td>5.0</td>\n",
       "      <td>[-50.50408464670181, 32.07558064162731, 81.494...</td>\n",
       "    </tr>\n",
       "    <tr>\n",
       "      <th>1707069</th>\n",
       "      <td>3</td>\n",
       "      <td>1.188518e+09</td>\n",
       "      <td>32396</td>\n",
       "      <td>6546</td>\n",
       "      <td>4.0</td>\n",
       "      <td>[-32.50463633891195, 13.910426087677479, -13.3...</td>\n",
       "    </tr>\n",
       "  </tbody>\n",
       "</table>\n",
       "<p>836543 rows × 6 columns</p>\n",
       "</div>"
      ],
      "text/plain": [
       "         nhelpful      unixtime      work   user  stars  \\\n",
       "0               0  1.332288e+09     73960  16707    4.5   \n",
       "1               0  1.253405e+09     69413   7565    3.0   \n",
       "2               0  1.299888e+09   9523995  15771    4.0   \n",
       "4               0  1.329005e+09  11243828  15509    4.0   \n",
       "5               0  1.278893e+09   9071901  11740    2.0   \n",
       "...           ...           ...       ...    ...    ...   \n",
       "1707060         0  1.248048e+09   2129329  12934    4.0   \n",
       "1707061         0  1.373242e+09  11234213   5155    3.5   \n",
       "1707062         0  1.330906e+09     87328   2875    2.0   \n",
       "1707066         0  1.364688e+09  11749693   5129    5.0   \n",
       "1707069         3  1.188518e+09     32396   6546    4.0   \n",
       "\n",
       "                                         comment_embedding  \n",
       "0        [-145.84668869990855, 60.59739338606596, 134.0...  \n",
       "1        [-2.4631957905367017, -21.9402019623667, 28.03...  \n",
       "2        [-134.0713327061385, -4.0732360277324915, 222....  \n",
       "4        [-38.956352949142456, 26.277297034859657, 21.7...  \n",
       "5        [-13.054501704871655, 23.149324550293386, 29.8...  \n",
       "...                                                    ...  \n",
       "1707060  [-10.742771357297897, 6.943109214305878, 10.36...  \n",
       "1707061  [-60.59554514568299, 2.6624271483160555, 30.68...  \n",
       "1707062  [-4.7271137102507055, 6.203029625117779, 69.68...  \n",
       "1707066  [-50.50408464670181, 32.07558064162731, 81.494...  \n",
       "1707069  [-32.50463633891195, 13.910426087677479, -13.3...  \n",
       "\n",
       "[836543 rows x 6 columns]"
      ]
     },
     "execution_count": 62,
     "metadata": {},
     "output_type": "execute_result"
    }
   ],
   "source": [
    "main_df"
   ]
  },
  {
   "cell_type": "code",
   "execution_count": 63,
   "id": "f534a481",
   "metadata": {},
   "outputs": [],
   "source": [
    "core = main_df[['work', 'user', 'stars']].copy()"
   ]
  },
  {
   "cell_type": "code",
   "execution_count": 64,
   "id": "0ba8b2a9",
   "metadata": {},
   "outputs": [
    {
     "data": {
      "text/html": [
       "<div>\n",
       "<style scoped>\n",
       "    .dataframe tbody tr th:only-of-type {\n",
       "        vertical-align: middle;\n",
       "    }\n",
       "\n",
       "    .dataframe tbody tr th {\n",
       "        vertical-align: top;\n",
       "    }\n",
       "\n",
       "    .dataframe thead th {\n",
       "        text-align: right;\n",
       "    }\n",
       "</style>\n",
       "<table border=\"1\" class=\"dataframe\">\n",
       "  <thead>\n",
       "    <tr style=\"text-align: right;\">\n",
       "      <th></th>\n",
       "      <th>work</th>\n",
       "      <th>user</th>\n",
       "      <th>stars</th>\n",
       "    </tr>\n",
       "  </thead>\n",
       "  <tbody>\n",
       "    <tr>\n",
       "      <th>0</th>\n",
       "      <td>73960</td>\n",
       "      <td>16707</td>\n",
       "      <td>4.5</td>\n",
       "    </tr>\n",
       "    <tr>\n",
       "      <th>1</th>\n",
       "      <td>69413</td>\n",
       "      <td>7565</td>\n",
       "      <td>3.0</td>\n",
       "    </tr>\n",
       "    <tr>\n",
       "      <th>2</th>\n",
       "      <td>9523995</td>\n",
       "      <td>15771</td>\n",
       "      <td>4.0</td>\n",
       "    </tr>\n",
       "    <tr>\n",
       "      <th>4</th>\n",
       "      <td>11243828</td>\n",
       "      <td>15509</td>\n",
       "      <td>4.0</td>\n",
       "    </tr>\n",
       "    <tr>\n",
       "      <th>5</th>\n",
       "      <td>9071901</td>\n",
       "      <td>11740</td>\n",
       "      <td>2.0</td>\n",
       "    </tr>\n",
       "    <tr>\n",
       "      <th>...</th>\n",
       "      <td>...</td>\n",
       "      <td>...</td>\n",
       "      <td>...</td>\n",
       "    </tr>\n",
       "    <tr>\n",
       "      <th>1707060</th>\n",
       "      <td>2129329</td>\n",
       "      <td>12934</td>\n",
       "      <td>4.0</td>\n",
       "    </tr>\n",
       "    <tr>\n",
       "      <th>1707061</th>\n",
       "      <td>11234213</td>\n",
       "      <td>5155</td>\n",
       "      <td>3.5</td>\n",
       "    </tr>\n",
       "    <tr>\n",
       "      <th>1707062</th>\n",
       "      <td>87328</td>\n",
       "      <td>2875</td>\n",
       "      <td>2.0</td>\n",
       "    </tr>\n",
       "    <tr>\n",
       "      <th>1707066</th>\n",
       "      <td>11749693</td>\n",
       "      <td>5129</td>\n",
       "      <td>5.0</td>\n",
       "    </tr>\n",
       "    <tr>\n",
       "      <th>1707069</th>\n",
       "      <td>32396</td>\n",
       "      <td>6546</td>\n",
       "      <td>4.0</td>\n",
       "    </tr>\n",
       "  </tbody>\n",
       "</table>\n",
       "<p>836543 rows × 3 columns</p>\n",
       "</div>"
      ],
      "text/plain": [
       "             work   user  stars\n",
       "0           73960  16707    4.5\n",
       "1           69413   7565    3.0\n",
       "2         9523995  15771    4.0\n",
       "4        11243828  15509    4.0\n",
       "5         9071901  11740    2.0\n",
       "...           ...    ...    ...\n",
       "1707060   2129329  12934    4.0\n",
       "1707061  11234213   5155    3.5\n",
       "1707062     87328   2875    2.0\n",
       "1707066  11749693   5129    5.0\n",
       "1707069     32396   6546    4.0\n",
       "\n",
       "[836543 rows x 3 columns]"
      ]
     },
     "execution_count": 64,
     "metadata": {},
     "output_type": "execute_result"
    }
   ],
   "source": [
    "core"
   ]
  },
  {
   "cell_type": "markdown",
   "id": "99ae3137",
   "metadata": {},
   "source": [
    "### determine what model(s) to use"
   ]
  },
  {
   "cell_type": "code",
   "execution_count": 65,
   "id": "d005f151",
   "metadata": {},
   "outputs": [
    {
     "data": {
      "text/html": [
       "        <script type=\"text/javascript\">\n",
       "        window.PlotlyConfig = {MathJaxConfig: 'local'};\n",
       "        if (window.MathJax && window.MathJax.Hub && window.MathJax.Hub.Config) {window.MathJax.Hub.Config({SVG: {font: \"STIX-Web\"}});}\n",
       "        if (typeof require !== 'undefined') {\n",
       "        require.undef(\"plotly\");\n",
       "        requirejs.config({\n",
       "            paths: {\n",
       "                'plotly': ['https://cdn.plot.ly/plotly-2.20.0.min']\n",
       "            }\n",
       "        });\n",
       "        require(['plotly'], function(Plotly) {\n",
       "            window._Plotly = Plotly;\n",
       "        });\n",
       "        }\n",
       "        </script>\n",
       "        "
      ]
     },
     "metadata": {},
     "output_type": "display_data"
    }
   ],
   "source": [
    "#used to visualize the training data and choose \n",
    "from plotly.offline import init_notebook_mode, plot, iplot\n",
    "import plotly.graph_objs as go\n",
    "init_notebook_mode(connected=True)"
   ]
  },
  {
   "cell_type": "code",
   "execution_count": 66,
   "id": "d54dd17b",
   "metadata": {},
   "outputs": [
    {
     "data": {
      "application/vnd.plotly.v1+json": {
       "config": {
        "linkText": "Export to plot.ly",
        "plotlyServerURL": "https://plot.ly",
        "showLink": false
       },
       "data": [
        {
         "text": [
          "22.0 %",
          "7.2 %",
          "32.1 %",
          "10.0 %",
          "17.2 %",
          "3.1 %",
          "5.3 %",
          "0.7 %",
          "1.8 %",
          "0.5 %"
         ],
         "textfont": {
          "color": "#000000"
         },
         "textposition": "auto",
         "type": "bar",
         "x": [
          5,
          4.5,
          4,
          3.5,
          3,
          2.5,
          2,
          1.5,
          1,
          0.5
         ],
         "y": [
          183788,
          60305,
          268605,
          83819,
          144013,
          25665,
          44429,
          6208,
          15303,
          4408
         ]
        }
       ],
       "layout": {
        "template": {
         "data": {
          "bar": [
           {
            "error_x": {
             "color": "#2a3f5f"
            },
            "error_y": {
             "color": "#2a3f5f"
            },
            "marker": {
             "line": {
              "color": "#E5ECF6",
              "width": 0.5
             },
             "pattern": {
              "fillmode": "overlay",
              "size": 10,
              "solidity": 0.2
             }
            },
            "type": "bar"
           }
          ],
          "barpolar": [
           {
            "marker": {
             "line": {
              "color": "#E5ECF6",
              "width": 0.5
             },
             "pattern": {
              "fillmode": "overlay",
              "size": 10,
              "solidity": 0.2
             }
            },
            "type": "barpolar"
           }
          ],
          "carpet": [
           {
            "aaxis": {
             "endlinecolor": "#2a3f5f",
             "gridcolor": "white",
             "linecolor": "white",
             "minorgridcolor": "white",
             "startlinecolor": "#2a3f5f"
            },
            "baxis": {
             "endlinecolor": "#2a3f5f",
             "gridcolor": "white",
             "linecolor": "white",
             "minorgridcolor": "white",
             "startlinecolor": "#2a3f5f"
            },
            "type": "carpet"
           }
          ],
          "choropleth": [
           {
            "colorbar": {
             "outlinewidth": 0,
             "ticks": ""
            },
            "type": "choropleth"
           }
          ],
          "contour": [
           {
            "colorbar": {
             "outlinewidth": 0,
             "ticks": ""
            },
            "colorscale": [
             [
              0,
              "#0d0887"
             ],
             [
              0.1111111111111111,
              "#46039f"
             ],
             [
              0.2222222222222222,
              "#7201a8"
             ],
             [
              0.3333333333333333,
              "#9c179e"
             ],
             [
              0.4444444444444444,
              "#bd3786"
             ],
             [
              0.5555555555555556,
              "#d8576b"
             ],
             [
              0.6666666666666666,
              "#ed7953"
             ],
             [
              0.7777777777777778,
              "#fb9f3a"
             ],
             [
              0.8888888888888888,
              "#fdca26"
             ],
             [
              1,
              "#f0f921"
             ]
            ],
            "type": "contour"
           }
          ],
          "contourcarpet": [
           {
            "colorbar": {
             "outlinewidth": 0,
             "ticks": ""
            },
            "type": "contourcarpet"
           }
          ],
          "heatmap": [
           {
            "colorbar": {
             "outlinewidth": 0,
             "ticks": ""
            },
            "colorscale": [
             [
              0,
              "#0d0887"
             ],
             [
              0.1111111111111111,
              "#46039f"
             ],
             [
              0.2222222222222222,
              "#7201a8"
             ],
             [
              0.3333333333333333,
              "#9c179e"
             ],
             [
              0.4444444444444444,
              "#bd3786"
             ],
             [
              0.5555555555555556,
              "#d8576b"
             ],
             [
              0.6666666666666666,
              "#ed7953"
             ],
             [
              0.7777777777777778,
              "#fb9f3a"
             ],
             [
              0.8888888888888888,
              "#fdca26"
             ],
             [
              1,
              "#f0f921"
             ]
            ],
            "type": "heatmap"
           }
          ],
          "heatmapgl": [
           {
            "colorbar": {
             "outlinewidth": 0,
             "ticks": ""
            },
            "colorscale": [
             [
              0,
              "#0d0887"
             ],
             [
              0.1111111111111111,
              "#46039f"
             ],
             [
              0.2222222222222222,
              "#7201a8"
             ],
             [
              0.3333333333333333,
              "#9c179e"
             ],
             [
              0.4444444444444444,
              "#bd3786"
             ],
             [
              0.5555555555555556,
              "#d8576b"
             ],
             [
              0.6666666666666666,
              "#ed7953"
             ],
             [
              0.7777777777777778,
              "#fb9f3a"
             ],
             [
              0.8888888888888888,
              "#fdca26"
             ],
             [
              1,
              "#f0f921"
             ]
            ],
            "type": "heatmapgl"
           }
          ],
          "histogram": [
           {
            "marker": {
             "pattern": {
              "fillmode": "overlay",
              "size": 10,
              "solidity": 0.2
             }
            },
            "type": "histogram"
           }
          ],
          "histogram2d": [
           {
            "colorbar": {
             "outlinewidth": 0,
             "ticks": ""
            },
            "colorscale": [
             [
              0,
              "#0d0887"
             ],
             [
              0.1111111111111111,
              "#46039f"
             ],
             [
              0.2222222222222222,
              "#7201a8"
             ],
             [
              0.3333333333333333,
              "#9c179e"
             ],
             [
              0.4444444444444444,
              "#bd3786"
             ],
             [
              0.5555555555555556,
              "#d8576b"
             ],
             [
              0.6666666666666666,
              "#ed7953"
             ],
             [
              0.7777777777777778,
              "#fb9f3a"
             ],
             [
              0.8888888888888888,
              "#fdca26"
             ],
             [
              1,
              "#f0f921"
             ]
            ],
            "type": "histogram2d"
           }
          ],
          "histogram2dcontour": [
           {
            "colorbar": {
             "outlinewidth": 0,
             "ticks": ""
            },
            "colorscale": [
             [
              0,
              "#0d0887"
             ],
             [
              0.1111111111111111,
              "#46039f"
             ],
             [
              0.2222222222222222,
              "#7201a8"
             ],
             [
              0.3333333333333333,
              "#9c179e"
             ],
             [
              0.4444444444444444,
              "#bd3786"
             ],
             [
              0.5555555555555556,
              "#d8576b"
             ],
             [
              0.6666666666666666,
              "#ed7953"
             ],
             [
              0.7777777777777778,
              "#fb9f3a"
             ],
             [
              0.8888888888888888,
              "#fdca26"
             ],
             [
              1,
              "#f0f921"
             ]
            ],
            "type": "histogram2dcontour"
           }
          ],
          "mesh3d": [
           {
            "colorbar": {
             "outlinewidth": 0,
             "ticks": ""
            },
            "type": "mesh3d"
           }
          ],
          "parcoords": [
           {
            "line": {
             "colorbar": {
              "outlinewidth": 0,
              "ticks": ""
             }
            },
            "type": "parcoords"
           }
          ],
          "pie": [
           {
            "automargin": true,
            "type": "pie"
           }
          ],
          "scatter": [
           {
            "fillpattern": {
             "fillmode": "overlay",
             "size": 10,
             "solidity": 0.2
            },
            "type": "scatter"
           }
          ],
          "scatter3d": [
           {
            "line": {
             "colorbar": {
              "outlinewidth": 0,
              "ticks": ""
             }
            },
            "marker": {
             "colorbar": {
              "outlinewidth": 0,
              "ticks": ""
             }
            },
            "type": "scatter3d"
           }
          ],
          "scattercarpet": [
           {
            "marker": {
             "colorbar": {
              "outlinewidth": 0,
              "ticks": ""
             }
            },
            "type": "scattercarpet"
           }
          ],
          "scattergeo": [
           {
            "marker": {
             "colorbar": {
              "outlinewidth": 0,
              "ticks": ""
             }
            },
            "type": "scattergeo"
           }
          ],
          "scattergl": [
           {
            "marker": {
             "colorbar": {
              "outlinewidth": 0,
              "ticks": ""
             }
            },
            "type": "scattergl"
           }
          ],
          "scattermapbox": [
           {
            "marker": {
             "colorbar": {
              "outlinewidth": 0,
              "ticks": ""
             }
            },
            "type": "scattermapbox"
           }
          ],
          "scatterpolar": [
           {
            "marker": {
             "colorbar": {
              "outlinewidth": 0,
              "ticks": ""
             }
            },
            "type": "scatterpolar"
           }
          ],
          "scatterpolargl": [
           {
            "marker": {
             "colorbar": {
              "outlinewidth": 0,
              "ticks": ""
             }
            },
            "type": "scatterpolargl"
           }
          ],
          "scatterternary": [
           {
            "marker": {
             "colorbar": {
              "outlinewidth": 0,
              "ticks": ""
             }
            },
            "type": "scatterternary"
           }
          ],
          "surface": [
           {
            "colorbar": {
             "outlinewidth": 0,
             "ticks": ""
            },
            "colorscale": [
             [
              0,
              "#0d0887"
             ],
             [
              0.1111111111111111,
              "#46039f"
             ],
             [
              0.2222222222222222,
              "#7201a8"
             ],
             [
              0.3333333333333333,
              "#9c179e"
             ],
             [
              0.4444444444444444,
              "#bd3786"
             ],
             [
              0.5555555555555556,
              "#d8576b"
             ],
             [
              0.6666666666666666,
              "#ed7953"
             ],
             [
              0.7777777777777778,
              "#fb9f3a"
             ],
             [
              0.8888888888888888,
              "#fdca26"
             ],
             [
              1,
              "#f0f921"
             ]
            ],
            "type": "surface"
           }
          ],
          "table": [
           {
            "cells": {
             "fill": {
              "color": "#EBF0F8"
             },
             "line": {
              "color": "white"
             }
            },
            "header": {
             "fill": {
              "color": "#C8D4E3"
             },
             "line": {
              "color": "white"
             }
            },
            "type": "table"
           }
          ]
         },
         "layout": {
          "annotationdefaults": {
           "arrowcolor": "#2a3f5f",
           "arrowhead": 0,
           "arrowwidth": 1
          },
          "autotypenumbers": "strict",
          "coloraxis": {
           "colorbar": {
            "outlinewidth": 0,
            "ticks": ""
           }
          },
          "colorscale": {
           "diverging": [
            [
             0,
             "#8e0152"
            ],
            [
             0.1,
             "#c51b7d"
            ],
            [
             0.2,
             "#de77ae"
            ],
            [
             0.3,
             "#f1b6da"
            ],
            [
             0.4,
             "#fde0ef"
            ],
            [
             0.5,
             "#f7f7f7"
            ],
            [
             0.6,
             "#e6f5d0"
            ],
            [
             0.7,
             "#b8e186"
            ],
            [
             0.8,
             "#7fbc41"
            ],
            [
             0.9,
             "#4d9221"
            ],
            [
             1,
             "#276419"
            ]
           ],
           "sequential": [
            [
             0,
             "#0d0887"
            ],
            [
             0.1111111111111111,
             "#46039f"
            ],
            [
             0.2222222222222222,
             "#7201a8"
            ],
            [
             0.3333333333333333,
             "#9c179e"
            ],
            [
             0.4444444444444444,
             "#bd3786"
            ],
            [
             0.5555555555555556,
             "#d8576b"
            ],
            [
             0.6666666666666666,
             "#ed7953"
            ],
            [
             0.7777777777777778,
             "#fb9f3a"
            ],
            [
             0.8888888888888888,
             "#fdca26"
            ],
            [
             1,
             "#f0f921"
            ]
           ],
           "sequentialminus": [
            [
             0,
             "#0d0887"
            ],
            [
             0.1111111111111111,
             "#46039f"
            ],
            [
             0.2222222222222222,
             "#7201a8"
            ],
            [
             0.3333333333333333,
             "#9c179e"
            ],
            [
             0.4444444444444444,
             "#bd3786"
            ],
            [
             0.5555555555555556,
             "#d8576b"
            ],
            [
             0.6666666666666666,
             "#ed7953"
            ],
            [
             0.7777777777777778,
             "#fb9f3a"
            ],
            [
             0.8888888888888888,
             "#fdca26"
            ],
            [
             1,
             "#f0f921"
            ]
           ]
          },
          "colorway": [
           "#636efa",
           "#EF553B",
           "#00cc96",
           "#ab63fa",
           "#FFA15A",
           "#19d3f3",
           "#FF6692",
           "#B6E880",
           "#FF97FF",
           "#FECB52"
          ],
          "font": {
           "color": "#2a3f5f"
          },
          "geo": {
           "bgcolor": "white",
           "lakecolor": "white",
           "landcolor": "#E5ECF6",
           "showlakes": true,
           "showland": true,
           "subunitcolor": "white"
          },
          "hoverlabel": {
           "align": "left"
          },
          "hovermode": "closest",
          "mapbox": {
           "style": "light"
          },
          "paper_bgcolor": "white",
          "plot_bgcolor": "#E5ECF6",
          "polar": {
           "angularaxis": {
            "gridcolor": "white",
            "linecolor": "white",
            "ticks": ""
           },
           "bgcolor": "#E5ECF6",
           "radialaxis": {
            "gridcolor": "white",
            "linecolor": "white",
            "ticks": ""
           }
          },
          "scene": {
           "xaxis": {
            "backgroundcolor": "#E5ECF6",
            "gridcolor": "white",
            "gridwidth": 2,
            "linecolor": "white",
            "showbackground": true,
            "ticks": "",
            "zerolinecolor": "white"
           },
           "yaxis": {
            "backgroundcolor": "#E5ECF6",
            "gridcolor": "white",
            "gridwidth": 2,
            "linecolor": "white",
            "showbackground": true,
            "ticks": "",
            "zerolinecolor": "white"
           },
           "zaxis": {
            "backgroundcolor": "#E5ECF6",
            "gridcolor": "white",
            "gridwidth": 2,
            "linecolor": "white",
            "showbackground": true,
            "ticks": "",
            "zerolinecolor": "white"
           }
          },
          "shapedefaults": {
           "line": {
            "color": "#2a3f5f"
           }
          },
          "ternary": {
           "aaxis": {
            "gridcolor": "white",
            "linecolor": "white",
            "ticks": ""
           },
           "baxis": {
            "gridcolor": "white",
            "linecolor": "white",
            "ticks": ""
           },
           "bgcolor": "#E5ECF6",
           "caxis": {
            "gridcolor": "white",
            "linecolor": "white",
            "ticks": ""
           }
          },
          "title": {
           "x": 0.05
          },
          "xaxis": {
           "automargin": true,
           "gridcolor": "white",
           "linecolor": "white",
           "ticks": "",
           "title": {
            "standoff": 15
           },
           "zerolinecolor": "white",
           "zerolinewidth": 2
          },
          "yaxis": {
           "automargin": true,
           "gridcolor": "white",
           "linecolor": "white",
           "ticks": "",
           "title": {
            "standoff": 15
           },
           "zerolinecolor": "white",
           "zerolinewidth": 2
          }
         }
        },
        "title": {
         "text": "Distribution Of 836543 book-ratings"
        },
        "xaxis": {
         "title": {
          "text": "Rating"
         }
        },
        "yaxis": {
         "title": {
          "text": "Count"
         }
        }
       }
      },
      "text/html": [
       "<div>                            <div id=\"7d483965-8909-4a94-aeb0-8d9969ac3de6\" class=\"plotly-graph-div\" style=\"height:525px; width:100%;\"></div>            <script type=\"text/javascript\">                require([\"plotly\"], function(Plotly) {                    window.PLOTLYENV=window.PLOTLYENV || {};                                    if (document.getElementById(\"7d483965-8909-4a94-aeb0-8d9969ac3de6\")) {                    Plotly.newPlot(                        \"7d483965-8909-4a94-aeb0-8d9969ac3de6\",                        [{\"text\":[\"22.0 %\",\"7.2 %\",\"32.1 %\",\"10.0 %\",\"17.2 %\",\"3.1 %\",\"5.3 %\",\"0.7 %\",\"1.8 %\",\"0.5 %\"],\"textfont\":{\"color\":\"#000000\"},\"textposition\":\"auto\",\"x\":[5.0,4.5,4.0,3.5,3.0,2.5,2.0,1.5,1.0,0.5],\"y\":[183788,60305,268605,83819,144013,25665,44429,6208,15303,4408],\"type\":\"bar\"}],                        {\"template\":{\"data\":{\"barpolar\":[{\"marker\":{\"line\":{\"color\":\"#E5ECF6\",\"width\":0.5},\"pattern\":{\"fillmode\":\"overlay\",\"size\":10,\"solidity\":0.2}},\"type\":\"barpolar\"}],\"bar\":[{\"error_x\":{\"color\":\"#2a3f5f\"},\"error_y\":{\"color\":\"#2a3f5f\"},\"marker\":{\"line\":{\"color\":\"#E5ECF6\",\"width\":0.5},\"pattern\":{\"fillmode\":\"overlay\",\"size\":10,\"solidity\":0.2}},\"type\":\"bar\"}],\"carpet\":[{\"aaxis\":{\"endlinecolor\":\"#2a3f5f\",\"gridcolor\":\"white\",\"linecolor\":\"white\",\"minorgridcolor\":\"white\",\"startlinecolor\":\"#2a3f5f\"},\"baxis\":{\"endlinecolor\":\"#2a3f5f\",\"gridcolor\":\"white\",\"linecolor\":\"white\",\"minorgridcolor\":\"white\",\"startlinecolor\":\"#2a3f5f\"},\"type\":\"carpet\"}],\"choropleth\":[{\"colorbar\":{\"outlinewidth\":0,\"ticks\":\"\"},\"type\":\"choropleth\"}],\"contourcarpet\":[{\"colorbar\":{\"outlinewidth\":0,\"ticks\":\"\"},\"type\":\"contourcarpet\"}],\"contour\":[{\"colorbar\":{\"outlinewidth\":0,\"ticks\":\"\"},\"colorscale\":[[0.0,\"#0d0887\"],[0.1111111111111111,\"#46039f\"],[0.2222222222222222,\"#7201a8\"],[0.3333333333333333,\"#9c179e\"],[0.4444444444444444,\"#bd3786\"],[0.5555555555555556,\"#d8576b\"],[0.6666666666666666,\"#ed7953\"],[0.7777777777777778,\"#fb9f3a\"],[0.8888888888888888,\"#fdca26\"],[1.0,\"#f0f921\"]],\"type\":\"contour\"}],\"heatmapgl\":[{\"colorbar\":{\"outlinewidth\":0,\"ticks\":\"\"},\"colorscale\":[[0.0,\"#0d0887\"],[0.1111111111111111,\"#46039f\"],[0.2222222222222222,\"#7201a8\"],[0.3333333333333333,\"#9c179e\"],[0.4444444444444444,\"#bd3786\"],[0.5555555555555556,\"#d8576b\"],[0.6666666666666666,\"#ed7953\"],[0.7777777777777778,\"#fb9f3a\"],[0.8888888888888888,\"#fdca26\"],[1.0,\"#f0f921\"]],\"type\":\"heatmapgl\"}],\"heatmap\":[{\"colorbar\":{\"outlinewidth\":0,\"ticks\":\"\"},\"colorscale\":[[0.0,\"#0d0887\"],[0.1111111111111111,\"#46039f\"],[0.2222222222222222,\"#7201a8\"],[0.3333333333333333,\"#9c179e\"],[0.4444444444444444,\"#bd3786\"],[0.5555555555555556,\"#d8576b\"],[0.6666666666666666,\"#ed7953\"],[0.7777777777777778,\"#fb9f3a\"],[0.8888888888888888,\"#fdca26\"],[1.0,\"#f0f921\"]],\"type\":\"heatmap\"}],\"histogram2dcontour\":[{\"colorbar\":{\"outlinewidth\":0,\"ticks\":\"\"},\"colorscale\":[[0.0,\"#0d0887\"],[0.1111111111111111,\"#46039f\"],[0.2222222222222222,\"#7201a8\"],[0.3333333333333333,\"#9c179e\"],[0.4444444444444444,\"#bd3786\"],[0.5555555555555556,\"#d8576b\"],[0.6666666666666666,\"#ed7953\"],[0.7777777777777778,\"#fb9f3a\"],[0.8888888888888888,\"#fdca26\"],[1.0,\"#f0f921\"]],\"type\":\"histogram2dcontour\"}],\"histogram2d\":[{\"colorbar\":{\"outlinewidth\":0,\"ticks\":\"\"},\"colorscale\":[[0.0,\"#0d0887\"],[0.1111111111111111,\"#46039f\"],[0.2222222222222222,\"#7201a8\"],[0.3333333333333333,\"#9c179e\"],[0.4444444444444444,\"#bd3786\"],[0.5555555555555556,\"#d8576b\"],[0.6666666666666666,\"#ed7953\"],[0.7777777777777778,\"#fb9f3a\"],[0.8888888888888888,\"#fdca26\"],[1.0,\"#f0f921\"]],\"type\":\"histogram2d\"}],\"histogram\":[{\"marker\":{\"pattern\":{\"fillmode\":\"overlay\",\"size\":10,\"solidity\":0.2}},\"type\":\"histogram\"}],\"mesh3d\":[{\"colorbar\":{\"outlinewidth\":0,\"ticks\":\"\"},\"type\":\"mesh3d\"}],\"parcoords\":[{\"line\":{\"colorbar\":{\"outlinewidth\":0,\"ticks\":\"\"}},\"type\":\"parcoords\"}],\"pie\":[{\"automargin\":true,\"type\":\"pie\"}],\"scatter3d\":[{\"line\":{\"colorbar\":{\"outlinewidth\":0,\"ticks\":\"\"}},\"marker\":{\"colorbar\":{\"outlinewidth\":0,\"ticks\":\"\"}},\"type\":\"scatter3d\"}],\"scattercarpet\":[{\"marker\":{\"colorbar\":{\"outlinewidth\":0,\"ticks\":\"\"}},\"type\":\"scattercarpet\"}],\"scattergeo\":[{\"marker\":{\"colorbar\":{\"outlinewidth\":0,\"ticks\":\"\"}},\"type\":\"scattergeo\"}],\"scattergl\":[{\"marker\":{\"colorbar\":{\"outlinewidth\":0,\"ticks\":\"\"}},\"type\":\"scattergl\"}],\"scattermapbox\":[{\"marker\":{\"colorbar\":{\"outlinewidth\":0,\"ticks\":\"\"}},\"type\":\"scattermapbox\"}],\"scatterpolargl\":[{\"marker\":{\"colorbar\":{\"outlinewidth\":0,\"ticks\":\"\"}},\"type\":\"scatterpolargl\"}],\"scatterpolar\":[{\"marker\":{\"colorbar\":{\"outlinewidth\":0,\"ticks\":\"\"}},\"type\":\"scatterpolar\"}],\"scatter\":[{\"fillpattern\":{\"fillmode\":\"overlay\",\"size\":10,\"solidity\":0.2},\"type\":\"scatter\"}],\"scatterternary\":[{\"marker\":{\"colorbar\":{\"outlinewidth\":0,\"ticks\":\"\"}},\"type\":\"scatterternary\"}],\"surface\":[{\"colorbar\":{\"outlinewidth\":0,\"ticks\":\"\"},\"colorscale\":[[0.0,\"#0d0887\"],[0.1111111111111111,\"#46039f\"],[0.2222222222222222,\"#7201a8\"],[0.3333333333333333,\"#9c179e\"],[0.4444444444444444,\"#bd3786\"],[0.5555555555555556,\"#d8576b\"],[0.6666666666666666,\"#ed7953\"],[0.7777777777777778,\"#fb9f3a\"],[0.8888888888888888,\"#fdca26\"],[1.0,\"#f0f921\"]],\"type\":\"surface\"}],\"table\":[{\"cells\":{\"fill\":{\"color\":\"#EBF0F8\"},\"line\":{\"color\":\"white\"}},\"header\":{\"fill\":{\"color\":\"#C8D4E3\"},\"line\":{\"color\":\"white\"}},\"type\":\"table\"}]},\"layout\":{\"annotationdefaults\":{\"arrowcolor\":\"#2a3f5f\",\"arrowhead\":0,\"arrowwidth\":1},\"autotypenumbers\":\"strict\",\"coloraxis\":{\"colorbar\":{\"outlinewidth\":0,\"ticks\":\"\"}},\"colorscale\":{\"diverging\":[[0,\"#8e0152\"],[0.1,\"#c51b7d\"],[0.2,\"#de77ae\"],[0.3,\"#f1b6da\"],[0.4,\"#fde0ef\"],[0.5,\"#f7f7f7\"],[0.6,\"#e6f5d0\"],[0.7,\"#b8e186\"],[0.8,\"#7fbc41\"],[0.9,\"#4d9221\"],[1,\"#276419\"]],\"sequential\":[[0.0,\"#0d0887\"],[0.1111111111111111,\"#46039f\"],[0.2222222222222222,\"#7201a8\"],[0.3333333333333333,\"#9c179e\"],[0.4444444444444444,\"#bd3786\"],[0.5555555555555556,\"#d8576b\"],[0.6666666666666666,\"#ed7953\"],[0.7777777777777778,\"#fb9f3a\"],[0.8888888888888888,\"#fdca26\"],[1.0,\"#f0f921\"]],\"sequentialminus\":[[0.0,\"#0d0887\"],[0.1111111111111111,\"#46039f\"],[0.2222222222222222,\"#7201a8\"],[0.3333333333333333,\"#9c179e\"],[0.4444444444444444,\"#bd3786\"],[0.5555555555555556,\"#d8576b\"],[0.6666666666666666,\"#ed7953\"],[0.7777777777777778,\"#fb9f3a\"],[0.8888888888888888,\"#fdca26\"],[1.0,\"#f0f921\"]]},\"colorway\":[\"#636efa\",\"#EF553B\",\"#00cc96\",\"#ab63fa\",\"#FFA15A\",\"#19d3f3\",\"#FF6692\",\"#B6E880\",\"#FF97FF\",\"#FECB52\"],\"font\":{\"color\":\"#2a3f5f\"},\"geo\":{\"bgcolor\":\"white\",\"lakecolor\":\"white\",\"landcolor\":\"#E5ECF6\",\"showlakes\":true,\"showland\":true,\"subunitcolor\":\"white\"},\"hoverlabel\":{\"align\":\"left\"},\"hovermode\":\"closest\",\"mapbox\":{\"style\":\"light\"},\"paper_bgcolor\":\"white\",\"plot_bgcolor\":\"#E5ECF6\",\"polar\":{\"angularaxis\":{\"gridcolor\":\"white\",\"linecolor\":\"white\",\"ticks\":\"\"},\"bgcolor\":\"#E5ECF6\",\"radialaxis\":{\"gridcolor\":\"white\",\"linecolor\":\"white\",\"ticks\":\"\"}},\"scene\":{\"xaxis\":{\"backgroundcolor\":\"#E5ECF6\",\"gridcolor\":\"white\",\"gridwidth\":2,\"linecolor\":\"white\",\"showbackground\":true,\"ticks\":\"\",\"zerolinecolor\":\"white\"},\"yaxis\":{\"backgroundcolor\":\"#E5ECF6\",\"gridcolor\":\"white\",\"gridwidth\":2,\"linecolor\":\"white\",\"showbackground\":true,\"ticks\":\"\",\"zerolinecolor\":\"white\"},\"zaxis\":{\"backgroundcolor\":\"#E5ECF6\",\"gridcolor\":\"white\",\"gridwidth\":2,\"linecolor\":\"white\",\"showbackground\":true,\"ticks\":\"\",\"zerolinecolor\":\"white\"}},\"shapedefaults\":{\"line\":{\"color\":\"#2a3f5f\"}},\"ternary\":{\"aaxis\":{\"gridcolor\":\"white\",\"linecolor\":\"white\",\"ticks\":\"\"},\"baxis\":{\"gridcolor\":\"white\",\"linecolor\":\"white\",\"ticks\":\"\"},\"bgcolor\":\"#E5ECF6\",\"caxis\":{\"gridcolor\":\"white\",\"linecolor\":\"white\",\"ticks\":\"\"}},\"title\":{\"x\":0.05},\"xaxis\":{\"automargin\":true,\"gridcolor\":\"white\",\"linecolor\":\"white\",\"ticks\":\"\",\"title\":{\"standoff\":15},\"zerolinecolor\":\"white\",\"zerolinewidth\":2},\"yaxis\":{\"automargin\":true,\"gridcolor\":\"white\",\"linecolor\":\"white\",\"ticks\":\"\",\"title\":{\"standoff\":15},\"zerolinecolor\":\"white\",\"zerolinewidth\":2}}},\"title\":{\"text\":\"Distribution Of 836543 book-ratings\"},\"xaxis\":{\"title\":{\"text\":\"Rating\"}},\"yaxis\":{\"title\":{\"text\":\"Count\"}}},                        {\"responsive\": true}                    ).then(function(){\n",
       "                            \n",
       "var gd = document.getElementById('7d483965-8909-4a94-aeb0-8d9969ac3de6');\n",
       "var x = new MutationObserver(function (mutations, observer) {{\n",
       "        var display = window.getComputedStyle(gd).display;\n",
       "        if (!display || display === 'none') {{\n",
       "            console.log([gd, 'removed!']);\n",
       "            Plotly.purge(gd);\n",
       "            observer.disconnect();\n",
       "        }}\n",
       "}});\n",
       "\n",
       "// Listen for the removal of the full notebook cells\n",
       "var notebookContainer = gd.closest('#notebook-container');\n",
       "if (notebookContainer) {{\n",
       "    x.observe(notebookContainer, {childList: true});\n",
       "}}\n",
       "\n",
       "// Listen for the clearing of the current output cell\n",
       "var outputEl = gd.closest('.output');\n",
       "if (outputEl) {{\n",
       "    x.observe(outputEl, {childList: true});\n",
       "}}\n",
       "\n",
       "                        })                };                });            </script>        </div>"
      ]
     },
     "metadata": {},
     "output_type": "display_data"
    }
   ],
   "source": [
    "#view the rating distribution\n",
    "data = core['stars'].value_counts().sort_index(ascending=False)\n",
    "trace = go.Bar(x = data.index,\n",
    "               text = ['{:.1f} %'.format(val) for val in (data.values / core.shape[0] * 100)],\n",
    "               textposition = 'auto',\n",
    "               textfont = dict(color = '#000000'),\n",
    "               y = data.values,\n",
    "               )\n",
    "# Create layout\n",
    "layout = dict(title = 'Distribution Of {} book-ratings'.format(core.shape[0]),\n",
    "              xaxis = dict(title = 'Rating'),\n",
    "              yaxis = dict(title = 'Count'))\n",
    "# Create plot\n",
    "fig = go.Figure(data=[trace], layout=layout)\n",
    "iplot(fig)"
   ]
  },
  {
   "cell_type": "code",
   "execution_count": 67,
   "id": "c07e7f40",
   "metadata": {},
   "outputs": [
    {
     "name": "stdout",
     "output_type": "stream",
     "text": [
      "The original data frame shape:\t(836543, 3)\n",
      "The new data frame shape:\t(51100, 3)\n"
     ]
    }
   ],
   "source": [
    "#get a smaller sample to test with different factorization algorighthms\n",
    "min_book_ratings =100\n",
    "filter_books = core['work'].value_counts() > min_book_ratings\n",
    "filter_books = filter_books[filter_books].index.tolist()\n",
    "\n",
    "min_user_ratings = 50\n",
    "filter_users = core['user'].value_counts() > min_user_ratings\n",
    "filter_users = filter_users[filter_users].index.tolist()\n",
    "\n",
    "df_new = core[(core['work'].isin(filter_books)) & (core['user'].isin(filter_users))]\n",
    "print('The original data frame shape:\\t{}'.format(core.shape))\n",
    "print('The new data frame shape:\\t{}'.format(df_new.shape))"
   ]
  },
  {
   "cell_type": "code",
   "execution_count": 68,
   "id": "a8639b29",
   "metadata": {},
   "outputs": [],
   "source": [
    "reader = Reader(rating_scale=(1, 5))\n",
    "data = Dataset.load_from_df(df_new[['work', 'user', 'stars']], reader)\n"
   ]
  },
  {
   "cell_type": "code",
   "execution_count": 69,
   "id": "ac26b116",
   "metadata": {},
   "outputs": [
    {
     "name": "stderr",
     "output_type": "stream",
     "text": [
      "/var/folders/ss/bwt02jls00d7gjr4fbxtn14m0000gn/T/ipykernel_26352/2737206286.py:10: FutureWarning:\n",
      "\n",
      "The series.append method is deprecated and will be removed from pandas in a future version. Use pandas.concat instead.\n",
      "\n",
      "/var/folders/ss/bwt02jls00d7gjr4fbxtn14m0000gn/T/ipykernel_26352/2737206286.py:10: FutureWarning:\n",
      "\n",
      "The series.append method is deprecated and will be removed from pandas in a future version. Use pandas.concat instead.\n",
      "\n",
      "/var/folders/ss/bwt02jls00d7gjr4fbxtn14m0000gn/T/ipykernel_26352/2737206286.py:10: FutureWarning:\n",
      "\n",
      "The series.append method is deprecated and will be removed from pandas in a future version. Use pandas.concat instead.\n",
      "\n",
      "/var/folders/ss/bwt02jls00d7gjr4fbxtn14m0000gn/T/ipykernel_26352/2737206286.py:10: FutureWarning:\n",
      "\n",
      "The series.append method is deprecated and will be removed from pandas in a future version. Use pandas.concat instead.\n",
      "\n",
      "/var/folders/ss/bwt02jls00d7gjr4fbxtn14m0000gn/T/ipykernel_26352/2737206286.py:10: FutureWarning:\n",
      "\n",
      "The series.append method is deprecated and will be removed from pandas in a future version. Use pandas.concat instead.\n",
      "\n"
     ]
    },
    {
     "name": "stdout",
     "output_type": "stream",
     "text": [
      "Estimating biases using als...\n",
      "Computing the msd similarity matrix...\n",
      "Done computing similarity matrix.\n",
      "Estimating biases using als...\n",
      "Computing the msd similarity matrix...\n",
      "Done computing similarity matrix.\n",
      "Estimating biases using als...\n",
      "Computing the msd similarity matrix...\n",
      "Done computing similarity matrix.\n",
      "Estimating biases using als...\n",
      "Computing the msd similarity matrix...\n",
      "Done computing similarity matrix.\n",
      "Estimating biases using als...\n",
      "Computing the msd similarity matrix...\n",
      "Done computing similarity matrix.\n"
     ]
    },
    {
     "name": "stderr",
     "output_type": "stream",
     "text": [
      "/var/folders/ss/bwt02jls00d7gjr4fbxtn14m0000gn/T/ipykernel_26352/2737206286.py:10: FutureWarning:\n",
      "\n",
      "The series.append method is deprecated and will be removed from pandas in a future version. Use pandas.concat instead.\n",
      "\n"
     ]
    },
    {
     "name": "stdout",
     "output_type": "stream",
     "text": [
      "Computing the msd similarity matrix...\n",
      "Done computing similarity matrix.\n",
      "Computing the msd similarity matrix...\n",
      "Done computing similarity matrix.\n",
      "Computing the msd similarity matrix...\n",
      "Done computing similarity matrix.\n",
      "Computing the msd similarity matrix...\n",
      "Done computing similarity matrix.\n",
      "Computing the msd similarity matrix...\n",
      "Done computing similarity matrix.\n"
     ]
    },
    {
     "name": "stderr",
     "output_type": "stream",
     "text": [
      "/var/folders/ss/bwt02jls00d7gjr4fbxtn14m0000gn/T/ipykernel_26352/2737206286.py:10: FutureWarning:\n",
      "\n",
      "The series.append method is deprecated and will be removed from pandas in a future version. Use pandas.concat instead.\n",
      "\n"
     ]
    },
    {
     "name": "stdout",
     "output_type": "stream",
     "text": [
      "Computing the msd similarity matrix...\n",
      "Done computing similarity matrix.\n",
      "Computing the msd similarity matrix...\n",
      "Done computing similarity matrix.\n",
      "Computing the msd similarity matrix...\n",
      "Done computing similarity matrix.\n",
      "Computing the msd similarity matrix...\n",
      "Done computing similarity matrix.\n",
      "Computing the msd similarity matrix...\n",
      "Done computing similarity matrix.\n"
     ]
    },
    {
     "name": "stderr",
     "output_type": "stream",
     "text": [
      "/var/folders/ss/bwt02jls00d7gjr4fbxtn14m0000gn/T/ipykernel_26352/2737206286.py:10: FutureWarning:\n",
      "\n",
      "The series.append method is deprecated and will be removed from pandas in a future version. Use pandas.concat instead.\n",
      "\n"
     ]
    },
    {
     "name": "stdout",
     "output_type": "stream",
     "text": [
      "Computing the msd similarity matrix...\n",
      "Done computing similarity matrix.\n",
      "Computing the msd similarity matrix...\n",
      "Done computing similarity matrix.\n",
      "Computing the msd similarity matrix...\n",
      "Done computing similarity matrix.\n",
      "Computing the msd similarity matrix...\n",
      "Done computing similarity matrix.\n",
      "Computing the msd similarity matrix...\n",
      "Done computing similarity matrix.\n"
     ]
    },
    {
     "name": "stderr",
     "output_type": "stream",
     "text": [
      "/var/folders/ss/bwt02jls00d7gjr4fbxtn14m0000gn/T/ipykernel_26352/2737206286.py:10: FutureWarning:\n",
      "\n",
      "The series.append method is deprecated and will be removed from pandas in a future version. Use pandas.concat instead.\n",
      "\n"
     ]
    },
    {
     "name": "stdout",
     "output_type": "stream",
     "text": [
      "Estimating biases using als...\n",
      "Estimating biases using als...\n",
      "Estimating biases using als...\n",
      "Estimating biases using als...\n",
      "Estimating biases using als...\n"
     ]
    },
    {
     "name": "stderr",
     "output_type": "stream",
     "text": [
      "/var/folders/ss/bwt02jls00d7gjr4fbxtn14m0000gn/T/ipykernel_26352/2737206286.py:10: FutureWarning:\n",
      "\n",
      "The series.append method is deprecated and will be removed from pandas in a future version. Use pandas.concat instead.\n",
      "\n",
      "/var/folders/ss/bwt02jls00d7gjr4fbxtn14m0000gn/T/ipykernel_26352/2737206286.py:10: FutureWarning:\n",
      "\n",
      "The series.append method is deprecated and will be removed from pandas in a future version. Use pandas.concat instead.\n",
      "\n"
     ]
    },
    {
     "data": {
      "text/html": [
       "<div>\n",
       "<style scoped>\n",
       "    .dataframe tbody tr th:only-of-type {\n",
       "        vertical-align: middle;\n",
       "    }\n",
       "\n",
       "    .dataframe tbody tr th {\n",
       "        vertical-align: top;\n",
       "    }\n",
       "\n",
       "    .dataframe thead th {\n",
       "        text-align: right;\n",
       "    }\n",
       "</style>\n",
       "<table border=\"1\" class=\"dataframe\">\n",
       "  <thead>\n",
       "    <tr style=\"text-align: right;\">\n",
       "      <th></th>\n",
       "      <th>test_rmse</th>\n",
       "      <th>fit_time</th>\n",
       "      <th>test_time</th>\n",
       "    </tr>\n",
       "    <tr>\n",
       "      <th>Algorithm</th>\n",
       "      <th></th>\n",
       "      <th></th>\n",
       "      <th></th>\n",
       "    </tr>\n",
       "  </thead>\n",
       "  <tbody>\n",
       "    <tr>\n",
       "      <th>SVDpp</th>\n",
       "      <td>0.865133</td>\n",
       "      <td>2.724662</td>\n",
       "      <td>0.535646</td>\n",
       "    </tr>\n",
       "    <tr>\n",
       "      <th>BaselineOnly</th>\n",
       "      <td>0.868552</td>\n",
       "      <td>0.025941</td>\n",
       "      <td>0.014831</td>\n",
       "    </tr>\n",
       "    <tr>\n",
       "      <th>SVD</th>\n",
       "      <td>0.874875</td>\n",
       "      <td>0.191850</td>\n",
       "      <td>0.047861</td>\n",
       "    </tr>\n",
       "    <tr>\n",
       "      <th>KNNBaseline</th>\n",
       "      <td>0.876193</td>\n",
       "      <td>0.034494</td>\n",
       "      <td>0.207938</td>\n",
       "    </tr>\n",
       "    <tr>\n",
       "      <th>KNNWithMeans</th>\n",
       "      <td>0.878003</td>\n",
       "      <td>0.016613</td>\n",
       "      <td>0.185482</td>\n",
       "    </tr>\n",
       "    <tr>\n",
       "      <th>SlopeOne</th>\n",
       "      <td>0.880278</td>\n",
       "      <td>0.192019</td>\n",
       "      <td>0.402802</td>\n",
       "    </tr>\n",
       "    <tr>\n",
       "      <th>KNNWithZScore</th>\n",
       "      <td>0.882149</td>\n",
       "      <td>0.026333</td>\n",
       "      <td>0.187055</td>\n",
       "    </tr>\n",
       "    <tr>\n",
       "      <th>KNNBasic</th>\n",
       "      <td>0.922476</td>\n",
       "      <td>0.013116</td>\n",
       "      <td>0.166374</td>\n",
       "    </tr>\n",
       "    <tr>\n",
       "      <th>CoClustering</th>\n",
       "      <td>0.925734</td>\n",
       "      <td>0.284044</td>\n",
       "      <td>0.037266</td>\n",
       "    </tr>\n",
       "    <tr>\n",
       "      <th>NMF</th>\n",
       "      <td>0.927999</td>\n",
       "      <td>0.326838</td>\n",
       "      <td>0.035581</td>\n",
       "    </tr>\n",
       "    <tr>\n",
       "      <th>NormalPredictor</th>\n",
       "      <td>1.286203</td>\n",
       "      <td>0.018882</td>\n",
       "      <td>0.015707</td>\n",
       "    </tr>\n",
       "  </tbody>\n",
       "</table>\n",
       "</div>"
      ],
      "text/plain": [
       "                 test_rmse  fit_time  test_time\n",
       "Algorithm                                      \n",
       "SVDpp             0.865133  2.724662   0.535646\n",
       "BaselineOnly      0.868552  0.025941   0.014831\n",
       "SVD               0.874875  0.191850   0.047861\n",
       "KNNBaseline       0.876193  0.034494   0.207938\n",
       "KNNWithMeans      0.878003  0.016613   0.185482\n",
       "SlopeOne          0.880278  0.192019   0.402802\n",
       "KNNWithZScore     0.882149  0.026333   0.187055\n",
       "KNNBasic          0.922476  0.013116   0.166374\n",
       "CoClustering      0.925734  0.284044   0.037266\n",
       "NMF               0.927999  0.326838   0.035581\n",
       "NormalPredictor   1.286203  0.018882   0.015707"
      ]
     },
     "execution_count": 69,
     "metadata": {},
     "output_type": "execute_result"
    }
   ],
   "source": [
    "benchmark = []\n",
    "# Iterate over all algorithms to identify which one is the best using the smaller sample from the\n",
    "# training data\n",
    "for algorithm in [SVD(), SVDpp(), SlopeOne(), NMF(), NormalPredictor(), KNNBaseline(), KNNBasic(), KNNWithMeans(), KNNWithZScore(), BaselineOnly(), CoClustering()]:\n",
    "    # Perform cross validation\n",
    "    results = cross_validate(algorithm, data, measures=['RMSE'], cv=5, verbose=False)\n",
    "    \n",
    "    # Get results & append algorithm name\n",
    "    tmp = pd.DataFrame.from_dict(results).mean(axis=0)\n",
    "    tmp = tmp.append(pd.Series([str(algorithm).split(' ')[0].split('.')[-1]], index=['Algorithm']))\n",
    "    benchmark.append(tmp)\n",
    "    \n",
    "pd.DataFrame(benchmark).set_index('Algorithm').sort_values('test_rmse')"
   ]
  },
  {
   "cell_type": "markdown",
   "id": "029f65ce",
   "metadata": {},
   "source": [
    "Based on this, we can see that SVDpp, BaselineOnly, and SVD are the top models. SVDpp might take too long with this big of a dataset"
   ]
  },
  {
   "cell_type": "markdown",
   "id": "5c085f5e",
   "metadata": {},
   "source": [
    "---"
   ]
  },
  {
   "cell_type": "markdown",
   "id": "1f27d673",
   "metadata": {},
   "source": [
    "# Build the models to potentially use for generating predictions and recommendations"
   ]
  },
  {
   "cell_type": "code",
   "execution_count": 70,
   "id": "b3f7ab63",
   "metadata": {},
   "outputs": [],
   "source": [
    "reader = Reader(rating_scale=(1, 10))  #invoke reader instance of surprise library\n",
    "data=Dataset.load_from_df(core,reader) #load dataset into Surprise datastructure Dataset"
   ]
  },
  {
   "cell_type": "code",
   "execution_count": 71,
   "id": "02a71c29",
   "metadata": {},
   "outputs": [
    {
     "name": "stderr",
     "output_type": "stream",
     "text": [
      "[Parallel(n_jobs=-1)]: Using backend LokyBackend with 10 concurrent workers.\n",
      "[Parallel(n_jobs=-1)]: Done   5 tasks      | elapsed:    5.7s\n",
      "[Parallel(n_jobs=-1)]: Done  12 tasks      | elapsed:    9.8s\n",
      "[Parallel(n_jobs=-1)]: Done  21 tasks      | elapsed:   14.9s\n",
      "[Parallel(n_jobs=-1)]: Done  30 tasks      | elapsed:   20.1s\n",
      "[Parallel(n_jobs=-1)]: Done  41 out of  54 | elapsed:   26.3s remaining:    8.3s\n",
      "[Parallel(n_jobs=-1)]: Done  47 out of  54 | elapsed:   29.7s remaining:    4.4s\n",
      "[Parallel(n_jobs=-1)]: Done  54 out of  54 | elapsed:   33.6s finished\n"
     ]
    }
   ],
   "source": [
    "param_grid = {'bsl_options': {'method':  ['als', 'sgd'],\n",
    "             'reg_all': [.02, .03, .05],\n",
    "             'n_epochs': [25, 30, 35] }}\n",
    "\n",
    "gs = GridSearchCV(BaselineOnly, param_grid, measures=['rmse','mae'], cv=3, n_jobs=-1, joblib_verbose=10) \n",
    "gs.fit(data)"
   ]
  },
  {
   "cell_type": "code",
   "execution_count": 72,
   "id": "32d82a4f",
   "metadata": {},
   "outputs": [
    {
     "name": "stdout",
     "output_type": "stream",
     "text": [
      "0.8627720440705043\n",
      "{'bsl_options': {'method': 'sgd', 'reg_all': 0.02, 'n_epochs': 30}}\n"
     ]
    }
   ],
   "source": [
    "# best RMSE score\n",
    "print(gs.best_score['rmse'])\n",
    "# combination of parameters that gave the best RMSE score\n",
    "print(gs.best_params['rmse'])"
   ]
  },
  {
   "cell_type": "code",
   "execution_count": 73,
   "id": "467ba132",
   "metadata": {},
   "outputs": [],
   "source": [
    "base_alg = gs.best_estimator['rmse']"
   ]
  },
  {
   "cell_type": "code",
   "execution_count": 74,
   "id": "5a1a085c",
   "metadata": {},
   "outputs": [
    {
     "name": "stdout",
     "output_type": "stream",
     "text": [
      "Estimating biases using sgd...\n"
     ]
    },
    {
     "data": {
      "text/plain": [
       "<surprise.prediction_algorithms.baseline_only.BaselineOnly at 0x547c807c0>"
      ]
     },
     "execution_count": 74,
     "metadata": {},
     "output_type": "execute_result"
    }
   ],
   "source": [
    "base_alg.fit(data.build_full_trainset())"
   ]
  },
  {
   "cell_type": "markdown",
   "id": "f363e573",
   "metadata": {},
   "source": [
    "---"
   ]
  },
  {
   "cell_type": "code",
   "execution_count": 75,
   "id": "1efff6f6",
   "metadata": {},
   "outputs": [
    {
     "name": "stderr",
     "output_type": "stream",
     "text": [
      "[Parallel(n_jobs=-1)]: Using backend LokyBackend with 10 concurrent workers.\n",
      "[Parallel(n_jobs=-1)]: Done   5 tasks      | elapsed:    4.8s\n",
      "[Parallel(n_jobs=-1)]: Done  12 tasks      | elapsed:   10.0s\n",
      "[Parallel(n_jobs=-1)]: Done  21 tasks      | elapsed:   14.5s\n",
      "[Parallel(n_jobs=-1)]: Done  30 tasks      | elapsed:   19.7s\n",
      "[Parallel(n_jobs=-1)]: Done  41 tasks      | elapsed:   26.0s\n",
      "[Parallel(n_jobs=-1)]: Done  52 tasks      | elapsed:   32.3s\n",
      "[Parallel(n_jobs=-1)]: Done  65 tasks      | elapsed:   39.2s\n",
      "[Parallel(n_jobs=-1)]: Done  78 tasks      | elapsed:   46.8s\n",
      "[Parallel(n_jobs=-1)]: Done  93 tasks      | elapsed:   55.9s\n",
      "[Parallel(n_jobs=-1)]: Done 108 tasks      | elapsed:  1.1min\n",
      "[Parallel(n_jobs=-1)]: Done 130 out of 135 | elapsed:  1.3min remaining:    3.0s\n",
      "[Parallel(n_jobs=-1)]: Done 135 out of 135 | elapsed:  1.3min finished\n"
     ]
    },
    {
     "name": "stdout",
     "output_type": "stream",
     "text": [
      "0.859516678275484\n",
      "{'n_factors': 1, 'reg_all': 0.05, 'n_epochs': 35}\n"
     ]
    },
    {
     "data": {
      "text/plain": [
       "<surprise.prediction_algorithms.matrix_factorization.SVD at 0x3bf9b90d0>"
      ]
     },
     "execution_count": 75,
     "metadata": {},
     "output_type": "execute_result"
    }
   ],
   "source": [
    "reader = Reader(rating_scale=(1, 10))  #invoke reader instance of surprise library\n",
    "data=Dataset.load_from_df(core,reader) #load dataset into Surprise datastructure Dataset\n",
    "param_grid = {'n_factors': [1, 3, 5],\n",
    "              'reg_all': [ .05, 0.1, .2],\n",
    "              'n_epochs': [20, 25, 35]\n",
    "              }\n",
    "\n",
    "gs = GridSearchCV(SVD, param_grid, measures=['rmse','mae'], cv=5, n_jobs=-1, joblib_verbose=10) \n",
    "gs.fit(data)\n",
    "# best RMSE score\n",
    "print(gs.best_score['rmse'])\n",
    "# combination of parameters that gave the best RMSE score\n",
    "print(gs.best_params['rmse'])\n",
    "# We can now use the algorithm that yields the best rmse:\n",
    "svd = gs.best_estimator['rmse']\n",
    "svd.fit(data.build_full_trainset())\n",
    "\n",
    "#You may use this instead of some parts of the following section, to make predictions for the unseen data (i.e. all the missing ratings)"
   ]
  },
  {
   "cell_type": "code",
   "execution_count": 76,
   "id": "f7163113",
   "metadata": {},
   "outputs": [
    {
     "name": "stderr",
     "output_type": "stream",
     "text": [
      "[Parallel(n_jobs=-1)]: Using backend LokyBackend with 10 concurrent workers.\n",
      "[Parallel(n_jobs=-1)]: Done   5 tasks      | elapsed:   11.7s\n",
      "[Parallel(n_jobs=-1)]: Done  12 tasks      | elapsed:   23.4s\n",
      "[Parallel(n_jobs=-1)]: Done  21 tasks      | elapsed:   32.6s\n",
      "[Parallel(n_jobs=-1)]: Done  30 tasks      | elapsed:   42.3s\n",
      "[Parallel(n_jobs=-1)]: Done  41 tasks      | elapsed:   56.3s\n",
      "[Parallel(n_jobs=-1)]: Done  52 tasks      | elapsed:  1.2min\n",
      "[Parallel(n_jobs=-1)]: Done  65 tasks      | elapsed:  1.4min\n",
      "[Parallel(n_jobs=-1)]: Done  78 tasks      | elapsed:  1.7min\n",
      "[Parallel(n_jobs=-1)]: Done  93 tasks      | elapsed:  2.0min\n",
      "[Parallel(n_jobs=-1)]: Done 108 tasks      | elapsed:  2.3min\n",
      "[Parallel(n_jobs=-1)]: Done 130 out of 135 | elapsed:  2.9min remaining:    6.6s\n",
      "[Parallel(n_jobs=-1)]: Done 135 out of 135 | elapsed:  3.0min finished\n"
     ]
    },
    {
     "name": "stdout",
     "output_type": "stream",
     "text": [
      "0.8599129006137373\n",
      "{'n_factors': 1, 'reg_all': 0.05, 'n_epochs': 25}\n"
     ]
    },
    {
     "data": {
      "text/plain": [
       "<surprise.prediction_algorithms.matrix_factorization.SVDpp at 0x56d557940>"
      ]
     },
     "execution_count": 76,
     "metadata": {},
     "output_type": "execute_result"
    }
   ],
   "source": [
    "reader = Reader(rating_scale=(1, 10))  #invoke reader instance of surprise library\n",
    "data=Dataset.load_from_df(core,reader) #load dataset into Surprise datastructure Dataset\n",
    "param_grid = {'n_factors': [1, 3, 5],\n",
    "              'reg_all': [ .05, 0.1, .2],\n",
    "              'n_epochs': [20, 25, 35]\n",
    "              }\n",
    "\n",
    "gs = GridSearchCV(SVDpp, param_grid, measures=['rmse','mae'], cv=5, n_jobs=-1, joblib_verbose=10) \n",
    "gs.fit(data)\n",
    "# best RMSE score\n",
    "print(gs.best_score['rmse'])\n",
    "# combination of parameters that gave the best RMSE score\n",
    "print(gs.best_params['rmse'])\n",
    "# We can now use the algorithm that yields the best rmse:\n",
    "svdpp = gs.best_estimator['rmse']\n",
    "svdpp.fit(data.build_full_trainset())\n",
    "\n",
    "#You may use this instead of some parts of the following section, to make predictions for the unseen data (i.e. all the missing ratings)"
   ]
  },
  {
   "cell_type": "markdown",
   "id": "b7f7f58e",
   "metadata": {},
   "source": [
    "# Prep for recommendatio system"
   ]
  },
  {
   "cell_type": "code",
   "execution_count": 77,
   "id": "348e389c",
   "metadata": {},
   "outputs": [],
   "source": [
    "grouped = main_df.groupby('user')['work'].apply(list).reset_index(name='book_list')\n"
   ]
  },
  {
   "cell_type": "code",
   "execution_count": 78,
   "id": "26927b9c",
   "metadata": {},
   "outputs": [
    {
     "data": {
      "text/html": [
       "<div>\n",
       "<style scoped>\n",
       "    .dataframe tbody tr th:only-of-type {\n",
       "        vertical-align: middle;\n",
       "    }\n",
       "\n",
       "    .dataframe tbody tr th {\n",
       "        vertical-align: top;\n",
       "    }\n",
       "\n",
       "    .dataframe thead th {\n",
       "        text-align: right;\n",
       "    }\n",
       "</style>\n",
       "<table border=\"1\" class=\"dataframe\">\n",
       "  <thead>\n",
       "    <tr style=\"text-align: right;\">\n",
       "      <th></th>\n",
       "      <th>user</th>\n",
       "      <th>book_list</th>\n",
       "    </tr>\n",
       "  </thead>\n",
       "  <tbody>\n",
       "    <tr>\n",
       "      <th>0</th>\n",
       "      <td>0</td>\n",
       "      <td>[262571, 12593516, 2853402, 2965719, 7595267, ...</td>\n",
       "    </tr>\n",
       "    <tr>\n",
       "      <th>1</th>\n",
       "      <td>1</td>\n",
       "      <td>[8253778, 115295, 1475, 32411, 6269624, 175396...</td>\n",
       "    </tr>\n",
       "    <tr>\n",
       "      <th>2</th>\n",
       "      <td>2</td>\n",
       "      <td>[2398550, 1858670, 579902, 3790953, 5173, 3577...</td>\n",
       "    </tr>\n",
       "    <tr>\n",
       "      <th>3</th>\n",
       "      <td>3</td>\n",
       "      <td>[12757788, 11844613, 13460635]</td>\n",
       "    </tr>\n",
       "    <tr>\n",
       "      <th>4</th>\n",
       "      <td>4</td>\n",
       "      <td>[2788894, 1402407]</td>\n",
       "    </tr>\n",
       "    <tr>\n",
       "      <th>...</th>\n",
       "      <td>...</td>\n",
       "      <td>...</td>\n",
       "    </tr>\n",
       "    <tr>\n",
       "      <th>18156</th>\n",
       "      <td>18156</td>\n",
       "      <td>[168956, 5161, 4647, 11698165, 278652, 37306, ...</td>\n",
       "    </tr>\n",
       "    <tr>\n",
       "      <th>18157</th>\n",
       "      <td>18157</td>\n",
       "      <td>[14146148, 13897879]</td>\n",
       "    </tr>\n",
       "    <tr>\n",
       "      <th>18158</th>\n",
       "      <td>18158</td>\n",
       "      <td>[619492, 85188, 9627799, 3123767, 9149546, 657...</td>\n",
       "    </tr>\n",
       "    <tr>\n",
       "      <th>18159</th>\n",
       "      <td>18159</td>\n",
       "      <td>[553055, 3540069, 342805, 199021, 2966978, 316...</td>\n",
       "    </tr>\n",
       "    <tr>\n",
       "      <th>18160</th>\n",
       "      <td>18160</td>\n",
       "      <td>[111156, 1163373, 1254864, 111199, 6391, 12429...</td>\n",
       "    </tr>\n",
       "  </tbody>\n",
       "</table>\n",
       "<p>18161 rows × 2 columns</p>\n",
       "</div>"
      ],
      "text/plain": [
       "        user                                          book_list\n",
       "0          0  [262571, 12593516, 2853402, 2965719, 7595267, ...\n",
       "1          1  [8253778, 115295, 1475, 32411, 6269624, 175396...\n",
       "2          2  [2398550, 1858670, 579902, 3790953, 5173, 3577...\n",
       "3          3                     [12757788, 11844613, 13460635]\n",
       "4          4                                 [2788894, 1402407]\n",
       "...      ...                                                ...\n",
       "18156  18156  [168956, 5161, 4647, 11698165, 278652, 37306, ...\n",
       "18157  18157                               [14146148, 13897879]\n",
       "18158  18158  [619492, 85188, 9627799, 3123767, 9149546, 657...\n",
       "18159  18159  [553055, 3540069, 342805, 199021, 2966978, 316...\n",
       "18160  18160  [111156, 1163373, 1254864, 111199, 6391, 12429...\n",
       "\n",
       "[18161 rows x 2 columns]"
      ]
     },
     "execution_count": 78,
     "metadata": {},
     "output_type": "execute_result"
    }
   ],
   "source": [
    "grouped"
   ]
  },
  {
   "cell_type": "markdown",
   "id": "7252e9b3",
   "metadata": {},
   "source": [
    "Using louvian, i will generate top similar users"
   ]
  },
  {
   "cell_type": "code",
   "execution_count": 79,
   "id": "6926ecc2",
   "metadata": {},
   "outputs": [],
   "source": [
    "def avg_importance(importance_measurements):\n",
    "    denominator = len(importance_measurements)\n",
    "    if(denominator == 0):\n",
    "        print(\"Denominator is 0\")\n",
    "        return\n",
    "    numerator = 0\n",
    "    for i in importance_measurements:\n",
    "        numerator += i\n",
    "    \n",
    "    return (numerator/denominator)\n",
    "        "
   ]
  },
  {
   "cell_type": "code",
   "execution_count": 80,
   "id": "2866fc57",
   "metadata": {},
   "outputs": [],
   "source": [
    "# def get_importance(ref_user, neighbor, sig_measures):\n",
    "#     m = []\n",
    "#     for d in sig_measures:\n",
    "#         if type(d)  == dict:\n",
    "#             if (ref_user in d) and neighbor in d[ref_user]):\n",
    "#                 print('here')\n",
    "#                 m.append(d[ref_user][neighbor])\n",
    "#         else:\n",
    "#              m.append(d[ref_user])\n",
    "        \n",
    "#     return avg_importance(m)"
   ]
  },
  {
   "cell_type": "code",
   "execution_count": 81,
   "id": "b550290a",
   "metadata": {},
   "outputs": [],
   "source": [
    "def get_importance(ref_user, sig_measurements):\n",
    "    denominator = len(sig_measurements)\n",
    "    if(denominator == 0):\n",
    "        print(\"Denominator is 0\")\n",
    "        return\n",
    "    numerator = 0\n",
    "    for i in sig_measurements:\n",
    "        numerator += i[ref_user]\n",
    "    \n",
    "    return (numerator/denominator)"
   ]
  },
  {
   "cell_type": "code",
   "execution_count": 82,
   "id": "18130622",
   "metadata": {},
   "outputs": [],
   "source": [
    "def get_top_neighbors(ref_user, communities, com_dict, sig_measurements):\n",
    "    neighbors = communities[com_dict[ref_user]]\n",
    "    cap = len(neighbors)\n",
    "    if(cap > 5):\n",
    "        cap = 5\n",
    "    \n",
    "    imp_dict = {}\n",
    "    for i in neighbors:\n",
    "        imp_dict[i] = get_importance(i, sig_measurements)\n",
    "    \n",
    "    imp_dict = sorted(imp_dict.items(), key=lambda x: x[1], reverse=True)\n",
    "    top_users = [x[0] for x in imp_dict[:cap]]\n",
    "    \n",
    "    \n",
    "    return top_users\n",
    "    "
   ]
  },
  {
   "cell_type": "code",
   "execution_count": 83,
   "id": "8e8f385e",
   "metadata": {},
   "outputs": [],
   "source": [
    "def get_anti_book_set(ref_user, top_users, data):\n",
    "    books_ls = []\n",
    "    for i in top_users:\n",
    "        books = data[data['user'] == user_to_index[i]]['book_list'].iloc[0]\n",
    "        books_ls.extend(books)\n",
    "    \n",
    "    return (set(books_ls) - set(data[data['user'] == user_to_index[ref_user]]['book_list'].iloc[0]))"
   ]
  },
  {
   "cell_type": "code",
   "execution_count": 84,
   "id": "42b18803",
   "metadata": {},
   "outputs": [],
   "source": [
    "# gets the top books for recommendations\n",
    "def get_top_books(ref_user, rec_amount, top_users, data, model):\n",
    "    books_ls = get_anti_book_set(ref_user, top_users, data)\n",
    "    cap = len(books_ls)\n",
    "    if(cap > rec_amount):\n",
    "        cap = rec_amount\n",
    "    book_dict = {}\n",
    "    for b in books_ls:\n",
    "        book_dict[b] = model.predict(ref_user, b).est\n",
    "#         book_dict[b] = model.predict(ref_user, b, verbose=True).est\n",
    "\n",
    "\n",
    "        \n",
    "    top_books = sorted(book_dict.items(), key=lambda x: x[1], reverse=True)[:cap]\n",
    "\n",
    "    \n",
    "    return top_books"
   ]
  },
  {
   "cell_type": "code",
   "execution_count": 85,
   "id": "12ab6810",
   "metadata": {},
   "outputs": [],
   "source": [
    "# genrates recommendations book recommendations\n",
    "def get_recommendations(ref_user, G, model, data, communities, com_dict, sig_measurements, rec_amount):\n",
    "    top_users = get_top_neighbors(ref_user, communities, com_dict, sig_measurements)\n",
    "    top_books = get_top_books(ref_user, rec_amount,top_users, data, model)\n",
    "    \n",
    "    return top_books\n",
    "    "
   ]
  },
  {
   "cell_type": "code",
   "execution_count": 86,
   "id": "33176c06",
   "metadata": {},
   "outputs": [],
   "source": [
    "def print_recommendations(recommendations):\n",
    "    for b, pred in recomendations:\n",
    "        print('Book ID: {:<10}Predicted Rating: {:.3f}'.format(b, pred))"
   ]
  },
  {
   "cell_type": "markdown",
   "id": "d2b59446",
   "metadata": {},
   "source": [
    "# Recommendation System using Social Network Graph"
   ]
  },
  {
   "cell_type": "code",
   "execution_count": 87,
   "id": "063543f3",
   "metadata": {},
   "outputs": [],
   "source": [
    "# measurements to use for sorting top neighbors\n",
    "measurements = [betweenness_centralities, degree, eigenvector_cent]\n",
    "#user to generate recommendations for\n",
    "ref_user = 'mmignano11'\n",
    "#gets top 5 recommendations\n",
    "recommendations = get_recommendations(ref_user, G_m, base_alg, grouped, louvian_com, louvian_dict, measurements, 5)"
   ]
  },
  {
   "cell_type": "code",
   "execution_count": 88,
   "id": "e52e112a",
   "metadata": {},
   "outputs": [
    {
     "data": {
      "text/plain": [
       "[(17927, 4.92563583152558),\n",
       " (15657, 4.580572493255862),\n",
       " (4178, 4.506160825588684),\n",
       " (16482, 4.43204570428034),\n",
       " (4907, 4.430869440724898)]"
      ]
     },
     "execution_count": 88,
     "metadata": {},
     "output_type": "execute_result"
    }
   ],
   "source": [
    "recommendations"
   ]
  },
  {
   "cell_type": "code",
   "execution_count": 89,
   "id": "aa673cf1",
   "metadata": {
    "scrolled": true
   },
   "outputs": [
    {
     "name": "stdout",
     "output_type": "stream",
     "text": [
      "Book ID: 17927     Predicted Rating: 4.899\n",
      "Book ID: 15657     Predicted Rating: 4.552\n",
      "Book ID: 4178      Predicted Rating: 4.510\n",
      "Book ID: 4907      Predicted Rating: 4.477\n",
      "Book ID: 6071      Predicted Rating: 4.470\n"
     ]
    }
   ],
   "source": [
    "measurements = [betweenness_centralities, degree, eigenvector_cent]\n",
    "ref_user = 'mmignano11'\n",
    "recomendations = get_recommendations(ref_user, G_m, svdpp, grouped, louvian_com, louvian_dict, measurements, 5)\n",
    "print_recommendations(recomendations)"
   ]
  },
  {
   "cell_type": "code",
   "execution_count": 90,
   "id": "2eb51c9f",
   "metadata": {},
   "outputs": [
    {
     "name": "stdout",
     "output_type": "stream",
     "text": [
      "Book ID: 17927     Predicted Rating: 4.899\n",
      "Book ID: 15657     Predicted Rating: 4.552\n",
      "Book ID: 4178      Predicted Rating: 4.510\n",
      "Book ID: 4907      Predicted Rating: 4.477\n",
      "Book ID: 6071      Predicted Rating: 4.470\n"
     ]
    }
   ],
   "source": [
    "print_recommendations(recomendations)"
   ]
  },
  {
   "cell_type": "code",
   "execution_count": 91,
   "id": "509531bd",
   "metadata": {},
   "outputs": [
    {
     "name": "stdout",
     "output_type": "stream",
     "text": [
      "Book ID: 17927     Predicted Rating: 4.885\n",
      "Book ID: 15657     Predicted Rating: 4.554\n",
      "Book ID: 4178      Predicted Rating: 4.504\n",
      "Book ID: 4907      Predicted Rating: 4.476\n",
      "Book ID: 6071      Predicted Rating: 4.471\n"
     ]
    }
   ],
   "source": [
    "measurements = [betweenness_centralities, degree, eigenvector_cent]\n",
    "ref_user = 'mmignano11'\n",
    "recomendations = get_recommendations(ref_user, G_m, svd, grouped, louvian_com, louvian_dict, measurements, 5)\n",
    "print_recommendations(recomendations)"
   ]
  },
  {
   "cell_type": "markdown",
   "id": "fd1b308f",
   "metadata": {},
   "source": [
    "When determining which model to use for making predictions, we dermined the top algorithms to use were SVDpp (1), BaselineOnly (2), and in last place SVD (3). When we check for recommendations using these three different models, we can see that SVDpp and BaselineOnly have very similar outputs with the books recommended. "
   ]
  },
  {
   "cell_type": "code",
   "execution_count": 92,
   "id": "e87ac396",
   "metadata": {},
   "outputs": [
    {
     "name": "stdout",
     "output_type": "stream",
     "text": [
      "['roblong', 'lexport', 'hockeygalscores', 'Munchkinelf', 'Kelpp', 'RobertBast', 'lovelyluck', 'maxairborne', 'rdurie', 'Truly_Bookish']\n"
     ]
    }
   ],
   "source": [
    "print(list(users_main)[:10])\n"
   ]
  },
  {
   "cell_type": "code",
   "execution_count": 93,
   "id": "8405b083",
   "metadata": {},
   "outputs": [
    {
     "name": "stdout",
     "output_type": "stream",
     "text": [
      "User:  roblong\n",
      "SVDpp\n",
      "Book ID: 4178      Predicted Rating: 4.510\n",
      "Book ID: 8247      Predicted Rating: 4.332\n",
      "Book ID: 4051      Predicted Rating: 4.331\n",
      "Book ID: 16279     Predicted Rating: 4.324\n",
      "Book ID: 995       Predicted Rating: 4.247\n",
      "\n",
      "\n",
      "\n",
      "User:  lexport\n",
      "SVDpp\n",
      "Book ID: 11178     Predicted Rating: 4.850\n",
      "Book ID: 17826     Predicted Rating: 4.782\n",
      "Book ID: 724       Predicted Rating: 4.751\n",
      "Book ID: 1833      Predicted Rating: 4.706\n",
      "Book ID: 10563     Predicted Rating: 4.703\n",
      "\n",
      "\n",
      "\n",
      "User:  hockeygalscores\n",
      "SVDpp\n",
      "Book ID: 16222     Predicted Rating: 4.810\n",
      "Book ID: 12466     Predicted Rating: 4.464\n",
      "Book ID: 4279      Predicted Rating: 4.340\n",
      "Book ID: 8234      Predicted Rating: 4.289\n",
      "Book ID: 2144      Predicted Rating: 4.283\n",
      "\n",
      "\n",
      "\n",
      "User:  Munchkinelf\n",
      "SVDpp\n",
      "Book ID: 6028      Predicted Rating: 4.123\n",
      "Book ID: 5811      Predicted Rating: 4.109\n",
      "Book ID: 6099      Predicted Rating: 3.976\n",
      "Book ID: 1472      Predicted Rating: 3.969\n",
      "Book ID: 1864      Predicted Rating: 3.941\n",
      "\n",
      "\n",
      "\n",
      "User:  Kelpp\n",
      "SVDpp\n",
      "Book ID: 11178     Predicted Rating: 4.850\n",
      "Book ID: 10322     Predicted Rating: 4.728\n",
      "Book ID: 12466     Predicted Rating: 4.464\n",
      "Book ID: 10285     Predicted Rating: 4.360\n",
      "Book ID: 12155     Predicted Rating: 4.344\n",
      "\n",
      "\n",
      "\n",
      "User:  RobertBast\n",
      "SVDpp\n",
      "Book ID: 937       Predicted Rating: 4.630\n",
      "Book ID: 5655      Predicted Rating: 4.478\n",
      "Book ID: 11208     Predicted Rating: 4.361\n",
      "Book ID: 4904      Predicted Rating: 4.206\n",
      "Book ID: 12407     Predicted Rating: 4.206\n",
      "\n",
      "\n",
      "\n",
      "User:  lovelyluck\n",
      "SVDpp\n",
      "Book ID: 17927     Predicted Rating: 4.899\n",
      "Book ID: 15657     Predicted Rating: 4.552\n",
      "Book ID: 4178      Predicted Rating: 4.510\n",
      "Book ID: 4907      Predicted Rating: 4.477\n",
      "Book ID: 6071      Predicted Rating: 4.470\n",
      "\n",
      "\n",
      "\n",
      "User:  maxairborne\n",
      "SVDpp\n",
      "Book ID: 11178     Predicted Rating: 4.850\n",
      "Book ID: 10322     Predicted Rating: 4.728\n",
      "Book ID: 12466     Predicted Rating: 4.464\n",
      "Book ID: 10285     Predicted Rating: 4.360\n",
      "Book ID: 12155     Predicted Rating: 4.344\n",
      "\n",
      "\n",
      "\n",
      "User:  rdurie\n",
      "SVDpp\n",
      "Book ID: 4178      Predicted Rating: 4.510\n",
      "Book ID: 8247      Predicted Rating: 4.332\n",
      "Book ID: 4051      Predicted Rating: 4.331\n",
      "Book ID: 16279     Predicted Rating: 4.324\n",
      "Book ID: 995       Predicted Rating: 4.247\n",
      "\n",
      "\n",
      "\n",
      "User:  Truly_Bookish\n",
      "SVDpp\n",
      "Book ID: 6028      Predicted Rating: 4.123\n",
      "Book ID: 5811      Predicted Rating: 4.109\n",
      "Book ID: 6099      Predicted Rating: 3.976\n",
      "Book ID: 1472      Predicted Rating: 3.969\n",
      "Book ID: 1864      Predicted Rating: 3.941\n",
      "\n",
      "\n",
      "\n"
     ]
    }
   ],
   "source": [
    "# measurements to use for sorting top neighbors\n",
    "measurements = [betweenness_centralities, degree, eigenvector_cent]\n",
    "\n",
    "count = 0\n",
    "\n",
    "b_ls = []\n",
    "#for first 10 users\n",
    "for i in users_main:\n",
    "    if count < 10:\n",
    "        #user to generate recommendations for\n",
    "        ref_user = i\n",
    "        print(\"User: \", ref_user)\n",
    "        #gets top 5 recommendations using each model\n",
    "        print(\"SVDpp\")\n",
    "        recomendations = get_recommendations(ref_user, G_m, svdpp, grouped, louvian_com, louvian_dict, measurements, 5)\n",
    "        print_recommendations(recomendations)\n",
    "        b_ls.append([b[0] for b in recomendations])\n",
    "\n",
    "        print(\"\\n\\n\")\n",
    "        count += 1\n",
    "    else:\n",
    "        break"
   ]
  },
  {
   "cell_type": "code",
   "execution_count": 94,
   "id": "530f05a4",
   "metadata": {},
   "outputs": [],
   "source": [
    "flattened_list = [item for sublist in b_ls for item in sublist]"
   ]
  },
  {
   "cell_type": "code",
   "execution_count": 95,
   "id": "16e9f35d",
   "metadata": {},
   "outputs": [
    {
     "name": "stdout",
     "output_type": "stream",
     "text": [
      "Number of unique books recommended to 10 users:  32\n"
     ]
    }
   ],
   "source": [
    "print('Number of unique books recommended to 10 users: ', len(set(flattened_list)))"
   ]
  },
  {
   "cell_type": "code",
   "execution_count": 96,
   "id": "0014b4c9",
   "metadata": {},
   "outputs": [
    {
     "name": "stdout",
     "output_type": "stream",
     "text": [
      "User:  roblong\n",
      "User:  lexport\n",
      "User:  hockeygalscores\n",
      "User:  Munchkinelf\n",
      "User:  Kelpp\n",
      "User:  RobertBast\n",
      "User:  lovelyluck\n",
      "User:  maxairborne\n",
      "User:  rdurie\n",
      "User:  Truly_Bookish\n",
      "User:  pageboy\n",
      "User:  clairep\n",
      "User:  cubeshelves\n",
      "User:  PreetiGupta\n",
      "User:  wordnat\n",
      "User:  PSCottier\n",
      "User:  speljamr\n",
      "User:  tsinandali\n",
      "User:  cflorente\n",
      "User:  khixson1\n",
      "User:  jbvm\n",
      "User:  stefano\n",
      "User:  mrellis64\n",
      "User:  bhall\n",
      "User:  katelisim\n",
      "User:  eddiemerkel\n",
      "User:  RavenousReaders\n",
      "User:  thorswitch\n",
      "User:  bigcurlyloz\n",
      "User:  sixbucksamonkey\n",
      "User:  Thresher\n",
      "User:  prophetbob\n",
      "User:  ANeumann\n",
      "User:  satya8\n",
      "User:  Gateaupain\n",
      "User:  lilwatchergirl\n",
      "User:  spartyliblover\n",
      "User:  marielovesbooks\n",
      "User:  anikaschihuahuas\n",
      "User:  outontheshelves\n",
      "User:  donnambr\n",
      "User:  Nazgullie\n",
      "User:  Brian242\n",
      "User:  anniegrace720\n",
      "User:  jena2\n",
      "User:  denmoir\n",
      "User:  mkjones\n",
      "User:  cierramarinko\n",
      "User:  odrini\n",
      "User:  tomray\n",
      "User:  bgriff\n",
      "User:  wbarker\n",
      "User:  kathrynnd\n",
      "User:  tbert204\n",
      "User:  bethers1919\n",
      "User:  lisagibson\n",
      "User:  bunny0055\n",
      "User:  Rodemail\n",
      "User:  DCEFrance\n",
      "User:  stevencudahy\n",
      "User:  danaclaire\n",
      "User:  sunita_d\n",
      "User:  dkeish\n",
      "User:  historiana\n",
      "User:  Eruntane\n",
      "User:  doujoji\n",
      "User:  firedrake1942\n",
      "User:  amckie\n",
      "User:  AmyElizabeth\n",
      "User:  beesy\n",
      "User:  foxt\n",
      "User:  tamaranth\n",
      "User:  jfedolak\n",
      "User:  anneperle\n",
      "User:  dubbadee\n",
      "User:  mrsyocky\n",
      "User:  live2read_read2live\n",
      "User:  katekasserman\n",
      "User:  gilroy\n",
      "User:  sara.faughn\n",
      "User:  Psychebooks\n",
      "User:  jwilk55\n",
      "User:  Flamika\n",
      "User:  sylvjt\n",
      "User:  jaelquinn\n",
      "User:  Iacobus\n",
      "User:  Cleda\n",
      "User:  djwudi\n",
      "User:  xXcr9Xx\n",
      "User:  ethanw\n",
      "User:  fundevogel\n",
      "User:  iampeachy\n",
      "User:  chitatel\n",
      "User:  ousia\n",
      "User:  PrettyInFiction\n",
      "User:  dogdayspress\n",
      "User:  kcshankd\n",
      "User:  guusje\n",
      "User:  meags222\n",
      "User:  helen295\n"
     ]
    }
   ],
   "source": [
    "# measurements to use for sorting top neighbors\n",
    "measurements = [betweenness_centralities, degree, eigenvector_cent]\n",
    "\n",
    "count = 0\n",
    "\n",
    "b_ls = []\n",
    "#for first 10 users\n",
    "for i in users_main:\n",
    "    if count < 100:\n",
    "        #user to generate recommendations for\n",
    "        ref_user = i\n",
    "        print(\"User: \", ref_user)\n",
    "        #gets top 5 recommendations using each model\n",
    "\n",
    "        recomendations = get_recommendations(ref_user, G_m, svdpp, grouped, louvian_com, louvian_dict, measurements, 5)\n",
    "\n",
    "        b_ls.append([b[0] for b in recomendations])\n",
    "\n",
    "            \n",
    "        \n",
    "\n",
    "        recomendations = get_recommendations(ref_user, G_m, base_alg, grouped, louvian_com, louvian_dict, measurements, 5)\n",
    "\n",
    "        b_ls.append([b[0] for b in recomendations])\n",
    "        \n",
    "\n",
    "        recomendations = get_recommendations(ref_user, G_m, svd, grouped, louvian_com, louvian_dict, measurements, 5)\n",
    "\n",
    "        b_ls.append([b[0] for b in recomendations])\n",
    "        count += 1\n",
    "    else:\n",
    "        break"
   ]
  },
  {
   "cell_type": "code",
   "execution_count": 97,
   "id": "c821cef5",
   "metadata": {},
   "outputs": [],
   "source": [
    "flattened_list = [item for sublist in b_ls for item in sublist]"
   ]
  },
  {
   "cell_type": "code",
   "execution_count": 98,
   "id": "d71a6636",
   "metadata": {},
   "outputs": [
    {
     "name": "stdout",
     "output_type": "stream",
     "text": [
      "Number of unique books recommended to 100 users:  104\n"
     ]
    }
   ],
   "source": [
    "print('Number of unique books recommended to 100 users: ', len(set(flattened_list)))"
   ]
  }
 ],
 "metadata": {
  "kernelspec": {
   "display_name": "Python 3 (ipykernel)",
   "language": "python",
   "name": "python3"
  },
  "language_info": {
   "codemirror_mode": {
    "name": "ipython",
    "version": 3
   },
   "file_extension": ".py",
   "mimetype": "text/x-python",
   "name": "python",
   "nbconvert_exporter": "python",
   "pygments_lexer": "ipython3",
   "version": "3.9.6"
  }
 },
 "nbformat": 4,
 "nbformat_minor": 5
}
