{
 "cells": [
  {
   "cell_type": "markdown",
   "id": "3941df5a",
   "metadata": {},
   "source": [
    "# LibraryThings Recommendation System"
   ]
  },
  {
   "cell_type": "markdown",
   "id": "b269c749",
   "metadata": {},
   "source": [
    "## 1. Loading reviews.txt"
   ]
  },
  {
   "cell_type": "code",
   "execution_count": 1,
   "id": "adb7d13d",
   "metadata": {},
   "outputs": [],
   "source": [
    "import numpy as np\n",
    "import pandas as pd"
   ]
  },
  {
   "cell_type": "code",
   "execution_count": 2,
   "id": "e02e59ab",
   "metadata": {},
   "outputs": [],
   "source": [
    "import ast"
   ]
  },
  {
   "cell_type": "code",
   "execution_count": 3,
   "id": "4f9585f0",
   "metadata": {},
   "outputs": [],
   "source": [
    "# review_list = []\n",
    "# with open('reviews.txt', 'r') as f:\n",
    "#     for line in f:\n",
    "#         if line == 'reviews = {}\\n':\n",
    "#             continue\n",
    "#         try:\n",
    "#             _, review = line.split(')] = ')\n",
    "#             review_list.append(ast.literal_eval(review))\n",
    "#         except:\n",
    "#             print(line)\n",
    "#             break"
   ]
  },
  {
   "cell_type": "code",
   "execution_count": 4,
   "id": "c300af18",
   "metadata": {},
   "outputs": [],
   "source": [
    "# review_list"
   ]
  },
  {
   "cell_type": "markdown",
   "id": "88e1246a",
   "metadata": {},
   "source": [
    "Pickling for future use to avoid preprocessing the data again."
   ]
  },
  {
   "cell_type": "code",
   "execution_count": 5,
   "id": "e7d6935f",
   "metadata": {},
   "outputs": [],
   "source": [
    "import pickle"
   ]
  },
  {
   "cell_type": "code",
   "execution_count": 6,
   "id": "6d53e15b",
   "metadata": {},
   "outputs": [],
   "source": [
    "# with open('review_list.pkl', 'wb') as f:\n",
    "#     pickle.dump(review_list, f)"
   ]
  },
  {
   "cell_type": "code",
   "execution_count": 7,
   "id": "96fb81b5",
   "metadata": {},
   "outputs": [],
   "source": [
    "with open('review_list.pkl', 'rb') as f:\n",
    "    review_list = pickle.load(f)"
   ]
  },
  {
   "cell_type": "code",
   "execution_count": 8,
   "id": "cf1c3143",
   "metadata": {},
   "outputs": [],
   "source": [
    "reviews_df = pd.DataFrame(review_list)"
   ]
  },
  {
   "cell_type": "code",
   "execution_count": 9,
   "id": "9886c674",
   "metadata": {},
   "outputs": [
    {
     "data": {
      "text/html": [
       "<div>\n",
       "<style scoped>\n",
       "    .dataframe tbody tr th:only-of-type {\n",
       "        vertical-align: middle;\n",
       "    }\n",
       "\n",
       "    .dataframe tbody tr th {\n",
       "        vertical-align: top;\n",
       "    }\n",
       "\n",
       "    .dataframe thead th {\n",
       "        text-align: right;\n",
       "    }\n",
       "</style>\n",
       "<table border=\"1\" class=\"dataframe\">\n",
       "  <thead>\n",
       "    <tr style=\"text-align: right;\">\n",
       "      <th></th>\n",
       "      <th>comment</th>\n",
       "      <th>nhelpful</th>\n",
       "      <th>unixtime</th>\n",
       "      <th>work</th>\n",
       "      <th>flags</th>\n",
       "      <th>user</th>\n",
       "      <th>stars</th>\n",
       "      <th>time</th>\n",
       "    </tr>\n",
       "  </thead>\n",
       "  <tbody>\n",
       "    <tr>\n",
       "      <th>0</th>\n",
       "      <td>Every evening, the brave queen of Persia, Shah...</td>\n",
       "      <td>0</td>\n",
       "      <td>1.332288e+09</td>\n",
       "      <td>73960</td>\n",
       "      <td>[]</td>\n",
       "      <td>Elizabeth.Wong98</td>\n",
       "      <td>4.5</td>\n",
       "      <td>Mar 21, 2012</td>\n",
       "    </tr>\n",
       "    <tr>\n",
       "      <th>1</th>\n",
       "      <td>Its the 1983-84 school year and Edward Zanni o...</td>\n",
       "      <td>0</td>\n",
       "      <td>1.253405e+09</td>\n",
       "      <td>69413</td>\n",
       "      <td>[]</td>\n",
       "      <td>rivkat</td>\n",
       "      <td>3.0</td>\n",
       "      <td>Sep 20, 2009</td>\n",
       "    </tr>\n",
       "    <tr>\n",
       "      <th>2</th>\n",
       "      <td>I became privy to this book, when another auth...</td>\n",
       "      <td>0</td>\n",
       "      <td>1.299888e+09</td>\n",
       "      <td>9523995</td>\n",
       "      <td>[]</td>\n",
       "      <td>suz.haugland</td>\n",
       "      <td>4.0</td>\n",
       "      <td>Mar 12, 2011</td>\n",
       "    </tr>\n",
       "    <tr>\n",
       "      <th>3</th>\n",
       "      <td>.</td>\n",
       "      <td>0</td>\n",
       "      <td>1.327277e+09</td>\n",
       "      <td>368228</td>\n",
       "      <td>[]</td>\n",
       "      <td>amoskovacs</td>\n",
       "      <td>4.0</td>\n",
       "      <td>Jan 23, 2012</td>\n",
       "    </tr>\n",
       "    <tr>\n",
       "      <th>4</th>\n",
       "      <td>This is a tremendous story of a freed woman an...</td>\n",
       "      <td>0</td>\n",
       "      <td>1.329005e+09</td>\n",
       "      <td>11243828</td>\n",
       "      <td>[]</td>\n",
       "      <td>CandyH</td>\n",
       "      <td>4.0</td>\n",
       "      <td>Feb 12, 2012</td>\n",
       "    </tr>\n",
       "    <tr>\n",
       "      <th>...</th>\n",
       "      <td>...</td>\n",
       "      <td>...</td>\n",
       "      <td>...</td>\n",
       "      <td>...</td>\n",
       "      <td>...</td>\n",
       "      <td>...</td>\n",
       "      <td>...</td>\n",
       "      <td>...</td>\n",
       "    </tr>\n",
       "    <tr>\n",
       "      <th>1707065</th>\n",
       "      <td>This is quite possibly the cutest kids book I'...</td>\n",
       "      <td>0</td>\n",
       "      <td>1.327795e+09</td>\n",
       "      <td>129503</td>\n",
       "      <td>[]</td>\n",
       "      <td>evementen</td>\n",
       "      <td>NaN</td>\n",
       "      <td>Jan 29, 2012</td>\n",
       "    </tr>\n",
       "    <tr>\n",
       "      <th>1707066</th>\n",
       "      <td>This is a fairy tale which is very much a Cupi...</td>\n",
       "      <td>0</td>\n",
       "      <td>1.364688e+09</td>\n",
       "      <td>11749693</td>\n",
       "      <td>[]</td>\n",
       "      <td>AmyMacEvilly</td>\n",
       "      <td>5.0</td>\n",
       "      <td>Mar 31, 2013</td>\n",
       "    </tr>\n",
       "    <tr>\n",
       "      <th>1707067</th>\n",
       "      <td>http://tamaranth.blogspot.com/1994/03/guilty-p...</td>\n",
       "      <td>0</td>\n",
       "      <td>1.176682e+09</td>\n",
       "      <td>4873693</td>\n",
       "      <td>[]</td>\n",
       "      <td>tamaranth</td>\n",
       "      <td>4.5</td>\n",
       "      <td>Apr 16, 2007</td>\n",
       "    </tr>\n",
       "    <tr>\n",
       "      <th>1707068</th>\n",
       "      <td>Despus del extraordinario xito de Los ojos ama...</td>\n",
       "      <td>0</td>\n",
       "      <td>1.321920e+09</td>\n",
       "      <td>9705446</td>\n",
       "      <td>[]</td>\n",
       "      <td>bibliosa</td>\n",
       "      <td>NaN</td>\n",
       "      <td>Nov 22, 2011</td>\n",
       "    </tr>\n",
       "    <tr>\n",
       "      <th>1707069</th>\n",
       "      <td>I originally met most of the diseases covered ...</td>\n",
       "      <td>3</td>\n",
       "      <td>1.188518e+09</td>\n",
       "      <td>32396</td>\n",
       "      <td>[]</td>\n",
       "      <td>jlelliott</td>\n",
       "      <td>4.0</td>\n",
       "      <td>Aug 31, 2007</td>\n",
       "    </tr>\n",
       "  </tbody>\n",
       "</table>\n",
       "<p>1707070 rows × 8 columns</p>\n",
       "</div>"
      ],
      "text/plain": [
       "                                                   comment  nhelpful  \\\n",
       "0        Every evening, the brave queen of Persia, Shah...         0   \n",
       "1        Its the 1983-84 school year and Edward Zanni o...         0   \n",
       "2        I became privy to this book, when another auth...         0   \n",
       "3                                                    .             0   \n",
       "4        This is a tremendous story of a freed woman an...         0   \n",
       "...                                                    ...       ...   \n",
       "1707065  This is quite possibly the cutest kids book I'...         0   \n",
       "1707066  This is a fairy tale which is very much a Cupi...         0   \n",
       "1707067  http://tamaranth.blogspot.com/1994/03/guilty-p...         0   \n",
       "1707068  Despus del extraordinario xito de Los ojos ama...         0   \n",
       "1707069  I originally met most of the diseases covered ...         3   \n",
       "\n",
       "             unixtime      work flags              user  stars          time  \n",
       "0        1.332288e+09     73960    []  Elizabeth.Wong98    4.5  Mar 21, 2012  \n",
       "1        1.253405e+09     69413    []            rivkat    3.0  Sep 20, 2009  \n",
       "2        1.299888e+09   9523995    []      suz.haugland    4.0  Mar 12, 2011  \n",
       "3        1.327277e+09    368228    []        amoskovacs    4.0  Jan 23, 2012  \n",
       "4        1.329005e+09  11243828    []            CandyH    4.0  Feb 12, 2012  \n",
       "...               ...       ...   ...               ...    ...           ...  \n",
       "1707065  1.327795e+09    129503    []         evementen    NaN  Jan 29, 2012  \n",
       "1707066  1.364688e+09  11749693    []      AmyMacEvilly    5.0  Mar 31, 2013  \n",
       "1707067  1.176682e+09   4873693    []         tamaranth    4.5  Apr 16, 2007  \n",
       "1707068  1.321920e+09   9705446    []          bibliosa    NaN  Nov 22, 2011  \n",
       "1707069  1.188518e+09     32396    []         jlelliott    4.0  Aug 31, 2007  \n",
       "\n",
       "[1707070 rows x 8 columns]"
      ]
     },
     "execution_count": 9,
     "metadata": {},
     "output_type": "execute_result"
    }
   ],
   "source": [
    "reviews_df"
   ]
  },
  {
   "cell_type": "markdown",
   "id": "8704746d",
   "metadata": {},
   "source": [
    "## 2. Understanding the data"
   ]
  },
  {
   "cell_type": "markdown",
   "id": "cc464299",
   "metadata": {},
   "source": [
    "Looking at the data, we have the following columns:\n",
    "* comment: User review/comments about the book\n",
    "* nhelpful: Number of users who found the review/comment helpful\n",
    "* unixtime: UNIX time when review/comment was submitted\n",
    "* work: Book identifier\n",
    "* flags: Can be from the following values: \\['', 'not_a_review', 'abuse'\\]\n",
    "* user: Username\n",
    "* stars: Ratings on a scale of 5\n",
    "* time: Date when review was submitted\n",
    "\n",
    "Based on the following, it seems that *unixtime* and *time* represent the same, and are therefore redundant."
   ]
  },
  {
   "cell_type": "code",
   "execution_count": 10,
   "id": "7bea6d41",
   "metadata": {},
   "outputs": [
    {
     "data": {
      "text/plain": [
       "comment          0\n",
       "nhelpful         0\n",
       "unixtime        90\n",
       "work             0\n",
       "flags            0\n",
       "user             0\n",
       "stars       319861\n",
       "time            90\n",
       "dtype: int64"
      ]
     },
     "execution_count": 10,
     "metadata": {},
     "output_type": "execute_result"
    }
   ],
   "source": [
    "reviews_df.isna().sum()"
   ]
  },
  {
   "cell_type": "code",
   "execution_count": 11,
   "id": "b8d669ef",
   "metadata": {},
   "outputs": [],
   "source": [
    "reviews_df.dropna(inplace=True)"
   ]
  },
  {
   "cell_type": "code",
   "execution_count": 12,
   "id": "267cefe2",
   "metadata": {},
   "outputs": [
    {
     "data": {
      "text/plain": [
       "comment     0\n",
       "nhelpful    0\n",
       "unixtime    0\n",
       "work        0\n",
       "flags       0\n",
       "user        0\n",
       "stars       0\n",
       "time        0\n",
       "dtype: int64"
      ]
     },
     "execution_count": 12,
     "metadata": {},
     "output_type": "execute_result"
    }
   ],
   "source": [
    "reviews_df.isna().sum()"
   ]
  },
  {
   "cell_type": "markdown",
   "id": "96698e42",
   "metadata": {},
   "source": [
    "### Unpacking flags list\n",
    "\n",
    "Since *flags* contains lists which are unhashable, we cannot identify duplicate rows. We need to convert *flags* into a separate feature."
   ]
  },
  {
   "cell_type": "code",
   "execution_count": 13,
   "id": "ae41dcc8",
   "metadata": {},
   "outputs": [
    {
     "data": {
      "text/plain": [
       "array([(), ('not_a_review',), ('abuse',), ('abuse', 'not_a_review')],\n",
       "      dtype=object)"
      ]
     },
     "execution_count": 13,
     "metadata": {},
     "output_type": "execute_result"
    }
   ],
   "source": [
    "reviews_df['flags'].apply(lambda x: tuple(_ for _ in x) if x else ()).unique()"
   ]
  },
  {
   "cell_type": "code",
   "execution_count": 14,
   "id": "33508cf9",
   "metadata": {},
   "outputs": [],
   "source": [
    "reviews_df['abuse'] = reviews_df['flags'].apply(lambda x: 'abuse' in x)"
   ]
  },
  {
   "cell_type": "code",
   "execution_count": 15,
   "id": "36c60ad4",
   "metadata": {},
   "outputs": [],
   "source": [
    "reviews_df['not_a_review'] = reviews_df['flags'].apply(lambda x: 'not_a_review' in x)"
   ]
  },
  {
   "cell_type": "code",
   "execution_count": 16,
   "id": "f1c4d1c2",
   "metadata": {},
   "outputs": [],
   "source": [
    "reviews_df.drop('flags', axis = 1, inplace=True)"
   ]
  },
  {
   "cell_type": "code",
   "execution_count": 19,
   "id": "c060e345",
   "metadata": {},
   "outputs": [
    {
     "data": {
      "text/html": [
       "<div>\n",
       "<style scoped>\n",
       "    .dataframe tbody tr th:only-of-type {\n",
       "        vertical-align: middle;\n",
       "    }\n",
       "\n",
       "    .dataframe tbody tr th {\n",
       "        vertical-align: top;\n",
       "    }\n",
       "\n",
       "    .dataframe thead th {\n",
       "        text-align: right;\n",
       "    }\n",
       "</style>\n",
       "<table border=\"1\" class=\"dataframe\">\n",
       "  <thead>\n",
       "    <tr style=\"text-align: right;\">\n",
       "      <th></th>\n",
       "      <th>comment</th>\n",
       "      <th>nhelpful</th>\n",
       "      <th>unixtime</th>\n",
       "      <th>work</th>\n",
       "      <th>user</th>\n",
       "      <th>stars</th>\n",
       "      <th>time</th>\n",
       "      <th>abuse</th>\n",
       "      <th>not_a_review</th>\n",
       "    </tr>\n",
       "  </thead>\n",
       "  <tbody>\n",
       "    <tr>\n",
       "      <th>55</th>\n",
       "      <td>A disturbing book, but one that I can recommend.</td>\n",
       "      <td>0</td>\n",
       "      <td>1.169251e+09</td>\n",
       "      <td>1199218</td>\n",
       "      <td>writestuff</td>\n",
       "      <td>4.0</td>\n",
       "      <td>Jan 20, 2007</td>\n",
       "      <td>False</td>\n",
       "      <td>True</td>\n",
       "    </tr>\n",
       "    <tr>\n",
       "      <th>193</th>\n",
       "      <td>USA, ca 1984.\\nHovedpersonen William Halleck k...</td>\n",
       "      <td>0</td>\n",
       "      <td>1.226794e+09</td>\n",
       "      <td>35834</td>\n",
       "      <td>bnielsen</td>\n",
       "      <td>4.0</td>\n",
       "      <td>Nov 16, 2008</td>\n",
       "      <td>False</td>\n",
       "      <td>True</td>\n",
       "    </tr>\n",
       "    <tr>\n",
       "      <th>434</th>\n",
       "      <td>I loved this book -- Corey Sifter is a likeabl...</td>\n",
       "      <td>0</td>\n",
       "      <td>1.237507e+09</td>\n",
       "      <td>69759</td>\n",
       "      <td>stephaniechase</td>\n",
       "      <td>3.0</td>\n",
       "      <td>Mar 20, 2009</td>\n",
       "      <td>False</td>\n",
       "      <td>True</td>\n",
       "    </tr>\n",
       "    <tr>\n",
       "      <th>639</th>\n",
       "      <td>http://en.wikipedia.org/wiki/The_Glenn_Miller_...</td>\n",
       "      <td>0</td>\n",
       "      <td>1.282435e+09</td>\n",
       "      <td>11528316</td>\n",
       "      <td>wdjoyner</td>\n",
       "      <td>4.0</td>\n",
       "      <td>Aug 22, 2010</td>\n",
       "      <td>True</td>\n",
       "      <td>True</td>\n",
       "    </tr>\n",
       "    <tr>\n",
       "      <th>689</th>\n",
       "      <td>Listen/read my review here - http://alchemyofs...</td>\n",
       "      <td>0</td>\n",
       "      <td>1.311206e+09</td>\n",
       "      <td>11010126</td>\n",
       "      <td>nownewstrue</td>\n",
       "      <td>4.0</td>\n",
       "      <td>Jul 21, 2011</td>\n",
       "      <td>False</td>\n",
       "      <td>True</td>\n",
       "    </tr>\n",
       "    <tr>\n",
       "      <th>...</th>\n",
       "      <td>...</td>\n",
       "      <td>...</td>\n",
       "      <td>...</td>\n",
       "      <td>...</td>\n",
       "      <td>...</td>\n",
       "      <td>...</td>\n",
       "      <td>...</td>\n",
       "      <td>...</td>\n",
       "      <td>...</td>\n",
       "    </tr>\n",
       "    <tr>\n",
       "      <th>1706781</th>\n",
       "      <td>CWE founded 1881, pub 1st ed 1885, see entry, ...</td>\n",
       "      <td>0</td>\n",
       "      <td>1.269475e+09</td>\n",
       "      <td>9734301</td>\n",
       "      <td>kitchengardenbooks</td>\n",
       "      <td>4.0</td>\n",
       "      <td>Mar 25, 2010</td>\n",
       "      <td>False</td>\n",
       "      <td>True</td>\n",
       "    </tr>\n",
       "    <tr>\n",
       "      <th>1706856</th>\n",
       "      <td>I included this book in my book: The 100 Best ...</td>\n",
       "      <td>0</td>\n",
       "      <td>1.241741e+09</td>\n",
       "      <td>7605</td>\n",
       "      <td>toddsattersten</td>\n",
       "      <td>5.0</td>\n",
       "      <td>May 8, 2009</td>\n",
       "      <td>True</td>\n",
       "      <td>True</td>\n",
       "    </tr>\n",
       "    <tr>\n",
       "      <th>1706889</th>\n",
       "      <td>http://bookchronicle.wordpress.com/2007/10/19/...</td>\n",
       "      <td>0</td>\n",
       "      <td>1.223338e+09</td>\n",
       "      <td>1488</td>\n",
       "      <td>bookchronicle</td>\n",
       "      <td>4.0</td>\n",
       "      <td>Oct 7, 2008</td>\n",
       "      <td>False</td>\n",
       "      <td>True</td>\n",
       "    </tr>\n",
       "    <tr>\n",
       "      <th>1707030</th>\n",
       "      <td>Setting: United StatesReview? Maybe later or m...</td>\n",
       "      <td>0</td>\n",
       "      <td>1.282522e+09</td>\n",
       "      <td>522063</td>\n",
       "      <td>thereshegoes</td>\n",
       "      <td>4.0</td>\n",
       "      <td>Aug 23, 2010</td>\n",
       "      <td>False</td>\n",
       "      <td>True</td>\n",
       "    </tr>\n",
       "    <tr>\n",
       "      <th>1707052</th>\n",
       "      <td>5Q 4P The \"quote\": Section III, the 6th double...</td>\n",
       "      <td>0</td>\n",
       "      <td>1.272845e+09</td>\n",
       "      <td>1779085</td>\n",
       "      <td>TeenbookReader</td>\n",
       "      <td>5.0</td>\n",
       "      <td>May 3, 2010</td>\n",
       "      <td>False</td>\n",
       "      <td>True</td>\n",
       "    </tr>\n",
       "  </tbody>\n",
       "</table>\n",
       "<p>19750 rows × 9 columns</p>\n",
       "</div>"
      ],
      "text/plain": [
       "                                                   comment  nhelpful  \\\n",
       "55       A disturbing book, but one that I can recommend.          0   \n",
       "193      USA, ca 1984.\\nHovedpersonen William Halleck k...         0   \n",
       "434      I loved this book -- Corey Sifter is a likeabl...         0   \n",
       "639      http://en.wikipedia.org/wiki/The_Glenn_Miller_...         0   \n",
       "689      Listen/read my review here - http://alchemyofs...         0   \n",
       "...                                                    ...       ...   \n",
       "1706781  CWE founded 1881, pub 1st ed 1885, see entry, ...         0   \n",
       "1706856  I included this book in my book: The 100 Best ...         0   \n",
       "1706889  http://bookchronicle.wordpress.com/2007/10/19/...         0   \n",
       "1707030  Setting: United StatesReview? Maybe later or m...         0   \n",
       "1707052  5Q 4P The \"quote\": Section III, the 6th double...         0   \n",
       "\n",
       "             unixtime      work                user  stars          time  \\\n",
       "55       1.169251e+09   1199218          writestuff    4.0  Jan 20, 2007   \n",
       "193      1.226794e+09     35834            bnielsen    4.0  Nov 16, 2008   \n",
       "434      1.237507e+09     69759      stephaniechase    3.0  Mar 20, 2009   \n",
       "639      1.282435e+09  11528316            wdjoyner    4.0  Aug 22, 2010   \n",
       "689      1.311206e+09  11010126         nownewstrue    4.0  Jul 21, 2011   \n",
       "...               ...       ...                 ...    ...           ...   \n",
       "1706781  1.269475e+09   9734301  kitchengardenbooks    4.0  Mar 25, 2010   \n",
       "1706856  1.241741e+09      7605      toddsattersten    5.0   May 8, 2009   \n",
       "1706889  1.223338e+09      1488       bookchronicle    4.0   Oct 7, 2008   \n",
       "1707030  1.282522e+09    522063        thereshegoes    4.0  Aug 23, 2010   \n",
       "1707052  1.272845e+09   1779085      TeenbookReader    5.0   May 3, 2010   \n",
       "\n",
       "         abuse  not_a_review  \n",
       "55       False          True  \n",
       "193      False          True  \n",
       "434      False          True  \n",
       "639       True          True  \n",
       "689      False          True  \n",
       "...        ...           ...  \n",
       "1706781  False          True  \n",
       "1706856   True          True  \n",
       "1706889  False          True  \n",
       "1707030  False          True  \n",
       "1707052  False          True  \n",
       "\n",
       "[19750 rows x 9 columns]"
      ]
     },
     "execution_count": 19,
     "metadata": {},
     "output_type": "execute_result"
    }
   ],
   "source": [
    "reviews_df[reviews_df['not_a_review']]"
   ]
  },
  {
   "cell_type": "markdown",
   "id": "e401be06",
   "metadata": {},
   "source": [
    "Let's look at a few 'not_a_review' flagged entries"
   ]
  },
  {
   "cell_type": "code",
   "execution_count": 21,
   "id": "fdc69038",
   "metadata": {},
   "outputs": [
    {
     "data": {
      "text/plain": [
       "'A disturbing book, but one that I can recommend. '"
      ]
     },
     "execution_count": 21,
     "metadata": {},
     "output_type": "execute_result"
    }
   ],
   "source": [
    "reviews_df.loc[55].comment"
   ]
  },
  {
   "cell_type": "code",
   "execution_count": 22,
   "id": "474492eb",
   "metadata": {},
   "outputs": [
    {
     "data": {
      "text/plain": [
       "'USA, ca 1984.\\nHovedpersonen William Halleck krer en sigjnerkvinde over. Han kender politimesteren og dommeren og gr fri. Lige p nr en forbandelse: \"Tyndere\". Hvert kapitel starter med et tal for hans vgt og det gr kun nedad. Han har det ok med at tabe sig, men ikke i et konstant uafvendeligt tempo.\\nSigjneren forbander ogs dommeren og politimesteren.\\nSigjnernes forbandelser er p svensk, hvilket er ret morsomt. Side 240: \"Han satte sig pa en av stolarna! Han sneglade pa nytt mot hyllorna i vild! Vild!\" Halleck kender en barsk type, som truer sigjneren til at give Halleck en chance for at slippe for forbandelsen ved at give den videre.\\nMen det gr ogs galt og han ender med at tage en god portion af forbandelsen selv.\\nNydelig Stephen King roman hvor en helt almindelig person pludselig sidder i en skruestik '"
      ]
     },
     "execution_count": 22,
     "metadata": {},
     "output_type": "execute_result"
    }
   ],
   "source": [
    "reviews_df.loc[193].comment"
   ]
  },
  {
   "cell_type": "markdown",
   "id": "bb8b8e3d",
   "metadata": {},
   "source": [
    "'USA, circa 1984.\\nThe main character William Halleck seduces a wealthy woman. He knows the chief of police and the judge and goes free. Right after a curse: \"Thinner\". Each chapter starts with a number for his weight and it only goes down. He's okay with losing weight, but not at a constant irreversible pace.\\nThe signer also curses the judge and the police chief.\\nThe signer's curses are in Swedish, which is quite funny. Page 240: \"He sat down on one of the chairs! He slunk again towards the shelves wildly! Wildly!\" Halleck knows a rough guy who threatens the signer to give Halleck a chance to escape the curse by passing it on.\\nBut that also goes wrong and he ends up taking a good portion of the curse himself.\\nLovely Stephen King novel where a completely ordinary person suddenly sits in a vise '\n",
    "\n"
   ]
  },
  {
   "cell_type": "code",
   "execution_count": 23,
   "id": "6ec7233a",
   "metadata": {},
   "outputs": [
    {
     "data": {
      "text/plain": [
       "'I loved this book -- Corey Sifter is a likeable, believable character, and the story of the rise and fall of a local powerful family and a politician running for President was fascinating. Canin moves back and forth between the past and the present in a way that is never confusing, but rather gives credence to the central theme of the book: the we are often in the dark, even about those closest to us. '"
      ]
     },
     "execution_count": 23,
     "metadata": {},
     "output_type": "execute_result"
    }
   ],
   "source": [
    "reviews_df.loc[434].comment"
   ]
  },
  {
   "cell_type": "markdown",
   "id": "93a2285b",
   "metadata": {},
   "source": [
    "LibraryThings says the following about the flags system:\n",
    "\n",
    "`Important: Do not abuse this feature. \"Not a review\" is not intended for short reviews, poorly-written reviews or reviews you disagree with. Links to the reviewer's blog are also acceptable. \"Abuse of terms of service\" includes violations such as spam reviews and posting copyrighted material without permission. See the terms of service for more guidelines.`\n",
    "\n",
    "\n",
    "Users can flag reviews as \"Not a review\" or \"Abuse of terms of service\". What I have gathered from discussions on https://www.librarything.com/ngroups/2862/Flaggers%21 is that reviews where people do not provide anything meaningful about the book, and simple pass comments are likely to be flagged as \"Not a review\". But this isn't always the case, as people get wrongly flagged. The website uses an appeal/counter-flag system. Abuse includes copy-pasting reviews from other sources.\n",
    "\n",
    "Out of the three listed above, only the second one doesn't look like a review. Looking at a few more cases, the following are definitely not reviews."
   ]
  },
  {
   "cell_type": "code",
   "execution_count": 25,
   "id": "de787777",
   "metadata": {},
   "outputs": [
    {
     "data": {
      "text/plain": [
       "comment         http://en.wikipedia.org/wiki/The_Glenn_Miller_...\n",
       "nhelpful                                                        0\n",
       "unixtime                                             1282435200.0\n",
       "work                                                     11528316\n",
       "user                                                     wdjoyner\n",
       "stars                                                         4.0\n",
       "time                                                 Aug 22, 2010\n",
       "abuse                                                        True\n",
       "not_a_review                                                 True\n",
       "Name: 639, dtype: object"
      ]
     },
     "execution_count": 25,
     "metadata": {},
     "output_type": "execute_result"
    }
   ],
   "source": [
    "reviews_df.loc[639]"
   ]
  },
  {
   "cell_type": "code",
   "execution_count": 26,
   "id": "1d0a10e6",
   "metadata": {},
   "outputs": [
    {
     "data": {
      "text/plain": [
       "'http://en.wikipedia.org/wiki/The_Glenn_Miller_Story '"
      ]
     },
     "execution_count": 26,
     "metadata": {},
     "output_type": "execute_result"
    }
   ],
   "source": [
    "reviews_df.loc[639].comment"
   ]
  },
  {
   "cell_type": "code",
   "execution_count": 27,
   "id": "e528db19",
   "metadata": {},
   "outputs": [
    {
     "data": {
      "text/plain": [
       "'5Q 4P The \"quote\": Section III, the 6th double-page spread, where he is looking for food, and the food people show him seems so strange ... and he can\\'t find a loaf of bread. '"
      ]
     },
     "execution_count": 27,
     "metadata": {},
     "output_type": "execute_result"
    }
   ],
   "source": [
    "reviews_df.loc[1707052].comment"
   ]
  },
  {
   "cell_type": "markdown",
   "id": "5429f325",
   "metadata": {},
   "source": [
    "With these entries being only a little over 1%, we can drop them safely. It is true that we might lose some legit review in the process."
   ]
  },
  {
   "cell_type": "code",
   "execution_count": 28,
   "id": "9b5cc28b",
   "metadata": {},
   "outputs": [
    {
     "data": {
      "text/plain": [
       "0.014238082364603047"
      ]
     },
     "execution_count": 28,
     "metadata": {},
     "output_type": "execute_result"
    }
   ],
   "source": [
    "19750/reviews_df.shape[0]"
   ]
  },
  {
   "cell_type": "code",
   "execution_count": 29,
   "id": "9542afc5",
   "metadata": {},
   "outputs": [
    {
     "data": {
      "text/html": [
       "<div>\n",
       "<style scoped>\n",
       "    .dataframe tbody tr th:only-of-type {\n",
       "        vertical-align: middle;\n",
       "    }\n",
       "\n",
       "    .dataframe tbody tr th {\n",
       "        vertical-align: top;\n",
       "    }\n",
       "\n",
       "    .dataframe thead th {\n",
       "        text-align: right;\n",
       "    }\n",
       "</style>\n",
       "<table border=\"1\" class=\"dataframe\">\n",
       "  <thead>\n",
       "    <tr style=\"text-align: right;\">\n",
       "      <th></th>\n",
       "      <th>comment</th>\n",
       "      <th>nhelpful</th>\n",
       "      <th>unixtime</th>\n",
       "      <th>work</th>\n",
       "      <th>user</th>\n",
       "      <th>stars</th>\n",
       "      <th>time</th>\n",
       "      <th>abuse</th>\n",
       "      <th>not_a_review</th>\n",
       "    </tr>\n",
       "  </thead>\n",
       "  <tbody>\n",
       "    <tr>\n",
       "      <th>143</th>\n",
       "      <td>Children's Literature - Lois Rubin Gross \\nAn ...</td>\n",
       "      <td>0</td>\n",
       "      <td>1.316045e+09</td>\n",
       "      <td>8176470</td>\n",
       "      <td>EBurggraf</td>\n",
       "      <td>4.0</td>\n",
       "      <td>Sep 15, 2011</td>\n",
       "      <td>True</td>\n",
       "      <td>False</td>\n",
       "    </tr>\n",
       "    <tr>\n",
       "      <th>633</th>\n",
       "      <td>Reviewed by Marta Morrison for TeensReadToo.co...</td>\n",
       "      <td>0</td>\n",
       "      <td>1.302394e+09</td>\n",
       "      <td>10886889</td>\n",
       "      <td>GeniusJen</td>\n",
       "      <td>5.0</td>\n",
       "      <td>Apr 10, 2011</td>\n",
       "      <td>True</td>\n",
       "      <td>False</td>\n",
       "    </tr>\n",
       "    <tr>\n",
       "      <th>639</th>\n",
       "      <td>http://en.wikipedia.org/wiki/The_Glenn_Miller_...</td>\n",
       "      <td>0</td>\n",
       "      <td>1.282435e+09</td>\n",
       "      <td>11528316</td>\n",
       "      <td>wdjoyner</td>\n",
       "      <td>4.0</td>\n",
       "      <td>Aug 22, 2010</td>\n",
       "      <td>True</td>\n",
       "      <td>True</td>\n",
       "    </tr>\n",
       "    <tr>\n",
       "      <th>1132</th>\n",
       "      <td>The only up-to-date anthology of traditional A...</td>\n",
       "      <td>0</td>\n",
       "      <td>1.196381e+09</td>\n",
       "      <td>3340171</td>\n",
       "      <td>butterfly3</td>\n",
       "      <td>4.0</td>\n",
       "      <td>Nov 30, 2007</td>\n",
       "      <td>True</td>\n",
       "      <td>False</td>\n",
       "    </tr>\n",
       "    <tr>\n",
       "      <th>1147</th>\n",
       "      <td>I decided to read this book, because the topic...</td>\n",
       "      <td>0</td>\n",
       "      <td>1.307664e+09</td>\n",
       "      <td>7997468</td>\n",
       "      <td>Princetonbookreview</td>\n",
       "      <td>4.0</td>\n",
       "      <td>Jun 10, 2011</td>\n",
       "      <td>True</td>\n",
       "      <td>False</td>\n",
       "    </tr>\n",
       "    <tr>\n",
       "      <th>...</th>\n",
       "      <td>...</td>\n",
       "      <td>...</td>\n",
       "      <td>...</td>\n",
       "      <td>...</td>\n",
       "      <td>...</td>\n",
       "      <td>...</td>\n",
       "      <td>...</td>\n",
       "      <td>...</td>\n",
       "      <td>...</td>\n",
       "    </tr>\n",
       "    <tr>\n",
       "      <th>1703962</th>\n",
       "      <td>Reviewer:\\tG. Merritt (Boulder, CO) - See all ...</td>\n",
       "      <td>0</td>\n",
       "      <td>1.138752e+09</td>\n",
       "      <td>32389</td>\n",
       "      <td>gnewfry</td>\n",
       "      <td>5.0</td>\n",
       "      <td>Feb 1, 2006</td>\n",
       "      <td>True</td>\n",
       "      <td>False</td>\n",
       "    </tr>\n",
       "    <tr>\n",
       "      <th>1704292</th>\n",
       "      <td>Reviewed by Jaglvr for TeensReadToo.com\\n1989 ...</td>\n",
       "      <td>0</td>\n",
       "      <td>1.292026e+09</td>\n",
       "      <td>9900705</td>\n",
       "      <td>GeniusJen</td>\n",
       "      <td>5.0</td>\n",
       "      <td>Dec 11, 2010</td>\n",
       "      <td>True</td>\n",
       "      <td>False</td>\n",
       "    </tr>\n",
       "    <tr>\n",
       "      <th>1704347</th>\n",
       "      <td>Wikipedia: The Rise and Fall of the Third Reic...</td>\n",
       "      <td>0</td>\n",
       "      <td>1.159402e+09</td>\n",
       "      <td>3038</td>\n",
       "      <td>billyfantles</td>\n",
       "      <td>5.0</td>\n",
       "      <td>Sep 28, 2006</td>\n",
       "      <td>True</td>\n",
       "      <td>True</td>\n",
       "    </tr>\n",
       "    <tr>\n",
       "      <th>1704374</th>\n",
       "      <td>Reviewed by Carrie Spellman for TeensReadToo.c...</td>\n",
       "      <td>0</td>\n",
       "      <td>1.255392e+09</td>\n",
       "      <td>3576179</td>\n",
       "      <td>GeniusJen</td>\n",
       "      <td>5.0</td>\n",
       "      <td>Oct 13, 2009</td>\n",
       "      <td>True</td>\n",
       "      <td>False</td>\n",
       "    </tr>\n",
       "    <tr>\n",
       "      <th>1706856</th>\n",
       "      <td>I included this book in my book: The 100 Best ...</td>\n",
       "      <td>0</td>\n",
       "      <td>1.241741e+09</td>\n",
       "      <td>7605</td>\n",
       "      <td>toddsattersten</td>\n",
       "      <td>5.0</td>\n",
       "      <td>May 8, 2009</td>\n",
       "      <td>True</td>\n",
       "      <td>True</td>\n",
       "    </tr>\n",
       "  </tbody>\n",
       "</table>\n",
       "<p>5474 rows × 9 columns</p>\n",
       "</div>"
      ],
      "text/plain": [
       "                                                   comment  nhelpful  \\\n",
       "143      Children's Literature - Lois Rubin Gross \\nAn ...         0   \n",
       "633      Reviewed by Marta Morrison for TeensReadToo.co...         0   \n",
       "639      http://en.wikipedia.org/wiki/The_Glenn_Miller_...         0   \n",
       "1132     The only up-to-date anthology of traditional A...         0   \n",
       "1147     I decided to read this book, because the topic...         0   \n",
       "...                                                    ...       ...   \n",
       "1703962  Reviewer:\\tG. Merritt (Boulder, CO) - See all ...         0   \n",
       "1704292  Reviewed by Jaglvr for TeensReadToo.com\\n1989 ...         0   \n",
       "1704347  Wikipedia: The Rise and Fall of the Third Reic...         0   \n",
       "1704374  Reviewed by Carrie Spellman for TeensReadToo.c...         0   \n",
       "1706856  I included this book in my book: The 100 Best ...         0   \n",
       "\n",
       "             unixtime      work                 user  stars          time  \\\n",
       "143      1.316045e+09   8176470            EBurggraf    4.0  Sep 15, 2011   \n",
       "633      1.302394e+09  10886889            GeniusJen    5.0  Apr 10, 2011   \n",
       "639      1.282435e+09  11528316             wdjoyner    4.0  Aug 22, 2010   \n",
       "1132     1.196381e+09   3340171           butterfly3    4.0  Nov 30, 2007   \n",
       "1147     1.307664e+09   7997468  Princetonbookreview    4.0  Jun 10, 2011   \n",
       "...               ...       ...                  ...    ...           ...   \n",
       "1703962  1.138752e+09     32389              gnewfry    5.0   Feb 1, 2006   \n",
       "1704292  1.292026e+09   9900705            GeniusJen    5.0  Dec 11, 2010   \n",
       "1704347  1.159402e+09      3038         billyfantles    5.0  Sep 28, 2006   \n",
       "1704374  1.255392e+09   3576179            GeniusJen    5.0  Oct 13, 2009   \n",
       "1706856  1.241741e+09      7605       toddsattersten    5.0   May 8, 2009   \n",
       "\n",
       "         abuse  not_a_review  \n",
       "143       True         False  \n",
       "633       True         False  \n",
       "639       True          True  \n",
       "1132      True         False  \n",
       "1147      True         False  \n",
       "...        ...           ...  \n",
       "1703962   True         False  \n",
       "1704292   True         False  \n",
       "1704347   True          True  \n",
       "1704374   True         False  \n",
       "1706856   True          True  \n",
       "\n",
       "[5474 rows x 9 columns]"
      ]
     },
     "execution_count": 29,
     "metadata": {},
     "output_type": "execute_result"
    }
   ],
   "source": [
    "reviews_df[reviews_df['abuse']]"
   ]
  },
  {
   "cell_type": "code",
   "execution_count": 17,
   "id": "ed3f408e",
   "metadata": {},
   "outputs": [
    {
     "data": {
      "text/plain": [
       "'I decided to read this book, because the topic is unusual and I was intrigued by the Renaissance era. The backdrop for this book is a convent in the late 1500s. This is excellent well-researched Historical Fiction with great insight into convent life during this time period. Its fascinating and disturbing to realize that at one time women were forced into the convent because their families had only enough money for one dowry or they were disfigured or simply not pretty enough. In this story, Serafina enters the convent against her will because she refuses to marry the man he father chooses for her. Shes young, rebellious and determined to escape, which adds a layer of mystery to the story as you wonder if she will succeed. On a deeper level this book explores the hierarchy of female leadership in a closed all female society.\\nReview previously posted at: www.princetonbookreview.com\\nFind us on Face book http://www.facebook.com/#%21/pages/Princeton-Book-Review/73532562757 '"
      ]
     },
     "execution_count": 17,
     "metadata": {},
     "output_type": "execute_result"
    }
   ],
   "source": [
    "reviews_df.loc[1147].comment"
   ]
  },
  {
   "cell_type": "markdown",
   "id": "6a49d22c",
   "metadata": {},
   "source": [
    "The above review abuses the TOS of LibraryThings. While the review provides us the details about the book, it doesn't convey the user's thoughts."
   ]
  },
  {
   "cell_type": "code",
   "execution_count": 22,
   "id": "4c8a4f15",
   "metadata": {},
   "outputs": [],
   "source": [
    "new_review_df = reviews_df[reviews_df['not_a_review'] == False]"
   ]
  },
  {
   "cell_type": "code",
   "execution_count": 24,
   "id": "b4373e45",
   "metadata": {},
   "outputs": [],
   "source": [
    "new_review_df = new_review_df[new_review_df['abuse'] == False]"
   ]
  },
  {
   "cell_type": "code",
   "execution_count": 26,
   "id": "b3529827",
   "metadata": {},
   "outputs": [
    {
     "data": {
      "text/html": [
       "<div>\n",
       "<style scoped>\n",
       "    .dataframe tbody tr th:only-of-type {\n",
       "        vertical-align: middle;\n",
       "    }\n",
       "\n",
       "    .dataframe tbody tr th {\n",
       "        vertical-align: top;\n",
       "    }\n",
       "\n",
       "    .dataframe thead th {\n",
       "        text-align: right;\n",
       "    }\n",
       "</style>\n",
       "<table border=\"1\" class=\"dataframe\">\n",
       "  <thead>\n",
       "    <tr style=\"text-align: right;\">\n",
       "      <th></th>\n",
       "      <th>comment</th>\n",
       "      <th>nhelpful</th>\n",
       "      <th>unixtime</th>\n",
       "      <th>work</th>\n",
       "      <th>user</th>\n",
       "      <th>stars</th>\n",
       "      <th>time</th>\n",
       "      <th>abuse</th>\n",
       "      <th>not_a_review</th>\n",
       "    </tr>\n",
       "  </thead>\n",
       "  <tbody>\n",
       "  </tbody>\n",
       "</table>\n",
       "</div>"
      ],
      "text/plain": [
       "Empty DataFrame\n",
       "Columns: [comment, nhelpful, unixtime, work, user, stars, time, abuse, not_a_review]\n",
       "Index: []"
      ]
     },
     "execution_count": 26,
     "metadata": {},
     "output_type": "execute_result"
    }
   ],
   "source": [
    "new_review_df[new_review_df['abuse']]"
   ]
  },
  {
   "cell_type": "code",
   "execution_count": 27,
   "id": "3d2004a0",
   "metadata": {},
   "outputs": [
    {
     "data": {
      "text/html": [
       "<div>\n",
       "<style scoped>\n",
       "    .dataframe tbody tr th:only-of-type {\n",
       "        vertical-align: middle;\n",
       "    }\n",
       "\n",
       "    .dataframe tbody tr th {\n",
       "        vertical-align: top;\n",
       "    }\n",
       "\n",
       "    .dataframe thead th {\n",
       "        text-align: right;\n",
       "    }\n",
       "</style>\n",
       "<table border=\"1\" class=\"dataframe\">\n",
       "  <thead>\n",
       "    <tr style=\"text-align: right;\">\n",
       "      <th></th>\n",
       "      <th>comment</th>\n",
       "      <th>nhelpful</th>\n",
       "      <th>unixtime</th>\n",
       "      <th>work</th>\n",
       "      <th>user</th>\n",
       "      <th>stars</th>\n",
       "      <th>time</th>\n",
       "      <th>abuse</th>\n",
       "      <th>not_a_review</th>\n",
       "    </tr>\n",
       "  </thead>\n",
       "  <tbody>\n",
       "  </tbody>\n",
       "</table>\n",
       "</div>"
      ],
      "text/plain": [
       "Empty DataFrame\n",
       "Columns: [comment, nhelpful, unixtime, work, user, stars, time, abuse, not_a_review]\n",
       "Index: []"
      ]
     },
     "execution_count": 27,
     "metadata": {},
     "output_type": "execute_result"
    }
   ],
   "source": [
    "new_review_df[new_review_df['not_a_review']]"
   ]
  },
  {
   "cell_type": "markdown",
   "id": "558cb067",
   "metadata": {},
   "source": [
    "### 2.1 Duplicate samples"
   ]
  },
  {
   "cell_type": "code",
   "execution_count": 31,
   "id": "d5590db7",
   "metadata": {},
   "outputs": [
    {
     "data": {
      "text/html": [
       "<div>\n",
       "<style scoped>\n",
       "    .dataframe tbody tr th:only-of-type {\n",
       "        vertical-align: middle;\n",
       "    }\n",
       "\n",
       "    .dataframe tbody tr th {\n",
       "        vertical-align: top;\n",
       "    }\n",
       "\n",
       "    .dataframe thead th {\n",
       "        text-align: right;\n",
       "    }\n",
       "</style>\n",
       "<table border=\"1\" class=\"dataframe\">\n",
       "  <thead>\n",
       "    <tr style=\"text-align: right;\">\n",
       "      <th></th>\n",
       "      <th>comment</th>\n",
       "      <th>nhelpful</th>\n",
       "      <th>unixtime</th>\n",
       "      <th>work</th>\n",
       "      <th>user</th>\n",
       "      <th>stars</th>\n",
       "      <th>time</th>\n",
       "      <th>abuse</th>\n",
       "      <th>not_a_review</th>\n",
       "    </tr>\n",
       "  </thead>\n",
       "  <tbody>\n",
       "  </tbody>\n",
       "</table>\n",
       "</div>"
      ],
      "text/plain": [
       "Empty DataFrame\n",
       "Columns: [comment, nhelpful, unixtime, work, user, stars, time, abuse, not_a_review]\n",
       "Index: []"
      ]
     },
     "execution_count": 31,
     "metadata": {},
     "output_type": "execute_result"
    }
   ],
   "source": [
    "new_review_df[new_review_df.duplicated()]"
   ]
  },
  {
   "cell_type": "markdown",
   "id": "3a2bf24d",
   "metadata": {},
   "source": [
    "It seems that there are no duplictes."
   ]
  },
  {
   "cell_type": "markdown",
   "id": "ccc12f19",
   "metadata": {},
   "source": [
    "### 2.3 stars\n",
    "We see that all ratings are between 0 and 5, with increments of 0.5."
   ]
  },
  {
   "cell_type": "code",
   "execution_count": 32,
   "id": "0c1d3e3e",
   "metadata": {},
   "outputs": [
    {
     "data": {
      "text/plain": [
       "array([4.5, 3. , 4. , 2. , 3.5, 5. , 1. , 2.5, 0.5, 1.5])"
      ]
     },
     "execution_count": 32,
     "metadata": {},
     "output_type": "execute_result"
    }
   ],
   "source": [
    "new_review_df['stars'].unique()"
   ]
  },
  {
   "cell_type": "markdown",
   "id": "1401a666",
   "metadata": {},
   "source": [
    "### 2.4 nhelpful"
   ]
  },
  {
   "cell_type": "code",
   "execution_count": 33,
   "id": "3c637388",
   "metadata": {},
   "outputs": [
    {
     "data": {
      "text/plain": [
       "array([  0,   6,   2,   1,   5,   7,   3,   4,  16,  22,  12,  18,  11,\n",
       "        21,  13,  10,   9,   8,  47,  20,  30,  33,  15,  19,  28,  37,\n",
       "        31,  23,  14,  26,  17,  36,  25,  72,  52,  27,  34,  58,  48,\n",
       "        24,  63,  79,  32,  38, 129,  75,  29,  46, 332, 108,  40,  87,\n",
       "        39,  68, 189,  59, 152, 100,  66,  44,  82,  41,  78,  45,  60,\n",
       "        43, 316,  49,  76,  70,  77,  55,  67,  74])"
      ]
     },
     "execution_count": 33,
     "metadata": {},
     "output_type": "execute_result"
    }
   ],
   "source": [
    "new_review_df['nhelpful'].unique()"
   ]
  },
  {
   "cell_type": "code",
   "execution_count": 37,
   "id": "9a52da77",
   "metadata": {},
   "outputs": [
    {
     "data": {
      "text/plain": [
       "0     1200302\n",
       "1      116734\n",
       "2       25950\n",
       "3        9046\n",
       "4        3947\n",
       "       ...   \n",
       "63          1\n",
       "52          1\n",
       "72          1\n",
       "47          1\n",
       "74          1\n",
       "Name: nhelpful, Length: 74, dtype: int64"
      ]
     },
     "execution_count": 37,
     "metadata": {},
     "output_type": "execute_result"
    }
   ],
   "source": [
    "new_review_df['nhelpful'].value_counts()"
   ]
  },
  {
   "cell_type": "code",
   "execution_count": 40,
   "id": "0a8af7a3",
   "metadata": {},
   "outputs": [
    {
     "data": {
      "text/plain": [
       "pandas.core.series.Series"
      ]
     },
     "execution_count": 40,
     "metadata": {},
     "output_type": "execute_result"
    }
   ],
   "source": [
    "type(new_review_df['nhelpful'].value_counts())"
   ]
  },
  {
   "cell_type": "code",
   "execution_count": 41,
   "id": "aed7c785",
   "metadata": {},
   "outputs": [],
   "source": [
    "from matplotlib import pyplot as plt "
   ]
  },
  {
   "cell_type": "code",
   "execution_count": 44,
   "id": "45ce95eb",
   "metadata": {},
   "outputs": [
    {
     "data": {
      "text/plain": [
       "<Axes: >"
      ]
     },
     "execution_count": 44,
     "metadata": {},
     "output_type": "execute_result"
    },
    {
     "data": {
      "image/png": "[encoded data removed]",
      "text/plain": [
       "<Figure size 640x480 with 1 Axes>"
      ]
     },
     "metadata": {},
     "output_type": "display_data"
    }
   ],
   "source": [
    "new_review_df['nhelpful'].value_counts().plot(kind='bar')"
   ]
  },
  {
   "cell_type": "markdown",
   "id": "6db6358b",
   "metadata": {},
   "source": [
    "This is expected as most books are not a popular. People may therefore never read the reviews for these books and hence never find the reviews helpful."
   ]
  },
  {
   "cell_type": "markdown",
   "id": "2165db3b",
   "metadata": {},
   "source": [
    "### 2.5 comment\n",
    "\n",
    "We see that there are a few comments with URLs. We need to clean these to ensure proper embeddings."
   ]
  },
  {
   "cell_type": "code",
   "execution_count": 34,
   "id": "a3f465e7",
   "metadata": {},
   "outputs": [
    {
     "data": {
      "text/html": [
       "<div>\n",
       "<style scoped>\n",
       "    .dataframe tbody tr th:only-of-type {\n",
       "        vertical-align: middle;\n",
       "    }\n",
       "\n",
       "    .dataframe tbody tr th {\n",
       "        vertical-align: top;\n",
       "    }\n",
       "\n",
       "    .dataframe thead th {\n",
       "        text-align: right;\n",
       "    }\n",
       "</style>\n",
       "<table border=\"1\" class=\"dataframe\">\n",
       "  <thead>\n",
       "    <tr style=\"text-align: right;\">\n",
       "      <th></th>\n",
       "      <th>comment</th>\n",
       "      <th>nhelpful</th>\n",
       "      <th>unixtime</th>\n",
       "      <th>work</th>\n",
       "      <th>user</th>\n",
       "      <th>stars</th>\n",
       "      <th>time</th>\n",
       "      <th>abuse</th>\n",
       "      <th>not_a_review</th>\n",
       "    </tr>\n",
       "  </thead>\n",
       "  <tbody>\n",
       "    <tr>\n",
       "      <th>11</th>\n",
       "      <td>Monitor life.\\nhttp://freesf.strandedinoz.com/...</td>\n",
       "      <td>0</td>\n",
       "      <td>1.309910e+09</td>\n",
       "      <td>11162023</td>\n",
       "      <td>BlueTysonSS</td>\n",
       "      <td>3.5</td>\n",
       "      <td>Jul 6, 2011</td>\n",
       "      <td>False</td>\n",
       "      <td>False</td>\n",
       "    </tr>\n",
       "    <tr>\n",
       "      <th>12</th>\n",
       "      <td>You enter the moment of the naked lunch when y...</td>\n",
       "      <td>6</td>\n",
       "      <td>1.286150e+09</td>\n",
       "      <td>5852</td>\n",
       "      <td>funkendub</td>\n",
       "      <td>5.0</td>\n",
       "      <td>Oct 4, 2010</td>\n",
       "      <td>False</td>\n",
       "      <td>False</td>\n",
       "    </tr>\n",
       "    <tr>\n",
       "      <th>14</th>\n",
       "      <td>In these days of Echelon, Satellite spying, an...</td>\n",
       "      <td>1</td>\n",
       "      <td>1.169856e+09</td>\n",
       "      <td>1472</td>\n",
       "      <td>bluetyson</td>\n",
       "      <td>5.0</td>\n",
       "      <td>Jan 27, 2007</td>\n",
       "      <td>False</td>\n",
       "      <td>False</td>\n",
       "    </tr>\n",
       "    <tr>\n",
       "      <th>29</th>\n",
       "      <td>C'est pour moi une premire exprience avec l'au...</td>\n",
       "      <td>0</td>\n",
       "      <td>1.365034e+09</td>\n",
       "      <td>8311485</td>\n",
       "      <td>Moncoinlecture</td>\n",
       "      <td>3.0</td>\n",
       "      <td>Apr 4, 2013</td>\n",
       "      <td>False</td>\n",
       "      <td>False</td>\n",
       "    </tr>\n",
       "    <tr>\n",
       "      <th>61</th>\n",
       "      <td>Review posted here: http://offbeatvagabond.blo...</td>\n",
       "      <td>1</td>\n",
       "      <td>1.336090e+09</td>\n",
       "      <td>11357432</td>\n",
       "      <td>harleyquinn0887</td>\n",
       "      <td>5.0</td>\n",
       "      <td>May 4, 2012</td>\n",
       "      <td>False</td>\n",
       "      <td>False</td>\n",
       "    </tr>\n",
       "    <tr>\n",
       "      <th>...</th>\n",
       "      <td>...</td>\n",
       "      <td>...</td>\n",
       "      <td>...</td>\n",
       "      <td>...</td>\n",
       "      <td>...</td>\n",
       "      <td>...</td>\n",
       "      <td>...</td>\n",
       "      <td>...</td>\n",
       "      <td>...</td>\n",
       "    </tr>\n",
       "    <tr>\n",
       "      <th>1706975</th>\n",
       "      <td>http://boekenwijs.blogspot.com/2008/05/heart-o...</td>\n",
       "      <td>0</td>\n",
       "      <td>1.210464e+09</td>\n",
       "      <td>2575</td>\n",
       "      <td>boekenwijs</td>\n",
       "      <td>2.0</td>\n",
       "      <td>May 11, 2008</td>\n",
       "      <td>False</td>\n",
       "      <td>False</td>\n",
       "    </tr>\n",
       "    <tr>\n",
       "      <th>1706999</th>\n",
       "      <td>http://nwhyte.livejournal.com/1700514.html\\nHe...</td>\n",
       "      <td>0</td>\n",
       "      <td>1.302307e+09</td>\n",
       "      <td>1411914</td>\n",
       "      <td>nwhyte</td>\n",
       "      <td>3.5</td>\n",
       "      <td>Apr 9, 2011</td>\n",
       "      <td>False</td>\n",
       "      <td>False</td>\n",
       "    </tr>\n",
       "    <tr>\n",
       "      <th>1707039</th>\n",
       "      <td>http://library.tom-hanna.org/2007/margaret-lob...</td>\n",
       "      <td>0</td>\n",
       "      <td>1.189037e+09</td>\n",
       "      <td>35552</td>\n",
       "      <td>tomhanna</td>\n",
       "      <td>4.0</td>\n",
       "      <td>Sep 6, 2007</td>\n",
       "      <td>False</td>\n",
       "      <td>False</td>\n",
       "    </tr>\n",
       "    <tr>\n",
       "      <th>1707063</th>\n",
       "      <td>http://olvasonaplo.freeblog.hu/archives/2007/0...</td>\n",
       "      <td>0</td>\n",
       "      <td>1.209082e+09</td>\n",
       "      <td>76280</td>\n",
       "      <td>sorsha</td>\n",
       "      <td>3.0</td>\n",
       "      <td>Apr 25, 2008</td>\n",
       "      <td>False</td>\n",
       "      <td>False</td>\n",
       "    </tr>\n",
       "    <tr>\n",
       "      <th>1707067</th>\n",
       "      <td>http://tamaranth.blogspot.com/1994/03/guilty-p...</td>\n",
       "      <td>0</td>\n",
       "      <td>1.176682e+09</td>\n",
       "      <td>4873693</td>\n",
       "      <td>tamaranth</td>\n",
       "      <td>4.5</td>\n",
       "      <td>Apr 16, 2007</td>\n",
       "      <td>False</td>\n",
       "      <td>False</td>\n",
       "    </tr>\n",
       "  </tbody>\n",
       "</table>\n",
       "<p>83321 rows × 9 columns</p>\n",
       "</div>"
      ],
      "text/plain": [
       "                                                   comment  nhelpful  \\\n",
       "11       Monitor life.\\nhttp://freesf.strandedinoz.com/...         0   \n",
       "12       You enter the moment of the naked lunch when y...         6   \n",
       "14       In these days of Echelon, Satellite spying, an...         1   \n",
       "29       C'est pour moi une premire exprience avec l'au...         0   \n",
       "61       Review posted here: http://offbeatvagabond.blo...         1   \n",
       "...                                                    ...       ...   \n",
       "1706975  http://boekenwijs.blogspot.com/2008/05/heart-o...         0   \n",
       "1706999  http://nwhyte.livejournal.com/1700514.html\\nHe...         0   \n",
       "1707039  http://library.tom-hanna.org/2007/margaret-lob...         0   \n",
       "1707063  http://olvasonaplo.freeblog.hu/archives/2007/0...         0   \n",
       "1707067  http://tamaranth.blogspot.com/1994/03/guilty-p...         0   \n",
       "\n",
       "             unixtime      work             user  stars          time  abuse  \\\n",
       "11       1.309910e+09  11162023      BlueTysonSS    3.5   Jul 6, 2011  False   \n",
       "12       1.286150e+09      5852        funkendub    5.0   Oct 4, 2010  False   \n",
       "14       1.169856e+09      1472        bluetyson    5.0  Jan 27, 2007  False   \n",
       "29       1.365034e+09   8311485   Moncoinlecture    3.0   Apr 4, 2013  False   \n",
       "61       1.336090e+09  11357432  harleyquinn0887    5.0   May 4, 2012  False   \n",
       "...               ...       ...              ...    ...           ...    ...   \n",
       "1706975  1.210464e+09      2575       boekenwijs    2.0  May 11, 2008  False   \n",
       "1706999  1.302307e+09   1411914           nwhyte    3.5   Apr 9, 2011  False   \n",
       "1707039  1.189037e+09     35552         tomhanna    4.0   Sep 6, 2007  False   \n",
       "1707063  1.209082e+09     76280           sorsha    3.0  Apr 25, 2008  False   \n",
       "1707067  1.176682e+09   4873693        tamaranth    4.5  Apr 16, 2007  False   \n",
       "\n",
       "         not_a_review  \n",
       "11              False  \n",
       "12              False  \n",
       "14              False  \n",
       "29              False  \n",
       "61              False  \n",
       "...               ...  \n",
       "1706975         False  \n",
       "1706999         False  \n",
       "1707039         False  \n",
       "1707063         False  \n",
       "1707067         False  \n",
       "\n",
       "[83321 rows x 9 columns]"
      ]
     },
     "execution_count": 34,
     "metadata": {},
     "output_type": "execute_result"
    }
   ],
   "source": [
    "new_review_df[new_review_df['comment'].str.contains('http|www')]"
   ]
  },
  {
   "cell_type": "code",
   "execution_count": 45,
   "id": "2750cadc",
   "metadata": {},
   "outputs": [
    {
     "data": {
      "text/plain": [
       "0.06111221129374143"
      ]
     },
     "execution_count": 45,
     "metadata": {},
     "output_type": "execute_result"
    }
   ],
   "source": [
    "# Percentage reviews with containing 'http' or 'www'\n",
    "\n",
    "83321/new_review_df.shape[0]"
   ]
  },
  {
   "cell_type": "code",
   "execution_count": 58,
   "id": "ef9b9ddb",
   "metadata": {},
   "outputs": [
    {
     "data": {
      "text/html": [
       "<div>\n",
       "<style scoped>\n",
       "    .dataframe tbody tr th:only-of-type {\n",
       "        vertical-align: middle;\n",
       "    }\n",
       "\n",
       "    .dataframe tbody tr th {\n",
       "        vertical-align: top;\n",
       "    }\n",
       "\n",
       "    .dataframe thead th {\n",
       "        text-align: right;\n",
       "    }\n",
       "</style>\n",
       "<table border=\"1\" class=\"dataframe\">\n",
       "  <thead>\n",
       "    <tr style=\"text-align: right;\">\n",
       "      <th></th>\n",
       "      <th>comment</th>\n",
       "      <th>nhelpful</th>\n",
       "      <th>unixtime</th>\n",
       "      <th>work</th>\n",
       "      <th>user</th>\n",
       "      <th>stars</th>\n",
       "      <th>time</th>\n",
       "      <th>abuse</th>\n",
       "      <th>not_a_review</th>\n",
       "    </tr>\n",
       "  </thead>\n",
       "  <tbody>\n",
       "    <tr>\n",
       "      <th>12</th>\n",
       "      <td>You enter the moment of the naked lunch when y...</td>\n",
       "      <td>6</td>\n",
       "      <td>1.286150e+09</td>\n",
       "      <td>5852</td>\n",
       "      <td>funkendub</td>\n",
       "      <td>5.0</td>\n",
       "      <td>Oct 4, 2010</td>\n",
       "      <td>False</td>\n",
       "      <td>False</td>\n",
       "    </tr>\n",
       "    <tr>\n",
       "      <th>162</th>\n",
       "      <td>It's a real shame for Monica Pradhan that AMy ...</td>\n",
       "      <td>0</td>\n",
       "      <td>1.321488e+09</td>\n",
       "      <td>2411376</td>\n",
       "      <td>bookczuk</td>\n",
       "      <td>3.0</td>\n",
       "      <td>Nov 17, 2011</td>\n",
       "      <td>False</td>\n",
       "      <td>False</td>\n",
       "    </tr>\n",
       "    <tr>\n",
       "      <th>451</th>\n",
       "      <td>What is it like... to be considered: \"Genius?\"...</td>\n",
       "      <td>0</td>\n",
       "      <td>1.224634e+09</td>\n",
       "      <td>5787763</td>\n",
       "      <td>ANovelMenagerie</td>\n",
       "      <td>4.0</td>\n",
       "      <td>Oct 22, 2008</td>\n",
       "      <td>False</td>\n",
       "      <td>False</td>\n",
       "    </tr>\n",
       "    <tr>\n",
       "      <th>1084</th>\n",
       "      <td>I received this book through www.librarything....</td>\n",
       "      <td>0</td>\n",
       "      <td>1.323216e+09</td>\n",
       "      <td>11357953</td>\n",
       "      <td>apsing01</td>\n",
       "      <td>4.0</td>\n",
       "      <td>Dec 7, 2011</td>\n",
       "      <td>False</td>\n",
       "      <td>False</td>\n",
       "    </tr>\n",
       "    <tr>\n",
       "      <th>3025</th>\n",
       "      <td>Richard Powers is a master of sleight-of-hand....</td>\n",
       "      <td>0</td>\n",
       "      <td>1.286150e+09</td>\n",
       "      <td>8274047</td>\n",
       "      <td>funkendub</td>\n",
       "      <td>5.0</td>\n",
       "      <td>Oct 4, 2010</td>\n",
       "      <td>False</td>\n",
       "      <td>False</td>\n",
       "    </tr>\n",
       "    <tr>\n",
       "      <th>...</th>\n",
       "      <td>...</td>\n",
       "      <td>...</td>\n",
       "      <td>...</td>\n",
       "      <td>...</td>\n",
       "      <td>...</td>\n",
       "      <td>...</td>\n",
       "      <td>...</td>\n",
       "      <td>...</td>\n",
       "      <td>...</td>\n",
       "    </tr>\n",
       "    <tr>\n",
       "      <th>1703742</th>\n",
       "      <td>Nel silenzio della campagna pugliese, in un'es...</td>\n",
       "      <td>1</td>\n",
       "      <td>1.179619e+09</td>\n",
       "      <td>5950304</td>\n",
       "      <td>Streghissima</td>\n",
       "      <td>5.0</td>\n",
       "      <td>May 20, 2007</td>\n",
       "      <td>False</td>\n",
       "      <td>False</td>\n",
       "    </tr>\n",
       "    <tr>\n",
       "      <th>1704179</th>\n",
       "      <td>I bought this from Amazon at random, as I have...</td>\n",
       "      <td>0</td>\n",
       "      <td>1.360368e+09</td>\n",
       "      <td>11160219</td>\n",
       "      <td>nina.jon</td>\n",
       "      <td>4.0</td>\n",
       "      <td>Feb 9, 2013</td>\n",
       "      <td>False</td>\n",
       "      <td>False</td>\n",
       "    </tr>\n",
       "    <tr>\n",
       "      <th>1705436</th>\n",
       "      <td>In current day India, the police have called i...</td>\n",
       "      <td>0</td>\n",
       "      <td>1.301616e+09</td>\n",
       "      <td>9819803</td>\n",
       "      <td>Nickelini</td>\n",
       "      <td>4.0</td>\n",
       "      <td>Apr 1, 2011</td>\n",
       "      <td>False</td>\n",
       "      <td>False</td>\n",
       "    </tr>\n",
       "    <tr>\n",
       "      <th>1705511</th>\n",
       "      <td>From the writers of the website www.gofugyours...</td>\n",
       "      <td>0</td>\n",
       "      <td>1.364688e+09</td>\n",
       "      <td>4792292</td>\n",
       "      <td>JenJ.</td>\n",
       "      <td>4.0</td>\n",
       "      <td>Mar 31, 2013</td>\n",
       "      <td>False</td>\n",
       "      <td>False</td>\n",
       "    </tr>\n",
       "    <tr>\n",
       "      <th>1706656</th>\n",
       "      <td>Heading into adolescence is never an easy time...</td>\n",
       "      <td>0</td>\n",
       "      <td>1.373760e+09</td>\n",
       "      <td>11807852</td>\n",
       "      <td>BaileysAndBooks</td>\n",
       "      <td>4.5</td>\n",
       "      <td>Jul 14, 2013</td>\n",
       "      <td>False</td>\n",
       "      <td>False</td>\n",
       "    </tr>\n",
       "  </tbody>\n",
       "</table>\n",
       "<p>2352 rows × 9 columns</p>\n",
       "</div>"
      ],
      "text/plain": [
       "                                                   comment  nhelpful  \\\n",
       "12       You enter the moment of the naked lunch when y...         6   \n",
       "162      It's a real shame for Monica Pradhan that AMy ...         0   \n",
       "451      What is it like... to be considered: \"Genius?\"...         0   \n",
       "1084     I received this book through www.librarything....         0   \n",
       "3025     Richard Powers is a master of sleight-of-hand....         0   \n",
       "...                                                    ...       ...   \n",
       "1703742  Nel silenzio della campagna pugliese, in un'es...         1   \n",
       "1704179  I bought this from Amazon at random, as I have...         0   \n",
       "1705436  In current day India, the police have called i...         0   \n",
       "1705511  From the writers of the website www.gofugyours...         0   \n",
       "1706656  Heading into adolescence is never an easy time...         0   \n",
       "\n",
       "             unixtime      work             user  stars          time  abuse  \\\n",
       "12       1.286150e+09      5852        funkendub    5.0   Oct 4, 2010  False   \n",
       "162      1.321488e+09   2411376         bookczuk    3.0  Nov 17, 2011  False   \n",
       "451      1.224634e+09   5787763  ANovelMenagerie    4.0  Oct 22, 2008  False   \n",
       "1084     1.323216e+09  11357953         apsing01    4.0   Dec 7, 2011  False   \n",
       "3025     1.286150e+09   8274047        funkendub    5.0   Oct 4, 2010  False   \n",
       "...               ...       ...              ...    ...           ...    ...   \n",
       "1703742  1.179619e+09   5950304     Streghissima    5.0  May 20, 2007  False   \n",
       "1704179  1.360368e+09  11160219         nina.jon    4.0   Feb 9, 2013  False   \n",
       "1705436  1.301616e+09   9819803        Nickelini    4.0   Apr 1, 2011  False   \n",
       "1705511  1.364688e+09   4792292            JenJ.    4.0  Mar 31, 2013  False   \n",
       "1706656  1.373760e+09  11807852  BaileysAndBooks    4.5  Jul 14, 2013  False   \n",
       "\n",
       "         not_a_review  \n",
       "12              False  \n",
       "162             False  \n",
       "451             False  \n",
       "1084            False  \n",
       "3025            False  \n",
       "...               ...  \n",
       "1703742         False  \n",
       "1704179         False  \n",
       "1705436         False  \n",
       "1705511         False  \n",
       "1706656         False  \n",
       "\n",
       "[2352 rows x 9 columns]"
      ]
     },
     "execution_count": 58,
     "metadata": {},
     "output_type": "execute_result"
    }
   ],
   "source": [
    "# URL not guaranteed to contain with 'http'.\n",
    "new_review_df[new_review_df['comment'].str.contains(' www')]"
   ]
  },
  {
   "cell_type": "code",
   "execution_count": 59,
   "id": "41c7ef91",
   "metadata": {},
   "outputs": [
    {
     "data": {
      "text/plain": [
       "\"I received this book through www.librarything.com and it's early reviewer's program. I really didn't know what to expect when I received this ebook. I started the book yesterday and finished it in one day. It was very engaging. The characters were interesting and the story was fast-paced. There were parts that were thrilling, especially the beginning. The off the wall antics of Brian help lighten the story. I enjoyed traveling along with Brenda and Brian, especially the dinner with the parents scene. I wish that it had been a little longer because I'm dying to know what happens next. The ending is a bit of a cliffhanger. Yes, they solved the immediate issue with the criminal at hand but who were those other people and what do they want? I really do think that this book is a great one. The author really knows how to make people laugh at the sheer craziness of the book. \\nhttp://letthemalleatcake.blogspot.com/2011/12/medium-dead-by-chris-dolley.html \""
      ]
     },
     "execution_count": 59,
     "metadata": {},
     "output_type": "execute_result"
    }
   ],
   "source": [
    "new_review_df['comment'].loc[1084]"
   ]
  },
  {
   "cell_type": "markdown",
   "id": "49f4abdb",
   "metadata": {},
   "source": [
    "We need to remove the URLs and use the remaining text as part of reviews. Also need to clean up any special characters, and handle escape sequences."
   ]
  },
  {
   "cell_type": "code",
   "execution_count": 53,
   "id": "3eb5b036",
   "metadata": {},
   "outputs": [],
   "source": [
    "comments = new_review_df['comment'].copy()"
   ]
  },
  {
   "cell_type": "code",
   "execution_count": 54,
   "id": "d439edf1",
   "metadata": {},
   "outputs": [
    {
     "data": {
      "text/plain": [
       "0          Every evening, the brave queen of Persia, Shah...\n",
       "1          Its the 1983-84 school year and Edward Zanni o...\n",
       "2          I became privy to this book, when another auth...\n",
       "3                                                      .    \n",
       "4          This is a tremendous story of a freed woman an...\n",
       "                                 ...                        \n",
       "1707063    http://olvasonaplo.freeblog.hu/archives/2007/0...\n",
       "1707064    I came to this book with low expectations. The...\n",
       "1707066    This is a fairy tale which is very much a Cupi...\n",
       "1707067    http://tamaranth.blogspot.com/1994/03/guilty-p...\n",
       "1707069    I originally met most of the diseases covered ...\n",
       "Name: comment, Length: 1363410, dtype: object"
      ]
     },
     "execution_count": 54,
     "metadata": {},
     "output_type": "execute_result"
    }
   ],
   "source": [
    "comments"
   ]
  },
  {
   "cell_type": "markdown",
   "id": "582ca019",
   "metadata": {},
   "source": [
    "#### 2.5.1 Clean URLs"
   ]
  },
  {
   "cell_type": "code",
   "execution_count": 55,
   "id": "e15f58c2",
   "metadata": {},
   "outputs": [],
   "source": [
    "import re"
   ]
  },
  {
   "cell_type": "code",
   "execution_count": 56,
   "id": "17243053",
   "metadata": {},
   "outputs": [
    {
     "data": {
      "text/plain": [
       "'http://tamaranth.blogspot.com/1994/03/guilty-pleasures-laurell-k-hamilton.html '"
      ]
     },
     "execution_count": 56,
     "metadata": {},
     "output_type": "execute_result"
    }
   ],
   "source": [
    "comments[1707067]"
   ]
  },
  {
   "cell_type": "code",
   "execution_count": 57,
   "id": "71e85af8",
   "metadata": {},
   "outputs": [
    {
     "data": {
      "text/plain": [
       "' '"
      ]
     },
     "execution_count": 57,
     "metadata": {},
     "output_type": "execute_result"
    }
   ],
   "source": [
    "re.sub('https?://[\\S]+|www\\.[\\S]+', '',\n",
    "       'http://tamaranth.blogspot.com/1994/03/guilty-pleasures-laurell-k-hamilton.html ')"
   ]
  },
  {
   "cell_type": "code",
   "execution_count": 61,
   "id": "68d5a9f8",
   "metadata": {},
   "outputs": [
    {
     "data": {
      "text/plain": [
       "\"I received this book through  and it's early reviewer's program. I really didn't know what to expect when I received this ebook. I started the book yesterday and finished it in one day. It was very engaging. The characters were interesting and the story was fast-paced. There were parts that were thrilling, especially the beginning. The off the wall antics of Brian help lighten the story. I enjoyed traveling along with Brenda and Brian, especially the dinner with the parents scene. I wish that it had been a little longer because I'm dying to know what happens next. The ending is a bit of a cliffhanger. Yes, they solved the immediate issue with the criminal at hand but who were those other people and what do they want? I really do think that this book is a great one. The author really knows how to make people laugh at the sheer craziness of the book. \\n \\n\\n\""
      ]
     },
     "execution_count": 61,
     "metadata": {},
     "output_type": "execute_result"
    }
   ],
   "source": [
    "re.sub('https?://[\\S]+|www\\.[\\S]+',\n",
    "       '',\n",
    "       \"\"\"I received this book through www.librarything.com and it's early reviewer's program. I really didn't know what to expect when I received this ebook. I started the book yesterday and finished it in one day. It was very engaging. The characters were interesting and the story was fast-paced. There were parts that were thrilling, especially the beginning. The off the wall antics of Brian help lighten the story. I enjoyed traveling along with Brenda and Brian, especially the dinner with the parents scene. I wish that it had been a little longer because I'm dying to know what happens next. The ending is a bit of a cliffhanger. Yes, they solved the immediate issue with the criminal at hand but who were those other people and what do they want? I really do think that this book is a great one. The author really knows how to make people laugh at the sheer craziness of the book. \\nhttp://letthemalleatcake.blogspot.com/2011/12/medium-dead-by-chris-dolley.html \n",
    "\n",
    "\"\"\")"
   ]
  },
  {
   "cell_type": "code",
   "execution_count": 62,
   "id": "c437d290",
   "metadata": {},
   "outputs": [],
   "source": [
    "tmp = comments.str.replace('https?://[\\S]+|www\\.[\\S]+', '', regex = True)"
   ]
  },
  {
   "cell_type": "code",
   "execution_count": 63,
   "id": "0bde31e8",
   "metadata": {},
   "outputs": [
    {
     "data": {
      "text/plain": [
       "0          Every evening, the brave queen of Persia, Shah...\n",
       "1          Its the 1983-84 school year and Edward Zanni o...\n",
       "2          I became privy to this book, when another auth...\n",
       "3                                                      .    \n",
       "4          This is a tremendous story of a freed woman an...\n",
       "                                 ...                        \n",
       "1707063                                                     \n",
       "1707064    I came to this book with low expectations. The...\n",
       "1707066    This is a fairy tale which is very much a Cupi...\n",
       "1707067                                                     \n",
       "1707069    I originally met most of the diseases covered ...\n",
       "Name: comment, Length: 1363410, dtype: object"
      ]
     },
     "execution_count": 63,
     "metadata": {},
     "output_type": "execute_result"
    }
   ],
   "source": [
    "tmp"
   ]
  },
  {
   "cell_type": "code",
   "execution_count": 64,
   "id": "553c9d56",
   "metadata": {},
   "outputs": [
    {
     "data": {
      "text/plain": [
       "205267     Very emotional, but beautifully balanced novel...\n",
       "221947         http:/bactra.org/reviews/christensen-kiefer/ \n",
       "251469     You've read this story before. It's the story ...\n",
       "310864     Morozovs excellent first book, The Net Delusio...\n",
       "407371     Through the Triangle\\nC.P. Stewart\\nOutskirts ...\n",
       "466105     James I is not a familiar king to me and curio...\n",
       "498466     The promises, and a few perils, of stacks of d...\n",
       "567626     The first thing any reader needs to know about...\n",
       "576673     http:/bactra.org/reviews/manski-on-identificat...\n",
       "612623     I am going to be frank. Very frank.\\nSomeone t...\n",
       "763775     Comme souvent chez Graham Greene on retrouve d...\n",
       "922110     4 STARS\\nWas entertaining but not to the point...\n",
       "959484     Ashley Z. \"Staying Fat for Sarah Byrnes.\" (9 J...\n",
       "971974     When we meet Bud Caldwell, he is living in an ...\n",
       "1190298    It took me a long time to get around to readin...\n",
       "1206870    http:// \\nAn academic, Paulos writes text that...\n",
       "1303036    Num estilo ousado e provocador, o autor tem co...\n",
       "1460527    This is a brilliant novella. A must read for a...\n",
       "1489388                                             http//: \n",
       "1574355    Book Title: The Car Thief\\nAuthor: Theodore We...\n",
       "1631426    I was SO excited when DEADLOCKED arrived in th...\n",
       "1666388    This is one of the worst books I have ever rea...\n",
       "Name: comment, dtype: object"
      ]
     },
     "execution_count": 64,
     "metadata": {},
     "output_type": "execute_result"
    }
   ],
   "source": [
    "tmp[tmp.str.contains('http')]"
   ]
  },
  {
   "cell_type": "markdown",
   "id": "9d0c4c7f",
   "metadata": {},
   "source": [
    "While we see some obvious invalid URLs due to user errors, a some are confusing. Let'slookat the below example."
   ]
  },
  {
   "cell_type": "code",
   "execution_count": 66,
   "id": "e53235e9",
   "metadata": {},
   "outputs": [
    {
     "data": {
      "text/plain": [
       "'http:// \\nAn academic, Paulos writes text that is easy to read. He writes very openly about his large loss on WorldCom stock.\\nA few quotes:\\n\"Transparency, trust, independence, and authority are all needed to make accounting work. They are all in great demand, but sometimes in short supply.\"\\n\"On the whole, most investors, professionals on Wall Street, amateurs everywhere, disbelieve (the Efficient Market Hypothesis), so for this reason I think it holds, but only approximately and only most of the time.\"\\n\"For better or worse, we\\'re on our own.\" '"
      ]
     },
     "execution_count": 66,
     "metadata": {},
     "output_type": "execute_result"
    }
   ],
   "source": [
    "tmp[1206870]"
   ]
  },
  {
   "cell_type": "code",
   "execution_count": 67,
   "id": "40e9e653",
   "metadata": {},
   "outputs": [
    {
     "data": {
      "text/plain": [
       "'http:// www.math.temple.edu/paulos\\nAn academic, Paulos writes text that is easy to read. He writes very openly about his large loss on WorldCom stock.\\nA few quotes:\\n\"Transparency, trust, independence, and authority are all needed to make accounting work. They are all in great demand, but sometimes in short supply.\"\\n\"On the whole, most investors, professionals on Wall Street, amateurs everywhere, disbelieve (the Efficient Market Hypothesis), so for this reason I think it holds, but only approximately and only most of the time.\"\\n\"For better or worse, we\\'re on our own.\" '"
      ]
     },
     "execution_count": 67,
     "metadata": {},
     "output_type": "execute_result"
    }
   ],
   "source": [
    "comments[1206870]"
   ]
  },
  {
   "cell_type": "markdown",
   "id": "b8ab598e",
   "metadata": {},
   "source": [
    "It seems that the user mistakenly introduced a space between 'http://' and 'www'. We can fix these issues manually as we only have a handful of entries."
   ]
  },
  {
   "cell_type": "code",
   "execution_count": 68,
   "id": "93d99db4",
   "metadata": {},
   "outputs": [
    {
     "data": {
      "text/plain": [
       "'http:/bactra.org/reviews/manski-on-identification/ '"
      ]
     },
     "execution_count": 68,
     "metadata": {},
     "output_type": "execute_result"
    }
   ],
   "source": [
    "tmp[576673]"
   ]
  },
  {
   "cell_type": "code",
   "execution_count": 69,
   "id": "10bb3723",
   "metadata": {},
   "outputs": [
    {
     "data": {
      "text/plain": [
       "'http//:www.estampa.pt '"
      ]
     },
     "execution_count": 69,
     "metadata": {},
     "output_type": "execute_result"
    }
   ],
   "source": [
    "comments[1489388]"
   ]
  },
  {
   "cell_type": "code",
   "execution_count": 70,
   "id": "e6352803",
   "metadata": {},
   "outputs": [
    {
     "data": {
      "text/plain": [
       "'http//: '"
      ]
     },
     "execution_count": 70,
     "metadata": {},
     "output_type": "execute_result"
    }
   ],
   "source": [
    "tmp[1489388]"
   ]
  },
  {
   "cell_type": "code",
   "execution_count": 91,
   "id": "a7dde0df",
   "metadata": {},
   "outputs": [],
   "source": [
    "tmp1 = tmp.str.replace('https?://[\\S]*|https?:/[\\S]+|https?//:[\\S]*|https?/:[\\S]*|http:', '', regex = True)"
   ]
  },
  {
   "cell_type": "markdown",
   "id": "3f2807d1",
   "metadata": {},
   "source": [
    "As we can see below, the remaining entries only contain http as par of the content."
   ]
  },
  {
   "cell_type": "code",
   "execution_count": 92,
   "id": "2343bb29",
   "metadata": {},
   "outputs": [
    {
     "data": {
      "text/plain": [
       "310864    Morozovs excellent first book, The Net Delusio...\n",
       "971974    When we meet Bud Caldwell, he is living in an ...\n",
       "Name: comment, dtype: object"
      ]
     },
     "execution_count": 92,
     "metadata": {},
     "output_type": "execute_result"
    }
   ],
   "source": [
    "tmp1[tmp1.str.contains('http')]"
   ]
  },
  {
   "cell_type": "code",
   "execution_count": 89,
   "id": "fb65bf5b",
   "metadata": {},
   "outputs": [
    {
     "data": {
      "text/plain": [
       "'Morozovs excellent first book, The Net Delusion, established him as a major critic of internet eschatology, particularly the utopian brand. His latest book attempts to expand on that critique, sometimes successfully and sometimes not. (Insert joke about sophomore efforts and snark here.) For a sample mostly taken from the book, heres Morozov on why we shouldnt be sanguine about using technology to improve incarceration. A good sampling of Morozovs work is available online; I would recommend avoiding his debate with Farhad Manjoo in Slate, where Morozov mostly ignores legitimate hits (he attacks generalizations like the internet but himself has no trouble criticizing Silicon Valley) in favor of snide near-ad hominems.\\nMorozov wouldnt be surprised that I, as an internet reviewer (ordinary people dont write reviews for the same reasons as professional critics; they are mostly interested in reviewing their own experience, not in making sense of a given work), cant improve on Kevin Driscolls take in the LA Review of Books, which has some very smart things to say about Morozovs critiques of solutionism (social issues as problems with a fixed solution rather than approaches that have to be negotiated and compromised on) and internet-centrism. [Side note on that Internet reviewer thing--there\\'s a very interesting piece to be written here bringing in Janice Radway\\'s Reading the Romance and a discussion of what \"making sense of a given work\" might mean.] For a rather harsher view, theres Tim Wu, who is attacked in the book and understandably annoyed; his criticisms are not unwarranted. \\nMorozov is a skeptic not just of whether Silicon Valleys big promises can be carried out but, more importantly, whether they should be. Friction, lack of transparency, inefficiency, and so on are not just hinderers of efficiency, but crucial parts of human self-definition and autonomy; politics isnt politics if its not messy and a bit hypocritical. Compromises and imperfections can be good, not bad; politics cant be improved the same way that market transactions can beif all interactions could be win-win, we wouldnt have politics. Try telling [an Amazon] shopper that not all of his or her desires can be satisfied because someone else has equally compelling interests and those have to be taken into account as well; the market simply doesnt work that way. And the consumerist mentality that solutionists bring to political challenges leads to disappointment and disgust with politics, when it should lead to a rejection of solutionism: Most public institutions should not be held to the same standards as their private counterparts because their mission is to provide goods and services that markets cannot or should not provide. More generally, inefficiencies, hypocrisies, and the existence of crime might be problematic in some limited sense, but they do not necessarily add up to a problem worth solvingany more than having a soccer match that lasts for ninety minutes rather than an eternity and features twenty-two people instead of everyone at the stadium is a problem to be solved.\\nRelatedly, the frictionless solutions promoted by techno-utopians often dont solve the problems they purport to, and they dont solve them in particular ways reflecting existing political and social inequalities. For example, biometric identification technologies turn out to have particular trouble with certain racial groups, and fingerprint scanners have difficulty with people in certain working-class occupations--not that this is anything new, as Morozov is at pains to point out. (See also the way in which visual communications technology is bound up in whiteness: Richard Dyer, \"Making \\'White\\' People White, in The Social Shaping of Technology, eds. Donald MacKenzie and Judy Wajcman (noting that, among other things, videotape quality was evaluated by how well it displayed a blank, pale orange signal called \"skin\" that was supposed to match white skin); Brian Winston, A Whole Technology of Dyeing: A Note on Ideology and the Apparatus of the Chromatic Moving Image, Daedalus, Vol. 114, No. 4, The Moving Image (Fall, 1985), pp. 105-123 (discussing how, at every stage, film development was guided by how it did at showing white skin).)\\nFor another example, massive online open courses, Morozov, as many others have done, points out that what they offer isnt individual contact with an expert (even a grad student) but rather something else, and they dont exist in a political vacuum: In promising almost immediate and much cheaper results, they can easily undermine support for more ambitious, more intellectually stimulating, but also more demanding reform projects. Algorithms to recommend books to you have their biases, but thats nothing compared to the dangers of algorithms that predict crime based on current circumstances (including poverty and racism that mean that crimes are committed and detected in particular ways). And design that simply prevents the possibility of crime also often prevents the possibility of civil disobedience, an important driver of social change: Sometimes being caught with marijuana in ones pocket is better than being prevented from putting it there, simply because an arrest is likely to generate media attention and trigger a public debate about drug laws. But hes always context-sensitive, and not dismissive of all better living through technologyanti-drunk-driving technology might be a good idea even if other technological interventions arent.\\nI was reminded of Morozovs critique of big data solutionism by this bit in Slate about how facts can change their meanings when you have more context:\\n Marti Barletta, a consultant in marketing to women, told me one of the reasons women have gained a reputation for caring about frivolous details is because they do so much research. By the time they arrive at dealerships, theyve already logged countless hours online finding cars that satisfy their main criteria. Now, theyre picking through minutiaewhat, precisely, makes the Nissan Maxima better than the Toyota Camry? (Could it be the number of cup holders?) These questions, Barletta says, contribute to an impression among salesmen that women care mostly about the little stuff.\\nThis is a good example of the point that data-driven solutions cant ever be entirely data-driven: you always need a theory.\\nMorozov also constantly emphasizes that people construct technologies. Theres nothing inevitable about the configuration of the internet, or Facebook or Google for that matter. Facebook could limit the number of ads it shows; Google could write different algorithms. As Tarleton Gillespie insightfully noted, Twitters algorithm for picking trending topics favors breadth (many groups using the same hashtag) over depth (a united group using the hashtag a lot), which is a political design choice that can be contested. When we focus on current numbers, such as monitoring how much water we consume, we may be motivated to take individual action but we dont understand or consider the complex systems of overall water consumption, and we arent challenged to think of how we might get a different set of numbersMorozov wants our technologies to confound and challenge us.\\nThis is an important reminder, but it leads Morozov to be highly critical of activist discourses around things like SOPA/PIPA/ACTAs dont break the internet advocacy, and here (like many of his reviewers) I think he somewhat misses the mark. Very few of the leaders, and I suspect very few of the followers, of the anti-SOPA/PIPA/ACTA protests believed that http and IP addresses and the like would disappear under SOPA/PIPA/ACTA etc. Rather, they believed that key features of the internet they knew and liked would be hampered if not destroyed. The internet that existed, they thought, would be similar to the Medicare that would exist if what we now call Medicare were replaced by a voucher system. Its fair game in such a debate to say that Medicare would be destroyed by such a change; its even fair game to say that marriage would be destroyed by extending it to women who want to marry women, even if thats a dumb argument on its own merits. Yes, of course we should often question definitions, where much of the important rhetorical work is getting done, and Morozov is right to point that outbut many of the people he accuses really do know that already, and have made it pretty clear that they do.\\n(Hes particularly unfair, it seems to me, to Jonathan Zittrain, whose The Future of the Internet and How to Stop It comes under attack for internet-centrism and quixotic desire to keep the internet in a single state forever. E.g, Morozov says to claim that Appleone of Zittrains culpritsis bad for innovation because its bad for the Internet is like claiming that the Internet is bad for innovation because its bad for the telephone. Well, it might have been bad for the telephonebut when did preservation of the telephone become a lofty social goal? Yet a significant chunk of Zittrains book is devoted precisely to addressing questions of when we can say a technological configuration/change in the direction of greater or lesser centralized control is a good thing. Zittrain isnt entirely successful, I think, but by failing to acknowledge his explicit attempts to grapple with Morozovs points, Morozov makes it seem as if Zittrain were silly or hypocritical, and himself ends up fighting a straw man. This ungenerosity isnt unique in the book. Later, for example, Morozov suggests that those who favor market transactions trading private data for material benefits as mutually beneficial must also therefore approve torture provided the prisoners strike the right deal and are well compensated, whatever that might mean.)\\nMorozov is at his best discussing tradeoffs and political reactions to technology: greater access to information can be manipulated by governments just like other new forms of power can be, and ifwhich is not yet establishedthere is a link between the two, hes right that its not clear that the local politics in Baha Blanca [Argentina] [should] make sacrifices so that a fifteen-year-old in Palo Alto can remix cat videos without going to jail. He doesnt want that fifteen-year-old to go to jail, but he also doesnt want arguments for that remixers protection to prevent any tinkering with technologies to make them safer, for some politically chosen definition of safer, especially since private parties and nondemocratic states are willing to tinker anyway.\\nSome have found his attack on extreme self-monitoring technologies and technologists, who are really outliers, to be a bit much, but I really liked his point (again, not new, but well made) that there is a deep political problem with proposing self-monitoring as the solution to the barrage of advertising and subsidies that keep us eating terrible, unhealthy food: yes, some of us might find ingenious engineering solutions to resist insidious marketing, but in all this celebration of modern technology, shouldnt we also do something about the marketing itself? . [P]olitical action all but disappears; rather than reforming the system, we just tinker with ourselves and tend to our reservoirs of willpower the way Swiss bankers tend to their vaults. But Morozov also hates nudging via technical or legal structures, even though thats pretty much the opposite of the individualistic solutions he condemns, because he wants us all to think deeply, and exhaustingly, about all our politically relevant choices, which is to say basically all of them, though he talks most about energy consumption.\\nProbably Morozovs most effective assault is on the concept of openness as an unqualified good. Because of preexisting political struggles, open data will be used in politically inflected waysfor example, maps that visualize crime statistics across different neighborhoods could help improve police effectiveness, but they could also devalue properties and make people living in dodgy neighborhoods to be less willing to report crimes. Openness has feedback effects. Likewise, digitization of land records in India, in an attempt to empower the weak, may have benefited the rich and powerful by exposing which occupants lacked formal title despite being morally and even legally owners. Morozov advocates for context-specific solutionshere, accepting other methods of proving title such as old family photos or maps along with official land titles, or selectively limiting access to land records so that people with no obvious need to see them cant do so. Information, he argues, should be collected and distributed in full awareness of the social and cultural complexity of the institutional environment in which it is gathered. Sometimes preserving the social relations that enable that environment to exist  might require producing data that is only half transparent or half accessible . [D]emocracy thrives on compromise and the art of reconciling seemingly irreconcilable interests. And its hard to disagree with that last point, whatever excesses are in the rest of the book. '"
      ]
     },
     "execution_count": 89,
     "metadata": {},
     "output_type": "execute_result"
    }
   ],
   "source": [
    "tmp[310864]"
   ]
  },
  {
   "cell_type": "code",
   "execution_count": 93,
   "id": "5e7e51a6",
   "metadata": {},
   "outputs": [
    {
     "data": {
      "text/plain": [
       "'When we meet Bud Caldwell, he is living in an orphanage in Flint, Michigan. Soon, though, we find him on the lam and in search of his father whom he has never met. He always carries his few belongings in a suitcase, and in the suitcase are clues his dead mother left behind about his father. This hope of escaping the abuses of foster care and orphan life propels him onward as he searches for his long lost, unknown father. The story is set during the Great Depression, at a time when little black boys are not permitted where \"white folks\" are permitted. The story bridges the gaps in cultural differences by using the authentic voice of a typical young boy who is struggling to be grown but is still a frightened young man. In the story he has gone through so much and yet keeps his cynical sense of humor about him.\\nI think this book is an excellent multicultural read for persons of all ages. The ISSUES are not overstated and do not take from the story. Many young readers will feel smarter than Bud as they may be older and more experienced about life than Bud is presented in the story. This book is excellent for its historical value for children as there are hints throughout that paint a picture of what life was like in the time that Bud was traveling... This book is entertaining and fairly easy to read but it does not skimp on the wealth of information it contains.\\n Extension Activity\\nAll That Jazz Poster Activity\\nLesson Title: All That Jazz Activity\\nBud, Not Buddy\\nStudents will research 1930s jazz greats and create a flyer advertising a fictional jazz band of their design. \\nObjectives: \\n Research a topic.Build on the students knowledge of black Jazz musicians in the 1930s. Generate a creative flyer from information.\\nMaterials: \\n Computers, Word processing program\\nResources:\\n Internet sites\\nProcedures:\\nStudents will research jazz greats from the 1930s by visiting these websites: \\nBessie Smith  \\nLouis Armstrong afroamhistory.about.com/gi/dynamic/offsite.htm?site=http%3A%2 %2F\\nDuke Ellington\\n \\nStudents will then create a poster advertising a fictional jazz band of their design. Posters could be made on paper, pencils, and colors or with as a word document.\\nModifications:\\n If the internet and computers are not available, then library resources and encyclopedias could be used for research.\\nTechnology Infusion:\\n Internet for research.\\n Word processing program or Print Shop type program. \\nCultural Connections:\\nUnderstanding of the culture of black Jazz greats during the depression '"
      ]
     },
     "execution_count": 93,
     "metadata": {},
     "output_type": "execute_result"
    }
   ],
   "source": [
    "tmp[971974]"
   ]
  },
  {
   "cell_type": "code",
   "execution_count": 95,
   "id": "ef37d8e3",
   "metadata": {
    "scrolled": true
   },
   "outputs": [
    {
     "data": {
      "text/plain": [
       "Series([], Name: comment, dtype: object)"
      ]
     },
     "execution_count": 95,
     "metadata": {},
     "output_type": "execute_result"
    }
   ],
   "source": [
    "tmp[tmp.str.contains(' www\\.')]"
   ]
  },
  {
   "cell_type": "markdown",
   "id": "9bd1d3a7",
   "metadata": {},
   "source": [
    "Convert the text to embeddings"
   ]
  },
  {
   "cell_type": "code",
   "execution_count": null,
   "id": "688d5834",
   "metadata": {},
   "outputs": [],
   "source": []
  }
 ],
 "metadata": {
  "kernelspec": {
   "display_name": "Python 3 (ipykernel)",
   "language": "python",
   "name": "python3"
  },
  "language_info": {
   "codemirror_mode": {
    "name": "ipython",
    "version": 3
   },
   "file_extension": ".py",
   "mimetype": "text/x-python",
   "name": "python",
   "nbconvert_exporter": "python",
   "pygments_lexer": "ipython3",
   "version": "3.9.6"
  }
 },
 "nbformat": 4,
 "nbformat_minor": 5
}
