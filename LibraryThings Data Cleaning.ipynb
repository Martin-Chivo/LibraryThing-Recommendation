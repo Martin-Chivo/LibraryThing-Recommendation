{
 "cells": [
  {
   "cell_type": "markdown",
   "id": "3941df5a",
   "metadata": {},
   "source": [
    "# LibraryThings Recommendation System\n",
    "\n",
    "This notebook contains the common data preprocessing used for all our approaches."
   ]
  },
  {
   "cell_type": "markdown",
   "id": "b269c749",
   "metadata": {},
   "source": [
    "\n",
    "## 1. Loading reviews.txt"
   ]
  },
  {
   "cell_type": "code",
   "execution_count": 127,
   "id": "adb7d13d",
   "metadata": {},
   "outputs": [],
   "source": [
    "import ast\n",
    "import pickle\n",
    "import re\n",
    "\n",
    "from gensim.models import Word2Vec\n",
    "from matplotlib import pyplot as plt \n",
    "import networkx as nx\n",
    "import numpy as np\n",
    "import nltk\n",
    "# Uncomment for first run\n",
    "# nltk.download('stopwords')\n",
    "from nltk.corpus import stopwords\n",
    "from nltk.stem.snowball import SnowballStemmer\n",
    "import pandas as pd\n",
    "from tqdm.notebook import tqdm\n",
    "tqdm.pandas()\n"
   ]
  },
  {
   "cell_type": "markdown",
   "id": "3e44ebda",
   "metadata": {},
   "source": [
    "We begin by importing the dataset. The dataset can be downloaded from https://cseweb.ucsd.edu//~jmcauley/datasets.html#social_data. The following code assumes that the files are placed in the same directory as this notebook. \n",
    "\n",
    "A few blocks that load/dump the data are commented. These need to be uncommented when run for the first time. These can be later be commented again for subsequent runs to save time."
   ]
  },
  {
   "cell_type": "code",
   "execution_count": 2,
   "id": "4f9585f0",
   "metadata": {},
   "outputs": [],
   "source": [
    "# Uncomment to run the first time.\n",
    "\n",
    "\n",
    "# review_list = []\n",
    "# with open('reviews.txt', 'r') as f:\n",
    "#     for line in f:\n",
    "#         if line == 'reviews = {}\\n':\n",
    "#             continue\n",
    "#         try:\n",
    "#             _, review = line.split(')] = ')\n",
    "#             review_list.append(ast.literal_eval(review))\n",
    "#         except:\n",
    "#             print(line)\n",
    "#             break"
   ]
  },
  {
   "cell_type": "code",
   "execution_count": 3,
   "id": "c300af18",
   "metadata": {},
   "outputs": [],
   "source": [
    "# review_list"
   ]
  },
  {
   "cell_type": "markdown",
   "id": "88e1246a",
   "metadata": {},
   "source": [
    "Pickling for future use to avoid preprocessing the data again."
   ]
  },
  {
   "cell_type": "code",
   "execution_count": 4,
   "id": "6d53e15b",
   "metadata": {},
   "outputs": [],
   "source": [
    "# Uncomment for the first time.\n",
    "\n",
    "# with open('review_list.pkl', 'wb') as f:\n",
    "#     pickle.dump(review_list, f)"
   ]
  },
  {
   "cell_type": "code",
   "execution_count": 6,
   "id": "96fb81b5",
   "metadata": {},
   "outputs": [],
   "source": [
    "with open('review_list.pkl', 'rb') as f:\n",
    "    review_list = pickle.load(f)"
   ]
  },
  {
   "cell_type": "code",
   "execution_count": 7,
   "id": "cf1c3143",
   "metadata": {},
   "outputs": [],
   "source": [
    "reviews_df = pd.DataFrame(review_list)"
   ]
  },
  {
   "cell_type": "code",
   "execution_count": 8,
   "id": "9886c674",
   "metadata": {},
   "outputs": [
    {
     "data": {
      "text/html": [
       "<div>\n",
       "<style scoped>\n",
       "    .dataframe tbody tr th:only-of-type {\n",
       "        vertical-align: middle;\n",
       "    }\n",
       "\n",
       "    .dataframe tbody tr th {\n",
       "        vertical-align: top;\n",
       "    }\n",
       "\n",
       "    .dataframe thead th {\n",
       "        text-align: right;\n",
       "    }\n",
       "</style>\n",
       "<table border=\"1\" class=\"dataframe\">\n",
       "  <thead>\n",
       "    <tr style=\"text-align: right;\">\n",
       "      <th></th>\n",
       "      <th>comment</th>\n",
       "      <th>nhelpful</th>\n",
       "      <th>unixtime</th>\n",
       "      <th>work</th>\n",
       "      <th>flags</th>\n",
       "      <th>user</th>\n",
       "      <th>stars</th>\n",
       "      <th>time</th>\n",
       "    </tr>\n",
       "  </thead>\n",
       "  <tbody>\n",
       "    <tr>\n",
       "      <th>0</th>\n",
       "      <td>Every evening, the brave queen of Persia, Shah...</td>\n",
       "      <td>0</td>\n",
       "      <td>1.332288e+09</td>\n",
       "      <td>73960</td>\n",
       "      <td>[]</td>\n",
       "      <td>Elizabeth.Wong98</td>\n",
       "      <td>4.5</td>\n",
       "      <td>Mar 21, 2012</td>\n",
       "    </tr>\n",
       "    <tr>\n",
       "      <th>1</th>\n",
       "      <td>Its the 1983-84 school year and Edward Zanni o...</td>\n",
       "      <td>0</td>\n",
       "      <td>1.253405e+09</td>\n",
       "      <td>69413</td>\n",
       "      <td>[]</td>\n",
       "      <td>rivkat</td>\n",
       "      <td>3.0</td>\n",
       "      <td>Sep 20, 2009</td>\n",
       "    </tr>\n",
       "    <tr>\n",
       "      <th>2</th>\n",
       "      <td>I became privy to this book, when another auth...</td>\n",
       "      <td>0</td>\n",
       "      <td>1.299888e+09</td>\n",
       "      <td>9523995</td>\n",
       "      <td>[]</td>\n",
       "      <td>suz.haugland</td>\n",
       "      <td>4.0</td>\n",
       "      <td>Mar 12, 2011</td>\n",
       "    </tr>\n",
       "    <tr>\n",
       "      <th>3</th>\n",
       "      <td>.</td>\n",
       "      <td>0</td>\n",
       "      <td>1.327277e+09</td>\n",
       "      <td>368228</td>\n",
       "      <td>[]</td>\n",
       "      <td>amoskovacs</td>\n",
       "      <td>4.0</td>\n",
       "      <td>Jan 23, 2012</td>\n",
       "    </tr>\n",
       "    <tr>\n",
       "      <th>4</th>\n",
       "      <td>This is a tremendous story of a freed woman an...</td>\n",
       "      <td>0</td>\n",
       "      <td>1.329005e+09</td>\n",
       "      <td>11243828</td>\n",
       "      <td>[]</td>\n",
       "      <td>CandyH</td>\n",
       "      <td>4.0</td>\n",
       "      <td>Feb 12, 2012</td>\n",
       "    </tr>\n",
       "    <tr>\n",
       "      <th>...</th>\n",
       "      <td>...</td>\n",
       "      <td>...</td>\n",
       "      <td>...</td>\n",
       "      <td>...</td>\n",
       "      <td>...</td>\n",
       "      <td>...</td>\n",
       "      <td>...</td>\n",
       "      <td>...</td>\n",
       "    </tr>\n",
       "    <tr>\n",
       "      <th>1707065</th>\n",
       "      <td>This is quite possibly the cutest kids book I'...</td>\n",
       "      <td>0</td>\n",
       "      <td>1.327795e+09</td>\n",
       "      <td>129503</td>\n",
       "      <td>[]</td>\n",
       "      <td>evementen</td>\n",
       "      <td>NaN</td>\n",
       "      <td>Jan 29, 2012</td>\n",
       "    </tr>\n",
       "    <tr>\n",
       "      <th>1707066</th>\n",
       "      <td>This is a fairy tale which is very much a Cupi...</td>\n",
       "      <td>0</td>\n",
       "      <td>1.364688e+09</td>\n",
       "      <td>11749693</td>\n",
       "      <td>[]</td>\n",
       "      <td>AmyMacEvilly</td>\n",
       "      <td>5.0</td>\n",
       "      <td>Mar 31, 2013</td>\n",
       "    </tr>\n",
       "    <tr>\n",
       "      <th>1707067</th>\n",
       "      <td>http://tamaranth.blogspot.com/1994/03/guilty-p...</td>\n",
       "      <td>0</td>\n",
       "      <td>1.176682e+09</td>\n",
       "      <td>4873693</td>\n",
       "      <td>[]</td>\n",
       "      <td>tamaranth</td>\n",
       "      <td>4.5</td>\n",
       "      <td>Apr 16, 2007</td>\n",
       "    </tr>\n",
       "    <tr>\n",
       "      <th>1707068</th>\n",
       "      <td>Despus del extraordinario xito de Los ojos ama...</td>\n",
       "      <td>0</td>\n",
       "      <td>1.321920e+09</td>\n",
       "      <td>9705446</td>\n",
       "      <td>[]</td>\n",
       "      <td>bibliosa</td>\n",
       "      <td>NaN</td>\n",
       "      <td>Nov 22, 2011</td>\n",
       "    </tr>\n",
       "    <tr>\n",
       "      <th>1707069</th>\n",
       "      <td>I originally met most of the diseases covered ...</td>\n",
       "      <td>3</td>\n",
       "      <td>1.188518e+09</td>\n",
       "      <td>32396</td>\n",
       "      <td>[]</td>\n",
       "      <td>jlelliott</td>\n",
       "      <td>4.0</td>\n",
       "      <td>Aug 31, 2007</td>\n",
       "    </tr>\n",
       "  </tbody>\n",
       "</table>\n",
       "<p>1707070 rows × 8 columns</p>\n",
       "</div>"
      ],
      "text/plain": [
       "                                                   comment  nhelpful  \\\n",
       "0        Every evening, the brave queen of Persia, Shah...         0   \n",
       "1        Its the 1983-84 school year and Edward Zanni o...         0   \n",
       "2        I became privy to this book, when another auth...         0   \n",
       "3                                                    .             0   \n",
       "4        This is a tremendous story of a freed woman an...         0   \n",
       "...                                                    ...       ...   \n",
       "1707065  This is quite possibly the cutest kids book I'...         0   \n",
       "1707066  This is a fairy tale which is very much a Cupi...         0   \n",
       "1707067  http://tamaranth.blogspot.com/1994/03/guilty-p...         0   \n",
       "1707068  Despus del extraordinario xito de Los ojos ama...         0   \n",
       "1707069  I originally met most of the diseases covered ...         3   \n",
       "\n",
       "             unixtime      work flags              user  stars          time  \n",
       "0        1.332288e+09     73960    []  Elizabeth.Wong98    4.5  Mar 21, 2012  \n",
       "1        1.253405e+09     69413    []            rivkat    3.0  Sep 20, 2009  \n",
       "2        1.299888e+09   9523995    []      suz.haugland    4.0  Mar 12, 2011  \n",
       "3        1.327277e+09    368228    []        amoskovacs    4.0  Jan 23, 2012  \n",
       "4        1.329005e+09  11243828    []            CandyH    4.0  Feb 12, 2012  \n",
       "...               ...       ...   ...               ...    ...           ...  \n",
       "1707065  1.327795e+09    129503    []         evementen    NaN  Jan 29, 2012  \n",
       "1707066  1.364688e+09  11749693    []      AmyMacEvilly    5.0  Mar 31, 2013  \n",
       "1707067  1.176682e+09   4873693    []         tamaranth    4.5  Apr 16, 2007  \n",
       "1707068  1.321920e+09   9705446    []          bibliosa    NaN  Nov 22, 2011  \n",
       "1707069  1.188518e+09     32396    []         jlelliott    4.0  Aug 31, 2007  \n",
       "\n",
       "[1707070 rows x 8 columns]"
      ]
     },
     "execution_count": 8,
     "metadata": {},
     "output_type": "execute_result"
    }
   ],
   "source": [
    "reviews_df"
   ]
  },
  {
   "cell_type": "markdown",
   "id": "8704746d",
   "metadata": {},
   "source": [
    "## 2. Understanding the data"
   ]
  },
  {
   "cell_type": "markdown",
   "id": "cc464299",
   "metadata": {},
   "source": [
    "Looking at the data, we have the following columns:\n",
    "* comment: User review/comments about the book\n",
    "* nhelpful: Number of users who found the review/comment helpful\n",
    "* unixtime: UNIX time when review/comment was submitted\n",
    "* work: Book identifier\n",
    "* flags: Can be from the following values: \\['', 'not_a_review', 'abuse'\\]\n",
    "* user: Username\n",
    "* stars: Ratings on a scale of 5\n",
    "* time: Date when review was submitted\n",
    "\n",
    "Based on the following, it seems that *unixtime* and *time* represent the same, and are therefore redundant."
   ]
  },
  {
   "cell_type": "code",
   "execution_count": 9,
   "id": "7bea6d41",
   "metadata": {},
   "outputs": [
    {
     "data": {
      "text/plain": [
       "comment          0\n",
       "nhelpful         0\n",
       "unixtime        90\n",
       "work             0\n",
       "flags            0\n",
       "user             0\n",
       "stars       319861\n",
       "time            90\n",
       "dtype: int64"
      ]
     },
     "execution_count": 9,
     "metadata": {},
     "output_type": "execute_result"
    }
   ],
   "source": [
    "reviews_df.isna().sum()"
   ]
  },
  {
   "cell_type": "markdown",
   "id": "e0da49ae",
   "metadata": {},
   "source": [
    "We see that there are some entries with null values. We will be dropping these entries."
   ]
  },
  {
   "cell_type": "code",
   "execution_count": 10,
   "id": "b8d669ef",
   "metadata": {},
   "outputs": [],
   "source": [
    "reviews_df.dropna(inplace=True)"
   ]
  },
  {
   "cell_type": "code",
   "execution_count": 11,
   "id": "267cefe2",
   "metadata": {},
   "outputs": [
    {
     "data": {
      "text/plain": [
       "comment     0\n",
       "nhelpful    0\n",
       "unixtime    0\n",
       "work        0\n",
       "flags       0\n",
       "user        0\n",
       "stars       0\n",
       "time        0\n",
       "dtype: int64"
      ]
     },
     "execution_count": 11,
     "metadata": {},
     "output_type": "execute_result"
    }
   ],
   "source": [
    "reviews_df.isna().sum()"
   ]
  },
  {
   "cell_type": "markdown",
   "id": "96698e42",
   "metadata": {},
   "source": [
    "### Unpacking flags list\n",
    "\n",
    "Since the *'flags'* attribute contains lists which are unhashable, we cannot identify duplicate rows. We need to convert *'flags'* into a separate feature."
   ]
  },
  {
   "cell_type": "code",
   "execution_count": 12,
   "id": "ae41dcc8",
   "metadata": {},
   "outputs": [
    {
     "data": {
      "text/plain": [
       "array([(), ('not_a_review',), ('abuse',), ('abuse', 'not_a_review')],\n",
       "      dtype=object)"
      ]
     },
     "execution_count": 12,
     "metadata": {},
     "output_type": "execute_result"
    }
   ],
   "source": [
    "reviews_df['flags'].apply(lambda x: tuple(_ for _ in x) if x else ()).unique()"
   ]
  },
  {
   "cell_type": "markdown",
   "id": "b2691d4f",
   "metadata": {},
   "source": [
    "We see that there are 3 possible flag values: {'', 'not_a_review', 'abuse'}. These flags can also be combined."
   ]
  },
  {
   "cell_type": "code",
   "execution_count": 13,
   "id": "33508cf9",
   "metadata": {},
   "outputs": [],
   "source": [
    "reviews_df['abuse'] = reviews_df['flags'].apply(lambda x: 'abuse' in x)"
   ]
  },
  {
   "cell_type": "code",
   "execution_count": 14,
   "id": "36c60ad4",
   "metadata": {},
   "outputs": [],
   "source": [
    "reviews_df['not_a_review'] = reviews_df['flags'].apply(lambda x: 'not_a_review' in x)"
   ]
  },
  {
   "cell_type": "markdown",
   "id": "feb6153b",
   "metadata": {},
   "source": [
    "We can safely drop the 'flags' attribute."
   ]
  },
  {
   "cell_type": "code",
   "execution_count": 15,
   "id": "f1c4d1c2",
   "metadata": {},
   "outputs": [],
   "source": [
    "reviews_df.drop('flags', axis = 1, inplace=True)"
   ]
  },
  {
   "cell_type": "markdown",
   "id": "d5558882",
   "metadata": {},
   "source": [
    "First, let's take a look at entries flagged as 'not_a_review'"
   ]
  },
  {
   "cell_type": "code",
   "execution_count": 16,
   "id": "c060e345",
   "metadata": {},
   "outputs": [
    {
     "data": {
      "text/html": [
       "<div>\n",
       "<style scoped>\n",
       "    .dataframe tbody tr th:only-of-type {\n",
       "        vertical-align: middle;\n",
       "    }\n",
       "\n",
       "    .dataframe tbody tr th {\n",
       "        vertical-align: top;\n",
       "    }\n",
       "\n",
       "    .dataframe thead th {\n",
       "        text-align: right;\n",
       "    }\n",
       "</style>\n",
       "<table border=\"1\" class=\"dataframe\">\n",
       "  <thead>\n",
       "    <tr style=\"text-align: right;\">\n",
       "      <th></th>\n",
       "      <th>comment</th>\n",
       "      <th>nhelpful</th>\n",
       "      <th>unixtime</th>\n",
       "      <th>work</th>\n",
       "      <th>user</th>\n",
       "      <th>stars</th>\n",
       "      <th>time</th>\n",
       "      <th>abuse</th>\n",
       "      <th>not_a_review</th>\n",
       "    </tr>\n",
       "  </thead>\n",
       "  <tbody>\n",
       "    <tr>\n",
       "      <th>55</th>\n",
       "      <td>A disturbing book, but one that I can recommend.</td>\n",
       "      <td>0</td>\n",
       "      <td>1.169251e+09</td>\n",
       "      <td>1199218</td>\n",
       "      <td>writestuff</td>\n",
       "      <td>4.0</td>\n",
       "      <td>Jan 20, 2007</td>\n",
       "      <td>False</td>\n",
       "      <td>True</td>\n",
       "    </tr>\n",
       "    <tr>\n",
       "      <th>193</th>\n",
       "      <td>USA, ca 1984.\\nHovedpersonen William Halleck k...</td>\n",
       "      <td>0</td>\n",
       "      <td>1.226794e+09</td>\n",
       "      <td>35834</td>\n",
       "      <td>bnielsen</td>\n",
       "      <td>4.0</td>\n",
       "      <td>Nov 16, 2008</td>\n",
       "      <td>False</td>\n",
       "      <td>True</td>\n",
       "    </tr>\n",
       "    <tr>\n",
       "      <th>434</th>\n",
       "      <td>I loved this book -- Corey Sifter is a likeabl...</td>\n",
       "      <td>0</td>\n",
       "      <td>1.237507e+09</td>\n",
       "      <td>69759</td>\n",
       "      <td>stephaniechase</td>\n",
       "      <td>3.0</td>\n",
       "      <td>Mar 20, 2009</td>\n",
       "      <td>False</td>\n",
       "      <td>True</td>\n",
       "    </tr>\n",
       "    <tr>\n",
       "      <th>639</th>\n",
       "      <td>http://en.wikipedia.org/wiki/The_Glenn_Miller_...</td>\n",
       "      <td>0</td>\n",
       "      <td>1.282435e+09</td>\n",
       "      <td>11528316</td>\n",
       "      <td>wdjoyner</td>\n",
       "      <td>4.0</td>\n",
       "      <td>Aug 22, 2010</td>\n",
       "      <td>True</td>\n",
       "      <td>True</td>\n",
       "    </tr>\n",
       "    <tr>\n",
       "      <th>689</th>\n",
       "      <td>Listen/read my review here - http://alchemyofs...</td>\n",
       "      <td>0</td>\n",
       "      <td>1.311206e+09</td>\n",
       "      <td>11010126</td>\n",
       "      <td>nownewstrue</td>\n",
       "      <td>4.0</td>\n",
       "      <td>Jul 21, 2011</td>\n",
       "      <td>False</td>\n",
       "      <td>True</td>\n",
       "    </tr>\n",
       "    <tr>\n",
       "      <th>...</th>\n",
       "      <td>...</td>\n",
       "      <td>...</td>\n",
       "      <td>...</td>\n",
       "      <td>...</td>\n",
       "      <td>...</td>\n",
       "      <td>...</td>\n",
       "      <td>...</td>\n",
       "      <td>...</td>\n",
       "      <td>...</td>\n",
       "    </tr>\n",
       "    <tr>\n",
       "      <th>1706781</th>\n",
       "      <td>CWE founded 1881, pub 1st ed 1885, see entry, ...</td>\n",
       "      <td>0</td>\n",
       "      <td>1.269475e+09</td>\n",
       "      <td>9734301</td>\n",
       "      <td>kitchengardenbooks</td>\n",
       "      <td>4.0</td>\n",
       "      <td>Mar 25, 2010</td>\n",
       "      <td>False</td>\n",
       "      <td>True</td>\n",
       "    </tr>\n",
       "    <tr>\n",
       "      <th>1706856</th>\n",
       "      <td>I included this book in my book: The 100 Best ...</td>\n",
       "      <td>0</td>\n",
       "      <td>1.241741e+09</td>\n",
       "      <td>7605</td>\n",
       "      <td>toddsattersten</td>\n",
       "      <td>5.0</td>\n",
       "      <td>May 8, 2009</td>\n",
       "      <td>True</td>\n",
       "      <td>True</td>\n",
       "    </tr>\n",
       "    <tr>\n",
       "      <th>1706889</th>\n",
       "      <td>http://bookchronicle.wordpress.com/2007/10/19/...</td>\n",
       "      <td>0</td>\n",
       "      <td>1.223338e+09</td>\n",
       "      <td>1488</td>\n",
       "      <td>bookchronicle</td>\n",
       "      <td>4.0</td>\n",
       "      <td>Oct 7, 2008</td>\n",
       "      <td>False</td>\n",
       "      <td>True</td>\n",
       "    </tr>\n",
       "    <tr>\n",
       "      <th>1707030</th>\n",
       "      <td>Setting: United StatesReview? Maybe later or m...</td>\n",
       "      <td>0</td>\n",
       "      <td>1.282522e+09</td>\n",
       "      <td>522063</td>\n",
       "      <td>thereshegoes</td>\n",
       "      <td>4.0</td>\n",
       "      <td>Aug 23, 2010</td>\n",
       "      <td>False</td>\n",
       "      <td>True</td>\n",
       "    </tr>\n",
       "    <tr>\n",
       "      <th>1707052</th>\n",
       "      <td>5Q 4P The \"quote\": Section III, the 6th double...</td>\n",
       "      <td>0</td>\n",
       "      <td>1.272845e+09</td>\n",
       "      <td>1779085</td>\n",
       "      <td>TeenbookReader</td>\n",
       "      <td>5.0</td>\n",
       "      <td>May 3, 2010</td>\n",
       "      <td>False</td>\n",
       "      <td>True</td>\n",
       "    </tr>\n",
       "  </tbody>\n",
       "</table>\n",
       "<p>19750 rows × 9 columns</p>\n",
       "</div>"
      ],
      "text/plain": [
       "                                                   comment  nhelpful  \\\n",
       "55       A disturbing book, but one that I can recommend.          0   \n",
       "193      USA, ca 1984.\\nHovedpersonen William Halleck k...         0   \n",
       "434      I loved this book -- Corey Sifter is a likeabl...         0   \n",
       "639      http://en.wikipedia.org/wiki/The_Glenn_Miller_...         0   \n",
       "689      Listen/read my review here - http://alchemyofs...         0   \n",
       "...                                                    ...       ...   \n",
       "1706781  CWE founded 1881, pub 1st ed 1885, see entry, ...         0   \n",
       "1706856  I included this book in my book: The 100 Best ...         0   \n",
       "1706889  http://bookchronicle.wordpress.com/2007/10/19/...         0   \n",
       "1707030  Setting: United StatesReview? Maybe later or m...         0   \n",
       "1707052  5Q 4P The \"quote\": Section III, the 6th double...         0   \n",
       "\n",
       "             unixtime      work                user  stars          time  \\\n",
       "55       1.169251e+09   1199218          writestuff    4.0  Jan 20, 2007   \n",
       "193      1.226794e+09     35834            bnielsen    4.0  Nov 16, 2008   \n",
       "434      1.237507e+09     69759      stephaniechase    3.0  Mar 20, 2009   \n",
       "639      1.282435e+09  11528316            wdjoyner    4.0  Aug 22, 2010   \n",
       "689      1.311206e+09  11010126         nownewstrue    4.0  Jul 21, 2011   \n",
       "...               ...       ...                 ...    ...           ...   \n",
       "1706781  1.269475e+09   9734301  kitchengardenbooks    4.0  Mar 25, 2010   \n",
       "1706856  1.241741e+09      7605      toddsattersten    5.0   May 8, 2009   \n",
       "1706889  1.223338e+09      1488       bookchronicle    4.0   Oct 7, 2008   \n",
       "1707030  1.282522e+09    522063        thereshegoes    4.0  Aug 23, 2010   \n",
       "1707052  1.272845e+09   1779085      TeenbookReader    5.0   May 3, 2010   \n",
       "\n",
       "         abuse  not_a_review  \n",
       "55       False          True  \n",
       "193      False          True  \n",
       "434      False          True  \n",
       "639       True          True  \n",
       "689      False          True  \n",
       "...        ...           ...  \n",
       "1706781  False          True  \n",
       "1706856   True          True  \n",
       "1706889  False          True  \n",
       "1707030  False          True  \n",
       "1707052  False          True  \n",
       "\n",
       "[19750 rows x 9 columns]"
      ]
     },
     "execution_count": 16,
     "metadata": {},
     "output_type": "execute_result"
    }
   ],
   "source": [
    "reviews_df[reviews_df['not_a_review']]"
   ]
  },
  {
   "cell_type": "markdown",
   "id": "e401be06",
   "metadata": {},
   "source": [
    "Let's look at a few 'not_a_review' flagged entries"
   ]
  },
  {
   "cell_type": "code",
   "execution_count": 17,
   "id": "fdc69038",
   "metadata": {},
   "outputs": [
    {
     "data": {
      "text/plain": [
       "'A disturbing book, but one that I can recommend. '"
      ]
     },
     "execution_count": 17,
     "metadata": {},
     "output_type": "execute_result"
    }
   ],
   "source": [
    "reviews_df.loc[55].comment"
   ]
  },
  {
   "cell_type": "code",
   "execution_count": 18,
   "id": "474492eb",
   "metadata": {},
   "outputs": [
    {
     "data": {
      "text/plain": [
       "'USA, ca 1984.\\nHovedpersonen William Halleck krer en sigjnerkvinde over. Han kender politimesteren og dommeren og gr fri. Lige p nr en forbandelse: \"Tyndere\". Hvert kapitel starter med et tal for hans vgt og det gr kun nedad. Han har det ok med at tabe sig, men ikke i et konstant uafvendeligt tempo.\\nSigjneren forbander ogs dommeren og politimesteren.\\nSigjnernes forbandelser er p svensk, hvilket er ret morsomt. Side 240: \"Han satte sig pa en av stolarna! Han sneglade pa nytt mot hyllorna i vild! Vild!\" Halleck kender en barsk type, som truer sigjneren til at give Halleck en chance for at slippe for forbandelsen ved at give den videre.\\nMen det gr ogs galt og han ender med at tage en god portion af forbandelsen selv.\\nNydelig Stephen King roman hvor en helt almindelig person pludselig sidder i en skruestik '"
      ]
     },
     "execution_count": 18,
     "metadata": {},
     "output_type": "execute_result"
    }
   ],
   "source": [
    "reviews_df.loc[193].comment"
   ]
  },
  {
   "cell_type": "markdown",
   "id": "bb8b8e3d",
   "metadata": {},
   "source": [
    "Following is the translation from above: (generated using Google Translate)\n",
    "\n",
    "\n",
    "'USA, circa 1984.\\nThe main character William Halleck seduces a wealthy woman. He knows the chief of police and the judge and goes free. Right after a curse: \"Thinner\". Each chapter starts with a number for his weight and it only goes down. He's okay with losing weight, but not at a constant irreversible pace.\\nThe signer also curses the judge and the police chief.\\nThe signer's curses are in Swedish, which is quite funny. Page 240: \"He sat down on one of the chairs! He slunk again towards the shelves wildly! Wildly!\" Halleck knows a rough guy who threatens the signer to give Halleck a chance to escape the curse by passing it on.\\nBut that also goes wrong and he ends up taking a good portion of the curse himself.\\nLovely Stephen King novel where a completely ordinary person suddenly sits in a vise '\n",
    "\n"
   ]
  },
  {
   "cell_type": "code",
   "execution_count": 19,
   "id": "6ec7233a",
   "metadata": {},
   "outputs": [
    {
     "data": {
      "text/plain": [
       "'I loved this book -- Corey Sifter is a likeable, believable character, and the story of the rise and fall of a local powerful family and a politician running for President was fascinating. Canin moves back and forth between the past and the present in a way that is never confusing, but rather gives credence to the central theme of the book: the we are often in the dark, even about those closest to us. '"
      ]
     },
     "execution_count": 19,
     "metadata": {},
     "output_type": "execute_result"
    }
   ],
   "source": [
    "reviews_df.loc[434].comment"
   ]
  },
  {
   "cell_type": "markdown",
   "id": "93a2285b",
   "metadata": {},
   "source": [
    "LibraryThings says the following about the flags system:\n",
    "\n",
    "`Important: Do not abuse this feature. \"Not a review\" is not intended for short reviews, poorly-written reviews or reviews you disagree with. Links to the reviewer's blog are also acceptable. \"Abuse of terms of service\" includes violations such as spam reviews and posting copyrighted material without permission. See the terms of service for more guidelines.`\n",
    "\n",
    "\n",
    "Users can flag reviews as \"Not a review\" or \"Abuse of terms of service\". What I have gathered from discussions on https://www.librarything.com/ngroups/2862/Flaggers%21 is that reviews where people do not provide anything meaningful about the book, and simply pass comments are likely to be flagged as \"Not a review\". But this isn't always the case, as people get wrongly flagged. The website uses an appeal/counter-flag system. Abuse includes copy-pasting reviews from other sources.\n",
    "\n",
    "Out of the three listed above, only the second one doesn't look like a review. Looking at a few more cases, the following are definitely not reviews."
   ]
  },
  {
   "cell_type": "code",
   "execution_count": 20,
   "id": "de787777",
   "metadata": {},
   "outputs": [
    {
     "data": {
      "text/plain": [
       "comment         http://en.wikipedia.org/wiki/The_Glenn_Miller_...\n",
       "nhelpful                                                        0\n",
       "unixtime                                             1282435200.0\n",
       "work                                                     11528316\n",
       "user                                                     wdjoyner\n",
       "stars                                                         4.0\n",
       "time                                                 Aug 22, 2010\n",
       "abuse                                                        True\n",
       "not_a_review                                                 True\n",
       "Name: 639, dtype: object"
      ]
     },
     "execution_count": 20,
     "metadata": {},
     "output_type": "execute_result"
    }
   ],
   "source": [
    "reviews_df.loc[639]"
   ]
  },
  {
   "cell_type": "code",
   "execution_count": 21,
   "id": "1d0a10e6",
   "metadata": {},
   "outputs": [
    {
     "data": {
      "text/plain": [
       "'http://en.wikipedia.org/wiki/The_Glenn_Miller_Story '"
      ]
     },
     "execution_count": 21,
     "metadata": {},
     "output_type": "execute_result"
    }
   ],
   "source": [
    "reviews_df.loc[639].comment"
   ]
  },
  {
   "cell_type": "code",
   "execution_count": 22,
   "id": "e528db19",
   "metadata": {},
   "outputs": [
    {
     "data": {
      "text/plain": [
       "'5Q 4P The \"quote\": Section III, the 6th double-page spread, where he is looking for food, and the food people show him seems so strange ... and he can\\'t find a loaf of bread. '"
      ]
     },
     "execution_count": 22,
     "metadata": {},
     "output_type": "execute_result"
    }
   ],
   "source": [
    "reviews_df.loc[1707052].comment"
   ]
  },
  {
   "cell_type": "markdown",
   "id": "5429f325",
   "metadata": {},
   "source": [
    "With these entries being only a little over 1%, we can drop them safely. It is true that we might lose some legit review in the process."
   ]
  },
  {
   "cell_type": "code",
   "execution_count": 23,
   "id": "9b5cc28b",
   "metadata": {},
   "outputs": [
    {
     "data": {
      "text/plain": [
       "0.014238082364603047"
      ]
     },
     "execution_count": 23,
     "metadata": {},
     "output_type": "execute_result"
    }
   ],
   "source": [
    "19750/reviews_df.shape[0]"
   ]
  },
  {
   "cell_type": "markdown",
   "id": "dfc6a288",
   "metadata": {},
   "source": [
    "Now, let's look at the abuse flagged items."
   ]
  },
  {
   "cell_type": "code",
   "execution_count": 24,
   "id": "9542afc5",
   "metadata": {},
   "outputs": [
    {
     "data": {
      "text/html": [
       "<div>\n",
       "<style scoped>\n",
       "    .dataframe tbody tr th:only-of-type {\n",
       "        vertical-align: middle;\n",
       "    }\n",
       "\n",
       "    .dataframe tbody tr th {\n",
       "        vertical-align: top;\n",
       "    }\n",
       "\n",
       "    .dataframe thead th {\n",
       "        text-align: right;\n",
       "    }\n",
       "</style>\n",
       "<table border=\"1\" class=\"dataframe\">\n",
       "  <thead>\n",
       "    <tr style=\"text-align: right;\">\n",
       "      <th></th>\n",
       "      <th>comment</th>\n",
       "      <th>nhelpful</th>\n",
       "      <th>unixtime</th>\n",
       "      <th>work</th>\n",
       "      <th>user</th>\n",
       "      <th>stars</th>\n",
       "      <th>time</th>\n",
       "      <th>abuse</th>\n",
       "      <th>not_a_review</th>\n",
       "    </tr>\n",
       "  </thead>\n",
       "  <tbody>\n",
       "    <tr>\n",
       "      <th>143</th>\n",
       "      <td>Children's Literature - Lois Rubin Gross \\nAn ...</td>\n",
       "      <td>0</td>\n",
       "      <td>1.316045e+09</td>\n",
       "      <td>8176470</td>\n",
       "      <td>EBurggraf</td>\n",
       "      <td>4.0</td>\n",
       "      <td>Sep 15, 2011</td>\n",
       "      <td>True</td>\n",
       "      <td>False</td>\n",
       "    </tr>\n",
       "    <tr>\n",
       "      <th>633</th>\n",
       "      <td>Reviewed by Marta Morrison for TeensReadToo.co...</td>\n",
       "      <td>0</td>\n",
       "      <td>1.302394e+09</td>\n",
       "      <td>10886889</td>\n",
       "      <td>GeniusJen</td>\n",
       "      <td>5.0</td>\n",
       "      <td>Apr 10, 2011</td>\n",
       "      <td>True</td>\n",
       "      <td>False</td>\n",
       "    </tr>\n",
       "    <tr>\n",
       "      <th>639</th>\n",
       "      <td>http://en.wikipedia.org/wiki/The_Glenn_Miller_...</td>\n",
       "      <td>0</td>\n",
       "      <td>1.282435e+09</td>\n",
       "      <td>11528316</td>\n",
       "      <td>wdjoyner</td>\n",
       "      <td>4.0</td>\n",
       "      <td>Aug 22, 2010</td>\n",
       "      <td>True</td>\n",
       "      <td>True</td>\n",
       "    </tr>\n",
       "    <tr>\n",
       "      <th>1132</th>\n",
       "      <td>The only up-to-date anthology of traditional A...</td>\n",
       "      <td>0</td>\n",
       "      <td>1.196381e+09</td>\n",
       "      <td>3340171</td>\n",
       "      <td>butterfly3</td>\n",
       "      <td>4.0</td>\n",
       "      <td>Nov 30, 2007</td>\n",
       "      <td>True</td>\n",
       "      <td>False</td>\n",
       "    </tr>\n",
       "    <tr>\n",
       "      <th>1147</th>\n",
       "      <td>I decided to read this book, because the topic...</td>\n",
       "      <td>0</td>\n",
       "      <td>1.307664e+09</td>\n",
       "      <td>7997468</td>\n",
       "      <td>Princetonbookreview</td>\n",
       "      <td>4.0</td>\n",
       "      <td>Jun 10, 2011</td>\n",
       "      <td>True</td>\n",
       "      <td>False</td>\n",
       "    </tr>\n",
       "    <tr>\n",
       "      <th>...</th>\n",
       "      <td>...</td>\n",
       "      <td>...</td>\n",
       "      <td>...</td>\n",
       "      <td>...</td>\n",
       "      <td>...</td>\n",
       "      <td>...</td>\n",
       "      <td>...</td>\n",
       "      <td>...</td>\n",
       "      <td>...</td>\n",
       "    </tr>\n",
       "    <tr>\n",
       "      <th>1703962</th>\n",
       "      <td>Reviewer:\\tG. Merritt (Boulder, CO) - See all ...</td>\n",
       "      <td>0</td>\n",
       "      <td>1.138752e+09</td>\n",
       "      <td>32389</td>\n",
       "      <td>gnewfry</td>\n",
       "      <td>5.0</td>\n",
       "      <td>Feb 1, 2006</td>\n",
       "      <td>True</td>\n",
       "      <td>False</td>\n",
       "    </tr>\n",
       "    <tr>\n",
       "      <th>1704292</th>\n",
       "      <td>Reviewed by Jaglvr for TeensReadToo.com\\n1989 ...</td>\n",
       "      <td>0</td>\n",
       "      <td>1.292026e+09</td>\n",
       "      <td>9900705</td>\n",
       "      <td>GeniusJen</td>\n",
       "      <td>5.0</td>\n",
       "      <td>Dec 11, 2010</td>\n",
       "      <td>True</td>\n",
       "      <td>False</td>\n",
       "    </tr>\n",
       "    <tr>\n",
       "      <th>1704347</th>\n",
       "      <td>Wikipedia: The Rise and Fall of the Third Reic...</td>\n",
       "      <td>0</td>\n",
       "      <td>1.159402e+09</td>\n",
       "      <td>3038</td>\n",
       "      <td>billyfantles</td>\n",
       "      <td>5.0</td>\n",
       "      <td>Sep 28, 2006</td>\n",
       "      <td>True</td>\n",
       "      <td>True</td>\n",
       "    </tr>\n",
       "    <tr>\n",
       "      <th>1704374</th>\n",
       "      <td>Reviewed by Carrie Spellman for TeensReadToo.c...</td>\n",
       "      <td>0</td>\n",
       "      <td>1.255392e+09</td>\n",
       "      <td>3576179</td>\n",
       "      <td>GeniusJen</td>\n",
       "      <td>5.0</td>\n",
       "      <td>Oct 13, 2009</td>\n",
       "      <td>True</td>\n",
       "      <td>False</td>\n",
       "    </tr>\n",
       "    <tr>\n",
       "      <th>1706856</th>\n",
       "      <td>I included this book in my book: The 100 Best ...</td>\n",
       "      <td>0</td>\n",
       "      <td>1.241741e+09</td>\n",
       "      <td>7605</td>\n",
       "      <td>toddsattersten</td>\n",
       "      <td>5.0</td>\n",
       "      <td>May 8, 2009</td>\n",
       "      <td>True</td>\n",
       "      <td>True</td>\n",
       "    </tr>\n",
       "  </tbody>\n",
       "</table>\n",
       "<p>5474 rows × 9 columns</p>\n",
       "</div>"
      ],
      "text/plain": [
       "                                                   comment  nhelpful  \\\n",
       "143      Children's Literature - Lois Rubin Gross \\nAn ...         0   \n",
       "633      Reviewed by Marta Morrison for TeensReadToo.co...         0   \n",
       "639      http://en.wikipedia.org/wiki/The_Glenn_Miller_...         0   \n",
       "1132     The only up-to-date anthology of traditional A...         0   \n",
       "1147     I decided to read this book, because the topic...         0   \n",
       "...                                                    ...       ...   \n",
       "1703962  Reviewer:\\tG. Merritt (Boulder, CO) - See all ...         0   \n",
       "1704292  Reviewed by Jaglvr for TeensReadToo.com\\n1989 ...         0   \n",
       "1704347  Wikipedia: The Rise and Fall of the Third Reic...         0   \n",
       "1704374  Reviewed by Carrie Spellman for TeensReadToo.c...         0   \n",
       "1706856  I included this book in my book: The 100 Best ...         0   \n",
       "\n",
       "             unixtime      work                 user  stars          time  \\\n",
       "143      1.316045e+09   8176470            EBurggraf    4.0  Sep 15, 2011   \n",
       "633      1.302394e+09  10886889            GeniusJen    5.0  Apr 10, 2011   \n",
       "639      1.282435e+09  11528316             wdjoyner    4.0  Aug 22, 2010   \n",
       "1132     1.196381e+09   3340171           butterfly3    4.0  Nov 30, 2007   \n",
       "1147     1.307664e+09   7997468  Princetonbookreview    4.0  Jun 10, 2011   \n",
       "...               ...       ...                  ...    ...           ...   \n",
       "1703962  1.138752e+09     32389              gnewfry    5.0   Feb 1, 2006   \n",
       "1704292  1.292026e+09   9900705            GeniusJen    5.0  Dec 11, 2010   \n",
       "1704347  1.159402e+09      3038         billyfantles    5.0  Sep 28, 2006   \n",
       "1704374  1.255392e+09   3576179            GeniusJen    5.0  Oct 13, 2009   \n",
       "1706856  1.241741e+09      7605       toddsattersten    5.0   May 8, 2009   \n",
       "\n",
       "         abuse  not_a_review  \n",
       "143       True         False  \n",
       "633       True         False  \n",
       "639       True          True  \n",
       "1132      True         False  \n",
       "1147      True         False  \n",
       "...        ...           ...  \n",
       "1703962   True         False  \n",
       "1704292   True         False  \n",
       "1704347   True          True  \n",
       "1704374   True         False  \n",
       "1706856   True          True  \n",
       "\n",
       "[5474 rows x 9 columns]"
      ]
     },
     "execution_count": 24,
     "metadata": {},
     "output_type": "execute_result"
    }
   ],
   "source": [
    "reviews_df[reviews_df['abuse']]"
   ]
  },
  {
   "cell_type": "code",
   "execution_count": 25,
   "id": "ed3f408e",
   "metadata": {},
   "outputs": [
    {
     "data": {
      "text/plain": [
       "'I decided to read this book, because the topic is unusual and I was intrigued by the Renaissance era. The backdrop for this book is a convent in the late 1500s. This is excellent well-researched Historical Fiction with great insight into convent life during this time period. Its fascinating and disturbing to realize that at one time women were forced into the convent because their families had only enough money for one dowry or they were disfigured or simply not pretty enough. In this story, Serafina enters the convent against her will because she refuses to marry the man he father chooses for her. Shes young, rebellious and determined to escape, which adds a layer of mystery to the story as you wonder if she will succeed. On a deeper level this book explores the hierarchy of female leadership in a closed all female society.\\nReview previously posted at: www.princetonbookreview.com\\nFind us on Face book http://www.facebook.com/#%21/pages/Princeton-Book-Review/73532562757 '"
      ]
     },
     "execution_count": 25,
     "metadata": {},
     "output_type": "execute_result"
    }
   ],
   "source": [
    "reviews_df.loc[1147].comment"
   ]
  },
  {
   "cell_type": "markdown",
   "id": "6a49d22c",
   "metadata": {},
   "source": [
    "The above review abuses the TOS of LibraryThings. While the review provides us the details about the book, it doesn't convey the user's thoughts. We will therefore drop these entries."
   ]
  },
  {
   "cell_type": "code",
   "execution_count": 26,
   "id": "4c8a4f15",
   "metadata": {},
   "outputs": [],
   "source": [
    "new_review_df = reviews_df[reviews_df['not_a_review'] == False]"
   ]
  },
  {
   "cell_type": "code",
   "execution_count": 27,
   "id": "b4373e45",
   "metadata": {},
   "outputs": [],
   "source": [
    "new_review_df = new_review_df[new_review_df['abuse'] == False]"
   ]
  },
  {
   "cell_type": "markdown",
   "id": "2a2952b1",
   "metadata": {},
   "source": [
    "To confirm the drop operation was successful:"
   ]
  },
  {
   "cell_type": "code",
   "execution_count": 28,
   "id": "b3529827",
   "metadata": {},
   "outputs": [
    {
     "data": {
      "text/html": [
       "<div>\n",
       "<style scoped>\n",
       "    .dataframe tbody tr th:only-of-type {\n",
       "        vertical-align: middle;\n",
       "    }\n",
       "\n",
       "    .dataframe tbody tr th {\n",
       "        vertical-align: top;\n",
       "    }\n",
       "\n",
       "    .dataframe thead th {\n",
       "        text-align: right;\n",
       "    }\n",
       "</style>\n",
       "<table border=\"1\" class=\"dataframe\">\n",
       "  <thead>\n",
       "    <tr style=\"text-align: right;\">\n",
       "      <th></th>\n",
       "      <th>comment</th>\n",
       "      <th>nhelpful</th>\n",
       "      <th>unixtime</th>\n",
       "      <th>work</th>\n",
       "      <th>user</th>\n",
       "      <th>stars</th>\n",
       "      <th>time</th>\n",
       "      <th>abuse</th>\n",
       "      <th>not_a_review</th>\n",
       "    </tr>\n",
       "  </thead>\n",
       "  <tbody>\n",
       "  </tbody>\n",
       "</table>\n",
       "</div>"
      ],
      "text/plain": [
       "Empty DataFrame\n",
       "Columns: [comment, nhelpful, unixtime, work, user, stars, time, abuse, not_a_review]\n",
       "Index: []"
      ]
     },
     "execution_count": 28,
     "metadata": {},
     "output_type": "execute_result"
    }
   ],
   "source": [
    "new_review_df[new_review_df['abuse']]"
   ]
  },
  {
   "cell_type": "code",
   "execution_count": 29,
   "id": "3d2004a0",
   "metadata": {},
   "outputs": [
    {
     "data": {
      "text/html": [
       "<div>\n",
       "<style scoped>\n",
       "    .dataframe tbody tr th:only-of-type {\n",
       "        vertical-align: middle;\n",
       "    }\n",
       "\n",
       "    .dataframe tbody tr th {\n",
       "        vertical-align: top;\n",
       "    }\n",
       "\n",
       "    .dataframe thead th {\n",
       "        text-align: right;\n",
       "    }\n",
       "</style>\n",
       "<table border=\"1\" class=\"dataframe\">\n",
       "  <thead>\n",
       "    <tr style=\"text-align: right;\">\n",
       "      <th></th>\n",
       "      <th>comment</th>\n",
       "      <th>nhelpful</th>\n",
       "      <th>unixtime</th>\n",
       "      <th>work</th>\n",
       "      <th>user</th>\n",
       "      <th>stars</th>\n",
       "      <th>time</th>\n",
       "      <th>abuse</th>\n",
       "      <th>not_a_review</th>\n",
       "    </tr>\n",
       "  </thead>\n",
       "  <tbody>\n",
       "  </tbody>\n",
       "</table>\n",
       "</div>"
      ],
      "text/plain": [
       "Empty DataFrame\n",
       "Columns: [comment, nhelpful, unixtime, work, user, stars, time, abuse, not_a_review]\n",
       "Index: []"
      ]
     },
     "execution_count": 29,
     "metadata": {},
     "output_type": "execute_result"
    }
   ],
   "source": [
    "new_review_df[new_review_df['not_a_review']]"
   ]
  },
  {
   "cell_type": "markdown",
   "id": "558cb067",
   "metadata": {},
   "source": [
    "### 2.1 Duplicate samples"
   ]
  },
  {
   "cell_type": "code",
   "execution_count": 30,
   "id": "d5590db7",
   "metadata": {},
   "outputs": [
    {
     "data": {
      "text/html": [
       "<div>\n",
       "<style scoped>\n",
       "    .dataframe tbody tr th:only-of-type {\n",
       "        vertical-align: middle;\n",
       "    }\n",
       "\n",
       "    .dataframe tbody tr th {\n",
       "        vertical-align: top;\n",
       "    }\n",
       "\n",
       "    .dataframe thead th {\n",
       "        text-align: right;\n",
       "    }\n",
       "</style>\n",
       "<table border=\"1\" class=\"dataframe\">\n",
       "  <thead>\n",
       "    <tr style=\"text-align: right;\">\n",
       "      <th></th>\n",
       "      <th>comment</th>\n",
       "      <th>nhelpful</th>\n",
       "      <th>unixtime</th>\n",
       "      <th>work</th>\n",
       "      <th>user</th>\n",
       "      <th>stars</th>\n",
       "      <th>time</th>\n",
       "      <th>abuse</th>\n",
       "      <th>not_a_review</th>\n",
       "    </tr>\n",
       "  </thead>\n",
       "  <tbody>\n",
       "  </tbody>\n",
       "</table>\n",
       "</div>"
      ],
      "text/plain": [
       "Empty DataFrame\n",
       "Columns: [comment, nhelpful, unixtime, work, user, stars, time, abuse, not_a_review]\n",
       "Index: []"
      ]
     },
     "execution_count": 30,
     "metadata": {},
     "output_type": "execute_result"
    }
   ],
   "source": [
    "new_review_df[new_review_df.duplicated()]"
   ]
  },
  {
   "cell_type": "markdown",
   "id": "3a2bf24d",
   "metadata": {},
   "source": [
    "It seems that there are no duplictes."
   ]
  },
  {
   "cell_type": "markdown",
   "id": "ccc12f19",
   "metadata": {},
   "source": [
    "### 2.3 stars\n",
    "We see that all ratings are between 0 and 5, with increments of 0.5."
   ]
  },
  {
   "cell_type": "code",
   "execution_count": 31,
   "id": "0c1d3e3e",
   "metadata": {},
   "outputs": [
    {
     "data": {
      "text/plain": [
       "array([4.5, 3. , 4. , 2. , 3.5, 5. , 1. , 2.5, 0.5, 1.5])"
      ]
     },
     "execution_count": 31,
     "metadata": {},
     "output_type": "execute_result"
    }
   ],
   "source": [
    "new_review_df['stars'].unique()"
   ]
  },
  {
   "cell_type": "markdown",
   "id": "1401a666",
   "metadata": {},
   "source": [
    "### 2.4 nhelpful"
   ]
  },
  {
   "cell_type": "code",
   "execution_count": 32,
   "id": "3c637388",
   "metadata": {},
   "outputs": [
    {
     "data": {
      "text/plain": [
       "array([  0,   6,   2,   1,   5,   7,   3,   4,  16,  22,  12,  18,  11,\n",
       "        21,  13,  10,   9,   8,  47,  20,  30,  33,  15,  19,  28,  37,\n",
       "        31,  23,  14,  26,  17,  36,  25,  72,  52,  27,  34,  58,  48,\n",
       "        24,  63,  79,  32,  38, 129,  75,  29,  46, 332, 108,  40,  87,\n",
       "        39,  68, 189,  59, 152, 100,  66,  44,  82,  41,  78,  45,  60,\n",
       "        43, 316,  49,  76,  70,  77,  55,  67,  74])"
      ]
     },
     "execution_count": 32,
     "metadata": {},
     "output_type": "execute_result"
    }
   ],
   "source": [
    "new_review_df['nhelpful'].unique()"
   ]
  },
  {
   "cell_type": "code",
   "execution_count": 33,
   "id": "9a52da77",
   "metadata": {},
   "outputs": [
    {
     "data": {
      "text/plain": [
       "0     1200302\n",
       "1      116734\n",
       "2       25950\n",
       "3        9046\n",
       "4        3947\n",
       "       ...   \n",
       "63          1\n",
       "52          1\n",
       "72          1\n",
       "47          1\n",
       "74          1\n",
       "Name: nhelpful, Length: 74, dtype: int64"
      ]
     },
     "execution_count": 33,
     "metadata": {},
     "output_type": "execute_result"
    }
   ],
   "source": [
    "new_review_df['nhelpful'].value_counts()"
   ]
  },
  {
   "cell_type": "markdown",
   "id": "3b421389",
   "metadata": {},
   "source": [
    "It seems that most users never mark reviews as helpful. Let's try understanding the distribution:"
   ]
  },
  {
   "cell_type": "code",
   "execution_count": 34,
   "id": "45ce95eb",
   "metadata": {},
   "outputs": [
    {
     "data": {
      "text/plain": [
       "<Axes: >"
      ]
     },
     "execution_count": 34,
     "metadata": {},
     "output_type": "execute_result"
    },
    {
     "data": {
      "image/png": "[encoded data removed]",
      "text/plain": [
       "<Figure size 640x480 with 1 Axes>"
      ]
     },
     "metadata": {},
     "output_type": "display_data"
    }
   ],
   "source": [
    "new_review_df['nhelpful'].value_counts().plot(kind='bar')"
   ]
  },
  {
   "cell_type": "markdown",
   "id": "6db6358b",
   "metadata": {},
   "source": [
    "This is expected as most books are not a popular. People may therefore never read the reviews for these books and hence never find the reviews helpful."
   ]
  },
  {
   "cell_type": "markdown",
   "id": "2165db3b",
   "metadata": {},
   "source": [
    "### 2.5 comment\n",
    "\n",
    "We see that there are a few comments with URLs. We need to clean these to ensure proper embeddings."
   ]
  },
  {
   "cell_type": "code",
   "execution_count": 35,
   "id": "a3f465e7",
   "metadata": {},
   "outputs": [
    {
     "data": {
      "text/html": [
       "<div>\n",
       "<style scoped>\n",
       "    .dataframe tbody tr th:only-of-type {\n",
       "        vertical-align: middle;\n",
       "    }\n",
       "\n",
       "    .dataframe tbody tr th {\n",
       "        vertical-align: top;\n",
       "    }\n",
       "\n",
       "    .dataframe thead th {\n",
       "        text-align: right;\n",
       "    }\n",
       "</style>\n",
       "<table border=\"1\" class=\"dataframe\">\n",
       "  <thead>\n",
       "    <tr style=\"text-align: right;\">\n",
       "      <th></th>\n",
       "      <th>comment</th>\n",
       "      <th>nhelpful</th>\n",
       "      <th>unixtime</th>\n",
       "      <th>work</th>\n",
       "      <th>user</th>\n",
       "      <th>stars</th>\n",
       "      <th>time</th>\n",
       "      <th>abuse</th>\n",
       "      <th>not_a_review</th>\n",
       "    </tr>\n",
       "  </thead>\n",
       "  <tbody>\n",
       "    <tr>\n",
       "      <th>11</th>\n",
       "      <td>Monitor life.\\nhttp://freesf.strandedinoz.com/...</td>\n",
       "      <td>0</td>\n",
       "      <td>1.309910e+09</td>\n",
       "      <td>11162023</td>\n",
       "      <td>BlueTysonSS</td>\n",
       "      <td>3.5</td>\n",
       "      <td>Jul 6, 2011</td>\n",
       "      <td>False</td>\n",
       "      <td>False</td>\n",
       "    </tr>\n",
       "    <tr>\n",
       "      <th>12</th>\n",
       "      <td>You enter the moment of the naked lunch when y...</td>\n",
       "      <td>6</td>\n",
       "      <td>1.286150e+09</td>\n",
       "      <td>5852</td>\n",
       "      <td>funkendub</td>\n",
       "      <td>5.0</td>\n",
       "      <td>Oct 4, 2010</td>\n",
       "      <td>False</td>\n",
       "      <td>False</td>\n",
       "    </tr>\n",
       "    <tr>\n",
       "      <th>14</th>\n",
       "      <td>In these days of Echelon, Satellite spying, an...</td>\n",
       "      <td>1</td>\n",
       "      <td>1.169856e+09</td>\n",
       "      <td>1472</td>\n",
       "      <td>bluetyson</td>\n",
       "      <td>5.0</td>\n",
       "      <td>Jan 27, 2007</td>\n",
       "      <td>False</td>\n",
       "      <td>False</td>\n",
       "    </tr>\n",
       "    <tr>\n",
       "      <th>29</th>\n",
       "      <td>C'est pour moi une premire exprience avec l'au...</td>\n",
       "      <td>0</td>\n",
       "      <td>1.365034e+09</td>\n",
       "      <td>8311485</td>\n",
       "      <td>Moncoinlecture</td>\n",
       "      <td>3.0</td>\n",
       "      <td>Apr 4, 2013</td>\n",
       "      <td>False</td>\n",
       "      <td>False</td>\n",
       "    </tr>\n",
       "    <tr>\n",
       "      <th>61</th>\n",
       "      <td>Review posted here: http://offbeatvagabond.blo...</td>\n",
       "      <td>1</td>\n",
       "      <td>1.336090e+09</td>\n",
       "      <td>11357432</td>\n",
       "      <td>harleyquinn0887</td>\n",
       "      <td>5.0</td>\n",
       "      <td>May 4, 2012</td>\n",
       "      <td>False</td>\n",
       "      <td>False</td>\n",
       "    </tr>\n",
       "    <tr>\n",
       "      <th>...</th>\n",
       "      <td>...</td>\n",
       "      <td>...</td>\n",
       "      <td>...</td>\n",
       "      <td>...</td>\n",
       "      <td>...</td>\n",
       "      <td>...</td>\n",
       "      <td>...</td>\n",
       "      <td>...</td>\n",
       "      <td>...</td>\n",
       "    </tr>\n",
       "    <tr>\n",
       "      <th>1706975</th>\n",
       "      <td>http://boekenwijs.blogspot.com/2008/05/heart-o...</td>\n",
       "      <td>0</td>\n",
       "      <td>1.210464e+09</td>\n",
       "      <td>2575</td>\n",
       "      <td>boekenwijs</td>\n",
       "      <td>2.0</td>\n",
       "      <td>May 11, 2008</td>\n",
       "      <td>False</td>\n",
       "      <td>False</td>\n",
       "    </tr>\n",
       "    <tr>\n",
       "      <th>1706999</th>\n",
       "      <td>http://nwhyte.livejournal.com/1700514.html\\nHe...</td>\n",
       "      <td>0</td>\n",
       "      <td>1.302307e+09</td>\n",
       "      <td>1411914</td>\n",
       "      <td>nwhyte</td>\n",
       "      <td>3.5</td>\n",
       "      <td>Apr 9, 2011</td>\n",
       "      <td>False</td>\n",
       "      <td>False</td>\n",
       "    </tr>\n",
       "    <tr>\n",
       "      <th>1707039</th>\n",
       "      <td>http://library.tom-hanna.org/2007/margaret-lob...</td>\n",
       "      <td>0</td>\n",
       "      <td>1.189037e+09</td>\n",
       "      <td>35552</td>\n",
       "      <td>tomhanna</td>\n",
       "      <td>4.0</td>\n",
       "      <td>Sep 6, 2007</td>\n",
       "      <td>False</td>\n",
       "      <td>False</td>\n",
       "    </tr>\n",
       "    <tr>\n",
       "      <th>1707063</th>\n",
       "      <td>http://olvasonaplo.freeblog.hu/archives/2007/0...</td>\n",
       "      <td>0</td>\n",
       "      <td>1.209082e+09</td>\n",
       "      <td>76280</td>\n",
       "      <td>sorsha</td>\n",
       "      <td>3.0</td>\n",
       "      <td>Apr 25, 2008</td>\n",
       "      <td>False</td>\n",
       "      <td>False</td>\n",
       "    </tr>\n",
       "    <tr>\n",
       "      <th>1707067</th>\n",
       "      <td>http://tamaranth.blogspot.com/1994/03/guilty-p...</td>\n",
       "      <td>0</td>\n",
       "      <td>1.176682e+09</td>\n",
       "      <td>4873693</td>\n",
       "      <td>tamaranth</td>\n",
       "      <td>4.5</td>\n",
       "      <td>Apr 16, 2007</td>\n",
       "      <td>False</td>\n",
       "      <td>False</td>\n",
       "    </tr>\n",
       "  </tbody>\n",
       "</table>\n",
       "<p>83321 rows × 9 columns</p>\n",
       "</div>"
      ],
      "text/plain": [
       "                                                   comment  nhelpful  \\\n",
       "11       Monitor life.\\nhttp://freesf.strandedinoz.com/...         0   \n",
       "12       You enter the moment of the naked lunch when y...         6   \n",
       "14       In these days of Echelon, Satellite spying, an...         1   \n",
       "29       C'est pour moi une premire exprience avec l'au...         0   \n",
       "61       Review posted here: http://offbeatvagabond.blo...         1   \n",
       "...                                                    ...       ...   \n",
       "1706975  http://boekenwijs.blogspot.com/2008/05/heart-o...         0   \n",
       "1706999  http://nwhyte.livejournal.com/1700514.html\\nHe...         0   \n",
       "1707039  http://library.tom-hanna.org/2007/margaret-lob...         0   \n",
       "1707063  http://olvasonaplo.freeblog.hu/archives/2007/0...         0   \n",
       "1707067  http://tamaranth.blogspot.com/1994/03/guilty-p...         0   \n",
       "\n",
       "             unixtime      work             user  stars          time  abuse  \\\n",
       "11       1.309910e+09  11162023      BlueTysonSS    3.5   Jul 6, 2011  False   \n",
       "12       1.286150e+09      5852        funkendub    5.0   Oct 4, 2010  False   \n",
       "14       1.169856e+09      1472        bluetyson    5.0  Jan 27, 2007  False   \n",
       "29       1.365034e+09   8311485   Moncoinlecture    3.0   Apr 4, 2013  False   \n",
       "61       1.336090e+09  11357432  harleyquinn0887    5.0   May 4, 2012  False   \n",
       "...               ...       ...              ...    ...           ...    ...   \n",
       "1706975  1.210464e+09      2575       boekenwijs    2.0  May 11, 2008  False   \n",
       "1706999  1.302307e+09   1411914           nwhyte    3.5   Apr 9, 2011  False   \n",
       "1707039  1.189037e+09     35552         tomhanna    4.0   Sep 6, 2007  False   \n",
       "1707063  1.209082e+09     76280           sorsha    3.0  Apr 25, 2008  False   \n",
       "1707067  1.176682e+09   4873693        tamaranth    4.5  Apr 16, 2007  False   \n",
       "\n",
       "         not_a_review  \n",
       "11              False  \n",
       "12              False  \n",
       "14              False  \n",
       "29              False  \n",
       "61              False  \n",
       "...               ...  \n",
       "1706975         False  \n",
       "1706999         False  \n",
       "1707039         False  \n",
       "1707063         False  \n",
       "1707067         False  \n",
       "\n",
       "[83321 rows x 9 columns]"
      ]
     },
     "execution_count": 35,
     "metadata": {},
     "output_type": "execute_result"
    }
   ],
   "source": [
    "new_review_df[new_review_df['comment'].str.contains('http|www')]"
   ]
  },
  {
   "cell_type": "code",
   "execution_count": 36,
   "id": "2750cadc",
   "metadata": {},
   "outputs": [
    {
     "data": {
      "text/plain": [
       "0.06111221129374143"
      ]
     },
     "execution_count": 36,
     "metadata": {},
     "output_type": "execute_result"
    }
   ],
   "source": [
    "# Percentage reviews with containing 'http' or 'www'\n",
    "\n",
    "83321/new_review_df.shape[0]"
   ]
  },
  {
   "cell_type": "markdown",
   "id": "3186362e",
   "metadata": {},
   "source": [
    "6% is not a large fraction of the total reviews."
   ]
  },
  {
   "cell_type": "code",
   "execution_count": 37,
   "id": "ef9b9ddb",
   "metadata": {},
   "outputs": [
    {
     "data": {
      "text/html": [
       "<div>\n",
       "<style scoped>\n",
       "    .dataframe tbody tr th:only-of-type {\n",
       "        vertical-align: middle;\n",
       "    }\n",
       "\n",
       "    .dataframe tbody tr th {\n",
       "        vertical-align: top;\n",
       "    }\n",
       "\n",
       "    .dataframe thead th {\n",
       "        text-align: right;\n",
       "    }\n",
       "</style>\n",
       "<table border=\"1\" class=\"dataframe\">\n",
       "  <thead>\n",
       "    <tr style=\"text-align: right;\">\n",
       "      <th></th>\n",
       "      <th>comment</th>\n",
       "      <th>nhelpful</th>\n",
       "      <th>unixtime</th>\n",
       "      <th>work</th>\n",
       "      <th>user</th>\n",
       "      <th>stars</th>\n",
       "      <th>time</th>\n",
       "      <th>abuse</th>\n",
       "      <th>not_a_review</th>\n",
       "    </tr>\n",
       "  </thead>\n",
       "  <tbody>\n",
       "    <tr>\n",
       "      <th>12</th>\n",
       "      <td>You enter the moment of the naked lunch when y...</td>\n",
       "      <td>6</td>\n",
       "      <td>1.286150e+09</td>\n",
       "      <td>5852</td>\n",
       "      <td>funkendub</td>\n",
       "      <td>5.0</td>\n",
       "      <td>Oct 4, 2010</td>\n",
       "      <td>False</td>\n",
       "      <td>False</td>\n",
       "    </tr>\n",
       "    <tr>\n",
       "      <th>162</th>\n",
       "      <td>It's a real shame for Monica Pradhan that AMy ...</td>\n",
       "      <td>0</td>\n",
       "      <td>1.321488e+09</td>\n",
       "      <td>2411376</td>\n",
       "      <td>bookczuk</td>\n",
       "      <td>3.0</td>\n",
       "      <td>Nov 17, 2011</td>\n",
       "      <td>False</td>\n",
       "      <td>False</td>\n",
       "    </tr>\n",
       "    <tr>\n",
       "      <th>451</th>\n",
       "      <td>What is it like... to be considered: \"Genius?\"...</td>\n",
       "      <td>0</td>\n",
       "      <td>1.224634e+09</td>\n",
       "      <td>5787763</td>\n",
       "      <td>ANovelMenagerie</td>\n",
       "      <td>4.0</td>\n",
       "      <td>Oct 22, 2008</td>\n",
       "      <td>False</td>\n",
       "      <td>False</td>\n",
       "    </tr>\n",
       "    <tr>\n",
       "      <th>1084</th>\n",
       "      <td>I received this book through www.librarything....</td>\n",
       "      <td>0</td>\n",
       "      <td>1.323216e+09</td>\n",
       "      <td>11357953</td>\n",
       "      <td>apsing01</td>\n",
       "      <td>4.0</td>\n",
       "      <td>Dec 7, 2011</td>\n",
       "      <td>False</td>\n",
       "      <td>False</td>\n",
       "    </tr>\n",
       "    <tr>\n",
       "      <th>3025</th>\n",
       "      <td>Richard Powers is a master of sleight-of-hand....</td>\n",
       "      <td>0</td>\n",
       "      <td>1.286150e+09</td>\n",
       "      <td>8274047</td>\n",
       "      <td>funkendub</td>\n",
       "      <td>5.0</td>\n",
       "      <td>Oct 4, 2010</td>\n",
       "      <td>False</td>\n",
       "      <td>False</td>\n",
       "    </tr>\n",
       "    <tr>\n",
       "      <th>...</th>\n",
       "      <td>...</td>\n",
       "      <td>...</td>\n",
       "      <td>...</td>\n",
       "      <td>...</td>\n",
       "      <td>...</td>\n",
       "      <td>...</td>\n",
       "      <td>...</td>\n",
       "      <td>...</td>\n",
       "      <td>...</td>\n",
       "    </tr>\n",
       "    <tr>\n",
       "      <th>1703742</th>\n",
       "      <td>Nel silenzio della campagna pugliese, in un'es...</td>\n",
       "      <td>1</td>\n",
       "      <td>1.179619e+09</td>\n",
       "      <td>5950304</td>\n",
       "      <td>Streghissima</td>\n",
       "      <td>5.0</td>\n",
       "      <td>May 20, 2007</td>\n",
       "      <td>False</td>\n",
       "      <td>False</td>\n",
       "    </tr>\n",
       "    <tr>\n",
       "      <th>1704179</th>\n",
       "      <td>I bought this from Amazon at random, as I have...</td>\n",
       "      <td>0</td>\n",
       "      <td>1.360368e+09</td>\n",
       "      <td>11160219</td>\n",
       "      <td>nina.jon</td>\n",
       "      <td>4.0</td>\n",
       "      <td>Feb 9, 2013</td>\n",
       "      <td>False</td>\n",
       "      <td>False</td>\n",
       "    </tr>\n",
       "    <tr>\n",
       "      <th>1705436</th>\n",
       "      <td>In current day India, the police have called i...</td>\n",
       "      <td>0</td>\n",
       "      <td>1.301616e+09</td>\n",
       "      <td>9819803</td>\n",
       "      <td>Nickelini</td>\n",
       "      <td>4.0</td>\n",
       "      <td>Apr 1, 2011</td>\n",
       "      <td>False</td>\n",
       "      <td>False</td>\n",
       "    </tr>\n",
       "    <tr>\n",
       "      <th>1705511</th>\n",
       "      <td>From the writers of the website www.gofugyours...</td>\n",
       "      <td>0</td>\n",
       "      <td>1.364688e+09</td>\n",
       "      <td>4792292</td>\n",
       "      <td>JenJ.</td>\n",
       "      <td>4.0</td>\n",
       "      <td>Mar 31, 2013</td>\n",
       "      <td>False</td>\n",
       "      <td>False</td>\n",
       "    </tr>\n",
       "    <tr>\n",
       "      <th>1706656</th>\n",
       "      <td>Heading into adolescence is never an easy time...</td>\n",
       "      <td>0</td>\n",
       "      <td>1.373760e+09</td>\n",
       "      <td>11807852</td>\n",
       "      <td>BaileysAndBooks</td>\n",
       "      <td>4.5</td>\n",
       "      <td>Jul 14, 2013</td>\n",
       "      <td>False</td>\n",
       "      <td>False</td>\n",
       "    </tr>\n",
       "  </tbody>\n",
       "</table>\n",
       "<p>2352 rows × 9 columns</p>\n",
       "</div>"
      ],
      "text/plain": [
       "                                                   comment  nhelpful  \\\n",
       "12       You enter the moment of the naked lunch when y...         6   \n",
       "162      It's a real shame for Monica Pradhan that AMy ...         0   \n",
       "451      What is it like... to be considered: \"Genius?\"...         0   \n",
       "1084     I received this book through www.librarything....         0   \n",
       "3025     Richard Powers is a master of sleight-of-hand....         0   \n",
       "...                                                    ...       ...   \n",
       "1703742  Nel silenzio della campagna pugliese, in un'es...         1   \n",
       "1704179  I bought this from Amazon at random, as I have...         0   \n",
       "1705436  In current day India, the police have called i...         0   \n",
       "1705511  From the writers of the website www.gofugyours...         0   \n",
       "1706656  Heading into adolescence is never an easy time...         0   \n",
       "\n",
       "             unixtime      work             user  stars          time  abuse  \\\n",
       "12       1.286150e+09      5852        funkendub    5.0   Oct 4, 2010  False   \n",
       "162      1.321488e+09   2411376         bookczuk    3.0  Nov 17, 2011  False   \n",
       "451      1.224634e+09   5787763  ANovelMenagerie    4.0  Oct 22, 2008  False   \n",
       "1084     1.323216e+09  11357953         apsing01    4.0   Dec 7, 2011  False   \n",
       "3025     1.286150e+09   8274047        funkendub    5.0   Oct 4, 2010  False   \n",
       "...               ...       ...              ...    ...           ...    ...   \n",
       "1703742  1.179619e+09   5950304     Streghissima    5.0  May 20, 2007  False   \n",
       "1704179  1.360368e+09  11160219         nina.jon    4.0   Feb 9, 2013  False   \n",
       "1705436  1.301616e+09   9819803        Nickelini    4.0   Apr 1, 2011  False   \n",
       "1705511  1.364688e+09   4792292            JenJ.    4.0  Mar 31, 2013  False   \n",
       "1706656  1.373760e+09  11807852  BaileysAndBooks    4.5  Jul 14, 2013  False   \n",
       "\n",
       "         not_a_review  \n",
       "12              False  \n",
       "162             False  \n",
       "451             False  \n",
       "1084            False  \n",
       "3025            False  \n",
       "...               ...  \n",
       "1703742         False  \n",
       "1704179         False  \n",
       "1705436         False  \n",
       "1705511         False  \n",
       "1706656         False  \n",
       "\n",
       "[2352 rows x 9 columns]"
      ]
     },
     "execution_count": 37,
     "metadata": {},
     "output_type": "execute_result"
    }
   ],
   "source": [
    "# URL not guaranteed to contain with 'http'.\n",
    "new_review_df[new_review_df['comment'].str.contains(' www')]"
   ]
  },
  {
   "cell_type": "code",
   "execution_count": 38,
   "id": "41c7ef91",
   "metadata": {},
   "outputs": [
    {
     "data": {
      "text/plain": [
       "\"I received this book through www.librarything.com and it's early reviewer's program. I really didn't know what to expect when I received this ebook. I started the book yesterday and finished it in one day. It was very engaging. The characters were interesting and the story was fast-paced. There were parts that were thrilling, especially the beginning. The off the wall antics of Brian help lighten the story. I enjoyed traveling along with Brenda and Brian, especially the dinner with the parents scene. I wish that it had been a little longer because I'm dying to know what happens next. The ending is a bit of a cliffhanger. Yes, they solved the immediate issue with the criminal at hand but who were those other people and what do they want? I really do think that this book is a great one. The author really knows how to make people laugh at the sheer craziness of the book. \\nhttp://letthemalleatcake.blogspot.com/2011/12/medium-dead-by-chris-dolley.html \""
      ]
     },
     "execution_count": 38,
     "metadata": {},
     "output_type": "execute_result"
    }
   ],
   "source": [
    "new_review_df['comment'].loc[1084]"
   ]
  },
  {
   "cell_type": "markdown",
   "id": "49f4abdb",
   "metadata": {},
   "source": [
    "We need to remove the URLs and use the remaining text as part of reviews. Also need to clean up any special characters, and handle escape sequences."
   ]
  },
  {
   "cell_type": "code",
   "execution_count": 39,
   "id": "3eb5b036",
   "metadata": {},
   "outputs": [],
   "source": [
    "comments = new_review_df['comment'].copy()"
   ]
  },
  {
   "cell_type": "code",
   "execution_count": 40,
   "id": "d439edf1",
   "metadata": {},
   "outputs": [
    {
     "data": {
      "text/plain": [
       "0          Every evening, the brave queen of Persia, Shah...\n",
       "1          Its the 1983-84 school year and Edward Zanni o...\n",
       "2          I became privy to this book, when another auth...\n",
       "3                                                      .    \n",
       "4          This is a tremendous story of a freed woman an...\n",
       "                                 ...                        \n",
       "1707063    http://olvasonaplo.freeblog.hu/archives/2007/0...\n",
       "1707064    I came to this book with low expectations. The...\n",
       "1707066    This is a fairy tale which is very much a Cupi...\n",
       "1707067    http://tamaranth.blogspot.com/1994/03/guilty-p...\n",
       "1707069    I originally met most of the diseases covered ...\n",
       "Name: comment, Length: 1363410, dtype: object"
      ]
     },
     "execution_count": 40,
     "metadata": {},
     "output_type": "execute_result"
    }
   ],
   "source": [
    "comments"
   ]
  },
  {
   "cell_type": "markdown",
   "id": "582ca019",
   "metadata": {},
   "source": [
    "#### 2.5.1 Clean URLs"
   ]
  },
  {
   "cell_type": "markdown",
   "id": "79aefaff",
   "metadata": {},
   "source": [
    "We can remove the URLs using regex. Below are some examples of how it works:"
   ]
  },
  {
   "cell_type": "code",
   "execution_count": 41,
   "id": "17243053",
   "metadata": {
    "scrolled": true
   },
   "outputs": [
    {
     "data": {
      "text/plain": [
       "'http://tamaranth.blogspot.com/1994/03/guilty-pleasures-laurell-k-hamilton.html '"
      ]
     },
     "execution_count": 41,
     "metadata": {},
     "output_type": "execute_result"
    }
   ],
   "source": [
    "comments[1707067]"
   ]
  },
  {
   "cell_type": "code",
   "execution_count": 42,
   "id": "71e85af8",
   "metadata": {},
   "outputs": [
    {
     "data": {
      "text/plain": [
       "' '"
      ]
     },
     "execution_count": 42,
     "metadata": {},
     "output_type": "execute_result"
    }
   ],
   "source": [
    "re.sub('https?://[\\S]+|www\\.[\\S]+', '',\n",
    "       'http://tamaranth.blogspot.com/1994/03/guilty-pleasures-laurell-k-hamilton.html ')"
   ]
  },
  {
   "cell_type": "code",
   "execution_count": 43,
   "id": "68d5a9f8",
   "metadata": {},
   "outputs": [
    {
     "data": {
      "text/plain": [
       "\"I received this book through  and it's early reviewer's program. I really didn't know what to expect when I received this ebook. I started the book yesterday and finished it in one day. It was very engaging. The characters were interesting and the story was fast-paced. There were parts that were thrilling, especially the beginning. The off the wall antics of Brian help lighten the story. I enjoyed traveling along with Brenda and Brian, especially the dinner with the parents scene. I wish that it had been a little longer because I'm dying to know what happens next. The ending is a bit of a cliffhanger. Yes, they solved the immediate issue with the criminal at hand but who were those other people and what do they want? I really do think that this book is a great one. The author really knows how to make people laugh at the sheer craziness of the book. \\n \\n\\n\""
      ]
     },
     "execution_count": 43,
     "metadata": {},
     "output_type": "execute_result"
    }
   ],
   "source": [
    "re.sub('https?://[\\S]+|www\\.[\\S]+',\n",
    "       '',\n",
    "       \"\"\"I received this book through www.librarything.com and it's early reviewer's program. I really didn't know what to expect when I received this ebook. I started the book yesterday and finished it in one day. It was very engaging. The characters were interesting and the story was fast-paced. There were parts that were thrilling, especially the beginning. The off the wall antics of Brian help lighten the story. I enjoyed traveling along with Brenda and Brian, especially the dinner with the parents scene. I wish that it had been a little longer because I'm dying to know what happens next. The ending is a bit of a cliffhanger. Yes, they solved the immediate issue with the criminal at hand but who were those other people and what do they want? I really do think that this book is a great one. The author really knows how to make people laugh at the sheer craziness of the book. \\nhttp://letthemalleatcake.blogspot.com/2011/12/medium-dead-by-chris-dolley.html \n",
    "\n",
    "\"\"\")"
   ]
  },
  {
   "cell_type": "code",
   "execution_count": 44,
   "id": "c437d290",
   "metadata": {},
   "outputs": [],
   "source": [
    "tmp = comments.str.replace('https?://[\\S]+|www\\.[\\S]+', '', regex = True)"
   ]
  },
  {
   "cell_type": "code",
   "execution_count": 45,
   "id": "0bde31e8",
   "metadata": {},
   "outputs": [
    {
     "data": {
      "text/plain": [
       "0          Every evening, the brave queen of Persia, Shah...\n",
       "1          Its the 1983-84 school year and Edward Zanni o...\n",
       "2          I became privy to this book, when another auth...\n",
       "3                                                      .    \n",
       "4          This is a tremendous story of a freed woman an...\n",
       "                                 ...                        \n",
       "1707063                                                     \n",
       "1707064    I came to this book with low expectations. The...\n",
       "1707066    This is a fairy tale which is very much a Cupi...\n",
       "1707067                                                     \n",
       "1707069    I originally met most of the diseases covered ...\n",
       "Name: comment, Length: 1363410, dtype: object"
      ]
     },
     "execution_count": 45,
     "metadata": {},
     "output_type": "execute_result"
    }
   ],
   "source": [
    "tmp"
   ]
  },
  {
   "cell_type": "code",
   "execution_count": 46,
   "id": "553c9d56",
   "metadata": {
    "scrolled": true
   },
   "outputs": [
    {
     "data": {
      "text/plain": [
       "205267     Very emotional, but beautifully balanced novel...\n",
       "221947         http:/bactra.org/reviews/christensen-kiefer/ \n",
       "251469     You've read this story before. It's the story ...\n",
       "310864     Morozovs excellent first book, The Net Delusio...\n",
       "407371     Through the Triangle\\nC.P. Stewart\\nOutskirts ...\n",
       "466105     James I is not a familiar king to me and curio...\n",
       "498466     The promises, and a few perils, of stacks of d...\n",
       "567626     The first thing any reader needs to know about...\n",
       "576673     http:/bactra.org/reviews/manski-on-identificat...\n",
       "612623     I am going to be frank. Very frank.\\nSomeone t...\n",
       "763775     Comme souvent chez Graham Greene on retrouve d...\n",
       "922110     4 STARS\\nWas entertaining but not to the point...\n",
       "959484     Ashley Z. \"Staying Fat for Sarah Byrnes.\" (9 J...\n",
       "971974     When we meet Bud Caldwell, he is living in an ...\n",
       "1190298    It took me a long time to get around to readin...\n",
       "1206870    http:// \\nAn academic, Paulos writes text that...\n",
       "1303036    Num estilo ousado e provocador, o autor tem co...\n",
       "1460527    This is a brilliant novella. A must read for a...\n",
       "1489388                                             http//: \n",
       "1574355    Book Title: The Car Thief\\nAuthor: Theodore We...\n",
       "1631426    I was SO excited when DEADLOCKED arrived in th...\n",
       "1666388    This is one of the worst books I have ever rea...\n",
       "Name: comment, dtype: object"
      ]
     },
     "execution_count": 46,
     "metadata": {},
     "output_type": "execute_result"
    }
   ],
   "source": [
    "tmp[tmp.str.contains('http')]"
   ]
  },
  {
   "cell_type": "markdown",
   "id": "9d0c4c7f",
   "metadata": {},
   "source": [
    "While we see some obvious invalid URLs due to user errors, a some are confusing. Let's look at the below examples."
   ]
  },
  {
   "cell_type": "code",
   "execution_count": 47,
   "id": "e53235e9",
   "metadata": {},
   "outputs": [
    {
     "data": {
      "text/plain": [
       "'http:// \\nAn academic, Paulos writes text that is easy to read. He writes very openly about his large loss on WorldCom stock.\\nA few quotes:\\n\"Transparency, trust, independence, and authority are all needed to make accounting work. They are all in great demand, but sometimes in short supply.\"\\n\"On the whole, most investors, professionals on Wall Street, amateurs everywhere, disbelieve (the Efficient Market Hypothesis), so for this reason I think it holds, but only approximately and only most of the time.\"\\n\"For better or worse, we\\'re on our own.\" '"
      ]
     },
     "execution_count": 47,
     "metadata": {},
     "output_type": "execute_result"
    }
   ],
   "source": [
    "tmp[1206870]"
   ]
  },
  {
   "cell_type": "code",
   "execution_count": 48,
   "id": "40e9e653",
   "metadata": {},
   "outputs": [
    {
     "data": {
      "text/plain": [
       "'http:// www.math.temple.edu/paulos\\nAn academic, Paulos writes text that is easy to read. He writes very openly about his large loss on WorldCom stock.\\nA few quotes:\\n\"Transparency, trust, independence, and authority are all needed to make accounting work. They are all in great demand, but sometimes in short supply.\"\\n\"On the whole, most investors, professionals on Wall Street, amateurs everywhere, disbelieve (the Efficient Market Hypothesis), so for this reason I think it holds, but only approximately and only most of the time.\"\\n\"For better or worse, we\\'re on our own.\" '"
      ]
     },
     "execution_count": 48,
     "metadata": {},
     "output_type": "execute_result"
    }
   ],
   "source": [
    "comments[1206870]"
   ]
  },
  {
   "cell_type": "markdown",
   "id": "b8ab598e",
   "metadata": {},
   "source": [
    "It seems that the user mistakenly introduced a space between 'http://' and 'www'. We can fix these issues manually as we only have a handful of entries."
   ]
  },
  {
   "cell_type": "code",
   "execution_count": 49,
   "id": "93d99db4",
   "metadata": {},
   "outputs": [
    {
     "data": {
      "text/plain": [
       "'http:/bactra.org/reviews/manski-on-identification/ '"
      ]
     },
     "execution_count": 49,
     "metadata": {},
     "output_type": "execute_result"
    }
   ],
   "source": [
    "tmp[576673]"
   ]
  },
  {
   "cell_type": "code",
   "execution_count": 50,
   "id": "10bb3723",
   "metadata": {},
   "outputs": [
    {
     "data": {
      "text/plain": [
       "'http//:www.estampa.pt '"
      ]
     },
     "execution_count": 50,
     "metadata": {},
     "output_type": "execute_result"
    }
   ],
   "source": [
    "comments[1489388]"
   ]
  },
  {
   "cell_type": "code",
   "execution_count": 51,
   "id": "e6352803",
   "metadata": {},
   "outputs": [
    {
     "data": {
      "text/plain": [
       "'http//: '"
      ]
     },
     "execution_count": 51,
     "metadata": {},
     "output_type": "execute_result"
    }
   ],
   "source": [
    "tmp[1489388]"
   ]
  },
  {
   "cell_type": "code",
   "execution_count": 52,
   "id": "a7dde0df",
   "metadata": {},
   "outputs": [],
   "source": [
    "tmp1 = tmp.str.replace('https?://[\\S]*|https?:/[\\S]+|https?//:[\\S]*|https?/:[\\S]*|http:', '', regex = True)"
   ]
  },
  {
   "cell_type": "markdown",
   "id": "3f2807d1",
   "metadata": {},
   "source": [
    "As we can see below, the remaining entries only contain http as part of the content."
   ]
  },
  {
   "cell_type": "code",
   "execution_count": 53,
   "id": "2343bb29",
   "metadata": {},
   "outputs": [
    {
     "data": {
      "text/plain": [
       "205267    Very emotional, but beautifully balanced novel...\n",
       "310864    Morozovs excellent first book, The Net Delusio...\n",
       "971974    When we meet Bud Caldwell, he is living in an ...\n",
       "Name: comment, dtype: object"
      ]
     },
     "execution_count": 53,
     "metadata": {},
     "output_type": "execute_result"
    }
   ],
   "source": [
    "tmp1[tmp1.str.contains('http')]"
   ]
  },
  {
   "cell_type": "code",
   "execution_count": 54,
   "id": "fb65bf5b",
   "metadata": {},
   "outputs": [
    {
     "data": {
      "text/plain": [
       "'Morozovs excellent first book, The Net Delusion, established him as a major critic of internet eschatology, particularly the utopian brand. His latest book attempts to expand on that critique, sometimes successfully and sometimes not. (Insert joke about sophomore efforts and snark here.) For a sample mostly taken from the book, heres Morozov on why we shouldnt be sanguine about using technology to improve incarceration. A good sampling of Morozovs work is available online; I would recommend avoiding his debate with Farhad Manjoo in Slate, where Morozov mostly ignores legitimate hits (he attacks generalizations like the internet but himself has no trouble criticizing Silicon Valley) in favor of snide near-ad hominems.\\nMorozov wouldnt be surprised that I, as an internet reviewer (ordinary people dont write reviews for the same reasons as professional critics; they are mostly interested in reviewing their own experience, not in making sense of a given work), cant improve on Kevin Driscolls take in the LA Review of Books, which has some very smart things to say about Morozovs critiques of solutionism (social issues as problems with a fixed solution rather than approaches that have to be negotiated and compromised on) and internet-centrism. [Side note on that Internet reviewer thing--there\\'s a very interesting piece to be written here bringing in Janice Radway\\'s Reading the Romance and a discussion of what \"making sense of a given work\" might mean.] For a rather harsher view, theres Tim Wu, who is attacked in the book and understandably annoyed; his criticisms are not unwarranted. \\nMorozov is a skeptic not just of whether Silicon Valleys big promises can be carried out but, more importantly, whether they should be. Friction, lack of transparency, inefficiency, and so on are not just hinderers of efficiency, but crucial parts of human self-definition and autonomy; politics isnt politics if its not messy and a bit hypocritical. Compromises and imperfections can be good, not bad; politics cant be improved the same way that market transactions can beif all interactions could be win-win, we wouldnt have politics. Try telling [an Amazon] shopper that not all of his or her desires can be satisfied because someone else has equally compelling interests and those have to be taken into account as well; the market simply doesnt work that way. And the consumerist mentality that solutionists bring to political challenges leads to disappointment and disgust with politics, when it should lead to a rejection of solutionism: Most public institutions should not be held to the same standards as their private counterparts because their mission is to provide goods and services that markets cannot or should not provide. More generally, inefficiencies, hypocrisies, and the existence of crime might be problematic in some limited sense, but they do not necessarily add up to a problem worth solvingany more than having a soccer match that lasts for ninety minutes rather than an eternity and features twenty-two people instead of everyone at the stadium is a problem to be solved.\\nRelatedly, the frictionless solutions promoted by techno-utopians often dont solve the problems they purport to, and they dont solve them in particular ways reflecting existing political and social inequalities. For example, biometric identification technologies turn out to have particular trouble with certain racial groups, and fingerprint scanners have difficulty with people in certain working-class occupations--not that this is anything new, as Morozov is at pains to point out. (See also the way in which visual communications technology is bound up in whiteness: Richard Dyer, \"Making \\'White\\' People White, in The Social Shaping of Technology, eds. Donald MacKenzie and Judy Wajcman (noting that, among other things, videotape quality was evaluated by how well it displayed a blank, pale orange signal called \"skin\" that was supposed to match white skin); Brian Winston, A Whole Technology of Dyeing: A Note on Ideology and the Apparatus of the Chromatic Moving Image, Daedalus, Vol. 114, No. 4, The Moving Image (Fall, 1985), pp. 105-123 (discussing how, at every stage, film development was guided by how it did at showing white skin).)\\nFor another example, massive online open courses, Morozov, as many others have done, points out that what they offer isnt individual contact with an expert (even a grad student) but rather something else, and they dont exist in a political vacuum: In promising almost immediate and much cheaper results, they can easily undermine support for more ambitious, more intellectually stimulating, but also more demanding reform projects. Algorithms to recommend books to you have their biases, but thats nothing compared to the dangers of algorithms that predict crime based on current circumstances (including poverty and racism that mean that crimes are committed and detected in particular ways). And design that simply prevents the possibility of crime also often prevents the possibility of civil disobedience, an important driver of social change: Sometimes being caught with marijuana in ones pocket is better than being prevented from putting it there, simply because an arrest is likely to generate media attention and trigger a public debate about drug laws. But hes always context-sensitive, and not dismissive of all better living through technologyanti-drunk-driving technology might be a good idea even if other technological interventions arent.\\nI was reminded of Morozovs critique of big data solutionism by this bit in Slate about how facts can change their meanings when you have more context:\\n Marti Barletta, a consultant in marketing to women, told me one of the reasons women have gained a reputation for caring about frivolous details is because they do so much research. By the time they arrive at dealerships, theyve already logged countless hours online finding cars that satisfy their main criteria. Now, theyre picking through minutiaewhat, precisely, makes the Nissan Maxima better than the Toyota Camry? (Could it be the number of cup holders?) These questions, Barletta says, contribute to an impression among salesmen that women care mostly about the little stuff.\\nThis is a good example of the point that data-driven solutions cant ever be entirely data-driven: you always need a theory.\\nMorozov also constantly emphasizes that people construct technologies. Theres nothing inevitable about the configuration of the internet, or Facebook or Google for that matter. Facebook could limit the number of ads it shows; Google could write different algorithms. As Tarleton Gillespie insightfully noted, Twitters algorithm for picking trending topics favors breadth (many groups using the same hashtag) over depth (a united group using the hashtag a lot), which is a political design choice that can be contested. When we focus on current numbers, such as monitoring how much water we consume, we may be motivated to take individual action but we dont understand or consider the complex systems of overall water consumption, and we arent challenged to think of how we might get a different set of numbersMorozov wants our technologies to confound and challenge us.\\nThis is an important reminder, but it leads Morozov to be highly critical of activist discourses around things like SOPA/PIPA/ACTAs dont break the internet advocacy, and here (like many of his reviewers) I think he somewhat misses the mark. Very few of the leaders, and I suspect very few of the followers, of the anti-SOPA/PIPA/ACTA protests believed that http and IP addresses and the like would disappear under SOPA/PIPA/ACTA etc. Rather, they believed that key features of the internet they knew and liked would be hampered if not destroyed. The internet that existed, they thought, would be similar to the Medicare that would exist if what we now call Medicare were replaced by a voucher system. Its fair game in such a debate to say that Medicare would be destroyed by such a change; its even fair game to say that marriage would be destroyed by extending it to women who want to marry women, even if thats a dumb argument on its own merits. Yes, of course we should often question definitions, where much of the important rhetorical work is getting done, and Morozov is right to point that outbut many of the people he accuses really do know that already, and have made it pretty clear that they do.\\n(Hes particularly unfair, it seems to me, to Jonathan Zittrain, whose The Future of the Internet and How to Stop It comes under attack for internet-centrism and quixotic desire to keep the internet in a single state forever. E.g, Morozov says to claim that Appleone of Zittrains culpritsis bad for innovation because its bad for the Internet is like claiming that the Internet is bad for innovation because its bad for the telephone. Well, it might have been bad for the telephonebut when did preservation of the telephone become a lofty social goal? Yet a significant chunk of Zittrains book is devoted precisely to addressing questions of when we can say a technological configuration/change in the direction of greater or lesser centralized control is a good thing. Zittrain isnt entirely successful, I think, but by failing to acknowledge his explicit attempts to grapple with Morozovs points, Morozov makes it seem as if Zittrain were silly or hypocritical, and himself ends up fighting a straw man. This ungenerosity isnt unique in the book. Later, for example, Morozov suggests that those who favor market transactions trading private data for material benefits as mutually beneficial must also therefore approve torture provided the prisoners strike the right deal and are well compensated, whatever that might mean.)\\nMorozov is at his best discussing tradeoffs and political reactions to technology: greater access to information can be manipulated by governments just like other new forms of power can be, and ifwhich is not yet establishedthere is a link between the two, hes right that its not clear that the local politics in Baha Blanca [Argentina] [should] make sacrifices so that a fifteen-year-old in Palo Alto can remix cat videos without going to jail. He doesnt want that fifteen-year-old to go to jail, but he also doesnt want arguments for that remixers protection to prevent any tinkering with technologies to make them safer, for some politically chosen definition of safer, especially since private parties and nondemocratic states are willing to tinker anyway.\\nSome have found his attack on extreme self-monitoring technologies and technologists, who are really outliers, to be a bit much, but I really liked his point (again, not new, but well made) that there is a deep political problem with proposing self-monitoring as the solution to the barrage of advertising and subsidies that keep us eating terrible, unhealthy food: yes, some of us might find ingenious engineering solutions to resist insidious marketing, but in all this celebration of modern technology, shouldnt we also do something about the marketing itself? . [P]olitical action all but disappears; rather than reforming the system, we just tinker with ourselves and tend to our reservoirs of willpower the way Swiss bankers tend to their vaults. But Morozov also hates nudging via technical or legal structures, even though thats pretty much the opposite of the individualistic solutions he condemns, because he wants us all to think deeply, and exhaustingly, about all our politically relevant choices, which is to say basically all of them, though he talks most about energy consumption.\\nProbably Morozovs most effective assault is on the concept of openness as an unqualified good. Because of preexisting political struggles, open data will be used in politically inflected waysfor example, maps that visualize crime statistics across different neighborhoods could help improve police effectiveness, but they could also devalue properties and make people living in dodgy neighborhoods to be less willing to report crimes. Openness has feedback effects. Likewise, digitization of land records in India, in an attempt to empower the weak, may have benefited the rich and powerful by exposing which occupants lacked formal title despite being morally and even legally owners. Morozov advocates for context-specific solutionshere, accepting other methods of proving title such as old family photos or maps along with official land titles, or selectively limiting access to land records so that people with no obvious need to see them cant do so. Information, he argues, should be collected and distributed in full awareness of the social and cultural complexity of the institutional environment in which it is gathered. Sometimes preserving the social relations that enable that environment to exist  might require producing data that is only half transparent or half accessible . [D]emocracy thrives on compromise and the art of reconciling seemingly irreconcilable interests. And its hard to disagree with that last point, whatever excesses are in the rest of the book. '"
      ]
     },
     "execution_count": 54,
     "metadata": {},
     "output_type": "execute_result"
    }
   ],
   "source": [
    "tmp[310864]"
   ]
  },
  {
   "cell_type": "code",
   "execution_count": 55,
   "id": "5e7e51a6",
   "metadata": {},
   "outputs": [
    {
     "data": {
      "text/plain": [
       "'When we meet Bud Caldwell, he is living in an orphanage in Flint, Michigan. Soon, though, we find him on the lam and in search of his father whom he has never met. He always carries his few belongings in a suitcase, and in the suitcase are clues his dead mother left behind about his father. This hope of escaping the abuses of foster care and orphan life propels him onward as he searches for his long lost, unknown father. The story is set during the Great Depression, at a time when little black boys are not permitted where \"white folks\" are permitted. The story bridges the gaps in cultural differences by using the authentic voice of a typical young boy who is struggling to be grown but is still a frightened young man. In the story he has gone through so much and yet keeps his cynical sense of humor about him.\\nI think this book is an excellent multicultural read for persons of all ages. The ISSUES are not overstated and do not take from the story. Many young readers will feel smarter than Bud as they may be older and more experienced about life than Bud is presented in the story. This book is excellent for its historical value for children as there are hints throughout that paint a picture of what life was like in the time that Bud was traveling... This book is entertaining and fairly easy to read but it does not skimp on the wealth of information it contains.\\n Extension Activity\\nAll That Jazz Poster Activity\\nLesson Title: All That Jazz Activity\\nBud, Not Buddy\\nStudents will research 1930s jazz greats and create a flyer advertising a fictional jazz band of their design. \\nObjectives: \\n Research a topic.Build on the students knowledge of black Jazz musicians in the 1930s. Generate a creative flyer from information.\\nMaterials: \\n Computers, Word processing program\\nResources:\\n Internet sites\\nProcedures:\\nStudents will research jazz greats from the 1930s by visiting these websites: \\nBessie Smith  \\nLouis Armstrong afroamhistory.about.com/gi/dynamic/offsite.htm?site=http%3A%2 %2F\\nDuke Ellington\\n \\nStudents will then create a poster advertising a fictional jazz band of their design. Posters could be made on paper, pencils, and colors or with as a word document.\\nModifications:\\n If the internet and computers are not available, then library resources and encyclopedias could be used for research.\\nTechnology Infusion:\\n Internet for research.\\n Word processing program or Print Shop type program. \\nCultural Connections:\\nUnderstanding of the culture of black Jazz greats during the depression '"
      ]
     },
     "execution_count": 55,
     "metadata": {},
     "output_type": "execute_result"
    }
   ],
   "source": [
    "tmp[971974]"
   ]
  },
  {
   "cell_type": "code",
   "execution_count": 56,
   "id": "ef37d8e3",
   "metadata": {
    "scrolled": true
   },
   "outputs": [
    {
     "data": {
      "text/plain": [
       "Series([], Name: comment, dtype: object)"
      ]
     },
     "execution_count": 56,
     "metadata": {},
     "output_type": "execute_result"
    }
   ],
   "source": [
    "tmp[tmp.str.contains(' www\\.')]"
   ]
  },
  {
   "cell_type": "markdown",
   "id": "9bd1d3a7",
   "metadata": {},
   "source": [
    "#### 2.5.2 Convert the text to embeddings\n",
    "\n",
    "We initially tried translate all comments to English. This was time consuming and I would hit the API rate limits, leading to connection timedout errors."
   ]
  },
  {
   "cell_type": "code",
   "execution_count": 61,
   "id": "688d5834",
   "metadata": {},
   "outputs": [],
   "source": [
    "# Only for information. Do not uncomment/run this cell.\n",
    "\n",
    "# from googletrans import Translator\n",
    "# translator = Translator()"
   ]
  },
  {
   "cell_type": "code",
   "execution_count": 64,
   "id": "6a84b2ae",
   "metadata": {},
   "outputs": [
    {
     "ename": "ProtocolError",
     "evalue": "Invalid input ConnectionInputs.RECV_PING in state ConnectionState.CLOSED",
     "output_type": "error",
     "traceback": [
      "\u001b[0;31m---------------------------------------------------------------------------\u001b[0m",
      "\u001b[0;31mKeyError\u001b[0m                                  Traceback (most recent call last)",
      "File \u001b[0;32m~/Library/Python/3.9/lib/python/site-packages/h2/connection.py:224\u001b[0m, in \u001b[0;36mH2ConnectionStateMachine.process_input\u001b[0;34m(self, input_)\u001b[0m\n\u001b[1;32m    223\u001b[0m \u001b[38;5;28;01mtry\u001b[39;00m:\n\u001b[0;32m--> 224\u001b[0m     func, target_state \u001b[38;5;241m=\u001b[39m \u001b[38;5;28;43mself\u001b[39;49m\u001b[38;5;241;43m.\u001b[39;49m\u001b[43m_transitions\u001b[49m\u001b[43m[\u001b[49m\u001b[43m(\u001b[49m\u001b[38;5;28;43mself\u001b[39;49m\u001b[38;5;241;43m.\u001b[39;49m\u001b[43mstate\u001b[49m\u001b[43m,\u001b[49m\u001b[43m \u001b[49m\u001b[43minput_\u001b[49m\u001b[43m)\u001b[49m\u001b[43m]\u001b[49m\n\u001b[1;32m    225\u001b[0m \u001b[38;5;28;01mexcept\u001b[39;00m \u001b[38;5;167;01mKeyError\u001b[39;00m:\n",
      "\u001b[0;31mKeyError\u001b[0m: (<ConnectionState.CLOSED: 3>, <ConnectionInputs.RECV_PING: 14>)",
      "\nDuring handling of the above exception, another exception occurred:\n",
      "\u001b[0;31mProtocolError\u001b[0m                             Traceback (most recent call last)",
      "Cell \u001b[0;32mIn[64], line 1\u001b[0m\n\u001b[0;32m----> 1\u001b[0m translated_tmp \u001b[38;5;241m=\u001b[39m \u001b[43mtmp\u001b[49m\u001b[38;5;241;43m.\u001b[39;49m\u001b[43mapply\u001b[49m\u001b[43m(\u001b[49m\u001b[43mtranslator\u001b[49m\u001b[38;5;241;43m.\u001b[39;49m\u001b[43mtranslate\u001b[49m\u001b[43m,\u001b[49m\u001b[43m \u001b[49m\u001b[43mdest\u001b[49m\u001b[38;5;241;43m=\u001b[39;49m\u001b[38;5;124;43m'\u001b[39;49m\u001b[38;5;124;43men\u001b[39;49m\u001b[38;5;124;43m'\u001b[39;49m\u001b[43m)\u001b[49m\u001b[38;5;241m.\u001b[39mapply(\u001b[38;5;28mgetattr\u001b[39m, args\u001b[38;5;241m=\u001b[39m(\u001b[38;5;124m'\u001b[39m\u001b[38;5;124mtext\u001b[39m\u001b[38;5;124m'\u001b[39m,))\n",
      "File \u001b[0;32m~/Library/Python/3.9/lib/python/site-packages/pandas/core/series.py:4771\u001b[0m, in \u001b[0;36mSeries.apply\u001b[0;34m(self, func, convert_dtype, args, **kwargs)\u001b[0m\n\u001b[1;32m   4661\u001b[0m \u001b[38;5;28;01mdef\u001b[39;00m \u001b[38;5;21mapply\u001b[39m(\n\u001b[1;32m   4662\u001b[0m     \u001b[38;5;28mself\u001b[39m,\n\u001b[1;32m   4663\u001b[0m     func: AggFuncType,\n\u001b[0;32m   (...)\u001b[0m\n\u001b[1;32m   4666\u001b[0m     \u001b[38;5;241m*\u001b[39m\u001b[38;5;241m*\u001b[39mkwargs,\n\u001b[1;32m   4667\u001b[0m ) \u001b[38;5;241m-\u001b[39m\u001b[38;5;241m>\u001b[39m DataFrame \u001b[38;5;241m|\u001b[39m Series:\n\u001b[1;32m   4668\u001b[0m \u001b[38;5;250m    \u001b[39m\u001b[38;5;124;03m\"\"\"\u001b[39;00m\n\u001b[1;32m   4669\u001b[0m \u001b[38;5;124;03m    Invoke function on values of Series.\u001b[39;00m\n\u001b[1;32m   4670\u001b[0m \n\u001b[0;32m   (...)\u001b[0m\n\u001b[1;32m   4769\u001b[0m \u001b[38;5;124;03m    dtype: float64\u001b[39;00m\n\u001b[1;32m   4770\u001b[0m \u001b[38;5;124;03m    \"\"\"\u001b[39;00m\n\u001b[0;32m-> 4771\u001b[0m     \u001b[38;5;28;01mreturn\u001b[39;00m \u001b[43mSeriesApply\u001b[49m\u001b[43m(\u001b[49m\u001b[38;5;28;43mself\u001b[39;49m\u001b[43m,\u001b[49m\u001b[43m \u001b[49m\u001b[43mfunc\u001b[49m\u001b[43m,\u001b[49m\u001b[43m \u001b[49m\u001b[43mconvert_dtype\u001b[49m\u001b[43m,\u001b[49m\u001b[43m \u001b[49m\u001b[43margs\u001b[49m\u001b[43m,\u001b[49m\u001b[43m \u001b[49m\u001b[43mkwargs\u001b[49m\u001b[43m)\u001b[49m\u001b[38;5;241;43m.\u001b[39;49m\u001b[43mapply\u001b[49m\u001b[43m(\u001b[49m\u001b[43m)\u001b[49m\n",
      "File \u001b[0;32m~/Library/Python/3.9/lib/python/site-packages/pandas/core/apply.py:1123\u001b[0m, in \u001b[0;36mSeriesApply.apply\u001b[0;34m(self)\u001b[0m\n\u001b[1;32m   1120\u001b[0m     \u001b[38;5;28;01mreturn\u001b[39;00m \u001b[38;5;28mself\u001b[39m\u001b[38;5;241m.\u001b[39mapply_str()\n\u001b[1;32m   1122\u001b[0m \u001b[38;5;66;03m# self.f is Callable\u001b[39;00m\n\u001b[0;32m-> 1123\u001b[0m \u001b[38;5;28;01mreturn\u001b[39;00m \u001b[38;5;28;43mself\u001b[39;49m\u001b[38;5;241;43m.\u001b[39;49m\u001b[43mapply_standard\u001b[49m\u001b[43m(\u001b[49m\u001b[43m)\u001b[49m\n",
      "File \u001b[0;32m~/Library/Python/3.9/lib/python/site-packages/pandas/core/apply.py:1174\u001b[0m, in \u001b[0;36mSeriesApply.apply_standard\u001b[0;34m(self)\u001b[0m\n\u001b[1;32m   1172\u001b[0m     \u001b[38;5;28;01melse\u001b[39;00m:\n\u001b[1;32m   1173\u001b[0m         values \u001b[38;5;241m=\u001b[39m obj\u001b[38;5;241m.\u001b[39mastype(\u001b[38;5;28mobject\u001b[39m)\u001b[38;5;241m.\u001b[39m_values\n\u001b[0;32m-> 1174\u001b[0m         mapped \u001b[38;5;241m=\u001b[39m \u001b[43mlib\u001b[49m\u001b[38;5;241;43m.\u001b[39;49m\u001b[43mmap_infer\u001b[49m\u001b[43m(\u001b[49m\n\u001b[1;32m   1175\u001b[0m \u001b[43m            \u001b[49m\u001b[43mvalues\u001b[49m\u001b[43m,\u001b[49m\n\u001b[1;32m   1176\u001b[0m \u001b[43m            \u001b[49m\u001b[43mf\u001b[49m\u001b[43m,\u001b[49m\n\u001b[1;32m   1177\u001b[0m \u001b[43m            \u001b[49m\u001b[43mconvert\u001b[49m\u001b[38;5;241;43m=\u001b[39;49m\u001b[38;5;28;43mself\u001b[39;49m\u001b[38;5;241;43m.\u001b[39;49m\u001b[43mconvert_dtype\u001b[49m\u001b[43m,\u001b[49m\n\u001b[1;32m   1178\u001b[0m \u001b[43m        \u001b[49m\u001b[43m)\u001b[49m\n\u001b[1;32m   1180\u001b[0m \u001b[38;5;28;01mif\u001b[39;00m \u001b[38;5;28mlen\u001b[39m(mapped) \u001b[38;5;129;01mand\u001b[39;00m \u001b[38;5;28misinstance\u001b[39m(mapped[\u001b[38;5;241m0\u001b[39m], ABCSeries):\n\u001b[1;32m   1181\u001b[0m     \u001b[38;5;66;03m# GH#43986 Need to do list(mapped) in order to get treated as nested\u001b[39;00m\n\u001b[1;32m   1182\u001b[0m     \u001b[38;5;66;03m#  See also GH#25959 regarding EA support\u001b[39;00m\n\u001b[1;32m   1183\u001b[0m     \u001b[38;5;28;01mreturn\u001b[39;00m obj\u001b[38;5;241m.\u001b[39m_constructor_expanddim(\u001b[38;5;28mlist\u001b[39m(mapped), index\u001b[38;5;241m=\u001b[39mobj\u001b[38;5;241m.\u001b[39mindex)\n",
      "File \u001b[0;32m~/Library/Python/3.9/lib/python/site-packages/pandas/_libs/lib.pyx:2924\u001b[0m, in \u001b[0;36mpandas._libs.lib.map_infer\u001b[0;34m()\u001b[0m\n",
      "File \u001b[0;32m~/Library/Python/3.9/lib/python/site-packages/pandas/core/apply.py:142\u001b[0m, in \u001b[0;36mApply.__init__.<locals>.f\u001b[0;34m(x)\u001b[0m\n\u001b[1;32m    141\u001b[0m \u001b[38;5;28;01mdef\u001b[39;00m \u001b[38;5;21mf\u001b[39m(x):\n\u001b[0;32m--> 142\u001b[0m     \u001b[38;5;28;01mreturn\u001b[39;00m \u001b[43mfunc\u001b[49m\u001b[43m(\u001b[49m\u001b[43mx\u001b[49m\u001b[43m,\u001b[49m\u001b[43m \u001b[49m\u001b[38;5;241;43m*\u001b[39;49m\u001b[43margs\u001b[49m\u001b[43m,\u001b[49m\u001b[43m \u001b[49m\u001b[38;5;241;43m*\u001b[39;49m\u001b[38;5;241;43m*\u001b[39;49m\u001b[43mkwargs\u001b[49m\u001b[43m)\u001b[49m\n",
      "File \u001b[0;32m~/Library/Python/3.9/lib/python/site-packages/googletrans/client.py:210\u001b[0m, in \u001b[0;36mTranslator.translate\u001b[0;34m(self, text, dest, src, **kwargs)\u001b[0m\n\u001b[1;32m    207\u001b[0m     \u001b[38;5;28;01mreturn\u001b[39;00m result\n\u001b[1;32m    209\u001b[0m origin \u001b[38;5;241m=\u001b[39m text\n\u001b[0;32m--> 210\u001b[0m data, response \u001b[38;5;241m=\u001b[39m \u001b[38;5;28;43mself\u001b[39;49m\u001b[38;5;241;43m.\u001b[39;49m\u001b[43m_translate\u001b[49m\u001b[43m(\u001b[49m\u001b[43mtext\u001b[49m\u001b[43m,\u001b[49m\u001b[43m \u001b[49m\u001b[43mdest\u001b[49m\u001b[43m,\u001b[49m\u001b[43m \u001b[49m\u001b[43msrc\u001b[49m\u001b[43m,\u001b[49m\u001b[43m \u001b[49m\u001b[43mkwargs\u001b[49m\u001b[43m)\u001b[49m\n\u001b[1;32m    212\u001b[0m \u001b[38;5;66;03m# this code will be updated when the format is changed.\u001b[39;00m\n\u001b[1;32m    213\u001b[0m translated \u001b[38;5;241m=\u001b[39m \u001b[38;5;124m'\u001b[39m\u001b[38;5;124m'\u001b[39m\u001b[38;5;241m.\u001b[39mjoin([d[\u001b[38;5;241m0\u001b[39m] \u001b[38;5;28;01mif\u001b[39;00m d[\u001b[38;5;241m0\u001b[39m] \u001b[38;5;28;01melse\u001b[39;00m \u001b[38;5;124m'\u001b[39m\u001b[38;5;124m'\u001b[39m \u001b[38;5;28;01mfor\u001b[39;00m d \u001b[38;5;129;01min\u001b[39;00m data[\u001b[38;5;241m0\u001b[39m]])\n",
      "File \u001b[0;32m~/Library/Python/3.9/lib/python/site-packages/googletrans/client.py:108\u001b[0m, in \u001b[0;36mTranslator._translate\u001b[0;34m(self, text, dest, src, override)\u001b[0m\n\u001b[1;32m    104\u001b[0m params \u001b[38;5;241m=\u001b[39m utils\u001b[38;5;241m.\u001b[39mbuild_params(client\u001b[38;5;241m=\u001b[39m\u001b[38;5;28mself\u001b[39m\u001b[38;5;241m.\u001b[39mclient_type, query\u001b[38;5;241m=\u001b[39mtext, src\u001b[38;5;241m=\u001b[39msrc, dest\u001b[38;5;241m=\u001b[39mdest,\n\u001b[1;32m    105\u001b[0m                             token\u001b[38;5;241m=\u001b[39mtoken, override\u001b[38;5;241m=\u001b[39moverride)\n\u001b[1;32m    107\u001b[0m url \u001b[38;5;241m=\u001b[39m urls\u001b[38;5;241m.\u001b[39mTRANSLATE\u001b[38;5;241m.\u001b[39mformat(host\u001b[38;5;241m=\u001b[39m\u001b[38;5;28mself\u001b[39m\u001b[38;5;241m.\u001b[39m_pick_service_url())\n\u001b[0;32m--> 108\u001b[0m r \u001b[38;5;241m=\u001b[39m \u001b[38;5;28;43mself\u001b[39;49m\u001b[38;5;241;43m.\u001b[39;49m\u001b[43mclient\u001b[49m\u001b[38;5;241;43m.\u001b[39;49m\u001b[43mget\u001b[49m\u001b[43m(\u001b[49m\u001b[43murl\u001b[49m\u001b[43m,\u001b[49m\u001b[43m \u001b[49m\u001b[43mparams\u001b[49m\u001b[38;5;241;43m=\u001b[39;49m\u001b[43mparams\u001b[49m\u001b[43m)\u001b[49m\n\u001b[1;32m    110\u001b[0m \u001b[38;5;28;01mif\u001b[39;00m r\u001b[38;5;241m.\u001b[39mstatus_code \u001b[38;5;241m==\u001b[39m \u001b[38;5;241m200\u001b[39m:\n\u001b[1;32m    111\u001b[0m     data \u001b[38;5;241m=\u001b[39m utils\u001b[38;5;241m.\u001b[39mformat_json(r\u001b[38;5;241m.\u001b[39mtext)\n",
      "File \u001b[0;32m~/Library/Python/3.9/lib/python/site-packages/httpx/_client.py:755\u001b[0m, in \u001b[0;36mClient.get\u001b[0;34m(self, url, params, headers, cookies, auth, allow_redirects, timeout)\u001b[0m\n\u001b[1;32m    744\u001b[0m \u001b[38;5;28;01mdef\u001b[39;00m \u001b[38;5;21mget\u001b[39m(\n\u001b[1;32m    745\u001b[0m     \u001b[38;5;28mself\u001b[39m,\n\u001b[1;32m    746\u001b[0m     url: URLTypes,\n\u001b[0;32m   (...)\u001b[0m\n\u001b[1;32m    753\u001b[0m     timeout: typing\u001b[38;5;241m.\u001b[39mUnion[TimeoutTypes, UnsetType] \u001b[38;5;241m=\u001b[39m UNSET,\n\u001b[1;32m    754\u001b[0m ) \u001b[38;5;241m-\u001b[39m\u001b[38;5;241m>\u001b[39m Response:\n\u001b[0;32m--> 755\u001b[0m     \u001b[38;5;28;01mreturn\u001b[39;00m \u001b[38;5;28;43mself\u001b[39;49m\u001b[38;5;241;43m.\u001b[39;49m\u001b[43mrequest\u001b[49m\u001b[43m(\u001b[49m\n\u001b[1;32m    756\u001b[0m \u001b[43m        \u001b[49m\u001b[38;5;124;43m\"\u001b[39;49m\u001b[38;5;124;43mGET\u001b[39;49m\u001b[38;5;124;43m\"\u001b[39;49m\u001b[43m,\u001b[49m\n\u001b[1;32m    757\u001b[0m \u001b[43m        \u001b[49m\u001b[43murl\u001b[49m\u001b[43m,\u001b[49m\n\u001b[1;32m    758\u001b[0m \u001b[43m        \u001b[49m\u001b[43mparams\u001b[49m\u001b[38;5;241;43m=\u001b[39;49m\u001b[43mparams\u001b[49m\u001b[43m,\u001b[49m\n\u001b[1;32m    759\u001b[0m \u001b[43m        \u001b[49m\u001b[43mheaders\u001b[49m\u001b[38;5;241;43m=\u001b[39;49m\u001b[43mheaders\u001b[49m\u001b[43m,\u001b[49m\n\u001b[1;32m    760\u001b[0m \u001b[43m        \u001b[49m\u001b[43mcookies\u001b[49m\u001b[38;5;241;43m=\u001b[39;49m\u001b[43mcookies\u001b[49m\u001b[43m,\u001b[49m\n\u001b[1;32m    761\u001b[0m \u001b[43m        \u001b[49m\u001b[43mauth\u001b[49m\u001b[38;5;241;43m=\u001b[39;49m\u001b[43mauth\u001b[49m\u001b[43m,\u001b[49m\n\u001b[1;32m    762\u001b[0m \u001b[43m        \u001b[49m\u001b[43mallow_redirects\u001b[49m\u001b[38;5;241;43m=\u001b[39;49m\u001b[43mallow_redirects\u001b[49m\u001b[43m,\u001b[49m\n\u001b[1;32m    763\u001b[0m \u001b[43m        \u001b[49m\u001b[43mtimeout\u001b[49m\u001b[38;5;241;43m=\u001b[39;49m\u001b[43mtimeout\u001b[49m\u001b[43m,\u001b[49m\n\u001b[1;32m    764\u001b[0m \u001b[43m    \u001b[49m\u001b[43m)\u001b[49m\n",
      "File \u001b[0;32m~/Library/Python/3.9/lib/python/site-packages/httpx/_client.py:600\u001b[0m, in \u001b[0;36mClient.request\u001b[0;34m(self, method, url, data, files, json, params, headers, cookies, auth, allow_redirects, timeout)\u001b[0m\n\u001b[1;32m    575\u001b[0m \u001b[38;5;28;01mdef\u001b[39;00m \u001b[38;5;21mrequest\u001b[39m(\n\u001b[1;32m    576\u001b[0m     \u001b[38;5;28mself\u001b[39m,\n\u001b[1;32m    577\u001b[0m     method: \u001b[38;5;28mstr\u001b[39m,\n\u001b[0;32m   (...)\u001b[0m\n\u001b[1;32m    588\u001b[0m     timeout: typing\u001b[38;5;241m.\u001b[39mUnion[TimeoutTypes, UnsetType] \u001b[38;5;241m=\u001b[39m UNSET,\n\u001b[1;32m    589\u001b[0m ) \u001b[38;5;241m-\u001b[39m\u001b[38;5;241m>\u001b[39m Response:\n\u001b[1;32m    590\u001b[0m     request \u001b[38;5;241m=\u001b[39m \u001b[38;5;28mself\u001b[39m\u001b[38;5;241m.\u001b[39mbuild_request(\n\u001b[1;32m    591\u001b[0m         method\u001b[38;5;241m=\u001b[39mmethod,\n\u001b[1;32m    592\u001b[0m         url\u001b[38;5;241m=\u001b[39murl,\n\u001b[0;32m   (...)\u001b[0m\n\u001b[1;32m    598\u001b[0m         cookies\u001b[38;5;241m=\u001b[39mcookies,\n\u001b[1;32m    599\u001b[0m     )\n\u001b[0;32m--> 600\u001b[0m     \u001b[38;5;28;01mreturn\u001b[39;00m \u001b[38;5;28;43mself\u001b[39;49m\u001b[38;5;241;43m.\u001b[39;49m\u001b[43msend\u001b[49m\u001b[43m(\u001b[49m\n\u001b[1;32m    601\u001b[0m \u001b[43m        \u001b[49m\u001b[43mrequest\u001b[49m\u001b[43m,\u001b[49m\u001b[43m \u001b[49m\u001b[43mauth\u001b[49m\u001b[38;5;241;43m=\u001b[39;49m\u001b[43mauth\u001b[49m\u001b[43m,\u001b[49m\u001b[43m \u001b[49m\u001b[43mallow_redirects\u001b[49m\u001b[38;5;241;43m=\u001b[39;49m\u001b[43mallow_redirects\u001b[49m\u001b[43m,\u001b[49m\u001b[43m \u001b[49m\u001b[43mtimeout\u001b[49m\u001b[38;5;241;43m=\u001b[39;49m\u001b[43mtimeout\u001b[49m\u001b[43m,\u001b[49m\n\u001b[1;32m    602\u001b[0m \u001b[43m    \u001b[49m\u001b[43m)\u001b[49m\n",
      "File \u001b[0;32m~/Library/Python/3.9/lib/python/site-packages/httpx/_client.py:620\u001b[0m, in \u001b[0;36mClient.send\u001b[0;34m(self, request, stream, auth, allow_redirects, timeout)\u001b[0m\n\u001b[1;32m    616\u001b[0m timeout \u001b[38;5;241m=\u001b[39m \u001b[38;5;28mself\u001b[39m\u001b[38;5;241m.\u001b[39mtimeout \u001b[38;5;28;01mif\u001b[39;00m \u001b[38;5;28misinstance\u001b[39m(timeout, UnsetType) \u001b[38;5;28;01melse\u001b[39;00m Timeout(timeout)\n\u001b[1;32m    618\u001b[0m auth \u001b[38;5;241m=\u001b[39m \u001b[38;5;28mself\u001b[39m\u001b[38;5;241m.\u001b[39mbuild_auth(request, auth)\n\u001b[0;32m--> 620\u001b[0m response \u001b[38;5;241m=\u001b[39m \u001b[38;5;28;43mself\u001b[39;49m\u001b[38;5;241;43m.\u001b[39;49m\u001b[43msend_handling_redirects\u001b[49m\u001b[43m(\u001b[49m\n\u001b[1;32m    621\u001b[0m \u001b[43m    \u001b[49m\u001b[43mrequest\u001b[49m\u001b[43m,\u001b[49m\u001b[43m \u001b[49m\u001b[43mauth\u001b[49m\u001b[38;5;241;43m=\u001b[39;49m\u001b[43mauth\u001b[49m\u001b[43m,\u001b[49m\u001b[43m \u001b[49m\u001b[43mtimeout\u001b[49m\u001b[38;5;241;43m=\u001b[39;49m\u001b[43mtimeout\u001b[49m\u001b[43m,\u001b[49m\u001b[43m \u001b[49m\u001b[43mallow_redirects\u001b[49m\u001b[38;5;241;43m=\u001b[39;49m\u001b[43mallow_redirects\u001b[49m\u001b[43m,\u001b[49m\n\u001b[1;32m    622\u001b[0m \u001b[43m\u001b[49m\u001b[43m)\u001b[49m\n\u001b[1;32m    624\u001b[0m \u001b[38;5;28;01mif\u001b[39;00m \u001b[38;5;129;01mnot\u001b[39;00m stream:\n\u001b[1;32m    625\u001b[0m     \u001b[38;5;28;01mtry\u001b[39;00m:\n",
      "File \u001b[0;32m~/Library/Python/3.9/lib/python/site-packages/httpx/_client.py:647\u001b[0m, in \u001b[0;36mClient.send_handling_redirects\u001b[0;34m(self, request, auth, timeout, allow_redirects, history)\u001b[0m\n\u001b[1;32m    644\u001b[0m \u001b[38;5;28;01mif\u001b[39;00m \u001b[38;5;28mlen\u001b[39m(history) \u001b[38;5;241m>\u001b[39m \u001b[38;5;28mself\u001b[39m\u001b[38;5;241m.\u001b[39mmax_redirects:\n\u001b[1;32m    645\u001b[0m     \u001b[38;5;28;01mraise\u001b[39;00m TooManyRedirects()\n\u001b[0;32m--> 647\u001b[0m response \u001b[38;5;241m=\u001b[39m \u001b[38;5;28;43mself\u001b[39;49m\u001b[38;5;241;43m.\u001b[39;49m\u001b[43msend_handling_auth\u001b[49m\u001b[43m(\u001b[49m\n\u001b[1;32m    648\u001b[0m \u001b[43m    \u001b[49m\u001b[43mrequest\u001b[49m\u001b[43m,\u001b[49m\u001b[43m \u001b[49m\u001b[43mauth\u001b[49m\u001b[38;5;241;43m=\u001b[39;49m\u001b[43mauth\u001b[49m\u001b[43m,\u001b[49m\u001b[43m \u001b[49m\u001b[43mtimeout\u001b[49m\u001b[38;5;241;43m=\u001b[39;49m\u001b[43mtimeout\u001b[49m\u001b[43m,\u001b[49m\u001b[43m \u001b[49m\u001b[43mhistory\u001b[49m\u001b[38;5;241;43m=\u001b[39;49m\u001b[43mhistory\u001b[49m\n\u001b[1;32m    649\u001b[0m \u001b[43m\u001b[49m\u001b[43m)\u001b[49m\n\u001b[1;32m    650\u001b[0m response\u001b[38;5;241m.\u001b[39mhistory \u001b[38;5;241m=\u001b[39m \u001b[38;5;28mlist\u001b[39m(history)\n\u001b[1;32m    652\u001b[0m \u001b[38;5;28;01mif\u001b[39;00m \u001b[38;5;129;01mnot\u001b[39;00m response\u001b[38;5;241m.\u001b[39mis_redirect:\n",
      "File \u001b[0;32m~/Library/Python/3.9/lib/python/site-packages/httpx/_client.py:684\u001b[0m, in \u001b[0;36mClient.send_handling_auth\u001b[0;34m(self, request, history, auth, timeout)\u001b[0m\n\u001b[1;32m    682\u001b[0m request \u001b[38;5;241m=\u001b[39m \u001b[38;5;28mnext\u001b[39m(auth_flow)\n\u001b[1;32m    683\u001b[0m \u001b[38;5;28;01mwhile\u001b[39;00m \u001b[38;5;28;01mTrue\u001b[39;00m:\n\u001b[0;32m--> 684\u001b[0m     response \u001b[38;5;241m=\u001b[39m \u001b[38;5;28;43mself\u001b[39;49m\u001b[38;5;241;43m.\u001b[39;49m\u001b[43msend_single_request\u001b[49m\u001b[43m(\u001b[49m\u001b[43mrequest\u001b[49m\u001b[43m,\u001b[49m\u001b[43m \u001b[49m\u001b[43mtimeout\u001b[49m\u001b[43m)\u001b[49m\n\u001b[1;32m    685\u001b[0m     \u001b[38;5;28;01mif\u001b[39;00m auth\u001b[38;5;241m.\u001b[39mrequires_response_body:\n\u001b[1;32m    686\u001b[0m         response\u001b[38;5;241m.\u001b[39mread()\n",
      "File \u001b[0;32m~/Library/Python/3.9/lib/python/site-packages/httpx/_client.py:714\u001b[0m, in \u001b[0;36mClient.send_single_request\u001b[0;34m(self, request, timeout)\u001b[0m\n\u001b[1;32m    705\u001b[0m transport \u001b[38;5;241m=\u001b[39m \u001b[38;5;28mself\u001b[39m\u001b[38;5;241m.\u001b[39mtransport_for_url(request\u001b[38;5;241m.\u001b[39murl)\n\u001b[1;32m    707\u001b[0m \u001b[38;5;28;01mtry\u001b[39;00m:\n\u001b[1;32m    708\u001b[0m     (\n\u001b[1;32m    709\u001b[0m         http_version,\n\u001b[1;32m    710\u001b[0m         status_code,\n\u001b[1;32m    711\u001b[0m         reason_phrase,\n\u001b[1;32m    712\u001b[0m         headers,\n\u001b[1;32m    713\u001b[0m         stream,\n\u001b[0;32m--> 714\u001b[0m     ) \u001b[38;5;241m=\u001b[39m \u001b[43mtransport\u001b[49m\u001b[38;5;241;43m.\u001b[39;49m\u001b[43mrequest\u001b[49m\u001b[43m(\u001b[49m\n\u001b[1;32m    715\u001b[0m \u001b[43m        \u001b[49m\u001b[43mrequest\u001b[49m\u001b[38;5;241;43m.\u001b[39;49m\u001b[43mmethod\u001b[49m\u001b[38;5;241;43m.\u001b[39;49m\u001b[43mencode\u001b[49m\u001b[43m(\u001b[49m\u001b[43m)\u001b[49m\u001b[43m,\u001b[49m\n\u001b[1;32m    716\u001b[0m \u001b[43m        \u001b[49m\u001b[43mrequest\u001b[49m\u001b[38;5;241;43m.\u001b[39;49m\u001b[43murl\u001b[49m\u001b[38;5;241;43m.\u001b[39;49m\u001b[43mraw\u001b[49m\u001b[43m,\u001b[49m\n\u001b[1;32m    717\u001b[0m \u001b[43m        \u001b[49m\u001b[43mheaders\u001b[49m\u001b[38;5;241;43m=\u001b[39;49m\u001b[43mrequest\u001b[49m\u001b[38;5;241;43m.\u001b[39;49m\u001b[43mheaders\u001b[49m\u001b[38;5;241;43m.\u001b[39;49m\u001b[43mraw\u001b[49m\u001b[43m,\u001b[49m\n\u001b[1;32m    718\u001b[0m \u001b[43m        \u001b[49m\u001b[43mstream\u001b[49m\u001b[38;5;241;43m=\u001b[39;49m\u001b[43mrequest\u001b[49m\u001b[38;5;241;43m.\u001b[39;49m\u001b[43mstream\u001b[49m\u001b[43m,\u001b[49m\n\u001b[1;32m    719\u001b[0m \u001b[43m        \u001b[49m\u001b[43mtimeout\u001b[49m\u001b[38;5;241;43m=\u001b[39;49m\u001b[43mtimeout\u001b[49m\u001b[38;5;241;43m.\u001b[39;49m\u001b[43mas_dict\u001b[49m\u001b[43m(\u001b[49m\u001b[43m)\u001b[49m\u001b[43m,\u001b[49m\n\u001b[1;32m    720\u001b[0m \u001b[43m    \u001b[49m\u001b[43m)\u001b[49m\n\u001b[1;32m    721\u001b[0m \u001b[38;5;28;01mexcept\u001b[39;00m HTTPError \u001b[38;5;28;01mas\u001b[39;00m exc:\n\u001b[1;32m    722\u001b[0m     \u001b[38;5;66;03m# Add the original request to any HTTPError unless\u001b[39;00m\n\u001b[1;32m    723\u001b[0m     \u001b[38;5;66;03m# there'a already a request attached in the case of\u001b[39;00m\n\u001b[1;32m    724\u001b[0m     \u001b[38;5;66;03m# a ProxyError.\u001b[39;00m\n\u001b[1;32m    725\u001b[0m     \u001b[38;5;28;01mif\u001b[39;00m exc\u001b[38;5;241m.\u001b[39m_request \u001b[38;5;129;01mis\u001b[39;00m \u001b[38;5;28;01mNone\u001b[39;00m:\n",
      "File \u001b[0;32m~/Library/Python/3.9/lib/python/site-packages/httpcore/_sync/connection_pool.py:152\u001b[0m, in \u001b[0;36mSyncConnectionPool.request\u001b[0;34m(self, method, url, headers, stream, timeout)\u001b[0m\n\u001b[1;32m    149\u001b[0m         logger\u001b[38;5;241m.\u001b[39mtrace(\u001b[38;5;124m\"\u001b[39m\u001b[38;5;124mreuse connection=\u001b[39m\u001b[38;5;132;01m%r\u001b[39;00m\u001b[38;5;124m\"\u001b[39m, connection)\n\u001b[1;32m    151\u001b[0m \u001b[38;5;28;01mtry\u001b[39;00m:\n\u001b[0;32m--> 152\u001b[0m     response \u001b[38;5;241m=\u001b[39m \u001b[43mconnection\u001b[49m\u001b[38;5;241;43m.\u001b[39;49m\u001b[43mrequest\u001b[49m\u001b[43m(\u001b[49m\n\u001b[1;32m    153\u001b[0m \u001b[43m        \u001b[49m\u001b[43mmethod\u001b[49m\u001b[43m,\u001b[49m\u001b[43m \u001b[49m\u001b[43murl\u001b[49m\u001b[43m,\u001b[49m\u001b[43m \u001b[49m\u001b[43mheaders\u001b[49m\u001b[38;5;241;43m=\u001b[39;49m\u001b[43mheaders\u001b[49m\u001b[43m,\u001b[49m\u001b[43m \u001b[49m\u001b[43mstream\u001b[49m\u001b[38;5;241;43m=\u001b[39;49m\u001b[43mstream\u001b[49m\u001b[43m,\u001b[49m\u001b[43m \u001b[49m\u001b[43mtimeout\u001b[49m\u001b[38;5;241;43m=\u001b[39;49m\u001b[43mtimeout\u001b[49m\n\u001b[1;32m    154\u001b[0m \u001b[43m    \u001b[49m\u001b[43m)\u001b[49m\n\u001b[1;32m    155\u001b[0m \u001b[38;5;28;01mexcept\u001b[39;00m NewConnectionRequired:\n\u001b[1;32m    156\u001b[0m     connection \u001b[38;5;241m=\u001b[39m \u001b[38;5;28;01mNone\u001b[39;00m\n",
      "File \u001b[0;32m~/Library/Python/3.9/lib/python/site-packages/httpcore/_sync/connection.py:78\u001b[0m, in \u001b[0;36mSyncHTTPConnection.request\u001b[0;34m(self, method, url, headers, stream, timeout)\u001b[0m\n\u001b[1;32m     74\u001b[0m \u001b[38;5;28;01massert\u001b[39;00m \u001b[38;5;28mself\u001b[39m\u001b[38;5;241m.\u001b[39mconnection \u001b[38;5;129;01mis\u001b[39;00m \u001b[38;5;129;01mnot\u001b[39;00m \u001b[38;5;28;01mNone\u001b[39;00m\n\u001b[1;32m     75\u001b[0m logger\u001b[38;5;241m.\u001b[39mtrace(\n\u001b[1;32m     76\u001b[0m     \u001b[38;5;124m\"\u001b[39m\u001b[38;5;124mconnection.request method=\u001b[39m\u001b[38;5;132;01m%r\u001b[39;00m\u001b[38;5;124m url=\u001b[39m\u001b[38;5;132;01m%r\u001b[39;00m\u001b[38;5;124m headers=\u001b[39m\u001b[38;5;132;01m%r\u001b[39;00m\u001b[38;5;124m\"\u001b[39m, method, url, headers\n\u001b[1;32m     77\u001b[0m )\n\u001b[0;32m---> 78\u001b[0m \u001b[38;5;28;01mreturn\u001b[39;00m \u001b[38;5;28;43mself\u001b[39;49m\u001b[38;5;241;43m.\u001b[39;49m\u001b[43mconnection\u001b[49m\u001b[38;5;241;43m.\u001b[39;49m\u001b[43mrequest\u001b[49m\u001b[43m(\u001b[49m\u001b[43mmethod\u001b[49m\u001b[43m,\u001b[49m\u001b[43m \u001b[49m\u001b[43murl\u001b[49m\u001b[43m,\u001b[49m\u001b[43m \u001b[49m\u001b[43mheaders\u001b[49m\u001b[43m,\u001b[49m\u001b[43m \u001b[49m\u001b[43mstream\u001b[49m\u001b[43m,\u001b[49m\u001b[43m \u001b[49m\u001b[43mtimeout\u001b[49m\u001b[43m)\u001b[49m\n",
      "File \u001b[0;32m~/Library/Python/3.9/lib/python/site-packages/httpcore/_sync/http2.py:118\u001b[0m, in \u001b[0;36mSyncHTTP2Connection.request\u001b[0;34m(self, method, url, headers, stream, timeout)\u001b[0m\n\u001b[1;32m    116\u001b[0m     \u001b[38;5;28mself\u001b[39m\u001b[38;5;241m.\u001b[39mstreams[stream_id] \u001b[38;5;241m=\u001b[39m h2_stream\n\u001b[1;32m    117\u001b[0m     \u001b[38;5;28mself\u001b[39m\u001b[38;5;241m.\u001b[39mevents[stream_id] \u001b[38;5;241m=\u001b[39m []\n\u001b[0;32m--> 118\u001b[0m     \u001b[38;5;28;01mreturn\u001b[39;00m \u001b[43mh2_stream\u001b[49m\u001b[38;5;241;43m.\u001b[39;49m\u001b[43mrequest\u001b[49m\u001b[43m(\u001b[49m\u001b[43mmethod\u001b[49m\u001b[43m,\u001b[49m\u001b[43m \u001b[49m\u001b[43murl\u001b[49m\u001b[43m,\u001b[49m\u001b[43m \u001b[49m\u001b[43mheaders\u001b[49m\u001b[43m,\u001b[49m\u001b[43m \u001b[49m\u001b[43mstream\u001b[49m\u001b[43m,\u001b[49m\u001b[43m \u001b[49m\u001b[43mtimeout\u001b[49m\u001b[43m)\u001b[49m\n\u001b[1;32m    119\u001b[0m \u001b[38;5;28;01mexcept\u001b[39;00m \u001b[38;5;167;01mException\u001b[39;00m:\n\u001b[1;32m    120\u001b[0m     \u001b[38;5;28mself\u001b[39m\u001b[38;5;241m.\u001b[39mmax_streams_semaphore\u001b[38;5;241m.\u001b[39mrelease()\n",
      "File \u001b[0;32m~/Library/Python/3.9/lib/python/site-packages/httpcore/_sync/http2.py:292\u001b[0m, in \u001b[0;36mSyncHTTP2Stream.request\u001b[0;34m(self, method, url, headers, stream, timeout)\u001b[0m\n\u001b[1;32m    289\u001b[0m     \u001b[38;5;28mself\u001b[39m\u001b[38;5;241m.\u001b[39msend_body(stream, timeout)\n\u001b[1;32m    291\u001b[0m \u001b[38;5;66;03m# Receive the response.\u001b[39;00m\n\u001b[0;32m--> 292\u001b[0m status_code, headers \u001b[38;5;241m=\u001b[39m \u001b[38;5;28;43mself\u001b[39;49m\u001b[38;5;241;43m.\u001b[39;49m\u001b[43mreceive_response\u001b[49m\u001b[43m(\u001b[49m\u001b[43mtimeout\u001b[49m\u001b[43m)\u001b[49m\n\u001b[1;32m    293\u001b[0m reason_phrase \u001b[38;5;241m=\u001b[39m get_reason_phrase(status_code)\n\u001b[1;32m    294\u001b[0m stream \u001b[38;5;241m=\u001b[39m SyncByteStream(\n\u001b[1;32m    295\u001b[0m     iterator\u001b[38;5;241m=\u001b[39m\u001b[38;5;28mself\u001b[39m\u001b[38;5;241m.\u001b[39mbody_iter(timeout), close_func\u001b[38;5;241m=\u001b[39m\u001b[38;5;28mself\u001b[39m\u001b[38;5;241m.\u001b[39m_response_closed\n\u001b[1;32m    296\u001b[0m )\n",
      "File \u001b[0;32m~/Library/Python/3.9/lib/python/site-packages/httpcore/_sync/http2.py:344\u001b[0m, in \u001b[0;36mSyncHTTP2Stream.receive_response\u001b[0;34m(self, timeout)\u001b[0m\n\u001b[1;32m    340\u001b[0m \u001b[38;5;250m\u001b[39m\u001b[38;5;124;03m\"\"\"\u001b[39;00m\n\u001b[1;32m    341\u001b[0m \u001b[38;5;124;03mRead the response status and headers from the network.\u001b[39;00m\n\u001b[1;32m    342\u001b[0m \u001b[38;5;124;03m\"\"\"\u001b[39;00m\n\u001b[1;32m    343\u001b[0m \u001b[38;5;28;01mwhile\u001b[39;00m \u001b[38;5;28;01mTrue\u001b[39;00m:\n\u001b[0;32m--> 344\u001b[0m     event \u001b[38;5;241m=\u001b[39m \u001b[38;5;28;43mself\u001b[39;49m\u001b[38;5;241;43m.\u001b[39;49m\u001b[43mconnection\u001b[49m\u001b[38;5;241;43m.\u001b[39;49m\u001b[43mwait_for_event\u001b[49m\u001b[43m(\u001b[49m\u001b[38;5;28;43mself\u001b[39;49m\u001b[38;5;241;43m.\u001b[39;49m\u001b[43mstream_id\u001b[49m\u001b[43m,\u001b[49m\u001b[43m \u001b[49m\u001b[43mtimeout\u001b[49m\u001b[43m)\u001b[49m\n\u001b[1;32m    345\u001b[0m     \u001b[38;5;28;01mif\u001b[39;00m \u001b[38;5;28misinstance\u001b[39m(event, h2\u001b[38;5;241m.\u001b[39mevents\u001b[38;5;241m.\u001b[39mResponseReceived):\n\u001b[1;32m    346\u001b[0m         \u001b[38;5;28;01mbreak\u001b[39;00m\n",
      "File \u001b[0;32m~/Library/Python/3.9/lib/python/site-packages/httpcore/_sync/http2.py:197\u001b[0m, in \u001b[0;36mSyncHTTP2Connection.wait_for_event\u001b[0;34m(self, stream_id, timeout)\u001b[0m\n\u001b[1;32m    195\u001b[0m \u001b[38;5;28;01mwith\u001b[39;00m \u001b[38;5;28mself\u001b[39m\u001b[38;5;241m.\u001b[39mread_lock:\n\u001b[1;32m    196\u001b[0m     \u001b[38;5;28;01mwhile\u001b[39;00m \u001b[38;5;129;01mnot\u001b[39;00m \u001b[38;5;28mself\u001b[39m\u001b[38;5;241m.\u001b[39mevents[stream_id]:\n\u001b[0;32m--> 197\u001b[0m         \u001b[38;5;28;43mself\u001b[39;49m\u001b[38;5;241;43m.\u001b[39;49m\u001b[43mreceive_events\u001b[49m\u001b[43m(\u001b[49m\u001b[43mtimeout\u001b[49m\u001b[43m)\u001b[49m\n\u001b[1;32m    198\u001b[0m \u001b[38;5;28;01mreturn\u001b[39;00m \u001b[38;5;28mself\u001b[39m\u001b[38;5;241m.\u001b[39mevents[stream_id]\u001b[38;5;241m.\u001b[39mpop(\u001b[38;5;241m0\u001b[39m)\n",
      "File \u001b[0;32m~/Library/Python/3.9/lib/python/site-packages/httpcore/_sync/http2.py:205\u001b[0m, in \u001b[0;36mSyncHTTP2Connection.receive_events\u001b[0;34m(self, timeout)\u001b[0m\n\u001b[1;32m    201\u001b[0m \u001b[38;5;250m\u001b[39m\u001b[38;5;124;03m\"\"\"\u001b[39;00m\n\u001b[1;32m    202\u001b[0m \u001b[38;5;124;03mRead some data from the network, and update the H2 state.\u001b[39;00m\n\u001b[1;32m    203\u001b[0m \u001b[38;5;124;03m\"\"\"\u001b[39;00m\n\u001b[1;32m    204\u001b[0m data \u001b[38;5;241m=\u001b[39m \u001b[38;5;28mself\u001b[39m\u001b[38;5;241m.\u001b[39msocket\u001b[38;5;241m.\u001b[39mread(\u001b[38;5;28mself\u001b[39m\u001b[38;5;241m.\u001b[39mREAD_NUM_BYTES, timeout)\n\u001b[0;32m--> 205\u001b[0m events \u001b[38;5;241m=\u001b[39m \u001b[38;5;28;43mself\u001b[39;49m\u001b[38;5;241;43m.\u001b[39;49m\u001b[43mh2_state\u001b[49m\u001b[38;5;241;43m.\u001b[39;49m\u001b[43mreceive_data\u001b[49m\u001b[43m(\u001b[49m\u001b[43mdata\u001b[49m\u001b[43m)\u001b[49m\n\u001b[1;32m    206\u001b[0m \u001b[38;5;28;01mfor\u001b[39;00m event \u001b[38;5;129;01min\u001b[39;00m events:\n\u001b[1;32m    207\u001b[0m     event_stream_id \u001b[38;5;241m=\u001b[39m \u001b[38;5;28mgetattr\u001b[39m(event, \u001b[38;5;124m\"\u001b[39m\u001b[38;5;124mstream_id\u001b[39m\u001b[38;5;124m\"\u001b[39m, \u001b[38;5;241m0\u001b[39m)\n",
      "File \u001b[0;32m~/Library/Python/3.9/lib/python/site-packages/h2/connection.py:1463\u001b[0m, in \u001b[0;36mH2Connection.receive_data\u001b[0;34m(self, data)\u001b[0m\n\u001b[1;32m   1461\u001b[0m \u001b[38;5;28;01mtry\u001b[39;00m:\n\u001b[1;32m   1462\u001b[0m     \u001b[38;5;28;01mfor\u001b[39;00m frame \u001b[38;5;129;01min\u001b[39;00m \u001b[38;5;28mself\u001b[39m\u001b[38;5;241m.\u001b[39mincoming_buffer:\n\u001b[0;32m-> 1463\u001b[0m         events\u001b[38;5;241m.\u001b[39mextend(\u001b[38;5;28;43mself\u001b[39;49m\u001b[38;5;241;43m.\u001b[39;49m\u001b[43m_receive_frame\u001b[49m\u001b[43m(\u001b[49m\u001b[43mframe\u001b[49m\u001b[43m)\u001b[49m)\n\u001b[1;32m   1464\u001b[0m \u001b[38;5;28;01mexcept\u001b[39;00m InvalidPaddingError:\n\u001b[1;32m   1465\u001b[0m     \u001b[38;5;28mself\u001b[39m\u001b[38;5;241m.\u001b[39m_terminate_connection(ErrorCodes\u001b[38;5;241m.\u001b[39mPROTOCOL_ERROR)\n",
      "File \u001b[0;32m~/Library/Python/3.9/lib/python/site-packages/h2/connection.py:1486\u001b[0m, in \u001b[0;36mH2Connection._receive_frame\u001b[0;34m(self, frame)\u001b[0m\n\u001b[1;32m   1478\u001b[0m \u001b[38;5;250m\u001b[39m\u001b[38;5;124;03m\"\"\"\u001b[39;00m\n\u001b[1;32m   1479\u001b[0m \u001b[38;5;124;03mHandle a frame received on the connection.\u001b[39;00m\n\u001b[1;32m   1480\u001b[0m \n\u001b[1;32m   1481\u001b[0m \u001b[38;5;124;03m.. versionchanged:: 2.0.0\u001b[39;00m\n\u001b[1;32m   1482\u001b[0m \u001b[38;5;124;03m   Removed from the public API.\u001b[39;00m\n\u001b[1;32m   1483\u001b[0m \u001b[38;5;124;03m\"\"\"\u001b[39;00m\n\u001b[1;32m   1484\u001b[0m \u001b[38;5;28;01mtry\u001b[39;00m:\n\u001b[1;32m   1485\u001b[0m     \u001b[38;5;66;03m# I don't love using __class__ here, maybe reconsider it.\u001b[39;00m\n\u001b[0;32m-> 1486\u001b[0m     frames, events \u001b[38;5;241m=\u001b[39m \u001b[38;5;28;43mself\u001b[39;49m\u001b[38;5;241;43m.\u001b[39;49m\u001b[43m_frame_dispatch_table\u001b[49m\u001b[43m[\u001b[49m\u001b[43mframe\u001b[49m\u001b[38;5;241;43m.\u001b[39;49m\u001b[38;5;18;43m__class__\u001b[39;49m\u001b[43m]\u001b[49m\u001b[43m(\u001b[49m\u001b[43mframe\u001b[49m\u001b[43m)\u001b[49m\n\u001b[1;32m   1487\u001b[0m \u001b[38;5;28;01mexcept\u001b[39;00m StreamClosedError \u001b[38;5;28;01mas\u001b[39;00m e:\n\u001b[1;32m   1488\u001b[0m     \u001b[38;5;66;03m# If the stream was closed by RST_STREAM, we just send a RST_STREAM\u001b[39;00m\n\u001b[1;32m   1489\u001b[0m     \u001b[38;5;66;03m# to the remote peer. Otherwise, this is a connection error, and so\u001b[39;00m\n\u001b[1;32m   1490\u001b[0m     \u001b[38;5;66;03m# we will re-raise to trigger one.\u001b[39;00m\n\u001b[1;32m   1491\u001b[0m     \u001b[38;5;28;01mif\u001b[39;00m \u001b[38;5;28mself\u001b[39m\u001b[38;5;241m.\u001b[39m_stream_is_closed_by_reset(e\u001b[38;5;241m.\u001b[39mstream_id):\n",
      "File \u001b[0;32m~/Library/Python/3.9/lib/python/site-packages/h2/connection.py:1760\u001b[0m, in \u001b[0;36mH2Connection._receive_ping_frame\u001b[0;34m(self, frame)\u001b[0m\n\u001b[1;32m   1756\u001b[0m \u001b[38;5;28;01mdef\u001b[39;00m \u001b[38;5;21m_receive_ping_frame\u001b[39m(\u001b[38;5;28mself\u001b[39m, frame):\n\u001b[1;32m   1757\u001b[0m \u001b[38;5;250m    \u001b[39m\u001b[38;5;124;03m\"\"\"\u001b[39;00m\n\u001b[1;32m   1758\u001b[0m \u001b[38;5;124;03m    Receive a PING frame on the connection.\u001b[39;00m\n\u001b[1;32m   1759\u001b[0m \u001b[38;5;124;03m    \"\"\"\u001b[39;00m\n\u001b[0;32m-> 1760\u001b[0m     events \u001b[38;5;241m=\u001b[39m \u001b[38;5;28;43mself\u001b[39;49m\u001b[38;5;241;43m.\u001b[39;49m\u001b[43mstate_machine\u001b[49m\u001b[38;5;241;43m.\u001b[39;49m\u001b[43mprocess_input\u001b[49m\u001b[43m(\u001b[49m\n\u001b[1;32m   1761\u001b[0m \u001b[43m        \u001b[49m\u001b[43mConnectionInputs\u001b[49m\u001b[38;5;241;43m.\u001b[39;49m\u001b[43mRECV_PING\u001b[49m\n\u001b[1;32m   1762\u001b[0m \u001b[43m    \u001b[49m\u001b[43m)\u001b[49m\n\u001b[1;32m   1763\u001b[0m     flags \u001b[38;5;241m=\u001b[39m []\n\u001b[1;32m   1765\u001b[0m     \u001b[38;5;28;01mif\u001b[39;00m \u001b[38;5;124m'\u001b[39m\u001b[38;5;124mACK\u001b[39m\u001b[38;5;124m'\u001b[39m \u001b[38;5;129;01min\u001b[39;00m frame\u001b[38;5;241m.\u001b[39mflags:\n",
      "File \u001b[0;32m~/Library/Python/3.9/lib/python/site-packages/h2/connection.py:228\u001b[0m, in \u001b[0;36mH2ConnectionStateMachine.process_input\u001b[0;34m(self, input_)\u001b[0m\n\u001b[1;32m    226\u001b[0m     old_state \u001b[38;5;241m=\u001b[39m \u001b[38;5;28mself\u001b[39m\u001b[38;5;241m.\u001b[39mstate\n\u001b[1;32m    227\u001b[0m     \u001b[38;5;28mself\u001b[39m\u001b[38;5;241m.\u001b[39mstate \u001b[38;5;241m=\u001b[39m ConnectionState\u001b[38;5;241m.\u001b[39mCLOSED\n\u001b[0;32m--> 228\u001b[0m     \u001b[38;5;28;01mraise\u001b[39;00m ProtocolError(\n\u001b[1;32m    229\u001b[0m         \u001b[38;5;124m\"\u001b[39m\u001b[38;5;124mInvalid input \u001b[39m\u001b[38;5;132;01m%s\u001b[39;00m\u001b[38;5;124m in state \u001b[39m\u001b[38;5;132;01m%s\u001b[39;00m\u001b[38;5;124m\"\u001b[39m \u001b[38;5;241m%\u001b[39m (input_, old_state)\n\u001b[1;32m    230\u001b[0m     )\n\u001b[1;32m    231\u001b[0m \u001b[38;5;28;01melse\u001b[39;00m:\n\u001b[1;32m    232\u001b[0m     \u001b[38;5;28mself\u001b[39m\u001b[38;5;241m.\u001b[39mstate \u001b[38;5;241m=\u001b[39m target_state\n",
      "\u001b[0;31mProtocolError\u001b[0m: Invalid input ConnectionInputs.RECV_PING in state ConnectionState.CLOSED"
     ]
    }
   ],
   "source": [
    "# Only for information. Do not uncomment/run this cell.\n",
    "\n",
    "# translated_tmp = tmp.apply(translator.translate, dest='en').apply(getattr, args=('text',))"
   ]
  },
  {
   "cell_type": "markdown",
   "id": "6e5659fd",
   "metadata": {},
   "source": [
    "Instead, we opted to remove any entries that did not contain English comments. We use the nltk's English stopwords list to identify comments with atleast one stopword. Comments that do not contain a single stopword are dropped."
   ]
  },
  {
   "cell_type": "code",
   "execution_count": 57,
   "id": "bfd0cf2e",
   "metadata": {
    "scrolled": true
   },
   "outputs": [],
   "source": [
    "tmp = tmp.str.lower()"
   ]
  },
  {
   "cell_type": "code",
   "execution_count": 58,
   "id": "adf9ce76",
   "metadata": {},
   "outputs": [],
   "source": [
    "stop_words_set = set(stopwords.words('english'))"
   ]
  },
  {
   "cell_type": "code",
   "execution_count": 59,
   "id": "a9eb6f89",
   "metadata": {},
   "outputs": [
    {
     "data": {
      "application/vnd.jupyter.widget-view+json": {
       "model_id": "be2135185cb4424bb3db33b84037ad57",
       "version_major": 2,
       "version_minor": 0
      },
      "text/plain": [
       "  0%|          | 0/1363410 [00:00<?, ?it/s]"
      ]
     },
     "metadata": {},
     "output_type": "display_data"
    }
   ],
   "source": [
    "visited = set()\n",
    "\n",
    "def remove_stopwords(text, idx):\n",
    "    words = re.sub('\\s', ' ', text)\n",
    "    words = re.sub('\\W', ' ', text).split()\n",
    "    filtered = []\n",
    "    seen = False\n",
    "    for i in words:\n",
    "        if i not in stop_words_set:\n",
    "            filtered.append(i)\n",
    "        else:\n",
    "            #stopword encountered => English\n",
    "            if not seen:\n",
    "                # Add to visited\n",
    "                visited.add(idx)\n",
    "                seen = True\n",
    "    return filtered\n",
    "\n",
    "tmp_org = tmp.copy()\n",
    "for i in tqdm(tmp.index):\n",
    "    if type(tmp.loc[i]) == str:\n",
    "        tmp.loc[i] = remove_stopwords(tmp.loc[i], i)"
   ]
  },
  {
   "cell_type": "markdown",
   "id": "0861e8ee",
   "metadata": {},
   "source": [
    "Let's see the number of comments with English stopwords. We can assume that these are all the comments in English."
   ]
  },
  {
   "cell_type": "code",
   "execution_count": 60,
   "id": "1edb2005",
   "metadata": {},
   "outputs": [
    {
     "data": {
      "text/plain": [
       "1304956"
      ]
     },
     "execution_count": 60,
     "metadata": {},
     "output_type": "execute_result"
    }
   ],
   "source": [
    "len(visited)"
   ]
  },
  {
   "cell_type": "markdown",
   "id": "17bf519d",
   "metadata": {},
   "source": [
    "We can now filter the English comments"
   ]
  },
  {
   "cell_type": "code",
   "execution_count": 61,
   "id": "2f97da30",
   "metadata": {},
   "outputs": [],
   "source": [
    "tmp = tmp[sorted(visited)]"
   ]
  },
  {
   "cell_type": "code",
   "execution_count": 62,
   "id": "630b27eb",
   "metadata": {},
   "outputs": [
    {
     "data": {
      "text/plain": [
       "(1304956,)"
      ]
     },
     "execution_count": 62,
     "metadata": {},
     "output_type": "execute_result"
    }
   ],
   "source": [
    "tmp.shape"
   ]
  },
  {
   "cell_type": "code",
   "execution_count": 63,
   "id": "874542a5",
   "metadata": {},
   "outputs": [
    {
     "data": {
      "text/plain": [
       "0          [every, evening, brave, queen, persia, shahraz...\n",
       "1          [1983, 84, school, year, edward, zanni, hoboke...\n",
       "2          [became, privy, book, another, author, enjoy, ...\n",
       "4          [tremendous, story, freed, woman, family, sold...\n",
       "5          [book, officially, caught, series, unfortunate...\n",
       "                                 ...                        \n",
       "1707061    [chess, still, lot, messed, head, still, drugs...\n",
       "1707062    [could, wait, get, started, book, entertaining...\n",
       "1707064    [came, book, low, expectations, reputation, au...\n",
       "1707066    [fairy, tale, much, cupid, amp, psyche, beauty...\n",
       "1707069    [originally, met, diseases, covered, book, med...\n",
       "Name: comment, Length: 1304956, dtype: object"
      ]
     },
     "execution_count": 63,
     "metadata": {},
     "output_type": "execute_result"
    }
   ],
   "source": [
    "tmp"
   ]
  },
  {
   "cell_type": "markdown",
   "id": "6af9ad6f",
   "metadata": {},
   "source": [
    "Let's ensure that we are not left with any empty reviews."
   ]
  },
  {
   "cell_type": "code",
   "execution_count": 64,
   "id": "b80d4156",
   "metadata": {},
   "outputs": [],
   "source": [
    "tmp = tmp[tmp.str.len() != 0]"
   ]
  },
  {
   "cell_type": "code",
   "execution_count": 65,
   "id": "cabca971",
   "metadata": {},
   "outputs": [
    {
     "data": {
      "text/plain": [
       "(1304851,)"
      ]
     },
     "execution_count": 65,
     "metadata": {},
     "output_type": "execute_result"
    }
   ],
   "source": [
    "tmp.shape"
   ]
  },
  {
   "cell_type": "markdown",
   "id": "1c3e0746",
   "metadata": {},
   "source": [
    "Seems like there were a few empty reviews. To reduce the number of words in the corpus I am using the Snowball Stemmer."
   ]
  },
  {
   "cell_type": "code",
   "execution_count": 66,
   "id": "a7aa1424",
   "metadata": {},
   "outputs": [
    {
     "data": {
      "text/plain": [
       "'generous'"
      ]
     },
     "execution_count": 66,
     "metadata": {},
     "output_type": "execute_result"
    }
   ],
   "source": [
    "SnowballStemmer(\"english\").stem(\"generously\")"
   ]
  },
  {
   "cell_type": "markdown",
   "id": "d001c07d",
   "metadata": {},
   "source": [
    "This might take a while (~15 minutes). Thanks to tqdm we can atleast see the progress."
   ]
  },
  {
   "cell_type": "code",
   "execution_count": 67,
   "id": "894fddf6",
   "metadata": {},
   "outputs": [
    {
     "data": {
      "application/vnd.jupyter.widget-view+json": {
       "model_id": "1bc58694c3a9416ea85f00ccc22cc97d",
       "version_major": 2,
       "version_minor": 0
      },
      "text/plain": [
       "  0%|          | 0/1304851 [00:00<?, ?it/s]"
      ]
     },
     "metadata": {},
     "output_type": "display_data"
    }
   ],
   "source": [
    "stemmer = SnowballStemmer(\"english\")\n",
    "stem_tmp = tmp.progress_apply(lambda x: [stemmer.stem(i) for i in x])"
   ]
  },
  {
   "cell_type": "markdown",
   "id": "820a5417",
   "metadata": {},
   "source": [
    "With that done, we are now ready to create word embeddings. This might take a while (~10 min)."
   ]
  },
  {
   "cell_type": "code",
   "execution_count": 68,
   "id": "871cda3b",
   "metadata": {},
   "outputs": [],
   "source": [
    "model = Word2Vec(sentences=stem_tmp, workers=8)"
   ]
  },
  {
   "cell_type": "code",
   "execution_count": 69,
   "id": "c65ad57a",
   "metadata": {},
   "outputs": [
    {
     "data": {
      "text/plain": [
       "109827776"
      ]
     },
     "execution_count": 69,
     "metadata": {},
     "output_type": "execute_result"
    }
   ],
   "source": [
    "model.corpus_total_words"
   ]
  },
  {
   "cell_type": "code",
   "execution_count": 70,
   "id": "3d2815d8",
   "metadata": {},
   "outputs": [],
   "source": [
    "# deleting a few temporary variables to free up memory.\n",
    "del tmp, comments, visited, review_list"
   ]
  },
  {
   "cell_type": "code",
   "execution_count": 71,
   "id": "aced57d5",
   "metadata": {},
   "outputs": [],
   "source": [
    "model.save(\"word2vec.model\")"
   ]
  },
  {
   "cell_type": "code",
   "execution_count": 72,
   "id": "f403b4f0",
   "metadata": {},
   "outputs": [
    {
     "data": {
      "text/plain": [
       "0          [everi, even, brave, queen, persia, shahrazad,...\n",
       "1          [1983, 84, school, year, edward, zanni, hoboke...\n",
       "2          [becam, privi, book, anoth, author, enjoy, rea...\n",
       "4          [tremend, stori, freed, woman, famili, sold, s...\n",
       "5          [book, offici, caught, seri, unfortun, one, wa...\n",
       "                                 ...                        \n",
       "1707061    [chess, still, lot, mess, head, still, drug, t...\n",
       "1707062    [could, wait, get, start, book, entertain, fel...\n",
       "1707064    [came, book, low, expect, reput, author, drew,...\n",
       "1707066    [fairi, tale, much, cupid, amp, psych, beauti,...\n",
       "1707069    [origin, met, diseas, cover, book, medic, scho...\n",
       "Name: comment, Length: 1304851, dtype: object"
      ]
     },
     "execution_count": 72,
     "metadata": {},
     "output_type": "execute_result"
    }
   ],
   "source": [
    "stem_tmp"
   ]
  },
  {
   "cell_type": "markdown",
   "id": "616fe63c",
   "metadata": {},
   "source": [
    "A sample word embedding looks as follows."
   ]
  },
  {
   "cell_type": "code",
   "execution_count": 74,
   "id": "74428f9f",
   "metadata": {},
   "outputs": [
    {
     "data": {
      "text/plain": [
       "array([ 0.10367627, -0.36851317,  2.908397  ,  0.76862586,  2.3114858 ,\n",
       "        0.77372485,  1.2550653 , -1.0869534 , -1.6220549 , -0.8652857 ,\n",
       "       -0.41185504, -0.04806287, -0.08261371,  0.89254326, -0.7953942 ,\n",
       "        0.70350254,  0.14092682, -1.4167191 ,  0.32493967, -0.90796095,\n",
       "        1.1187738 ,  0.2959407 ,  3.569652  ,  0.23005548,  0.59086347,\n",
       "        0.06128922,  0.18929835, -0.63353115, -0.35106736,  2.0770605 ,\n",
       "       -0.5452487 , -0.1359947 ,  2.145128  , -1.2206489 , -0.35350963,\n",
       "        1.5968848 ,  0.44131425,  1.8023636 , -0.6034191 , -2.002628  ,\n",
       "       -1.0121001 ,  0.94772446,  0.45991266, -0.8703325 , -0.06479299,\n",
       "        0.80011874, -0.9967619 ,  0.78014034,  0.9306472 ,  1.6344388 ,\n",
       "        0.51528007,  0.03724037, -0.5539777 ,  0.11597644,  0.43016955,\n",
       "       -0.14809838, -1.1131036 , -0.35874802, -1.1808735 , -1.2574525 ,\n",
       "       -2.360807  , -1.5821738 ,  1.2406336 , -1.2765911 , -1.2988397 ,\n",
       "       -4.5440154 , -1.0999631 ,  0.31808326, -0.47380888, -1.1888647 ,\n",
       "        0.22156416, -1.4542826 , -1.1623768 , -0.45602882, -0.5187779 ,\n",
       "       -0.31398165, -1.5889666 ,  2.3072448 , -1.2005757 ,  0.22458759,\n",
       "        0.4206064 , -0.7695256 , -0.23723753, -0.45760757,  0.795445  ,\n",
       "        1.0953957 ,  0.12485449, -0.39162073, -0.17661408, -0.97021085,\n",
       "        0.50649434,  0.49846536,  2.242692  ,  0.3667887 , -0.60142213,\n",
       "       -3.1887965 , -1.1277379 ,  1.7991645 ,  1.3637923 ,  1.4926572 ],\n",
       "      dtype=float32)"
      ]
     },
     "execution_count": 74,
     "metadata": {},
     "output_type": "execute_result"
    }
   ],
   "source": [
    "model.wv['hello']"
   ]
  },
  {
   "cell_type": "markdown",
   "id": "92679330",
   "metadata": {},
   "source": [
    "To create sentence embeddings, we simply add together the word embeddings for each word in the sentence."
   ]
  },
  {
   "cell_type": "code",
   "execution_count": 75,
   "id": "1e66928f",
   "metadata": {},
   "outputs": [],
   "source": [
    "def create_embedding(text):\n",
    "    embedding = np.zeros(100)\n",
    "    for i in text:\n",
    "        try:\n",
    "            embedding += model.wv[i]\n",
    "        except:\n",
    "            pass\n",
    "    return embedding"
   ]
  },
  {
   "cell_type": "code",
   "execution_count": 76,
   "id": "e5d0832c",
   "metadata": {},
   "outputs": [
    {
     "data": {
      "application/vnd.jupyter.widget-view+json": {
       "model_id": "d7972bea50724a048758594410dd78de",
       "version_major": 2,
       "version_minor": 0
      },
      "text/plain": [
       "  0%|          | 0/1304851 [00:00<?, ?it/s]"
      ]
     },
     "metadata": {},
     "output_type": "display_data"
    }
   ],
   "source": [
    "comment_embedding = stem_tmp.progress_apply(lambda x: create_embedding(x))"
   ]
  },
  {
   "cell_type": "code",
   "execution_count": 77,
   "id": "fdd3688e",
   "metadata": {},
   "outputs": [
    {
     "data": {
      "text/plain": [
       "(1304851,)"
      ]
     },
     "execution_count": 77,
     "metadata": {},
     "output_type": "execute_result"
    }
   ],
   "source": [
    "comment_embedding.shape"
   ]
  },
  {
   "cell_type": "code",
   "execution_count": 78,
   "id": "e941134c",
   "metadata": {},
   "outputs": [
    {
     "data": {
      "text/plain": [
       "(100,)"
      ]
     },
     "execution_count": 78,
     "metadata": {},
     "output_type": "execute_result"
    }
   ],
   "source": [
    "comment_embedding[0].shape"
   ]
  },
  {
   "cell_type": "markdown",
   "id": "d8ee3019",
   "metadata": {},
   "source": [
    "Saving the embeddings for later use."
   ]
  },
  {
   "cell_type": "code",
   "execution_count": 79,
   "id": "2c4a4527",
   "metadata": {},
   "outputs": [],
   "source": [
    "with open('comment_embedding.pkl', 'wb') as f:\n",
    "    pickle.dump(comment_embedding, f)"
   ]
  },
  {
   "cell_type": "code",
   "execution_count": 80,
   "id": "d48a75e3",
   "metadata": {},
   "outputs": [],
   "source": [
    "with open('comment_embedding.pkl', 'rb') as f:\n",
    "    comment_embedding = pickle.load(f)"
   ]
  },
  {
   "cell_type": "markdown",
   "id": "7903282f",
   "metadata": {},
   "source": [
    "Create a new dataframe with embeddeded comments."
   ]
  },
  {
   "cell_type": "code",
   "execution_count": 81,
   "id": "8229e794",
   "metadata": {},
   "outputs": [],
   "source": [
    "filtered_df = new_review_df.loc[comment_embedding.index]"
   ]
  },
  {
   "cell_type": "markdown",
   "id": "a9f4a412",
   "metadata": {},
   "source": [
    "Drop unnecessary columns."
   ]
  },
  {
   "cell_type": "code",
   "execution_count": 82,
   "id": "f80a4623",
   "metadata": {},
   "outputs": [],
   "source": [
    "filtered_df.drop(['comment', 'abuse', 'not_a_review'], axis=1, inplace=True)"
   ]
  },
  {
   "cell_type": "code",
   "execution_count": 83,
   "id": "f94c6b75",
   "metadata": {},
   "outputs": [],
   "source": [
    "filtered_df['comment_embedding'] = comment_embedding"
   ]
  },
  {
   "cell_type": "markdown",
   "id": "740fc109",
   "metadata": {},
   "source": [
    "Clear up some memory"
   ]
  },
  {
   "cell_type": "code",
   "execution_count": 84,
   "id": "c2915756",
   "metadata": {},
   "outputs": [],
   "source": [
    "del new_review_df"
   ]
  },
  {
   "cell_type": "code",
   "execution_count": 85,
   "id": "3a1f3b58",
   "metadata": {},
   "outputs": [
    {
     "data": {
      "text/html": [
       "<div>\n",
       "<style scoped>\n",
       "    .dataframe tbody tr th:only-of-type {\n",
       "        vertical-align: middle;\n",
       "    }\n",
       "\n",
       "    .dataframe tbody tr th {\n",
       "        vertical-align: top;\n",
       "    }\n",
       "\n",
       "    .dataframe thead th {\n",
       "        text-align: right;\n",
       "    }\n",
       "</style>\n",
       "<table border=\"1\" class=\"dataframe\">\n",
       "  <thead>\n",
       "    <tr style=\"text-align: right;\">\n",
       "      <th></th>\n",
       "      <th>nhelpful</th>\n",
       "      <th>unixtime</th>\n",
       "      <th>work</th>\n",
       "      <th>user</th>\n",
       "      <th>stars</th>\n",
       "      <th>time</th>\n",
       "      <th>comment_embedding</th>\n",
       "    </tr>\n",
       "  </thead>\n",
       "  <tbody>\n",
       "    <tr>\n",
       "      <th>0</th>\n",
       "      <td>0</td>\n",
       "      <td>1.332288e+09</td>\n",
       "      <td>73960</td>\n",
       "      <td>Elizabeth.Wong98</td>\n",
       "      <td>4.5</td>\n",
       "      <td>Mar 21, 2012</td>\n",
       "      <td>[2.5197164304554462, 9.239733213093132, 146.32...</td>\n",
       "    </tr>\n",
       "    <tr>\n",
       "      <th>1</th>\n",
       "      <td>0</td>\n",
       "      <td>1.253405e+09</td>\n",
       "      <td>69413</td>\n",
       "      <td>rivkat</td>\n",
       "      <td>3.0</td>\n",
       "      <td>Sep 20, 2009</td>\n",
       "      <td>[-14.71329341083765, 25.712940784171224, 48.76...</td>\n",
       "    </tr>\n",
       "    <tr>\n",
       "      <th>2</th>\n",
       "      <td>0</td>\n",
       "      <td>1.299888e+09</td>\n",
       "      <td>9523995</td>\n",
       "      <td>suz.haugland</td>\n",
       "      <td>4.0</td>\n",
       "      <td>Mar 12, 2011</td>\n",
       "      <td>[-38.33073106780648, -76.95045654382557, 380.8...</td>\n",
       "    </tr>\n",
       "    <tr>\n",
       "      <th>4</th>\n",
       "      <td>0</td>\n",
       "      <td>1.329005e+09</td>\n",
       "      <td>11243828</td>\n",
       "      <td>CandyH</td>\n",
       "      <td>4.0</td>\n",
       "      <td>Feb 12, 2012</td>\n",
       "      <td>[-1.175795417279005, -20.05130848288536, 54.44...</td>\n",
       "    </tr>\n",
       "    <tr>\n",
       "      <th>5</th>\n",
       "      <td>0</td>\n",
       "      <td>1.278893e+09</td>\n",
       "      <td>9071901</td>\n",
       "      <td>miyurose</td>\n",
       "      <td>2.0</td>\n",
       "      <td>Jul 12, 2010</td>\n",
       "      <td>[-13.733905084431171, -20.63186874985695, 50.9...</td>\n",
       "    </tr>\n",
       "    <tr>\n",
       "      <th>...</th>\n",
       "      <td>...</td>\n",
       "      <td>...</td>\n",
       "      <td>...</td>\n",
       "      <td>...</td>\n",
       "      <td>...</td>\n",
       "      <td>...</td>\n",
       "      <td>...</td>\n",
       "    </tr>\n",
       "    <tr>\n",
       "      <th>1707061</th>\n",
       "      <td>0</td>\n",
       "      <td>1.373242e+09</td>\n",
       "      <td>11234213</td>\n",
       "      <td>wyvernfriend</td>\n",
       "      <td>3.5</td>\n",
       "      <td>Jul 8, 2013</td>\n",
       "      <td>[-7.426372528076172, -15.056323887780309, 113....</td>\n",
       "    </tr>\n",
       "    <tr>\n",
       "      <th>1707062</th>\n",
       "      <td>0</td>\n",
       "      <td>1.330906e+09</td>\n",
       "      <td>87328</td>\n",
       "      <td>bookwormteri</td>\n",
       "      <td>2.0</td>\n",
       "      <td>Mar 5, 2012</td>\n",
       "      <td>[-3.401369333267212, -12.215308649465442, 87.7...</td>\n",
       "    </tr>\n",
       "    <tr>\n",
       "      <th>1707064</th>\n",
       "      <td>0</td>\n",
       "      <td>1.314230e+09</td>\n",
       "      <td>11633344</td>\n",
       "      <td>TheLogo</td>\n",
       "      <td>4.5</td>\n",
       "      <td>Aug 25, 2011</td>\n",
       "      <td>[-160.51695234514773, -31.787006503902376, 270...</td>\n",
       "    </tr>\n",
       "    <tr>\n",
       "      <th>1707066</th>\n",
       "      <td>0</td>\n",
       "      <td>1.364688e+09</td>\n",
       "      <td>11749693</td>\n",
       "      <td>AmyMacEvilly</td>\n",
       "      <td>5.0</td>\n",
       "      <td>Mar 31, 2013</td>\n",
       "      <td>[12.153995676431805, -40.83596940524876, 46.27...</td>\n",
       "    </tr>\n",
       "    <tr>\n",
       "      <th>1707069</th>\n",
       "      <td>3</td>\n",
       "      <td>1.188518e+09</td>\n",
       "      <td>32396</td>\n",
       "      <td>jlelliott</td>\n",
       "      <td>4.0</td>\n",
       "      <td>Aug 31, 2007</td>\n",
       "      <td>[-35.31995715992525, 1.5224128179252148, 149.6...</td>\n",
       "    </tr>\n",
       "  </tbody>\n",
       "</table>\n",
       "<p>1304851 rows × 7 columns</p>\n",
       "</div>"
      ],
      "text/plain": [
       "         nhelpful      unixtime      work              user  stars  \\\n",
       "0               0  1.332288e+09     73960  Elizabeth.Wong98    4.5   \n",
       "1               0  1.253405e+09     69413            rivkat    3.0   \n",
       "2               0  1.299888e+09   9523995      suz.haugland    4.0   \n",
       "4               0  1.329005e+09  11243828            CandyH    4.0   \n",
       "5               0  1.278893e+09   9071901          miyurose    2.0   \n",
       "...           ...           ...       ...               ...    ...   \n",
       "1707061         0  1.373242e+09  11234213      wyvernfriend    3.5   \n",
       "1707062         0  1.330906e+09     87328      bookwormteri    2.0   \n",
       "1707064         0  1.314230e+09  11633344           TheLogo    4.5   \n",
       "1707066         0  1.364688e+09  11749693      AmyMacEvilly    5.0   \n",
       "1707069         3  1.188518e+09     32396         jlelliott    4.0   \n",
       "\n",
       "                 time                                  comment_embedding  \n",
       "0        Mar 21, 2012  [2.5197164304554462, 9.239733213093132, 146.32...  \n",
       "1        Sep 20, 2009  [-14.71329341083765, 25.712940784171224, 48.76...  \n",
       "2        Mar 12, 2011  [-38.33073106780648, -76.95045654382557, 380.8...  \n",
       "4        Feb 12, 2012  [-1.175795417279005, -20.05130848288536, 54.44...  \n",
       "5        Jul 12, 2010  [-13.733905084431171, -20.63186874985695, 50.9...  \n",
       "...               ...                                                ...  \n",
       "1707061   Jul 8, 2013  [-7.426372528076172, -15.056323887780309, 113....  \n",
       "1707062   Mar 5, 2012  [-3.401369333267212, -12.215308649465442, 87.7...  \n",
       "1707064  Aug 25, 2011  [-160.51695234514773, -31.787006503902376, 270...  \n",
       "1707066  Mar 31, 2013  [12.153995676431805, -40.83596940524876, 46.27...  \n",
       "1707069  Aug 31, 2007  [-35.31995715992525, 1.5224128179252148, 149.6...  \n",
       "\n",
       "[1304851 rows x 7 columns]"
      ]
     },
     "execution_count": 85,
     "metadata": {},
     "output_type": "execute_result"
    }
   ],
   "source": [
    "filtered_df"
   ]
  },
  {
   "cell_type": "markdown",
   "id": "0e0ca481",
   "metadata": {},
   "source": [
    "It seems that we have a few unique UNIX timestamps"
   ]
  },
  {
   "cell_type": "code",
   "execution_count": 86,
   "id": "d6a58a25",
   "metadata": {},
   "outputs": [
    {
     "data": {
      "text/plain": [
       "(2918,)"
      ]
     },
     "execution_count": 86,
     "metadata": {},
     "output_type": "execute_result"
    }
   ],
   "source": [
    "filtered_df.unixtime.unique().shape"
   ]
  },
  {
   "cell_type": "markdown",
   "id": "d31ed3da",
   "metadata": {},
   "source": [
    "We can drop 'time' as it is redundant."
   ]
  },
  {
   "cell_type": "code",
   "execution_count": 87,
   "id": "58a99bfb",
   "metadata": {},
   "outputs": [],
   "source": [
    "filtered_df.drop(['time'], axis=1, inplace=True)"
   ]
  },
  {
   "cell_type": "code",
   "execution_count": 88,
   "id": "4cc714de",
   "metadata": {},
   "outputs": [
    {
     "data": {
      "text/html": [
       "<div>\n",
       "<style scoped>\n",
       "    .dataframe tbody tr th:only-of-type {\n",
       "        vertical-align: middle;\n",
       "    }\n",
       "\n",
       "    .dataframe tbody tr th {\n",
       "        vertical-align: top;\n",
       "    }\n",
       "\n",
       "    .dataframe thead th {\n",
       "        text-align: right;\n",
       "    }\n",
       "</style>\n",
       "<table border=\"1\" class=\"dataframe\">\n",
       "  <thead>\n",
       "    <tr style=\"text-align: right;\">\n",
       "      <th></th>\n",
       "      <th>nhelpful</th>\n",
       "      <th>unixtime</th>\n",
       "      <th>work</th>\n",
       "      <th>user</th>\n",
       "      <th>stars</th>\n",
       "      <th>comment_embedding</th>\n",
       "    </tr>\n",
       "  </thead>\n",
       "  <tbody>\n",
       "    <tr>\n",
       "      <th>0</th>\n",
       "      <td>0</td>\n",
       "      <td>1.332288e+09</td>\n",
       "      <td>73960</td>\n",
       "      <td>Elizabeth.Wong98</td>\n",
       "      <td>4.5</td>\n",
       "      <td>[2.5197164304554462, 9.239733213093132, 146.32...</td>\n",
       "    </tr>\n",
       "    <tr>\n",
       "      <th>1</th>\n",
       "      <td>0</td>\n",
       "      <td>1.253405e+09</td>\n",
       "      <td>69413</td>\n",
       "      <td>rivkat</td>\n",
       "      <td>3.0</td>\n",
       "      <td>[-14.71329341083765, 25.712940784171224, 48.76...</td>\n",
       "    </tr>\n",
       "    <tr>\n",
       "      <th>2</th>\n",
       "      <td>0</td>\n",
       "      <td>1.299888e+09</td>\n",
       "      <td>9523995</td>\n",
       "      <td>suz.haugland</td>\n",
       "      <td>4.0</td>\n",
       "      <td>[-38.33073106780648, -76.95045654382557, 380.8...</td>\n",
       "    </tr>\n",
       "    <tr>\n",
       "      <th>4</th>\n",
       "      <td>0</td>\n",
       "      <td>1.329005e+09</td>\n",
       "      <td>11243828</td>\n",
       "      <td>CandyH</td>\n",
       "      <td>4.0</td>\n",
       "      <td>[-1.175795417279005, -20.05130848288536, 54.44...</td>\n",
       "    </tr>\n",
       "    <tr>\n",
       "      <th>5</th>\n",
       "      <td>0</td>\n",
       "      <td>1.278893e+09</td>\n",
       "      <td>9071901</td>\n",
       "      <td>miyurose</td>\n",
       "      <td>2.0</td>\n",
       "      <td>[-13.733905084431171, -20.63186874985695, 50.9...</td>\n",
       "    </tr>\n",
       "  </tbody>\n",
       "</table>\n",
       "</div>"
      ],
      "text/plain": [
       "   nhelpful      unixtime      work              user  stars  \\\n",
       "0         0  1.332288e+09     73960  Elizabeth.Wong98    4.5   \n",
       "1         0  1.253405e+09     69413            rivkat    3.0   \n",
       "2         0  1.299888e+09   9523995      suz.haugland    4.0   \n",
       "4         0  1.329005e+09  11243828            CandyH    4.0   \n",
       "5         0  1.278893e+09   9071901          miyurose    2.0   \n",
       "\n",
       "                                   comment_embedding  \n",
       "0  [2.5197164304554462, 9.239733213093132, 146.32...  \n",
       "1  [-14.71329341083765, 25.712940784171224, 48.76...  \n",
       "2  [-38.33073106780648, -76.95045654382557, 380.8...  \n",
       "4  [-1.175795417279005, -20.05130848288536, 54.44...  \n",
       "5  [-13.733905084431171, -20.63186874985695, 50.9...  "
      ]
     },
     "execution_count": 88,
     "metadata": {},
     "output_type": "execute_result"
    }
   ],
   "source": [
    "filtered_df.head()"
   ]
  },
  {
   "cell_type": "code",
   "execution_count": 89,
   "id": "66d74756",
   "metadata": {},
   "outputs": [
    {
     "data": {
      "text/plain": [
       "(67414,)"
      ]
     },
     "execution_count": 89,
     "metadata": {},
     "output_type": "execute_result"
    }
   ],
   "source": [
    "filtered_df.user.unique().shape"
   ]
  },
  {
   "cell_type": "code",
   "execution_count": 90,
   "id": "6d9a3da8",
   "metadata": {},
   "outputs": [],
   "source": [
    "with open('filtered_df.pkl', 'wb') as f:\n",
    "    pickle.dump(filtered_df, f)"
   ]
  },
  {
   "cell_type": "code",
   "execution_count": 91,
   "id": "c55d2156",
   "metadata": {},
   "outputs": [],
   "source": [
    "with open('filtered_df.pkl', 'rb') as f:\n",
    "    filtered_df = pickle.load(f)"
   ]
  },
  {
   "cell_type": "markdown",
   "id": "f35b40a6",
   "metadata": {},
   "source": [
    "Now, let's create an adjacency matrix using the graph data. We begin by creating integer identifiers for each user"
   ]
  },
  {
   "cell_type": "code",
   "execution_count": 92,
   "id": "54223b46",
   "metadata": {},
   "outputs": [],
   "source": [
    "user_to_index = {}\n",
    "for i, user in enumerate(filtered_df.user.unique()):\n",
    "    user_to_index[user] = i"
   ]
  },
  {
   "cell_type": "code",
   "execution_count": 93,
   "id": "660ab524",
   "metadata": {},
   "outputs": [
    {
     "data": {
      "text/plain": [
       "{'Elizabeth.Wong98': 0,\n",
       " 'rivkat': 1,\n",
       " 'suz.haugland': 2,\n",
       " 'CandyH': 3,\n",
       " 'miyurose': 4,\n",
       " 'melissaconway': 5,\n",
       " 'mab2008': 6,\n",
       " 'agnesmack': 7,\n",
       " 'funkendub': 8,\n",
       " 'notmyrealname': 9,\n",
       " 'bluetyson': 10,\n",
       " 'Kristelh': 11,\n",
       " 'ebruno': 12,\n",
       " 'judithrs': 13,\n",
       " 'Jaie22': 14,\n",
       " 'ronda73ca': 15,\n",
       " 'AmandaThon': 16,\n",
       " 'JoClare': 17,\n",
       " 'annajamieson': 18,\n",
       " 'Marlyn': 19,\n",
       " 'TadAD': 20,\n",
       " 'Moncoinlecture': 21,\n",
       " 'bermudaonion': 22,\n",
       " 'klarsenmd': 23,\n",
       " 'bjmitch': 24,\n",
       " 'SamuelW': 25,\n",
       " 'quilted_kat': 26,\n",
       " 'RachDan': 27,\n",
       " 'jhibburt': 28,\n",
       " 'Lavinient': 29,\n",
       " 'lizzielou': 30,\n",
       " 'isiswardrobe': 31,\n",
       " 'branadain': 32,\n",
       " 'roxy': 33,\n",
       " 'voltn74': 34,\n",
       " 'rhonda1111': 35,\n",
       " 'krau0098': 36,\n",
       " 'McEvilla': 37,\n",
       " 'samfsmith': 38,\n",
       " 'zenosbooks': 39,\n",
       " 'Readingfanatic1': 40,\n",
       " 'ntempest': 41,\n",
       " 'kakadoo202': 42,\n",
       " 'Ixachel': 43,\n",
       " 'Karlstar': 44,\n",
       " 'polarbear123': 45,\n",
       " 'harleyquinn0887': 46,\n",
       " 'lesleydawn': 47,\n",
       " 'nwhyte': 48,\n",
       " 'jburlinson': 49,\n",
       " 'Isamoor': 50,\n",
       " 'sprowett': 51,\n",
       " 'schnaucl': 52,\n",
       " 'jewelknits': 53,\n",
       " 'the_nimue': 54,\n",
       " 'sacredheart25': 55,\n",
       " 'champton08': 56,\n",
       " 'bnielsen': 57,\n",
       " 'janglen': 58,\n",
       " 'pollgott': 59,\n",
       " 'ametralladoras': 60,\n",
       " 'sunfi': 61,\n",
       " 'everfresh1': 62,\n",
       " 'bookmagic': 63,\n",
       " 'Schmerguls': 64,\n",
       " 'nobodysfool': 65,\n",
       " 'MadMooseMama': 66,\n",
       " 'amaraduende': 67,\n",
       " 'tboomer': 68,\n",
       " 'neurotoxicdoll': 69,\n",
       " 'libraryofus': 70,\n",
       " 'ReadThisNotThat': 71,\n",
       " 'brver': 72,\n",
       " 'bitsy08': 73,\n",
       " 'Mindyr': 74,\n",
       " 'jmorrison': 75,\n",
       " 'danlian': 76,\n",
       " 'allawishus': 77,\n",
       " 'alissabecker': 78,\n",
       " 'TooBusyReading': 79,\n",
       " 'ConxaM': 80,\n",
       " 'pettersson': 81,\n",
       " 'BAP1012': 82,\n",
       " 'ReviewsbyMolly': 83,\n",
       " 'psychedelicmicrobus': 84,\n",
       " 'maneekuhi': 85,\n",
       " '06nwingert': 86,\n",
       " 'Sylak': 87,\n",
       " 't1bclasslibrary': 88,\n",
       " 'OOSABookClub': 89,\n",
       " 'lekenned': 90,\n",
       " 'lesleymc': 91,\n",
       " 'lisab818': 92,\n",
       " 'MatthewHittinger': 93,\n",
       " 'danielx': 94,\n",
       " 'JenneB': 95,\n",
       " 'mohua': 96,\n",
       " 'folivier': 97,\n",
       " 'jtrovato': 98,\n",
       " 'burnit99': 99,\n",
       " 'AHS-Wolfy': 100,\n",
       " 'cyderry': 101,\n",
       " 'MinDaf': 102,\n",
       " 'Texas_Reaver': 103,\n",
       " 'TomWheaton': 104,\n",
       " 'lauralkeet': 105,\n",
       " 'butterflybaby': 106,\n",
       " 'annbury': 107,\n",
       " 'PghDragonMan': 108,\n",
       " 'idroskicinia': 109,\n",
       " 'Danielle.Jensen': 110,\n",
       " 'garyfeng': 111,\n",
       " 'ScoutJ': 112,\n",
       " 'bemislibrary': 113,\n",
       " 'austcrimefiction': 114,\n",
       " 'rmeyers': 115,\n",
       " 'thebookbabe': 116,\n",
       " 'SchusReadingStars': 117,\n",
       " 'mayaspector': 118,\n",
       " 'Montserratmv': 119,\n",
       " 'Doug.Lambeth': 120,\n",
       " 'dlitwack': 121,\n",
       " 'fyoder': 122,\n",
       " 'Helenliz': 123,\n",
       " 'Rubygarnet': 124,\n",
       " 'Poemblaze': 125,\n",
       " 'Asperula': 126,\n",
       " 'Knowledge_Arena': 127,\n",
       " 'DavisPamelag': 128,\n",
       " 'bookczuk': 129,\n",
       " 'cherryblossommj': 130,\n",
       " 'teelgee': 131,\n",
       " 'LaneLiterati': 132,\n",
       " 'Selina.Marie.Liaw': 133,\n",
       " 'GeniusJen': 134,\n",
       " 'davidbarrie': 135,\n",
       " 'bknight07': 136,\n",
       " 'velvetink': 137,\n",
       " 'MarieDrake': 138,\n",
       " 'DarianWilk': 139,\n",
       " 'mjeanmorris': 140,\n",
       " 'SaTh0921': 141,\n",
       " 'countrymouse': 142,\n",
       " 'AlCracka': 143,\n",
       " 'addictofromance': 144,\n",
       " 'raschneid': 145,\n",
       " 'librarianrae': 146,\n",
       " 'bigcurlyloz': 147,\n",
       " 'sorell': 148,\n",
       " 'revslick': 149,\n",
       " 'Kb0iew': 150,\n",
       " 'judikasp': 151,\n",
       " 'SJKessel': 152,\n",
       " 'vegetarian': 153,\n",
       " 'MrJack': 154,\n",
       " 'lecowan': 155,\n",
       " 'sisai': 156,\n",
       " '_Zoe_': 157,\n",
       " 'Anita.Teel': 158,\n",
       " 'jjsreads': 159,\n",
       " 'DRFP': 160,\n",
       " 'arthistorychick': 161,\n",
       " 'Darrol': 162,\n",
       " 'jhoddinott': 163,\n",
       " 'ague': 164,\n",
       " 'MaryEttaJ': 165,\n",
       " 'sally8658': 166,\n",
       " 'melaniehope': 167,\n",
       " 'mabrown22': 168,\n",
       " 'eleanor_eader': 169,\n",
       " 'kswolff': 170,\n",
       " 'wyvernfriend': 171,\n",
       " 'juniperSun': 172,\n",
       " 'deslivres5': 173,\n",
       " 'dlovins': 174,\n",
       " 'bookwormteri': 175,\n",
       " 'jwalton': 176,\n",
       " 'Robertgreaves': 177,\n",
       " 'LMHTWB': 178,\n",
       " 'bsquaredinoz': 179,\n",
       " 'hughryder': 180,\n",
       " 'Anthony.afar7962': 181,\n",
       " 'JNSelko': 182,\n",
       " 'readinggeek451': 183,\n",
       " 'lizzybeans11': 184,\n",
       " 'angelofmusic_81': 185,\n",
       " 'lafon': 186,\n",
       " 'redbudnate': 187,\n",
       " 'cdougherty221': 188,\n",
       " 'ohioyalibrarian': 189,\n",
       " 'MissHavoc': 190,\n",
       " 'workingwriter': 191,\n",
       " 'jillianmarie': 192,\n",
       " 'frozenplums': 193,\n",
       " 'UFReviews': 194,\n",
       " 'LesaHolstine': 195,\n",
       " 'beckymmoe': 196,\n",
       " 'jogf68': 197,\n",
       " 'Jawin': 198,\n",
       " 'BookRatMisty': 199,\n",
       " 'mikehedemark': 200,\n",
       " 'pmlyayakkers': 201,\n",
       " 'Herenya': 202,\n",
       " 'Litfan': 203,\n",
       " 'bookwormdreams': 204,\n",
       " 'kwest55': 205,\n",
       " 'Cathymacleod': 206,\n",
       " 'Landric': 207,\n",
       " 'shelleyraec': 208,\n",
       " 'bibefile': 209,\n",
       " 'hyborianmike': 210,\n",
       " 'lilgrnclover': 211,\n",
       " 'Moriquen': 212,\n",
       " 'knowledgelost': 213,\n",
       " 'Twikpet': 214,\n",
       " 'whitreidtan': 215,\n",
       " 'readingwithtea': 216,\n",
       " 'bingereader': 217,\n",
       " 'Shelby_Kuzma': 218,\n",
       " 'anderlawlor': 219,\n",
       " 'thart528': 220,\n",
       " 'Tudorrl': 221,\n",
       " 'skullstuffing': 222,\n",
       " 'kandlekrazey': 223,\n",
       " 'jlouise77': 224,\n",
       " 'BookaholicsReviewer': 225,\n",
       " 'pmsyyz': 226,\n",
       " 'willyt': 227,\n",
       " 'little_mrs': 228,\n",
       " 'ekean06': 229,\n",
       " 'BibliotecaUNED': 230,\n",
       " 'bezoar44': 231,\n",
       " 'crochetbunnii': 232,\n",
       " 'Meerkat4': 233,\n",
       " 'suzemo': 234,\n",
       " 'Cassandra_Strain': 235,\n",
       " 'jenreidreads': 236,\n",
       " 'cjfox73': 237,\n",
       " 'amz310783': 238,\n",
       " 'LaPhenix': 239,\n",
       " 'libraryleonard': 240,\n",
       " 'benuathanasia': 241,\n",
       " 'mcna217': 242,\n",
       " 'JacquieTalento': 243,\n",
       " 'YvetteKolstad': 244,\n",
       " 'sarahbrassard': 245,\n",
       " 'pamur': 246,\n",
       " 'kittyNoel': 247,\n",
       " 'MicheleKingery': 248,\n",
       " 'abirdman': 249,\n",
       " 'bkohl': 250,\n",
       " 'Alba1302': 251,\n",
       " 'fitzlade': 252,\n",
       " 'anyaejo': 253,\n",
       " 'annika97': 254,\n",
       " 'cbl_tn': 255,\n",
       " 'Seajack': 256,\n",
       " 'ilovecookies': 257,\n",
       " 'subofan98': 258,\n",
       " 'mdimmerling': 259,\n",
       " 'johni92': 260,\n",
       " 'Awesomeness1': 261,\n",
       " 'TomCook.cff': 262,\n",
       " 'BaileysAndBooks': 263,\n",
       " 'Menagerie': 264,\n",
       " 'kreagsheehan': 265,\n",
       " 'ksqadams': 266,\n",
       " 'sien': 267,\n",
       " 'Capnrandm': 268,\n",
       " 'WickedWoWestwood': 269,\n",
       " 'gjchauvin504': 270,\n",
       " 'SymphonySil': 271,\n",
       " 'suefitz1': 272,\n",
       " 'jbronderblogs': 273,\n",
       " 'charlie68': 274,\n",
       " 'whitneyw': 275,\n",
       " 'davidabrams': 276,\n",
       " 'Glenajo': 277,\n",
       " 'MarthaJeanne': 278,\n",
       " 'The_Book_Queen': 279,\n",
       " 'TheBentley': 280,\n",
       " 'SebastianFlyte': 281,\n",
       " 'Scapegoats': 282,\n",
       " 'tarenn': 283,\n",
       " 'marcelrochester': 284,\n",
       " 'kmmt48': 285,\n",
       " 'Blazingice0608': 286,\n",
       " 'kdabra4': 287,\n",
       " 'mazda502001': 288,\n",
       " 'lost.in.stories': 289,\n",
       " 'caerulius': 290,\n",
       " 'morriss003': 291,\n",
       " 'gaskella': 292,\n",
       " 'adzebill': 293,\n",
       " 'xavierroy': 294,\n",
       " 'DianeGia': 295,\n",
       " 'hillida': 296,\n",
       " 'nobodhi': 297,\n",
       " 'FolkeB': 298,\n",
       " 'PeterClack': 299,\n",
       " 'kaki5231': 300,\n",
       " 'temsmail': 301,\n",
       " 'Cailiosa': 302,\n",
       " 'lakertraw': 303,\n",
       " 'Gwendydd': 304,\n",
       " 'CasualFriday': 305,\n",
       " 'mrtall': 306,\n",
       " 'Kathy89': 307,\n",
       " 'librarianlk': 308,\n",
       " 'Logophile': 309,\n",
       " 'Chantelle713': 310,\n",
       " 'TPauSilver': 311,\n",
       " 'McGrewc': 312,\n",
       " 'PatriciaW4': 313,\n",
       " 'jmcclain19': 314,\n",
       " 'maita': 315,\n",
       " 'kosukes': 316,\n",
       " 'RoyHartCentre': 317,\n",
       " 'kawayu': 318,\n",
       " 'ohjanet': 319,\n",
       " 'PureImagination': 320,\n",
       " 'l_manning': 321,\n",
       " 'ncla': 322,\n",
       " 'Sarah.Poling': 323,\n",
       " 'LongDogMom': 324,\n",
       " 'Mazidi': 325,\n",
       " 'akblanchard': 326,\n",
       " 'VioletDelirium': 327,\n",
       " 'Spuddie': 328,\n",
       " 'achatela': 329,\n",
       " 'nzwaneveld': 330,\n",
       " 'amandacb': 331,\n",
       " 'AbigailAdams26': 332,\n",
       " 'MisfitRhi': 333,\n",
       " 'makaiju': 334,\n",
       " 'Ronneisha': 335,\n",
       " 'CBru1011': 336,\n",
       " 'Sandyflippers': 337,\n",
       " 'amusingmother': 338,\n",
       " 'Big_Bang_Gorilla': 339,\n",
       " 'blingtastic': 340,\n",
       " 'mmillet': 341,\n",
       " 'tripleblessings': 342,\n",
       " 'wisemetis': 343,\n",
       " 'judithann': 344,\n",
       " 'lrobe190': 345,\n",
       " 'carolinagirl2104': 346,\n",
       " 'rufty': 347,\n",
       " 'ANovelMenagerie': 348,\n",
       " 'N.N.B.D.G.B.': 349,\n",
       " 'Janientrelac': 350,\n",
       " 'davidveal': 351,\n",
       " 'fatlamb': 352,\n",
       " 'antiquary': 353,\n",
       " 'lyndabriggs': 354,\n",
       " 'drivingsideways': 355,\n",
       " 'Othemts': 356,\n",
       " 'MerryMary': 357,\n",
       " 'JaneSteen': 358,\n",
       " 'hayduke': 359,\n",
       " 'bugs5': 360,\n",
       " 'brandymcdonald': 361,\n",
       " 'hashford': 362,\n",
       " 'drewjameson': 363,\n",
       " 'Gendy': 364,\n",
       " 'hjvanderklis': 365,\n",
       " 'goldnyght': 366,\n",
       " 'LydieR': 367,\n",
       " 'gmillar': 368,\n",
       " 'ben_a': 369,\n",
       " 'Lesliel': 370,\n",
       " 'fufuakaspeechless': 371,\n",
       " 'epalaz': 372,\n",
       " 'TheoClarke': 373,\n",
       " 'yourotherleft': 374,\n",
       " 'JustJoey4': 375,\n",
       " 'Deserie.Comfort': 376,\n",
       " 'bratlaw': 377,\n",
       " 'jerhogan': 378,\n",
       " 'Jodyreadseverything': 379,\n",
       " 'Evynrude': 380,\n",
       " 'karieh': 381,\n",
       " 'DoskoiPanda': 382,\n",
       " 'sagustocox': 383,\n",
       " 'snoopy12': 384,\n",
       " 'AnnRig': 385,\n",
       " 'middlemedia2': 386,\n",
       " 'amysisson': 387,\n",
       " 'DSlongwhite': 388,\n",
       " 'nappa': 389,\n",
       " 'leahdawn': 390,\n",
       " 'peggyar': 391,\n",
       " 'gdill': 392,\n",
       " 'pbamy': 393,\n",
       " 'alicensweetbottom': 394,\n",
       " 'martensgirl': 395,\n",
       " 'eliorajoy': 396,\n",
       " 'BlancaOller': 397,\n",
       " 'gothydevil': 398,\n",
       " 'dr_zirk': 399,\n",
       " 'tweezle': 400,\n",
       " 'keristars': 401,\n",
       " 'disneypope': 402,\n",
       " 'andyray': 403,\n",
       " 'drlake66': 404,\n",
       " 'pigeonlover': 405,\n",
       " 'BjornFr': 406,\n",
       " 'BooksForDinner': 407,\n",
       " 'katiejanelewis': 408,\n",
       " 'ruric': 409,\n",
       " 'BrokenTeepee': 410,\n",
       " 'helver': 411,\n",
       " 'Ciska_vander_Lans': 412,\n",
       " 'sdtaylor555': 413,\n",
       " 'Dei_Enigma': 414,\n",
       " 'Editavae': 415,\n",
       " 'Brennagh': 416,\n",
       " 'NewsieQ': 417,\n",
       " 'Audacity88': 418,\n",
       " 'blake.rosser': 419,\n",
       " 'she_climber': 420,\n",
       " 'FrankErrington': 421,\n",
       " 'RavinElise': 422,\n",
       " 'thejohnsmith': 423,\n",
       " 'lpg3d': 424,\n",
       " 'gundulabaehre': 425,\n",
       " 'Silverlily26': 426,\n",
       " 'jo-jo': 427,\n",
       " 'bigpinkmarshmallow': 428,\n",
       " 'thomasnicholas123': 429,\n",
       " 'bella55075': 430,\n",
       " 'book58lover': 431,\n",
       " 'a1abwriter': 432,\n",
       " 'klsulliv': 433,\n",
       " 'allyflower15': 434,\n",
       " 'Fluffyblue': 435,\n",
       " 'Tilaree': 436,\n",
       " 'kratzerliz23': 437,\n",
       " 'glade1': 438,\n",
       " 'jocainster': 439,\n",
       " 'themulhern': 440,\n",
       " 'Kassilem': 441,\n",
       " 'klledet': 442,\n",
       " 'myrtis21': 443,\n",
       " 'littlebookworm': 444,\n",
       " 'catfantastic': 445,\n",
       " 'dcarlill': 446,\n",
       " 'Elienai': 447,\n",
       " 'wenzowsa': 448,\n",
       " 'Malla-kun': 449,\n",
       " 'amerynth': 450,\n",
       " 'herebedragons': 451,\n",
       " 'ewyatt': 452,\n",
       " 'wenestvedt': 453,\n",
       " 'plenilune': 454,\n",
       " 'paulsignorelli': 455,\n",
       " 'jbemrose': 456,\n",
       " 'Twilightsagafreak': 457,\n",
       " 'echaika': 458,\n",
       " 'jroy218': 459,\n",
       " 'mah048': 460,\n",
       " 'Hollandy2k': 461,\n",
       " 'RtB': 462,\n",
       " 'Liz143': 463,\n",
       " 'IamIndeed': 464,\n",
       " 'ampitcher': 465,\n",
       " 'librarylady46': 466,\n",
       " 'elliepotten': 467,\n",
       " 'schatzi': 468,\n",
       " 'julie10reads': 469,\n",
       " 'AshMalee87': 470,\n",
       " 'SLuce': 471,\n",
       " 'acorley84': 472,\n",
       " 'julophel': 473,\n",
       " 'jabberwockiness': 474,\n",
       " 'sloepoque': 475,\n",
       " 'tmbcoughlin': 476,\n",
       " 'jules_verne': 477,\n",
       " 'Wisconco': 478,\n",
       " 'mcshaw2': 479,\n",
       " 'isabelx': 480,\n",
       " 'jbarr5': 481,\n",
       " 'bookalover89': 482,\n",
       " 'IslandDave': 483,\n",
       " '__Lindsey__': 484,\n",
       " 'tiamatq': 485,\n",
       " 'SonicQuack': 486,\n",
       " 'Artymedon': 487,\n",
       " 'mramos': 488,\n",
       " 'reb922': 489,\n",
       " 'jeaneva': 490,\n",
       " 'rxr0324': 491,\n",
       " 'Capfox': 492,\n",
       " '1bigredhorse': 493,\n",
       " 'magst': 494,\n",
       " 'fonsecaelib530A': 495,\n",
       " 'book_worm127': 496,\n",
       " 'boltgirl': 497,\n",
       " 'wanack': 498,\n",
       " 'papalaz': 499,\n",
       " 'apartmentcat': 500,\n",
       " 'erinster': 501,\n",
       " 'Liz_57': 502,\n",
       " 'CityLightsBooks': 503,\n",
       " 'wvlibrarydude': 504,\n",
       " 'ThePam': 505,\n",
       " 'stipe168': 506,\n",
       " 'jwhenderson': 507,\n",
       " 'Niecierpek': 508,\n",
       " 'awriter7777': 509,\n",
       " 'kperry': 510,\n",
       " 'Pdore': 511,\n",
       " 'DianeS': 512,\n",
       " 'donagiles': 513,\n",
       " 'telryon': 514,\n",
       " 'wrichard': 515,\n",
       " 'vpfluke': 516,\n",
       " 'cannon': 517,\n",
       " 'lewispike': 518,\n",
       " 'ChuckShipley': 519,\n",
       " 'bookworm12': 520,\n",
       " 'IonaS': 521,\n",
       " 'January_F': 522,\n",
       " 'chymekeeper': 523,\n",
       " 'Jessica_Olin': 524,\n",
       " 'karamazow': 525,\n",
       " 'kdedson': 526,\n",
       " 'maigrey1': 527,\n",
       " 'plaws595': 528,\n",
       " 'brandileigh2003': 529,\n",
       " 'Kimaoverstreet': 530,\n",
       " 'Vue': 531,\n",
       " 'prkcs': 532,\n",
       " 'Luciana43': 533,\n",
       " 'WillyMammoth': 534,\n",
       " 'bookwoman247': 535,\n",
       " 'cmbohn': 536,\n",
       " 'Jibar': 537,\n",
       " 'stevetempo': 538,\n",
       " 'VVGG': 539,\n",
       " 'cinf0master': 540,\n",
       " 'baobab': 541,\n",
       " 'FrontStreet': 542,\n",
       " 'BrianneRS1979': 543,\n",
       " 'Rose-Marie': 544,\n",
       " 'Rincey': 545,\n",
       " 'conuly': 546,\n",
       " 'CyndiGoodgame': 547,\n",
       " 'autumnesf': 548,\n",
       " 'Esta1923': 549,\n",
       " 'grandpahobo': 550,\n",
       " 'eljabo': 551,\n",
       " 'ReginaR': 552,\n",
       " 'psiloiordinary': 553,\n",
       " 'Veilleur_de_nuit': 554,\n",
       " 'shanaqui': 555,\n",
       " 'KatharineClifton': 556,\n",
       " 'MelHay': 557,\n",
       " 'CookieDemon': 558,\n",
       " 'ImperfectCJ': 559,\n",
       " 'psferris': 560,\n",
       " 'Clurb': 561,\n",
       " 'CommunityBookstop': 562,\n",
       " 'rores28': 563,\n",
       " 'KimJD': 564,\n",
       " 'Sanz71': 565,\n",
       " 'marybeth1018': 566,\n",
       " 'foreverreading': 567,\n",
       " 'StephiBliSs': 568,\n",
       " 'cydshort6652': 569,\n",
       " 'kivarson': 570,\n",
       " 'mustreet': 571,\n",
       " 'benfulton': 572,\n",
       " 'e.a.leonard': 573,\n",
       " 'jebass': 574,\n",
       " 'kayskisses11': 575,\n",
       " 'hyji': 576,\n",
       " 'sriemann': 577,\n",
       " 'Luxx': 578,\n",
       " 'vpliving': 579,\n",
       " 'pagei': 580,\n",
       " 'leininger2': 581,\n",
       " 'EmmaBTate': 582,\n",
       " 'barlow304': 583,\n",
       " 'mesmericrevelation': 584,\n",
       " 'BookDivasReads': 585,\n",
       " 'LiteraryChanteuse': 586,\n",
       " 'Gregarius': 587,\n",
       " 'LisaMaria_C': 588,\n",
       " 'irsuzyq': 589,\n",
       " 'aliciamalia': 590,\n",
       " '7BSk8rGurl': 591,\n",
       " 'caley': 592,\n",
       " 'overthemoon': 593,\n",
       " 'michaelbartley': 594,\n",
       " 'cellina': 595,\n",
       " 'FionaCat': 596,\n",
       " 'Hamburgerclan': 597,\n",
       " 'NineTiger': 598,\n",
       " 'jjmorenov': 599,\n",
       " 'beckydj': 600,\n",
       " 'brknhrt': 601,\n",
       " 'writemeg': 602,\n",
       " 'h_d': 603,\n",
       " 'Slambo': 604,\n",
       " 'mjgrogan': 605,\n",
       " 'dmorrison': 606,\n",
       " 'MrGranger': 607,\n",
       " 'kewing': 608,\n",
       " 'ABVR': 609,\n",
       " 'Randall.Hansen': 610,\n",
       " 'marcoha': 611,\n",
       " 'Tinwara': 612,\n",
       " 'ReviewsFromTheHeart': 613,\n",
       " 'polarmath': 614,\n",
       " 'h3ath3rdm': 615,\n",
       " 'tina1969': 616,\n",
       " 'hairballsrus': 617,\n",
       " 'jcmontgomery': 618,\n",
       " 'LauraMoore': 619,\n",
       " 'ronsea': 620,\n",
       " 'monicuzza': 621,\n",
       " 'BurgandyIce': 622,\n",
       " 'Miela': 623,\n",
       " 'JoAnnSmithAinsworth': 624,\n",
       " 'A.NovelGal_Reads': 625,\n",
       " 'phoebesmum': 626,\n",
       " 'lms8esmith': 627,\n",
       " 'nothingtosay': 628,\n",
       " 'Clara53': 629,\n",
       " 'nikel27': 630,\n",
       " 'readrunandrepeat': 631,\n",
       " 'clshaver08': 632,\n",
       " 'ncnsstnt': 633,\n",
       " 'Kaetrin': 634,\n",
       " 'nevusmom': 635,\n",
       " 'micurso': 636,\n",
       " '530nm330hz': 637,\n",
       " 'Cats57': 638,\n",
       " 'pen2win': 639,\n",
       " 'amy_elizabeth': 640,\n",
       " 'caflores': 641,\n",
       " 'mgaspa': 642,\n",
       " 'NWADEL': 643,\n",
       " 'cameling': 644,\n",
       " 'charitysuzanne': 645,\n",
       " 'Jonoen': 646,\n",
       " 'lynnm': 647,\n",
       " 'DanielR13': 648,\n",
       " 'judyecoughlin': 649,\n",
       " 'maruminochan': 650,\n",
       " 'IBook22': 651,\n",
       " 'Kellswitch': 652,\n",
       " 'kconcannon': 653,\n",
       " 'hobbitprincess': 654,\n",
       " 'misanko': 655,\n",
       " 'millsge': 656,\n",
       " 'lindapanzo': 657,\n",
       " 'SheilaRuth': 658,\n",
       " 'Elysianfield': 659,\n",
       " 'CecileB': 660,\n",
       " 'shawnd': 661,\n",
       " 'BookyVT': 662,\n",
       " 'lizbee': 663,\n",
       " 'roseread': 664,\n",
       " 'KarinKath': 665,\n",
       " 'Alyssa.Jocson': 666,\n",
       " 'Heptonj': 667,\n",
       " '2chances': 668,\n",
       " 'cbrandt': 669,\n",
       " 'suniru': 670,\n",
       " 'LeahvanBelle': 671,\n",
       " 'SuziQoregon': 672,\n",
       " 'richiespicks': 673,\n",
       " 'SarahChaisson': 674,\n",
       " 'ACleveland': 675,\n",
       " 'TChesney': 676,\n",
       " 'Songbird1231': 677,\n",
       " 'drj': 678,\n",
       " 'B-17Dave': 679,\n",
       " 'judyg54': 680,\n",
       " 'mfink1': 681,\n",
       " 'Bourgette': 682,\n",
       " 'nog': 683,\n",
       " 'wwrawson': 684,\n",
       " 'EnriqueFreeque': 685,\n",
       " 'rybeewoods': 686,\n",
       " 'Beamis12': 687,\n",
       " 'stephaniechase': 688,\n",
       " 'TomomiT': 689,\n",
       " 'ander23': 690,\n",
       " 'phebj': 691,\n",
       " 'mcrombie': 692,\n",
       " 'skstiles612': 693,\n",
       " 'vivaval': 694,\n",
       " 'SmangosBubbles': 695,\n",
       " 'jonathan70us': 696,\n",
       " 'AmandaKerr': 697,\n",
       " 'auntieknickers': 698,\n",
       " 'HadriantheBlind': 699,\n",
       " 'bookofsecrets': 700,\n",
       " 'gibbon': 701,\n",
       " 'Stewartry': 702,\n",
       " 'khuggard': 703,\n",
       " 'EclecticEccentric': 704,\n",
       " 'mistique0130': 705,\n",
       " 'hobbitsies': 706,\n",
       " 'woodenmango': 707,\n",
       " 'fannyprice': 708,\n",
       " 'bruneau': 709,\n",
       " 'JackieBlem': 710,\n",
       " 'pippav': 711,\n",
       " 'riverwillow': 712,\n",
       " 'drrox': 713,\n",
       " 'hedera': 714,\n",
       " 'DaleBrown': 715,\n",
       " 'satanburger': 716,\n",
       " 'Antholo': 717,\n",
       " 'BrianDewey': 718,\n",
       " 'PoliticalMediaReview': 719,\n",
       " 'reading_fox': 720,\n",
       " 'GISbooks': 721,\n",
       " 'pratchettfan': 722,\n",
       " 'BekahT': 723,\n",
       " 'jolerie': 724,\n",
       " 'kimbacaffeinate': 725,\n",
       " 'jhowell': 726,\n",
       " 'saku151': 727,\n",
       " 'nicola26': 728,\n",
       " 'richard015': 729,\n",
       " 'adb42': 730,\n",
       " 'KatKealy': 731,\n",
       " 'eastermoose': 732,\n",
       " 'ACQwoods': 733,\n",
       " 'Petra.Xs': 734,\n",
       " 'tiffanyhebb': 735,\n",
       " 'Luli81': 736,\n",
       " 'cmwilson101': 737,\n",
       " 'GypsyJon': 738,\n",
       " 'gchristianson': 739,\n",
       " 'elainevbernal': 740,\n",
       " 'Dabble58': 741,\n",
       " 'vkb1': 742,\n",
       " 'ALincolnNut': 743,\n",
       " 'Cariola': 744,\n",
       " 'whitewavedarling': 745,\n",
       " 'praisemusictlp': 746,\n",
       " 'love2readnovels': 747,\n",
       " 'MissBoyer3': 748,\n",
       " 'whowantstoknow': 749,\n",
       " 'libasst': 750,\n",
       " 'leighanne85': 751,\n",
       " 'dancingwaves': 752,\n",
       " 'picardyrose': 753,\n",
       " 'lettermen': 754,\n",
       " 'sturlington': 755,\n",
       " 'Barb_H': 756,\n",
       " 'kbellwether': 757,\n",
       " 'NielsenGW': 758,\n",
       " 'readingrat': 759,\n",
       " 'Millie33': 760,\n",
       " 'mzonderm': 761,\n",
       " 'apsing01': 762,\n",
       " 'okrysmastree': 763,\n",
       " 'writestuff': 764,\n",
       " 'barbrent': 765,\n",
       " 'chrine': 766,\n",
       " 'Shrike58': 767,\n",
       " 'kslater': 768,\n",
       " 'librarist': 769,\n",
       " 'Ames3473': 770,\n",
       " 'capriciousreader': 771,\n",
       " 'storyjunkie': 772,\n",
       " '1dragones': 773,\n",
       " 'jbrubacher': 774,\n",
       " 'lchav52': 775,\n",
       " 'AReCafe': 776,\n",
       " 'dkthain': 777,\n",
       " 'ripleyy': 778,\n",
       " 'SarahEHWilson': 779,\n",
       " 'jaygheiser': 780,\n",
       " 'alexann': 781,\n",
       " 'readit2': 782,\n",
       " 'br13geva': 783,\n",
       " 'I_recommend': 784,\n",
       " 'AbundanceofBooks': 785,\n",
       " 'dgrayson': 786,\n",
       " 'nancyK18': 787,\n",
       " 'Allizabeth': 788,\n",
       " 'Brian.Gunderson': 789,\n",
       " 'Brian138': 790,\n",
       " 'gillis.sarah': 791,\n",
       " 'wirehead': 792,\n",
       " 'sdbookhound': 793,\n",
       " 'twilightnocturne': 794,\n",
       " 'Ramathael': 795,\n",
       " 'igjoe': 796,\n",
       " 'crazybatcow': 797,\n",
       " 'PAFCWoody': 798,\n",
       " 'SLeeD': 799,\n",
       " 'salgalruns': 800,\n",
       " 'Stbalbach': 801,\n",
       " 'nevermore17': 802,\n",
       " 'allbookedup': 803,\n",
       " 'Ruth72': 804,\n",
       " 'Mikalina': 805,\n",
       " 'angellreads': 806,\n",
       " 'StevenTX': 807,\n",
       " 'PinkLadies': 808,\n",
       " 'CHINEDESENFANTS': 809,\n",
       " 'Brendelicious': 810,\n",
       " 'RGaryRasmussen': 811,\n",
       " 'kimfdim': 812,\n",
       " 'kblinn': 813,\n",
       " 'DanielleMCampbell': 814,\n",
       " 'Aberjhani': 815,\n",
       " 'kitchengardenbooks': 816,\n",
       " 'chickey1981': 817,\n",
       " 'jopearson56': 818,\n",
       " 'rhonna': 819,\n",
       " 'PastorBob': 820,\n",
       " 'epohc': 821,\n",
       " 'ingriddoris': 822,\n",
       " 'devilwrites': 823,\n",
       " 'jasonlf': 824,\n",
       " 'Mozzie': 825,\n",
       " 'f_ing_kangaroo': 826,\n",
       " 'MartyAllen': 827,\n",
       " 'dts1dbm': 828,\n",
       " 'EmScape': 829,\n",
       " 'Nightcolors': 830,\n",
       " 'YMcMillion': 831,\n",
       " 'RebeccaGraf': 832,\n",
       " 'GlenRalph': 833,\n",
       " 'InsatiableB': 834,\n",
       " 'melydia': 835,\n",
       " 'JoyAnne': 836,\n",
       " 'tianakai': 837,\n",
       " 'gallandro_83': 838,\n",
       " 'DarkFaerieTales': 839,\n",
       " 'Ginerbia': 840,\n",
       " 'Runa': 841,\n",
       " 'iftyzaidi': 842,\n",
       " 'gtnorvell': 843,\n",
       " 'dearheart': 844,\n",
       " 'Kogge': 845,\n",
       " 'kitamurdock': 846,\n",
       " 'Kuiperdolin': 847,\n",
       " 'StefanY': 848,\n",
       " 'Kr15tina': 849,\n",
       " 'm.a.harding': 850,\n",
       " 'Erik.DellaMonica': 851,\n",
       " 'paroof': 852,\n",
       " 'Azeryk': 853,\n",
       " 'SandSing7': 854,\n",
       " 'DecemberJoy': 855,\n",
       " 'sidesho': 856,\n",
       " 'danconsiglio': 857,\n",
       " 'etwinney': 858,\n",
       " 'jibrailis': 859,\n",
       " 'ginntonique': 860,\n",
       " 'jlshall': 861,\n",
       " 'UnderMyAppleTree': 862,\n",
       " 'goodinthestacks': 863,\n",
       " 'VaterOlsen': 864,\n",
       " 'GeorgiaDawn': 865,\n",
       " 'TX1955': 866,\n",
       " 'Aetatis': 867,\n",
       " 'xicanti': 868,\n",
       " 'francescadefreitas': 869,\n",
       " 'arouse77': 870,\n",
       " 'Homeschoolbookreview': 871,\n",
       " 'meggyweg': 872,\n",
       " 'rameau': 873,\n",
       " 'steuba01': 874,\n",
       " 'rainpebble': 875,\n",
       " 'raptorrunner': 876,\n",
       " 'faither': 877,\n",
       " 'jackie1966': 878,\n",
       " 'SqueakyChu': 879,\n",
       " 'Cygnus555': 880,\n",
       " 'woakden': 881,\n",
       " 'MrsLee': 882,\n",
       " 'nubedealgodon': 883,\n",
       " 'StefanieGeeks': 884,\n",
       " 'Scoshie': 885,\n",
       " 'HHS-Students': 886,\n",
       " 'ThoughtsofJoyLibrary': 887,\n",
       " 'vsdaddy': 888,\n",
       " 'Bellettres': 889,\n",
       " 'arthurfrayn': 890,\n",
       " 'rajaratnam': 891,\n",
       " 'biblioadonis': 892,\n",
       " 'esproull': 893,\n",
       " 'Atlas': 894,\n",
       " 'kidzdoc': 895,\n",
       " 'brandonachey': 896,\n",
       " 'Diavoletto': 897,\n",
       " 'pgbirdlet': 898,\n",
       " 'pssm95': 899,\n",
       " 'luvdancr': 900,\n",
       " 'verhulst': 901,\n",
       " 'Leah08': 902,\n",
       " 'MargaretdeBuhr': 903,\n",
       " '2Sunny': 904,\n",
       " 'VenusofUrbino': 905,\n",
       " 'Tifi': 906,\n",
       " 'AlexisF': 907,\n",
       " 'Justjenniferreading': 908,\n",
       " 'Tigerpaw70': 909,\n",
       " 'peterwilliams': 910,\n",
       " 'KimberlySlicedOpen': 911,\n",
       " 'Bibillescas': 912,\n",
       " 'mydomino1978': 913,\n",
       " 'kukulaj': 914,\n",
       " 's001bjw': 915,\n",
       " 'TamaraSmith': 916,\n",
       " 'AnnaMoody': 917,\n",
       " 'tymfos': 918,\n",
       " 'manatree': 919,\n",
       " 'nyiper': 920,\n",
       " 'lriley': 921,\n",
       " 'Prop2gether': 922,\n",
       " 'Tea58': 923,\n",
       " 'L_R_D': 924,\n",
       " 'avidreaderlisa': 925,\n",
       " 'Lauren2013': 926,\n",
       " 'mynenni': 927,\n",
       " 'loraineo': 928,\n",
       " 'beccaevaldez': 929,\n",
       " 'fredreeca': 930,\n",
       " '1morechapter': 931,\n",
       " 'ropie': 932,\n",
       " 'WCHagen': 933,\n",
       " 'MRShemery': 934,\n",
       " 'annmarie13': 935,\n",
       " 'MusicMom41': 936,\n",
       " 'adpaton': 937,\n",
       " 'madamemeow': 938,\n",
       " 'Vidalia': 939,\n",
       " 'thehidingspot': 940,\n",
       " 'PermaSwooned': 941,\n",
       " 'Lifeonerth': 942,\n",
       " 'BarrettOlivia': 943,\n",
       " 'philosojerk': 944,\n",
       " 'PhoenixTerran': 945,\n",
       " 'emmielou': 946,\n",
       " 'FireandIce': 947,\n",
       " 'Lindz2012': 948,\n",
       " 'spartyliblover': 949,\n",
       " 'zzshupinga': 950,\n",
       " 'abbylibrarian': 951,\n",
       " 'Saieeda': 952,\n",
       " 'caitlin.wester': 953,\n",
       " 'PCGator': 954,\n",
       " 'robble': 955,\n",
       " 'MlleEhreen': 956,\n",
       " 'KajeHarper': 957,\n",
       " 'MareMagnum': 958,\n",
       " 'Alvaro77': 959,\n",
       " 'mgreenla': 960,\n",
       " 'Banoo': 961,\n",
       " 'michelleannlib': 962,\n",
       " 'Saretta.L': 963,\n",
       " 'ana.iturgaiz': 964,\n",
       " 'meastwold': 965,\n",
       " 'Antares1': 966,\n",
       " 'museking': 967,\n",
       " 'papyri': 968,\n",
       " 'karen813': 969,\n",
       " 'klg19': 970,\n",
       " 'ktp50': 971,\n",
       " 'aketzle': 972,\n",
       " 'arlenadean': 973,\n",
       " '4fish': 974,\n",
       " 'TheCrow2': 975,\n",
       " 'FangsfortheFantasy': 976,\n",
       " 'dgmlrhodes': 977,\n",
       " 'stephxsu': 978,\n",
       " 'GayleBitker': 979,\n",
       " 'msjohns615': 980,\n",
       " 'kehs': 981,\n",
       " 'JoLynnsbooks': 982,\n",
       " 'LARA335': 983,\n",
       " 'YoungGeekyLibrarian': 984,\n",
       " 'elissajanine': 985,\n",
       " 'Lexxie': 986,\n",
       " 'nicx27': 987,\n",
       " 'yarra': 988,\n",
       " 'JorjaADavis': 989,\n",
       " 'nictheman': 990,\n",
       " 'PinkPandaParade': 991,\n",
       " 'youthfulzombie': 992,\n",
       " 'bostonbibliophile': 993,\n",
       " 'CarltonC': 994,\n",
       " 'sara1022': 995,\n",
       " 'PigOfHappiness': 996,\n",
       " 'Bidwell-Glaze': 997,\n",
       " 'Lnatal': 998,\n",
       " 'K.Llewellin': 999,\n",
       " ...}"
      ]
     },
     "execution_count": 93,
     "metadata": {},
     "output_type": "execute_result"
    }
   ],
   "source": [
    "user_to_index"
   ]
  },
  {
   "cell_type": "markdown",
   "id": "cc3d39ed",
   "metadata": {},
   "source": [
    "Import the graph data."
   ]
  },
  {
   "cell_type": "code",
   "execution_count": 94,
   "id": "0c1ca6dc",
   "metadata": {},
   "outputs": [],
   "source": [
    "edges = pd.read_csv('edges.txt', sep=' ', header=None)"
   ]
  },
  {
   "cell_type": "code",
   "execution_count": 95,
   "id": "a038eb44",
   "metadata": {},
   "outputs": [],
   "source": [
    "num_users = filtered_df.user.unique().shape[0]"
   ]
  },
  {
   "cell_type": "code",
   "execution_count": 96,
   "id": "f70fc7fe",
   "metadata": {},
   "outputs": [],
   "source": [
    "adjacency_matrix = np.zeros([num_users, num_users])"
   ]
  },
  {
   "cell_type": "code",
   "execution_count": 97,
   "id": "e233ecf8",
   "metadata": {},
   "outputs": [
    {
     "data": {
      "text/plain": [
       "(67414, 67414)"
      ]
     },
     "execution_count": 97,
     "metadata": {},
     "output_type": "execute_result"
    }
   ],
   "source": [
    "adjacency_matrix.shape"
   ]
  },
  {
   "cell_type": "markdown",
   "id": "80b5de49",
   "metadata": {},
   "source": [
    "Adjacency Matrix"
   ]
  },
  {
   "cell_type": "code",
   "execution_count": 98,
   "id": "12e60614",
   "metadata": {},
   "outputs": [
    {
     "name": "stdout",
     "output_type": "stream",
     "text": [
      "Rodo anehan\n",
      "Rodo sevilemar\n",
      "Rodo dingsi\n",
      "Rodo slash\n",
      "RelaxedReader AnnRig\n"
     ]
    }
   ],
   "source": [
    "for i, j in edges.values[:5]:\n",
    "    print(i, j)"
   ]
  },
  {
   "cell_type": "code",
   "execution_count": 99,
   "id": "40dc120e",
   "metadata": {},
   "outputs": [
    {
     "ename": "KeyError",
     "evalue": "'anehan'",
     "output_type": "error",
     "traceback": [
      "\u001b[0;31m---------------------------------------------------------------------------\u001b[0m",
      "\u001b[0;31mKeyError\u001b[0m                                  Traceback (most recent call last)",
      "Cell \u001b[0;32mIn[99], line 2\u001b[0m\n\u001b[1;32m      1\u001b[0m \u001b[38;5;28;01mfor\u001b[39;00m i, j \u001b[38;5;129;01min\u001b[39;00m edges\u001b[38;5;241m.\u001b[39mvalues:\n\u001b[0;32m----> 2\u001b[0m     u, v \u001b[38;5;241m=\u001b[39m user_to_index[i], \u001b[43muser_to_index\u001b[49m\u001b[43m[\u001b[49m\u001b[43mj\u001b[49m\u001b[43m]\u001b[49m\n\u001b[1;32m      3\u001b[0m     adjacency_matrix[u][v] \u001b[38;5;241m=\u001b[39m adjacency_matrix[v][u] \u001b[38;5;241m=\u001b[39m \u001b[38;5;241m1\u001b[39m\n",
      "\u001b[0;31mKeyError\u001b[0m: 'anehan'"
     ]
    }
   ],
   "source": [
    "for i, j in edges.values:\n",
    "    u, v = user_to_index[i], user_to_index[j]\n",
    "    adjacency_matrix[u][v] = adjacency_matrix[v][u] = 1"
   ]
  },
  {
   "cell_type": "code",
   "execution_count": 100,
   "id": "393fd7b9",
   "metadata": {},
   "outputs": [
    {
     "data": {
      "text/plain": [
       "False"
      ]
     },
     "execution_count": 100,
     "metadata": {},
     "output_type": "execute_result"
    }
   ],
   "source": [
    "'anehan' in filtered_df.user"
   ]
  },
  {
   "cell_type": "markdown",
   "id": "b65a64ee",
   "metadata": {},
   "source": [
    "It seems that there not all users are common in the two datasets. Let's identify the common users and drop the entries for all other users."
   ]
  },
  {
   "cell_type": "code",
   "execution_count": 101,
   "id": "24448d6d",
   "metadata": {},
   "outputs": [],
   "source": [
    "df_users = set(filtered_df.user)\n",
    "edges_users = set(pd.concat([edges[0], edges[1]]))"
   ]
  },
  {
   "cell_type": "code",
   "execution_count": 102,
   "id": "1964a3c3",
   "metadata": {},
   "outputs": [
    {
     "data": {
      "text/plain": [
       "25275"
      ]
     },
     "execution_count": 102,
     "metadata": {},
     "output_type": "execute_result"
    }
   ],
   "source": [
    "len(df_users.intersection(edges_users))"
   ]
  },
  {
   "cell_type": "code",
   "execution_count": 103,
   "id": "c39cbf2f",
   "metadata": {},
   "outputs": [],
   "source": [
    "common_users = df_users.intersection(edges_users)"
   ]
  },
  {
   "cell_type": "code",
   "execution_count": 104,
   "id": "d31ea6d5",
   "metadata": {},
   "outputs": [],
   "source": [
    "new_filtered_df = filtered_df[filtered_df.user.isin(common_users)]"
   ]
  },
  {
   "cell_type": "code",
   "execution_count": 105,
   "id": "55745dc0",
   "metadata": {},
   "outputs": [
    {
     "data": {
      "text/plain": [
       "(938898, 6)"
      ]
     },
     "execution_count": 105,
     "metadata": {},
     "output_type": "execute_result"
    }
   ],
   "source": [
    "new_filtered_df.shape"
   ]
  },
  {
   "cell_type": "code",
   "execution_count": 106,
   "id": "3f323999",
   "metadata": {},
   "outputs": [],
   "source": [
    "with open('new_filtered_df.pkl', 'wb') as f:\n",
    "    pickle.dump(new_filtered_df, f)"
   ]
  },
  {
   "cell_type": "code",
   "execution_count": 107,
   "id": "3959ac03",
   "metadata": {},
   "outputs": [],
   "source": [
    "with open('new_filtered_df.pkl', 'rb') as f:\n",
    "    new_filtered_df = pickle.load(f)"
   ]
  },
  {
   "cell_type": "code",
   "execution_count": 108,
   "id": "ef2eadea",
   "metadata": {},
   "outputs": [
    {
     "data": {
      "text/html": [
       "<div>\n",
       "<style scoped>\n",
       "    .dataframe tbody tr th:only-of-type {\n",
       "        vertical-align: middle;\n",
       "    }\n",
       "\n",
       "    .dataframe tbody tr th {\n",
       "        vertical-align: top;\n",
       "    }\n",
       "\n",
       "    .dataframe thead th {\n",
       "        text-align: right;\n",
       "    }\n",
       "</style>\n",
       "<table border=\"1\" class=\"dataframe\">\n",
       "  <thead>\n",
       "    <tr style=\"text-align: right;\">\n",
       "      <th></th>\n",
       "      <th>nhelpful</th>\n",
       "      <th>unixtime</th>\n",
       "      <th>work</th>\n",
       "      <th>user</th>\n",
       "      <th>stars</th>\n",
       "      <th>comment_embedding</th>\n",
       "    </tr>\n",
       "  </thead>\n",
       "  <tbody>\n",
       "    <tr>\n",
       "      <th>0</th>\n",
       "      <td>0</td>\n",
       "      <td>1.332288e+09</td>\n",
       "      <td>73960</td>\n",
       "      <td>Elizabeth.Wong98</td>\n",
       "      <td>4.5</td>\n",
       "      <td>[2.5197164304554462, 9.239733213093132, 146.32...</td>\n",
       "    </tr>\n",
       "    <tr>\n",
       "      <th>1</th>\n",
       "      <td>0</td>\n",
       "      <td>1.253405e+09</td>\n",
       "      <td>69413</td>\n",
       "      <td>rivkat</td>\n",
       "      <td>3.0</td>\n",
       "      <td>[-14.71329341083765, 25.712940784171224, 48.76...</td>\n",
       "    </tr>\n",
       "    <tr>\n",
       "      <th>2</th>\n",
       "      <td>0</td>\n",
       "      <td>1.299888e+09</td>\n",
       "      <td>9523995</td>\n",
       "      <td>suz.haugland</td>\n",
       "      <td>4.0</td>\n",
       "      <td>[-38.33073106780648, -76.95045654382557, 380.8...</td>\n",
       "    </tr>\n",
       "    <tr>\n",
       "      <th>4</th>\n",
       "      <td>0</td>\n",
       "      <td>1.329005e+09</td>\n",
       "      <td>11243828</td>\n",
       "      <td>CandyH</td>\n",
       "      <td>4.0</td>\n",
       "      <td>[-1.175795417279005, -20.05130848288536, 54.44...</td>\n",
       "    </tr>\n",
       "    <tr>\n",
       "      <th>5</th>\n",
       "      <td>0</td>\n",
       "      <td>1.278893e+09</td>\n",
       "      <td>9071901</td>\n",
       "      <td>miyurose</td>\n",
       "      <td>2.0</td>\n",
       "      <td>[-13.733905084431171, -20.63186874985695, 50.9...</td>\n",
       "    </tr>\n",
       "    <tr>\n",
       "      <th>...</th>\n",
       "      <td>...</td>\n",
       "      <td>...</td>\n",
       "      <td>...</td>\n",
       "      <td>...</td>\n",
       "      <td>...</td>\n",
       "      <td>...</td>\n",
       "    </tr>\n",
       "    <tr>\n",
       "      <th>1707060</th>\n",
       "      <td>0</td>\n",
       "      <td>1.248048e+09</td>\n",
       "      <td>2129329</td>\n",
       "      <td>heidijane</td>\n",
       "      <td>4.0</td>\n",
       "      <td>[-5.322856396436691, -0.9089336022734642, 15.1...</td>\n",
       "    </tr>\n",
       "    <tr>\n",
       "      <th>1707061</th>\n",
       "      <td>0</td>\n",
       "      <td>1.373242e+09</td>\n",
       "      <td>11234213</td>\n",
       "      <td>wyvernfriend</td>\n",
       "      <td>3.5</td>\n",
       "      <td>[-7.426372528076172, -15.056323887780309, 113....</td>\n",
       "    </tr>\n",
       "    <tr>\n",
       "      <th>1707062</th>\n",
       "      <td>0</td>\n",
       "      <td>1.330906e+09</td>\n",
       "      <td>87328</td>\n",
       "      <td>bookwormteri</td>\n",
       "      <td>2.0</td>\n",
       "      <td>[-3.401369333267212, -12.215308649465442, 87.7...</td>\n",
       "    </tr>\n",
       "    <tr>\n",
       "      <th>1707066</th>\n",
       "      <td>0</td>\n",
       "      <td>1.364688e+09</td>\n",
       "      <td>11749693</td>\n",
       "      <td>AmyMacEvilly</td>\n",
       "      <td>5.0</td>\n",
       "      <td>[12.153995676431805, -40.83596940524876, 46.27...</td>\n",
       "    </tr>\n",
       "    <tr>\n",
       "      <th>1707069</th>\n",
       "      <td>3</td>\n",
       "      <td>1.188518e+09</td>\n",
       "      <td>32396</td>\n",
       "      <td>jlelliott</td>\n",
       "      <td>4.0</td>\n",
       "      <td>[-35.31995715992525, 1.5224128179252148, 149.6...</td>\n",
       "    </tr>\n",
       "  </tbody>\n",
       "</table>\n",
       "<p>938898 rows × 6 columns</p>\n",
       "</div>"
      ],
      "text/plain": [
       "         nhelpful      unixtime      work              user  stars  \\\n",
       "0               0  1.332288e+09     73960  Elizabeth.Wong98    4.5   \n",
       "1               0  1.253405e+09     69413            rivkat    3.0   \n",
       "2               0  1.299888e+09   9523995      suz.haugland    4.0   \n",
       "4               0  1.329005e+09  11243828            CandyH    4.0   \n",
       "5               0  1.278893e+09   9071901          miyurose    2.0   \n",
       "...           ...           ...       ...               ...    ...   \n",
       "1707060         0  1.248048e+09   2129329         heidijane    4.0   \n",
       "1707061         0  1.373242e+09  11234213      wyvernfriend    3.5   \n",
       "1707062         0  1.330906e+09     87328      bookwormteri    2.0   \n",
       "1707066         0  1.364688e+09  11749693      AmyMacEvilly    5.0   \n",
       "1707069         3  1.188518e+09     32396         jlelliott    4.0   \n",
       "\n",
       "                                         comment_embedding  \n",
       "0        [2.5197164304554462, 9.239733213093132, 146.32...  \n",
       "1        [-14.71329341083765, 25.712940784171224, 48.76...  \n",
       "2        [-38.33073106780648, -76.95045654382557, 380.8...  \n",
       "4        [-1.175795417279005, -20.05130848288536, 54.44...  \n",
       "5        [-13.733905084431171, -20.63186874985695, 50.9...  \n",
       "...                                                    ...  \n",
       "1707060  [-5.322856396436691, -0.9089336022734642, 15.1...  \n",
       "1707061  [-7.426372528076172, -15.056323887780309, 113....  \n",
       "1707062  [-3.401369333267212, -12.215308649465442, 87.7...  \n",
       "1707066  [12.153995676431805, -40.83596940524876, 46.27...  \n",
       "1707069  [-35.31995715992525, 1.5224128179252148, 149.6...  \n",
       "\n",
       "[938898 rows x 6 columns]"
      ]
     },
     "execution_count": 108,
     "metadata": {},
     "output_type": "execute_result"
    }
   ],
   "source": [
    "new_filtered_df"
   ]
  },
  {
   "cell_type": "markdown",
   "id": "4f10ddbf",
   "metadata": {},
   "source": [
    "We recalculate the integer indices for each username and create a smaller adjacency matrix."
   ]
  },
  {
   "cell_type": "code",
   "execution_count": 109,
   "id": "7cccf220",
   "metadata": {},
   "outputs": [],
   "source": [
    "user_to_index = {}\n",
    "for i, user in enumerate(common_users):\n",
    "    user_to_index[user] = i"
   ]
  },
  {
   "cell_type": "code",
   "execution_count": 110,
   "id": "ec4e2157",
   "metadata": {},
   "outputs": [],
   "source": [
    "adjacency_matrix = np.zeros([len(common_users), len(common_users)])"
   ]
  },
  {
   "cell_type": "code",
   "execution_count": 111,
   "id": "d6358150",
   "metadata": {},
   "outputs": [],
   "source": [
    "for i, j in edges.values:\n",
    "    if i in common_users and j in common_users:\n",
    "        u, v = user_to_index[i], user_to_index[j]\n",
    "        adjacency_matrix[u][v] = adjacency_matrix[v][u] = 1"
   ]
  },
  {
   "cell_type": "code",
   "execution_count": 112,
   "id": "804e3e8b",
   "metadata": {},
   "outputs": [
    {
     "data": {
      "text/plain": [
       "array([[0., 0., 0., ..., 0., 0., 0.],\n",
       "       [0., 0., 0., ..., 0., 0., 0.],\n",
       "       [0., 0., 0., ..., 0., 0., 0.],\n",
       "       ...,\n",
       "       [0., 0., 0., ..., 0., 0., 0.],\n",
       "       [0., 0., 0., ..., 0., 0., 0.],\n",
       "       [0., 0., 0., ..., 0., 0., 0.]])"
      ]
     },
     "execution_count": 112,
     "metadata": {},
     "output_type": "execute_result"
    }
   ],
   "source": [
    "adjacency_matrix"
   ]
  },
  {
   "cell_type": "code",
   "execution_count": 113,
   "id": "8e004a25",
   "metadata": {},
   "outputs": [
    {
     "data": {
      "text/plain": [
       "(25275, 25275)"
      ]
     },
     "execution_count": 113,
     "metadata": {},
     "output_type": "execute_result"
    }
   ],
   "source": [
    "adjacency_matrix.shape"
   ]
  },
  {
   "cell_type": "code",
   "execution_count": 114,
   "id": "8df2e59c",
   "metadata": {},
   "outputs": [],
   "source": [
    "with open('adjacency_matrix.pkl', 'wb') as f:\n",
    "    pickle.dump(adjacency_matrix, f)"
   ]
  },
  {
   "cell_type": "code",
   "execution_count": 115,
   "id": "e14edd45",
   "metadata": {},
   "outputs": [],
   "source": [
    "with open('adjacency_matrix.pkl', 'rb') as f:\n",
    "    adjacency_matrix = pickle.load(f)"
   ]
  },
  {
   "cell_type": "markdown",
   "id": "d49c09de",
   "metadata": {},
   "source": [
    "Due to the large size of the adjacency matrix, it cannot be used directly as a feature."
   ]
  },
  {
   "cell_type": "code",
   "execution_count": 119,
   "id": "29f4460a",
   "metadata": {},
   "outputs": [
    {
     "data": {
      "text/html": [
       "<div>\n",
       "<style scoped>\n",
       "    .dataframe tbody tr th:only-of-type {\n",
       "        vertical-align: middle;\n",
       "    }\n",
       "\n",
       "    .dataframe tbody tr th {\n",
       "        vertical-align: top;\n",
       "    }\n",
       "\n",
       "    .dataframe thead th {\n",
       "        text-align: right;\n",
       "    }\n",
       "</style>\n",
       "<table border=\"1\" class=\"dataframe\">\n",
       "  <thead>\n",
       "    <tr style=\"text-align: right;\">\n",
       "      <th></th>\n",
       "      <th>nhelpful</th>\n",
       "      <th>unixtime</th>\n",
       "      <th>work</th>\n",
       "      <th>user</th>\n",
       "      <th>stars</th>\n",
       "      <th>comment_embedding</th>\n",
       "    </tr>\n",
       "  </thead>\n",
       "  <tbody>\n",
       "    <tr>\n",
       "      <th>0</th>\n",
       "      <td>0</td>\n",
       "      <td>1.332288e+09</td>\n",
       "      <td>73960</td>\n",
       "      <td>Elizabeth.Wong98</td>\n",
       "      <td>4.5</td>\n",
       "      <td>[2.5197164304554462, 9.239733213093132, 146.32...</td>\n",
       "    </tr>\n",
       "    <tr>\n",
       "      <th>1</th>\n",
       "      <td>0</td>\n",
       "      <td>1.253405e+09</td>\n",
       "      <td>69413</td>\n",
       "      <td>rivkat</td>\n",
       "      <td>3.0</td>\n",
       "      <td>[-14.71329341083765, 25.712940784171224, 48.76...</td>\n",
       "    </tr>\n",
       "    <tr>\n",
       "      <th>2</th>\n",
       "      <td>0</td>\n",
       "      <td>1.299888e+09</td>\n",
       "      <td>9523995</td>\n",
       "      <td>suz.haugland</td>\n",
       "      <td>4.0</td>\n",
       "      <td>[-38.33073106780648, -76.95045654382557, 380.8...</td>\n",
       "    </tr>\n",
       "    <tr>\n",
       "      <th>4</th>\n",
       "      <td>0</td>\n",
       "      <td>1.329005e+09</td>\n",
       "      <td>11243828</td>\n",
       "      <td>CandyH</td>\n",
       "      <td>4.0</td>\n",
       "      <td>[-1.175795417279005, -20.05130848288536, 54.44...</td>\n",
       "    </tr>\n",
       "    <tr>\n",
       "      <th>5</th>\n",
       "      <td>0</td>\n",
       "      <td>1.278893e+09</td>\n",
       "      <td>9071901</td>\n",
       "      <td>miyurose</td>\n",
       "      <td>2.0</td>\n",
       "      <td>[-13.733905084431171, -20.63186874985695, 50.9...</td>\n",
       "    </tr>\n",
       "  </tbody>\n",
       "</table>\n",
       "</div>"
      ],
      "text/plain": [
       "   nhelpful      unixtime      work              user  stars  \\\n",
       "0         0  1.332288e+09     73960  Elizabeth.Wong98    4.5   \n",
       "1         0  1.253405e+09     69413            rivkat    3.0   \n",
       "2         0  1.299888e+09   9523995      suz.haugland    4.0   \n",
       "4         0  1.329005e+09  11243828            CandyH    4.0   \n",
       "5         0  1.278893e+09   9071901          miyurose    2.0   \n",
       "\n",
       "                                   comment_embedding  \n",
       "0  [2.5197164304554462, 9.239733213093132, 146.32...  \n",
       "1  [-14.71329341083765, 25.712940784171224, 48.76...  \n",
       "2  [-38.33073106780648, -76.95045654382557, 380.8...  \n",
       "4  [-1.175795417279005, -20.05130848288536, 54.44...  \n",
       "5  [-13.733905084431171, -20.63186874985695, 50.9...  "
      ]
     },
     "execution_count": 119,
     "metadata": {},
     "output_type": "execute_result"
    }
   ],
   "source": [
    "new_filtered_df.head()"
   ]
  },
  {
   "cell_type": "markdown",
   "id": "78486e5f",
   "metadata": {},
   "source": [
    "## 3. Graph dataset\n",
    "\n",
    "Contributed by Martin"
   ]
  },
  {
   "cell_type": "markdown",
   "id": "ad61e41b",
   "metadata": {},
   "source": [
    "Let's look at graph data in more detail. We begin by retaining only the common users."
   ]
  },
  {
   "cell_type": "code",
   "execution_count": 122,
   "id": "b35a527f",
   "metadata": {},
   "outputs": [],
   "source": [
    "edges = edges[edges[0].isin(common_users)]\n",
    "edges = edges[edges[1].isin(common_users)]"
   ]
  },
  {
   "cell_type": "code",
   "execution_count": 125,
   "id": "fd0e226d",
   "metadata": {},
   "outputs": [],
   "source": [
    "edges.drop_duplicates(inplace=True)"
   ]
  },
  {
   "cell_type": "code",
   "execution_count": 126,
   "id": "07c8ef9f",
   "metadata": {},
   "outputs": [
    {
     "data": {
      "text/plain": [
       "(99706, 2)"
      ]
     },
     "execution_count": 126,
     "metadata": {},
     "output_type": "execute_result"
    }
   ],
   "source": [
    "edges.shape"
   ]
  },
  {
   "cell_type": "code",
   "execution_count": 129,
   "id": "503647aa",
   "metadata": {},
   "outputs": [],
   "source": [
    "G = nx.Graph()\n",
    "G.add_nodes_from(common_users)\n",
    "for i, j in edges.values:\n",
    "    if i in common_users and j in common_users:\n",
    "        G.add_edge(i,j)"
   ]
  },
  {
   "cell_type": "code",
   "execution_count": 130,
   "id": "f34fe14d",
   "metadata": {},
   "outputs": [
    {
     "data": {
      "text/plain": [
       "63187"
      ]
     },
     "execution_count": 130,
     "metadata": {},
     "output_type": "execute_result"
    }
   ],
   "source": [
    "len(G.edges)"
   ]
  },
  {
   "cell_type": "code",
   "execution_count": 131,
   "id": "10d0d79a",
   "metadata": {},
   "outputs": [
    {
     "data": {
      "text/plain": [
       "False"
      ]
     },
     "execution_count": 131,
     "metadata": {},
     "output_type": "execute_result"
    }
   ],
   "source": [
    "nx.is_connected(G)"
   ]
  },
  {
   "cell_type": "markdown",
   "id": "cf30198f",
   "metadata": {},
   "source": [
    "We can see that the graph is disconnected. Let's look at the connected components in the graph."
   ]
  },
  {
   "cell_type": "code",
   "execution_count": 134,
   "id": "e6bab5f0",
   "metadata": {},
   "outputs": [
    {
     "data": {
      "text/plain": [
       "[18161,\n",
       " 68,\n",
       " 56,\n",
       " 54,\n",
       " 46,\n",
       " 41,\n",
       " 24,\n",
       " 17,\n",
       " 17,\n",
       " 16,\n",
       " 15,\n",
       " 14,\n",
       " 13,\n",
       " 12,\n",
       " 12,\n",
       " 12,\n",
       " 12,\n",
       " 11,\n",
       " 10,\n",
       " 10,\n",
       " 9,\n",
       " 9,\n",
       " 9,\n",
       " 9,\n",
       " 8,\n",
       " 8,\n",
       " 8,\n",
       " 8,\n",
       " 8,\n",
       " 8,\n",
       " 7,\n",
       " 7,\n",
       " 7,\n",
       " 7,\n",
       " 7,\n",
       " 6,\n",
       " 6,\n",
       " 6,\n",
       " 6,\n",
       " 6,\n",
       " 6,\n",
       " 6,\n",
       " 5,\n",
       " 5,\n",
       " 5,\n",
       " 5,\n",
       " 5,\n",
       " 5,\n",
       " 5,\n",
       " 5,\n",
       " 5,\n",
       " 5,\n",
       " 4,\n",
       " 4,\n",
       " 4,\n",
       " 4,\n",
       " 4,\n",
       " 4,\n",
       " 4,\n",
       " 4,\n",
       " 4,\n",
       " 4,\n",
       " 4,\n",
       " 4,\n",
       " 4,\n",
       " 4,\n",
       " 4,\n",
       " 4,\n",
       " 4,\n",
       " 4,\n",
       " 4,\n",
       " 4,\n",
       " 4,\n",
       " 4,\n",
       " 4,\n",
       " 4,\n",
       " 4,\n",
       " 4,\n",
       " 4,\n",
       " 4,\n",
       " 4,\n",
       " 3,\n",
       " 3,\n",
       " 3,\n",
       " 3,\n",
       " 3,\n",
       " 3,\n",
       " 3,\n",
       " 3,\n",
       " 3,\n",
       " 3,\n",
       " 3,\n",
       " 3,\n",
       " 3,\n",
       " 3,\n",
       " 3,\n",
       " 3,\n",
       " 3,\n",
       " 3,\n",
       " 3,\n",
       " 3,\n",
       " 3,\n",
       " 3,\n",
       " 3,\n",
       " 3,\n",
       " 3,\n",
       " 3,\n",
       " 3,\n",
       " 3,\n",
       " 3,\n",
       " 3,\n",
       " 3,\n",
       " 3,\n",
       " 3,\n",
       " 3,\n",
       " 3,\n",
       " 3,\n",
       " 3,\n",
       " 3,\n",
       " 3,\n",
       " 3,\n",
       " 3,\n",
       " 3,\n",
       " 3,\n",
       " 3,\n",
       " 3,\n",
       " 3,\n",
       " 3,\n",
       " 3,\n",
       " 3,\n",
       " 3,\n",
       " 3,\n",
       " 3,\n",
       " 3,\n",
       " 3,\n",
       " 3,\n",
       " 3,\n",
       " 3,\n",
       " 3,\n",
       " 3,\n",
       " 3,\n",
       " 3,\n",
       " 3,\n",
       " 3,\n",
       " 3,\n",
       " 3,\n",
       " 3,\n",
       " 3,\n",
       " 3,\n",
       " 3,\n",
       " 3,\n",
       " 3,\n",
       " 3,\n",
       " 3,\n",
       " 3,\n",
       " 3,\n",
       " 3,\n",
       " 3,\n",
       " 3,\n",
       " 3,\n",
       " 3,\n",
       " 3,\n",
       " 3,\n",
       " 3,\n",
       " 3,\n",
       " 3,\n",
       " 3,\n",
       " 3,\n",
       " 3,\n",
       " 3,\n",
       " 3,\n",
       " 3,\n",
       " 3,\n",
       " 3,\n",
       " 3,\n",
       " 3,\n",
       " 3,\n",
       " 3,\n",
       " 3,\n",
       " 2,\n",
       " 2,\n",
       " 2,\n",
       " 2,\n",
       " 2,\n",
       " 2,\n",
       " 2,\n",
       " 2,\n",
       " 2,\n",
       " 2,\n",
       " 2,\n",
       " 2,\n",
       " 2,\n",
       " 2,\n",
       " 2,\n",
       " 2,\n",
       " 2,\n",
       " 2,\n",
       " 2,\n",
       " 2,\n",
       " 2,\n",
       " 2,\n",
       " 2,\n",
       " 2,\n",
       " 2,\n",
       " 2,\n",
       " 2,\n",
       " 2,\n",
       " 2,\n",
       " 2,\n",
       " 2,\n",
       " 2,\n",
       " 2,\n",
       " 2,\n",
       " 2,\n",
       " 2,\n",
       " 2,\n",
       " 2,\n",
       " 2,\n",
       " 2,\n",
       " 2,\n",
       " 2,\n",
       " 2,\n",
       " 2,\n",
       " 2,\n",
       " 2,\n",
       " 2,\n",
       " 2,\n",
       " 2,\n",
       " 2,\n",
       " 2,\n",
       " 2,\n",
       " 2,\n",
       " 2,\n",
       " 2,\n",
       " 2,\n",
       " 2,\n",
       " 2,\n",
       " 2,\n",
       " 2,\n",
       " 2,\n",
       " 2,\n",
       " 2,\n",
       " 2,\n",
       " 2,\n",
       " 2,\n",
       " 2,\n",
       " 2,\n",
       " 2,\n",
       " 2,\n",
       " 2,\n",
       " 2,\n",
       " 2,\n",
       " 2,\n",
       " 2,\n",
       " 2,\n",
       " 2,\n",
       " 2,\n",
       " 2,\n",
       " 2,\n",
       " 2,\n",
       " 2,\n",
       " 2,\n",
       " 2,\n",
       " 2,\n",
       " 2,\n",
       " 2,\n",
       " 2,\n",
       " 2,\n",
       " 2,\n",
       " 2,\n",
       " 2,\n",
       " 2,\n",
       " 2,\n",
       " 2,\n",
       " 2,\n",
       " 2,\n",
       " 2,\n",
       " 2,\n",
       " 2,\n",
       " 2,\n",
       " 2,\n",
       " 2,\n",
       " 2,\n",
       " 2,\n",
       " 2,\n",
       " 2,\n",
       " 2,\n",
       " 2,\n",
       " 2,\n",
       " 2,\n",
       " 2,\n",
       " 2,\n",
       " 2,\n",
       " 2,\n",
       " 2,\n",
       " 2,\n",
       " 2,\n",
       " 2,\n",
       " 2,\n",
       " 2,\n",
       " 2,\n",
       " 2,\n",
       " 2,\n",
       " 2,\n",
       " 2,\n",
       " 2,\n",
       " 2,\n",
       " 2,\n",
       " 2,\n",
       " 2,\n",
       " 2,\n",
       " 2,\n",
       " 2,\n",
       " 2,\n",
       " 2,\n",
       " 2,\n",
       " 2,\n",
       " 2,\n",
       " 2,\n",
       " 2,\n",
       " 2,\n",
       " 2,\n",
       " 2,\n",
       " 2,\n",
       " 2,\n",
       " 2,\n",
       " 2,\n",
       " 2,\n",
       " 2,\n",
       " 2,\n",
       " 2,\n",
       " 2,\n",
       " 2,\n",
       " 2,\n",
       " 2,\n",
       " 2,\n",
       " 2,\n",
       " 2,\n",
       " 2,\n",
       " 2,\n",
       " 2,\n",
       " 2,\n",
       " 2,\n",
       " 2,\n",
       " 2,\n",
       " 2,\n",
       " 2,\n",
       " 2,\n",
       " 2,\n",
       " 2,\n",
       " 2,\n",
       " 2,\n",
       " 2,\n",
       " 2,\n",
       " 2,\n",
       " 2,\n",
       " 2,\n",
       " 2,\n",
       " 2,\n",
       " 2,\n",
       " 2,\n",
       " 2,\n",
       " 2,\n",
       " 2,\n",
       " 2,\n",
       " 2,\n",
       " 2,\n",
       " 2,\n",
       " 2,\n",
       " 2,\n",
       " 2,\n",
       " 2,\n",
       " 2,\n",
       " 2,\n",
       " 2,\n",
       " 2,\n",
       " 2,\n",
       " 2,\n",
       " 2,\n",
       " 2,\n",
       " 2,\n",
       " 2,\n",
       " 2,\n",
       " 2,\n",
       " 2,\n",
       " 2,\n",
       " 2,\n",
       " 2,\n",
       " 2,\n",
       " 2,\n",
       " 2,\n",
       " 2,\n",
       " 2,\n",
       " 2,\n",
       " 2,\n",
       " 2,\n",
       " 2,\n",
       " 2,\n",
       " 2,\n",
       " 2,\n",
       " 2,\n",
       " 2,\n",
       " 2,\n",
       " 2,\n",
       " 2,\n",
       " 2,\n",
       " 2,\n",
       " 2,\n",
       " 2,\n",
       " 2,\n",
       " 2,\n",
       " 2,\n",
       " 2,\n",
       " 2,\n",
       " 2,\n",
       " 2,\n",
       " 2,\n",
       " 2,\n",
       " 2,\n",
       " 2,\n",
       " 2,\n",
       " 2,\n",
       " 2,\n",
       " 2,\n",
       " 2,\n",
       " 2,\n",
       " 2,\n",
       " 2,\n",
       " 2,\n",
       " 2,\n",
       " 2,\n",
       " 2,\n",
       " 2,\n",
       " 2,\n",
       " 2,\n",
       " 2,\n",
       " 2,\n",
       " 2,\n",
       " 2,\n",
       " 2,\n",
       " 2,\n",
       " 2,\n",
       " 2,\n",
       " 2,\n",
       " 2,\n",
       " 2,\n",
       " 2,\n",
       " 2,\n",
       " 2,\n",
       " 2,\n",
       " 2,\n",
       " 2,\n",
       " 2,\n",
       " 2,\n",
       " 2,\n",
       " 2,\n",
       " 2,\n",
       " 2,\n",
       " 2,\n",
       " 2,\n",
       " 2,\n",
       " 2,\n",
       " 2,\n",
       " 2,\n",
       " 2,\n",
       " 2,\n",
       " 2,\n",
       " 2,\n",
       " 2,\n",
       " 2,\n",
       " 2,\n",
       " 2,\n",
       " 2,\n",
       " 2,\n",
       " 2,\n",
       " 2,\n",
       " 2,\n",
       " 2,\n",
       " 2,\n",
       " 2,\n",
       " 2,\n",
       " 2,\n",
       " 2,\n",
       " 2,\n",
       " 2,\n",
       " 2,\n",
       " 2,\n",
       " 2,\n",
       " 2,\n",
       " 2,\n",
       " 2,\n",
       " 2,\n",
       " 2,\n",
       " 2,\n",
       " 2,\n",
       " 2,\n",
       " 2,\n",
       " 2,\n",
       " 2,\n",
       " 2,\n",
       " 2,\n",
       " 2,\n",
       " 2,\n",
       " 2,\n",
       " 2,\n",
       " 2,\n",
       " 2,\n",
       " 2,\n",
       " 2,\n",
       " 2,\n",
       " 2,\n",
       " 2,\n",
       " 2,\n",
       " 2,\n",
       " 2,\n",
       " 2,\n",
       " 2,\n",
       " 2,\n",
       " 2,\n",
       " 2,\n",
       " 2,\n",
       " 2,\n",
       " 2,\n",
       " 2,\n",
       " 2,\n",
       " 2,\n",
       " 2,\n",
       " 2,\n",
       " 2,\n",
       " 2,\n",
       " 2,\n",
       " 2,\n",
       " 2,\n",
       " 2,\n",
       " 2,\n",
       " 2,\n",
       " 2,\n",
       " 2,\n",
       " 2,\n",
       " 2,\n",
       " 2,\n",
       " 2,\n",
       " 2,\n",
       " 2,\n",
       " 2,\n",
       " 2,\n",
       " 2,\n",
       " 2,\n",
       " 2,\n",
       " 2,\n",
       " 2,\n",
       " 2,\n",
       " 2,\n",
       " 2,\n",
       " 2,\n",
       " 2,\n",
       " 2,\n",
       " 2,\n",
       " 2,\n",
       " 2,\n",
       " 2,\n",
       " 2,\n",
       " 2,\n",
       " 2,\n",
       " 2,\n",
       " 2,\n",
       " 2,\n",
       " 2,\n",
       " 2,\n",
       " 2,\n",
       " 2,\n",
       " 2,\n",
       " 2,\n",
       " 2,\n",
       " 2,\n",
       " 2,\n",
       " 2,\n",
       " 2,\n",
       " 2,\n",
       " 2,\n",
       " 2,\n",
       " 2,\n",
       " 2,\n",
       " 2,\n",
       " 2,\n",
       " 2,\n",
       " 2,\n",
       " 2,\n",
       " 2,\n",
       " 2,\n",
       " 2,\n",
       " 2,\n",
       " 2,\n",
       " 2,\n",
       " 2,\n",
       " 2,\n",
       " 2,\n",
       " 2,\n",
       " 2,\n",
       " 2,\n",
       " 2,\n",
       " 2,\n",
       " 2,\n",
       " 2,\n",
       " 2,\n",
       " 2,\n",
       " 2,\n",
       " 2,\n",
       " 2,\n",
       " 2,\n",
       " 2,\n",
       " 2,\n",
       " 2,\n",
       " 2,\n",
       " 2,\n",
       " 2,\n",
       " 2,\n",
       " 2,\n",
       " 2,\n",
       " 2,\n",
       " 2,\n",
       " 2,\n",
       " 2,\n",
       " 2,\n",
       " 2,\n",
       " 2,\n",
       " 2,\n",
       " 2,\n",
       " 2,\n",
       " 2,\n",
       " 2,\n",
       " 2,\n",
       " 2,\n",
       " 2,\n",
       " 2,\n",
       " 2,\n",
       " 2,\n",
       " 2,\n",
       " 2,\n",
       " 2,\n",
       " 2,\n",
       " 2,\n",
       " 2,\n",
       " 2,\n",
       " 2,\n",
       " 2,\n",
       " 2,\n",
       " 2,\n",
       " 2,\n",
       " 2,\n",
       " 2,\n",
       " 2,\n",
       " 2,\n",
       " 2,\n",
       " 2,\n",
       " 2,\n",
       " 2,\n",
       " 2,\n",
       " 2,\n",
       " 2,\n",
       " 2,\n",
       " 2,\n",
       " 2,\n",
       " 2,\n",
       " 2,\n",
       " 2,\n",
       " 2,\n",
       " 2,\n",
       " 2,\n",
       " 2,\n",
       " 2,\n",
       " 2,\n",
       " 2,\n",
       " 2,\n",
       " 2,\n",
       " 2,\n",
       " 2,\n",
       " 2,\n",
       " 2,\n",
       " 2,\n",
       " 2,\n",
       " 2,\n",
       " 2,\n",
       " 2,\n",
       " 2,\n",
       " 2,\n",
       " 2,\n",
       " 2,\n",
       " 2,\n",
       " 2,\n",
       " 2,\n",
       " 2,\n",
       " 2,\n",
       " 2,\n",
       " 2,\n",
       " 2,\n",
       " 2,\n",
       " 2,\n",
       " 2,\n",
       " 2,\n",
       " 2,\n",
       " 2,\n",
       " 2,\n",
       " 2,\n",
       " 2,\n",
       " 2,\n",
       " 2,\n",
       " 2,\n",
       " 2,\n",
       " 2,\n",
       " 2,\n",
       " 2,\n",
       " 2,\n",
       " 2,\n",
       " 2,\n",
       " 2,\n",
       " 2,\n",
       " 2,\n",
       " 2,\n",
       " 2,\n",
       " 2,\n",
       " 2,\n",
       " 2,\n",
       " 2,\n",
       " 2,\n",
       " 2,\n",
       " 2,\n",
       " 2,\n",
       " 2,\n",
       " 2,\n",
       " 2,\n",
       " 2,\n",
       " 2,\n",
       " 2,\n",
       " 2,\n",
       " 2,\n",
       " 2,\n",
       " 2,\n",
       " 2,\n",
       " 2,\n",
       " 2,\n",
       " 2,\n",
       " 2,\n",
       " 2,\n",
       " 2,\n",
       " 2,\n",
       " 2,\n",
       " 2,\n",
       " 2,\n",
       " 2,\n",
       " 2,\n",
       " 2,\n",
       " 2,\n",
       " 2,\n",
       " 2,\n",
       " 2,\n",
       " 2,\n",
       " 2,\n",
       " 2,\n",
       " 2,\n",
       " 2,\n",
       " 2,\n",
       " 2,\n",
       " 2,\n",
       " 2,\n",
       " 2,\n",
       " 2,\n",
       " 2,\n",
       " 2,\n",
       " 2,\n",
       " 2,\n",
       " 2,\n",
       " 2,\n",
       " 2,\n",
       " 2,\n",
       " 2,\n",
       " 2,\n",
       " 2,\n",
       " 2,\n",
       " 2,\n",
       " 2,\n",
       " 2,\n",
       " 2,\n",
       " 2,\n",
       " 2,\n",
       " 2,\n",
       " 2,\n",
       " 2,\n",
       " 2,\n",
       " 2,\n",
       " 2,\n",
       " 2,\n",
       " 2,\n",
       " 2,\n",
       " 2,\n",
       " 2,\n",
       " 2,\n",
       " 2,\n",
       " 2,\n",
       " 2,\n",
       " 2,\n",
       " 2,\n",
       " 2,\n",
       " 2,\n",
       " 2,\n",
       " 2,\n",
       " 2,\n",
       " 2,\n",
       " 2,\n",
       " 2,\n",
       " 2,\n",
       " 2,\n",
       " 2,\n",
       " 2,\n",
       " 2,\n",
       " 2,\n",
       " 2,\n",
       " 2,\n",
       " 2,\n",
       " 2,\n",
       " 2,\n",
       " 2,\n",
       " 2,\n",
       " 2,\n",
       " 2,\n",
       " 2,\n",
       " 2,\n",
       " 2,\n",
       " 2,\n",
       " 2,\n",
       " 2,\n",
       " 2,\n",
       " 2,\n",
       " 2,\n",
       " 2,\n",
       " 2,\n",
       " 2,\n",
       " 2,\n",
       " 2,\n",
       " 2,\n",
       " 2,\n",
       " 2,\n",
       " 2,\n",
       " 2,\n",
       " 2,\n",
       " 2,\n",
       " 2,\n",
       " 2,\n",
       " 2,\n",
       " 2,\n",
       " 2,\n",
       " 2,\n",
       " 2,\n",
       " 2,\n",
       " 2,\n",
       " 1,\n",
       " 1,\n",
       " 1,\n",
       " 1,\n",
       " 1,\n",
       " 1,\n",
       " 1,\n",
       " 1,\n",
       " 1,\n",
       " 1,\n",
       " 1,\n",
       " 1,\n",
       " 1,\n",
       " 1,\n",
       " 1,\n",
       " 1,\n",
       " 1,\n",
       " 1,\n",
       " 1,\n",
       " 1,\n",
       " 1,\n",
       " 1,\n",
       " 1,\n",
       " 1,\n",
       " 1,\n",
       " 1,\n",
       " 1,\n",
       " 1,\n",
       " 1,\n",
       " 1,\n",
       " 1,\n",
       " 1,\n",
       " 1,\n",
       " 1,\n",
       " 1,\n",
       " 1,\n",
       " 1,\n",
       " 1,\n",
       " 1,\n",
       " 1,\n",
       " 1,\n",
       " 1,\n",
       " 1,\n",
       " 1,\n",
       " 1,\n",
       " 1,\n",
       " 1,\n",
       " 1,\n",
       " 1,\n",
       " 1,\n",
       " 1,\n",
       " 1,\n",
       " 1,\n",
       " 1,\n",
       " 1,\n",
       " 1,\n",
       " 1,\n",
       " 1,\n",
       " 1,\n",
       " 1,\n",
       " 1,\n",
       " 1,\n",
       " 1,\n",
       " 1,\n",
       " 1,\n",
       " 1,\n",
       " 1,\n",
       " 1,\n",
       " 1,\n",
       " 1,\n",
       " 1,\n",
       " 1,\n",
       " 1,\n",
       " 1,\n",
       " 1,\n",
       " 1,\n",
       " 1,\n",
       " 1,\n",
       " 1,\n",
       " 1,\n",
       " 1,\n",
       " 1,\n",
       " 1,\n",
       " 1,\n",
       " 1,\n",
       " 1,\n",
       " 1,\n",
       " 1,\n",
       " 1,\n",
       " 1,\n",
       " 1,\n",
       " 1,\n",
       " 1,\n",
       " 1,\n",
       " 1,\n",
       " 1,\n",
       " 1,\n",
       " 1,\n",
       " 1,\n",
       " 1,\n",
       " 1,\n",
       " 1,\n",
       " 1,\n",
       " 1,\n",
       " 1,\n",
       " 1,\n",
       " 1,\n",
       " 1,\n",
       " 1,\n",
       " 1,\n",
       " 1,\n",
       " 1,\n",
       " 1,\n",
       " 1,\n",
       " 1,\n",
       " 1,\n",
       " 1,\n",
       " 1,\n",
       " 1,\n",
       " 1,\n",
       " 1,\n",
       " 1,\n",
       " 1,\n",
       " 1,\n",
       " 1,\n",
       " 1,\n",
       " 1,\n",
       " 1,\n",
       " 1,\n",
       " 1,\n",
       " 1,\n",
       " 1,\n",
       " 1,\n",
       " 1,\n",
       " 1,\n",
       " 1,\n",
       " 1,\n",
       " 1,\n",
       " 1,\n",
       " 1,\n",
       " 1,\n",
       " 1,\n",
       " 1,\n",
       " 1,\n",
       " 1,\n",
       " ...]"
      ]
     },
     "execution_count": 134,
     "metadata": {},
     "output_type": "execute_result"
    }
   ],
   "source": [
    "Gcc = sorted(nx.connected_components(G), key=len, reverse=True)\n",
    "G_m = G.subgraph(Gcc[0])\n",
    "[len(c) for c in sorted(nx.connected_components(G), key=len, reverse=True)]"
   ]
  },
  {
   "cell_type": "markdown",
   "id": "a633c601",
   "metadata": {},
   "source": [
    "We see that most of the users are part of a single connected component. We will be using this largest connected component for our analysis."
   ]
  },
  {
   "cell_type": "code",
   "execution_count": 135,
   "id": "0791ecd2",
   "metadata": {},
   "outputs": [
    {
     "data": {
      "text/plain": [
       "18161"
      ]
     },
     "execution_count": 135,
     "metadata": {},
     "output_type": "execute_result"
    }
   ],
   "source": [
    "len(set(G_m.nodes).intersection(common_users))"
   ]
  },
  {
   "cell_type": "code",
   "execution_count": null,
   "id": "fc787464",
   "metadata": {},
   "outputs": [],
   "source": []
  }
 ],
 "metadata": {
  "kernelspec": {
   "display_name": "Python 3 (ipykernel)",
   "language": "python",
   "name": "python3"
  },
  "language_info": {
   "codemirror_mode": {
    "name": "ipython",
    "version": 3
   },
   "file_extension": ".py",
   "mimetype": "text/x-python",
   "name": "python",
   "nbconvert_exporter": "python",
   "pygments_lexer": "ipython3",
   "version": "3.9.6"
  }
 },
 "nbformat": 4,
 "nbformat_minor": 5
}
