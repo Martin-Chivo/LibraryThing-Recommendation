{
  "cells": [
    {
      "cell_type": "markdown",
      "id": "3941df5a",
      "metadata": {
        "id": "3941df5a"
      },
      "source": [
        "# LibraryThings Recommendation System"
      ]
    },
    {
      "cell_type": "markdown",
      "id": "b269c749",
      "metadata": {
        "id": "b269c749"
      },
      "source": [
        "## 1. Loading reviews.txt"
      ]
    },
    {
      "cell_type": "code",
      "source": [
        "# mount the google drive\n",
        "from google.colab import drive\n",
        "drive.mount('/content/drive')"
      ],
      "metadata": {
        "colab": {
          "base_uri": "https://localhost:8080/"
        },
        "id": "8b2gInPZpZkk",
        "outputId": "1cb6a195-3d52-4550-c90b-de76d36f7bbc"
      },
      "id": "8b2gInPZpZkk",
      "execution_count": 23,
      "outputs": [
        {
          "output_type": "stream",
          "name": "stdout",
          "text": [
            "Drive already mounted at /content/drive; to attempt to forcibly remount, call drive.mount(\"/content/drive\", force_remount=True).\n"
          ]
        }
      ]
    },
    {
      "cell_type": "code",
      "execution_count": 24,
      "id": "adb7d13d",
      "metadata": {
        "id": "adb7d13d"
      },
      "outputs": [],
      "source": [
        "# importing the library\n",
        "import numpy as np\n",
        "import pandas as pd"
      ]
    },
    {
      "cell_type": "code",
      "execution_count": 26,
      "id": "4f9585f0",
      "metadata": {
        "id": "4f9585f0"
      },
      "outputs": [],
      "source": [
        "# reading the file\n",
        "review_list = []\n",
        "with open('/content/drive/MyDrive/reviews.txt', 'r') as f:\n",
        "    for line in f:\n",
        "        if line == 'reviews = {}\\n':\n",
        "            continue\n",
        "        try:\n",
        "            _, review = line.split(')] = ')\n",
        "            review_list.append(ast.literal_eval(review))\n",
        "        except:\n",
        "            print(line)\n",
        "            break"
      ]
    },
    {
      "cell_type": "code",
      "execution_count": 28,
      "id": "cf1c3143",
      "metadata": {
        "id": "cf1c3143"
      },
      "outputs": [],
      "source": [
        "# converting it into dataframe\n",
        "reviews_df = pd.DataFrame(review_list)"
      ]
    },
    {
      "cell_type": "code",
      "execution_count": 7,
      "id": "9886c674",
      "metadata": {
        "colab": {
          "base_uri": "https://localhost:8080/",
          "height": 468
        },
        "id": "9886c674",
        "outputId": "2b628d1e-0ee0-4e9b-e74e-96c07239918b"
      },
      "outputs": [
        {
          "output_type": "execute_result",
          "data": {
            "text/plain": [
              "                                                   comment  nhelpful  \\\n",
              "0        Every evening, the brave queen of Persia, Shah...         0   \n",
              "1        Its the 1983-84 school year and Edward Zanni o...         0   \n",
              "2        I became privy to this book, when another auth...         0   \n",
              "3                                                    .             0   \n",
              "4        This is a tremendous story of a freed woman an...         0   \n",
              "...                                                    ...       ...   \n",
              "1707065  This is quite possibly the cutest kids book I'...         0   \n",
              "1707066  This is a fairy tale which is very much a Cupi...         0   \n",
              "1707067  http://tamaranth.blogspot.com/1994/03/guilty-p...         0   \n",
              "1707068  Despus del extraordinario xito de Los ojos ama...         0   \n",
              "1707069  I originally met most of the diseases covered ...         3   \n",
              "\n",
              "             unixtime      work flags              user  stars          time  \n",
              "0        1.332288e+09     73960    []  Elizabeth.Wong98    4.5  Mar 21, 2012  \n",
              "1        1.253405e+09     69413    []            rivkat    3.0  Sep 20, 2009  \n",
              "2        1.299888e+09   9523995    []      suz.haugland    4.0  Mar 12, 2011  \n",
              "3        1.327277e+09    368228    []        amoskovacs    4.0  Jan 23, 2012  \n",
              "4        1.329005e+09  11243828    []            CandyH    4.0  Feb 12, 2012  \n",
              "...               ...       ...   ...               ...    ...           ...  \n",
              "1707065  1.327795e+09    129503    []         evementen    NaN  Jan 29, 2012  \n",
              "1707066  1.364688e+09  11749693    []      AmyMacEvilly    5.0  Mar 31, 2013  \n",
              "1707067  1.176682e+09   4873693    []         tamaranth    4.5  Apr 16, 2007  \n",
              "1707068  1.321920e+09   9705446    []          bibliosa    NaN  Nov 22, 2011  \n",
              "1707069  1.188518e+09     32396    []         jlelliott    4.0  Aug 31, 2007  \n",
              "\n",
              "[1707070 rows x 8 columns]"
            ],
            "text/html": [
              "\n",
              "  <div id=\"df-0938d7f8-57df-4e41-a87e-081c2d56f38b\">\n",
              "    <div class=\"colab-df-container\">\n",
              "      <div>\n",
              "<style scoped>\n",
              "    .dataframe tbody tr th:only-of-type {\n",
              "        vertical-align: middle;\n",
              "    }\n",
              "\n",
              "    .dataframe tbody tr th {\n",
              "        vertical-align: top;\n",
              "    }\n",
              "\n",
              "    .dataframe thead th {\n",
              "        text-align: right;\n",
              "    }\n",
              "</style>\n",
              "<table border=\"1\" class=\"dataframe\">\n",
              "  <thead>\n",
              "    <tr style=\"text-align: right;\">\n",
              "      <th></th>\n",
              "      <th>comment</th>\n",
              "      <th>nhelpful</th>\n",
              "      <th>unixtime</th>\n",
              "      <th>work</th>\n",
              "      <th>flags</th>\n",
              "      <th>user</th>\n",
              "      <th>stars</th>\n",
              "      <th>time</th>\n",
              "    </tr>\n",
              "  </thead>\n",
              "  <tbody>\n",
              "    <tr>\n",
              "      <th>0</th>\n",
              "      <td>Every evening, the brave queen of Persia, Shah...</td>\n",
              "      <td>0</td>\n",
              "      <td>1.332288e+09</td>\n",
              "      <td>73960</td>\n",
              "      <td>[]</td>\n",
              "      <td>Elizabeth.Wong98</td>\n",
              "      <td>4.5</td>\n",
              "      <td>Mar 21, 2012</td>\n",
              "    </tr>\n",
              "    <tr>\n",
              "      <th>1</th>\n",
              "      <td>Its the 1983-84 school year and Edward Zanni o...</td>\n",
              "      <td>0</td>\n",
              "      <td>1.253405e+09</td>\n",
              "      <td>69413</td>\n",
              "      <td>[]</td>\n",
              "      <td>rivkat</td>\n",
              "      <td>3.0</td>\n",
              "      <td>Sep 20, 2009</td>\n",
              "    </tr>\n",
              "    <tr>\n",
              "      <th>2</th>\n",
              "      <td>I became privy to this book, when another auth...</td>\n",
              "      <td>0</td>\n",
              "      <td>1.299888e+09</td>\n",
              "      <td>9523995</td>\n",
              "      <td>[]</td>\n",
              "      <td>suz.haugland</td>\n",
              "      <td>4.0</td>\n",
              "      <td>Mar 12, 2011</td>\n",
              "    </tr>\n",
              "    <tr>\n",
              "      <th>3</th>\n",
              "      <td>.</td>\n",
              "      <td>0</td>\n",
              "      <td>1.327277e+09</td>\n",
              "      <td>368228</td>\n",
              "      <td>[]</td>\n",
              "      <td>amoskovacs</td>\n",
              "      <td>4.0</td>\n",
              "      <td>Jan 23, 2012</td>\n",
              "    </tr>\n",
              "    <tr>\n",
              "      <th>4</th>\n",
              "      <td>This is a tremendous story of a freed woman an...</td>\n",
              "      <td>0</td>\n",
              "      <td>1.329005e+09</td>\n",
              "      <td>11243828</td>\n",
              "      <td>[]</td>\n",
              "      <td>CandyH</td>\n",
              "      <td>4.0</td>\n",
              "      <td>Feb 12, 2012</td>\n",
              "    </tr>\n",
              "    <tr>\n",
              "      <th>...</th>\n",
              "      <td>...</td>\n",
              "      <td>...</td>\n",
              "      <td>...</td>\n",
              "      <td>...</td>\n",
              "      <td>...</td>\n",
              "      <td>...</td>\n",
              "      <td>...</td>\n",
              "      <td>...</td>\n",
              "    </tr>\n",
              "    <tr>\n",
              "      <th>1707065</th>\n",
              "      <td>This is quite possibly the cutest kids book I'...</td>\n",
              "      <td>0</td>\n",
              "      <td>1.327795e+09</td>\n",
              "      <td>129503</td>\n",
              "      <td>[]</td>\n",
              "      <td>evementen</td>\n",
              "      <td>NaN</td>\n",
              "      <td>Jan 29, 2012</td>\n",
              "    </tr>\n",
              "    <tr>\n",
              "      <th>1707066</th>\n",
              "      <td>This is a fairy tale which is very much a Cupi...</td>\n",
              "      <td>0</td>\n",
              "      <td>1.364688e+09</td>\n",
              "      <td>11749693</td>\n",
              "      <td>[]</td>\n",
              "      <td>AmyMacEvilly</td>\n",
              "      <td>5.0</td>\n",
              "      <td>Mar 31, 2013</td>\n",
              "    </tr>\n",
              "    <tr>\n",
              "      <th>1707067</th>\n",
              "      <td>http://tamaranth.blogspot.com/1994/03/guilty-p...</td>\n",
              "      <td>0</td>\n",
              "      <td>1.176682e+09</td>\n",
              "      <td>4873693</td>\n",
              "      <td>[]</td>\n",
              "      <td>tamaranth</td>\n",
              "      <td>4.5</td>\n",
              "      <td>Apr 16, 2007</td>\n",
              "    </tr>\n",
              "    <tr>\n",
              "      <th>1707068</th>\n",
              "      <td>Despus del extraordinario xito de Los ojos ama...</td>\n",
              "      <td>0</td>\n",
              "      <td>1.321920e+09</td>\n",
              "      <td>9705446</td>\n",
              "      <td>[]</td>\n",
              "      <td>bibliosa</td>\n",
              "      <td>NaN</td>\n",
              "      <td>Nov 22, 2011</td>\n",
              "    </tr>\n",
              "    <tr>\n",
              "      <th>1707069</th>\n",
              "      <td>I originally met most of the diseases covered ...</td>\n",
              "      <td>3</td>\n",
              "      <td>1.188518e+09</td>\n",
              "      <td>32396</td>\n",
              "      <td>[]</td>\n",
              "      <td>jlelliott</td>\n",
              "      <td>4.0</td>\n",
              "      <td>Aug 31, 2007</td>\n",
              "    </tr>\n",
              "  </tbody>\n",
              "</table>\n",
              "<p>1707070 rows × 8 columns</p>\n",
              "</div>\n",
              "      <button class=\"colab-df-convert\" onclick=\"convertToInteractive('df-0938d7f8-57df-4e41-a87e-081c2d56f38b')\"\n",
              "              title=\"Convert this dataframe to an interactive table.\"\n",
              "              style=\"display:none;\">\n",
              "        \n",
              "  <svg xmlns=\"http://www.w3.org/2000/svg\" height=\"24px\"viewBox=\"0 0 24 24\"\n",
              "       width=\"24px\">\n",
              "    <path d=\"M0 0h24v24H0V0z\" fill=\"none\"/>\n",
              "    <path d=\"M18.56 5.44l.94 2.06.94-2.06 2.06-.94-2.06-.94-.94-2.06-.94 2.06-2.06.94zm-11 1L8.5 8.5l.94-2.06 2.06-.94-2.06-.94L8.5 2.5l-.94 2.06-2.06.94zm10 10l.94 2.06.94-2.06 2.06-.94-2.06-.94-.94-2.06-.94 2.06-2.06.94z\"/><path d=\"M17.41 7.96l-1.37-1.37c-.4-.4-.92-.59-1.43-.59-.52 0-1.04.2-1.43.59L10.3 9.45l-7.72 7.72c-.78.78-.78 2.05 0 2.83L4 21.41c.39.39.9.59 1.41.59.51 0 1.02-.2 1.41-.59l7.78-7.78 2.81-2.81c.8-.78.8-2.07 0-2.86zM5.41 20L4 18.59l7.72-7.72 1.47 1.35L5.41 20z\"/>\n",
              "  </svg>\n",
              "      </button>\n",
              "      \n",
              "  <style>\n",
              "    .colab-df-container {\n",
              "      display:flex;\n",
              "      flex-wrap:wrap;\n",
              "      gap: 12px;\n",
              "    }\n",
              "\n",
              "    .colab-df-convert {\n",
              "      background-color: #E8F0FE;\n",
              "      border: none;\n",
              "      border-radius: 50%;\n",
              "      cursor: pointer;\n",
              "      display: none;\n",
              "      fill: #1967D2;\n",
              "      height: 32px;\n",
              "      padding: 0 0 0 0;\n",
              "      width: 32px;\n",
              "    }\n",
              "\n",
              "    .colab-df-convert:hover {\n",
              "      background-color: #E2EBFA;\n",
              "      box-shadow: 0px 1px 2px rgba(60, 64, 67, 0.3), 0px 1px 3px 1px rgba(60, 64, 67, 0.15);\n",
              "      fill: #174EA6;\n",
              "    }\n",
              "\n",
              "    [theme=dark] .colab-df-convert {\n",
              "      background-color: #3B4455;\n",
              "      fill: #D2E3FC;\n",
              "    }\n",
              "\n",
              "    [theme=dark] .colab-df-convert:hover {\n",
              "      background-color: #434B5C;\n",
              "      box-shadow: 0px 1px 3px 1px rgba(0, 0, 0, 0.15);\n",
              "      filter: drop-shadow(0px 1px 2px rgba(0, 0, 0, 0.3));\n",
              "      fill: #FFFFFF;\n",
              "    }\n",
              "  </style>\n",
              "\n",
              "      <script>\n",
              "        const buttonEl =\n",
              "          document.querySelector('#df-0938d7f8-57df-4e41-a87e-081c2d56f38b button.colab-df-convert');\n",
              "        buttonEl.style.display =\n",
              "          google.colab.kernel.accessAllowed ? 'block' : 'none';\n",
              "\n",
              "        async function convertToInteractive(key) {\n",
              "          const element = document.querySelector('#df-0938d7f8-57df-4e41-a87e-081c2d56f38b');\n",
              "          const dataTable =\n",
              "            await google.colab.kernel.invokeFunction('convertToInteractive',\n",
              "                                                     [key], {});\n",
              "          if (!dataTable) return;\n",
              "\n",
              "          const docLinkHtml = 'Like what you see? Visit the ' +\n",
              "            '<a target=\"_blank\" href=https://colab.research.google.com/notebooks/data_table.ipynb>data table notebook</a>'\n",
              "            + ' to learn more about interactive tables.';\n",
              "          element.innerHTML = '';\n",
              "          dataTable['output_type'] = 'display_data';\n",
              "          await google.colab.output.renderOutput(dataTable, element);\n",
              "          const docLink = document.createElement('div');\n",
              "          docLink.innerHTML = docLinkHtml;\n",
              "          element.appendChild(docLink);\n",
              "        }\n",
              "      </script>\n",
              "    </div>\n",
              "  </div>\n",
              "  "
            ]
          },
          "metadata": {},
          "execution_count": 7
        }
      ],
      "source": [
        "reviews_df"
      ]
    },
    {
      "cell_type": "markdown",
      "id": "8704746d",
      "metadata": {
        "id": "8704746d"
      },
      "source": [
        "## 2. Understanding the data"
      ]
    },
    {
      "cell_type": "markdown",
      "id": "cc464299",
      "metadata": {
        "id": "cc464299"
      },
      "source": [
        "Looking at the data, we have the following columns:\n",
        "* comment: User review/comments about the book\n",
        "* nhelpful: Number of users who found the review/comment helpful\n",
        "* unixtime: UNIX time when review/comment was submitted\n",
        "* work: Book identifier\n",
        "* flags: Can be from the following values: \\['', 'not_a_review', 'abuse'\\]\n",
        "* user: Username\n",
        "* stars: Ratings on a scale of 5\n",
        "* time: Date when review was submitted\n",
        "\n",
        "Based on the following, it seems that *unixtime* and *time* represent the same, and are therefore redundant."
      ]
    },
    {
      "cell_type": "code",
      "execution_count": 29,
      "id": "7bea6d41",
      "metadata": {
        "colab": {
          "base_uri": "https://localhost:8080/"
        },
        "id": "7bea6d41",
        "outputId": "1852b71f-9d63-401a-8f39-9f2329851f91"
      },
      "outputs": [
        {
          "output_type": "execute_result",
          "data": {
            "text/plain": [
              "comment          0\n",
              "nhelpful         0\n",
              "unixtime        90\n",
              "work             0\n",
              "flags            0\n",
              "user             0\n",
              "stars       319861\n",
              "time            90\n",
              "dtype: int64"
            ]
          },
          "metadata": {},
          "execution_count": 29
        }
      ],
      "source": [
        "# finding the null values\n",
        "reviews_df.isna().sum()"
      ]
    },
    {
      "cell_type": "code",
      "execution_count": 30,
      "id": "b8d669ef",
      "metadata": {
        "id": "b8d669ef"
      },
      "outputs": [],
      "source": [
        "# droping the null values\n",
        "reviews_df.dropna(inplace=True)"
      ]
    },
    {
      "cell_type": "code",
      "execution_count": 31,
      "id": "267cefe2",
      "metadata": {
        "colab": {
          "base_uri": "https://localhost:8080/"
        },
        "id": "267cefe2",
        "outputId": "2b99d4cb-99b4-4c6f-bfcb-f0286c8fde22"
      },
      "outputs": [
        {
          "output_type": "execute_result",
          "data": {
            "text/plain": [
              "comment     0\n",
              "nhelpful    0\n",
              "unixtime    0\n",
              "work        0\n",
              "flags       0\n",
              "user        0\n",
              "stars       0\n",
              "time        0\n",
              "dtype: int64"
            ]
          },
          "metadata": {},
          "execution_count": 31
        }
      ],
      "source": [
        "reviews_df.isna().sum()"
      ]
    },
    {
      "cell_type": "markdown",
      "id": "558cb067",
      "metadata": {
        "id": "558cb067"
      },
      "source": [
        "### 2.1 Duplicate samples"
      ]
    },
    {
      "cell_type": "code",
      "execution_count": 19,
      "id": "d5590db7",
      "metadata": {
        "colab": {
          "base_uri": "https://localhost:8080/",
          "height": 49
        },
        "id": "d5590db7",
        "outputId": "efb05444-e719-4ada-aa82-ef15eb02773f"
      },
      "outputs": [
        {
          "output_type": "execute_result",
          "data": {
            "text/plain": [
              "Empty DataFrame\n",
              "Columns: [comment, nhelpful, unixtime, work, user, stars, time, abuse, not_a_review]\n",
              "Index: []"
            ],
            "text/html": [
              "\n",
              "  <div id=\"df-dc460209-e695-46c7-b608-19107bb550da\">\n",
              "    <div class=\"colab-df-container\">\n",
              "      <div>\n",
              "<style scoped>\n",
              "    .dataframe tbody tr th:only-of-type {\n",
              "        vertical-align: middle;\n",
              "    }\n",
              "\n",
              "    .dataframe tbody tr th {\n",
              "        vertical-align: top;\n",
              "    }\n",
              "\n",
              "    .dataframe thead th {\n",
              "        text-align: right;\n",
              "    }\n",
              "</style>\n",
              "<table border=\"1\" class=\"dataframe\">\n",
              "  <thead>\n",
              "    <tr style=\"text-align: right;\">\n",
              "      <th></th>\n",
              "      <th>comment</th>\n",
              "      <th>nhelpful</th>\n",
              "      <th>unixtime</th>\n",
              "      <th>work</th>\n",
              "      <th>user</th>\n",
              "      <th>stars</th>\n",
              "      <th>time</th>\n",
              "      <th>abuse</th>\n",
              "      <th>not_a_review</th>\n",
              "    </tr>\n",
              "  </thead>\n",
              "  <tbody>\n",
              "  </tbody>\n",
              "</table>\n",
              "</div>\n",
              "      <button class=\"colab-df-convert\" onclick=\"convertToInteractive('df-dc460209-e695-46c7-b608-19107bb550da')\"\n",
              "              title=\"Convert this dataframe to an interactive table.\"\n",
              "              style=\"display:none;\">\n",
              "        \n",
              "  <svg xmlns=\"http://www.w3.org/2000/svg\" height=\"24px\"viewBox=\"0 0 24 24\"\n",
              "       width=\"24px\">\n",
              "    <path d=\"M0 0h24v24H0V0z\" fill=\"none\"/>\n",
              "    <path d=\"M18.56 5.44l.94 2.06.94-2.06 2.06-.94-2.06-.94-.94-2.06-.94 2.06-2.06.94zm-11 1L8.5 8.5l.94-2.06 2.06-.94-2.06-.94L8.5 2.5l-.94 2.06-2.06.94zm10 10l.94 2.06.94-2.06 2.06-.94-2.06-.94-.94-2.06-.94 2.06-2.06.94z\"/><path d=\"M17.41 7.96l-1.37-1.37c-.4-.4-.92-.59-1.43-.59-.52 0-1.04.2-1.43.59L10.3 9.45l-7.72 7.72c-.78.78-.78 2.05 0 2.83L4 21.41c.39.39.9.59 1.41.59.51 0 1.02-.2 1.41-.59l7.78-7.78 2.81-2.81c.8-.78.8-2.07 0-2.86zM5.41 20L4 18.59l7.72-7.72 1.47 1.35L5.41 20z\"/>\n",
              "  </svg>\n",
              "      </button>\n",
              "      \n",
              "  <style>\n",
              "    .colab-df-container {\n",
              "      display:flex;\n",
              "      flex-wrap:wrap;\n",
              "      gap: 12px;\n",
              "    }\n",
              "\n",
              "    .colab-df-convert {\n",
              "      background-color: #E8F0FE;\n",
              "      border: none;\n",
              "      border-radius: 50%;\n",
              "      cursor: pointer;\n",
              "      display: none;\n",
              "      fill: #1967D2;\n",
              "      height: 32px;\n",
              "      padding: 0 0 0 0;\n",
              "      width: 32px;\n",
              "    }\n",
              "\n",
              "    .colab-df-convert:hover {\n",
              "      background-color: #E2EBFA;\n",
              "      box-shadow: 0px 1px 2px rgba(60, 64, 67, 0.3), 0px 1px 3px 1px rgba(60, 64, 67, 0.15);\n",
              "      fill: #174EA6;\n",
              "    }\n",
              "\n",
              "    [theme=dark] .colab-df-convert {\n",
              "      background-color: #3B4455;\n",
              "      fill: #D2E3FC;\n",
              "    }\n",
              "\n",
              "    [theme=dark] .colab-df-convert:hover {\n",
              "      background-color: #434B5C;\n",
              "      box-shadow: 0px 1px 3px 1px rgba(0, 0, 0, 0.15);\n",
              "      filter: drop-shadow(0px 1px 2px rgba(0, 0, 0, 0.3));\n",
              "      fill: #FFFFFF;\n",
              "    }\n",
              "  </style>\n",
              "\n",
              "      <script>\n",
              "        const buttonEl =\n",
              "          document.querySelector('#df-dc460209-e695-46c7-b608-19107bb550da button.colab-df-convert');\n",
              "        buttonEl.style.display =\n",
              "          google.colab.kernel.accessAllowed ? 'block' : 'none';\n",
              "\n",
              "        async function convertToInteractive(key) {\n",
              "          const element = document.querySelector('#df-dc460209-e695-46c7-b608-19107bb550da');\n",
              "          const dataTable =\n",
              "            await google.colab.kernel.invokeFunction('convertToInteractive',\n",
              "                                                     [key], {});\n",
              "          if (!dataTable) return;\n",
              "\n",
              "          const docLinkHtml = 'Like what you see? Visit the ' +\n",
              "            '<a target=\"_blank\" href=https://colab.research.google.com/notebooks/data_table.ipynb>data table notebook</a>'\n",
              "            + ' to learn more about interactive tables.';\n",
              "          element.innerHTML = '';\n",
              "          dataTable['output_type'] = 'display_data';\n",
              "          await google.colab.output.renderOutput(dataTable, element);\n",
              "          const docLink = document.createElement('div');\n",
              "          docLink.innerHTML = docLinkHtml;\n",
              "          element.appendChild(docLink);\n",
              "        }\n",
              "      </script>\n",
              "    </div>\n",
              "  </div>\n",
              "  "
            ]
          },
          "metadata": {},
          "execution_count": 19
        }
      ],
      "source": [
        "# finding and droping the duplicate values\n",
        "review_df[review_df.duplicated()]"
      ]
    },
    {
      "cell_type": "markdown",
      "id": "3a2bf24d",
      "metadata": {
        "id": "3a2bf24d"
      },
      "source": [
        "It seems that there are no duplictes."
      ]
    },
    {
      "cell_type": "markdown",
      "id": "ccc12f19",
      "metadata": {
        "id": "ccc12f19"
      },
      "source": [
        "### 2.3 stars\n",
        "We see that all ratings are between 0 and 5, with increments of 0.5."
      ]
    },
    {
      "cell_type": "code",
      "execution_count": null,
      "id": "0c1d3e3e",
      "metadata": {
        "id": "0c1d3e3e",
        "outputId": "1ae837d6-a012-4187-f0be-64e65f7f47c5"
      },
      "outputs": [
        {
          "data": {
            "text/plain": [
              "array([4.5, 3. , 4. , 2. , 3.5, 5. , 1. , 2.5, 0.5, 1.5])"
            ]
          },
          "execution_count": 29,
          "metadata": {},
          "output_type": "execute_result"
        }
      ],
      "source": [
        "review_df['stars'].unique()"
      ]
    },
    {
      "cell_type": "markdown",
      "id": "1401a666",
      "metadata": {
        "id": "1401a666"
      },
      "source": [
        "### 2.4 nhelpful"
      ]
    },
    {
      "cell_type": "code",
      "execution_count": null,
      "id": "3c637388",
      "metadata": {
        "id": "3c637388",
        "outputId": "d02c79ac-b996-4396-e731-c8fc5f5aa41b"
      },
      "outputs": [
        {
          "data": {
            "text/plain": [
              "array([  0,   6,   2,   1,   5,   7,   3,   4,  16,  22,  12,  18,  11,\n",
              "        21,  13,  10,   9,   8,  47,  20,  30,  33,  15,  19,  28,  37,\n",
              "        31,  23,  14,  26,  17,  36,  25,  72,  52,  27,  34,  58,  48,\n",
              "        24,  63,  79,  32,  38, 129,  75,  29,  46, 332, 108,  40,  87,\n",
              "        39,  68, 189,  59, 152, 100,  66,  44,  82,  41,  78,  45,  60,\n",
              "        43, 316,  49,  76,  70,  77,  55,  67,  74])"
            ]
          },
          "execution_count": 30,
          "metadata": {},
          "output_type": "execute_result"
        }
      ],
      "source": [
        "review_df['nhelpful'].unique()"
      ]
    },
    {
      "cell_type": "code",
      "execution_count": null,
      "id": "9a52da77",
      "metadata": {
        "id": "9a52da77",
        "outputId": "1970ea40-2f94-4656-dc70-98b71fa60983"
      },
      "outputs": [
        {
          "data": {
            "text/plain": [
              "0     1203898\n",
              "1      117058\n",
              "2       25988\n",
              "3        9051\n",
              "4        3947\n",
              "       ...   \n",
              "63          1\n",
              "52          1\n",
              "72          1\n",
              "47          1\n",
              "74          1\n",
              "Name: nhelpful, Length: 74, dtype: int64"
            ]
          },
          "execution_count": 32,
          "metadata": {},
          "output_type": "execute_result"
        }
      ],
      "source": [
        "review_df['nhelpful'].value_counts()"
      ]
    },
    {
      "cell_type": "code",
      "execution_count": null,
      "id": "0a8af7a3",
      "metadata": {
        "id": "0a8af7a3",
        "outputId": "68889af6-0f14-450e-9651-bd30a617d43c"
      },
      "outputs": [
        {
          "data": {
            "text/plain": [
              "pandas.core.series.Series"
            ]
          },
          "execution_count": 33,
          "metadata": {},
          "output_type": "execute_result"
        }
      ],
      "source": [
        "type(review_df['nhelpful'].value_counts())"
      ]
    },
    {
      "cell_type": "code",
      "execution_count": 20,
      "id": "aed7c785",
      "metadata": {
        "id": "aed7c785"
      },
      "outputs": [],
      "source": [
        "from matplotlib import pyplot as plt "
      ]
    },
    {
      "cell_type": "code",
      "execution_count": 21,
      "id": "45ce95eb",
      "metadata": {
        "colab": {
          "base_uri": "https://localhost:8080/",
          "height": 476
        },
        "id": "45ce95eb",
        "outputId": "fdc1f310-3972-4fa0-aca7-96e24cff550e"
      },
      "outputs": [
        {
          "output_type": "execute_result",
          "data": {
            "text/plain": [
              "<Axes: >"
            ]
          },
          "metadata": {},
          "execution_count": 21
        },
        {
          "output_type": "display_data",
          "data": {
            "text/plain": [
              "<Figure size 640x480 with 1 Axes>"
            ],
            "image/png": "[encoded data removed]"
          },
          "metadata": {}
        }
      ],
      "source": [
        "review_df['nhelpful'].value_counts().plot(kind='bar')"
      ]
    },
    {
      "cell_type": "markdown",
      "id": "6db6358b",
      "metadata": {
        "id": "6db6358b"
      },
      "source": [
        "This is expected as most books are not a popular. People may therefore never read the reviews for these books and hence never find the reviews helpful."
      ]
    },
    {
      "cell_type": "markdown",
      "id": "2165db3b",
      "metadata": {
        "id": "2165db3b"
      },
      "source": [
        "### 2.5 comment\n",
        "\n",
        "We see that there are a few comments with URLs. We need to clean these to ensure proper embeddings."
      ]
    },
    {
      "cell_type": "code",
      "execution_count": 22,
      "id": "a3f465e7",
      "metadata": {
        "colab": {
          "base_uri": "https://localhost:8080/",
          "height": 818
        },
        "id": "a3f465e7",
        "outputId": "0ba4b750-5f83-4a00-bcd0-4b59d599e6f0"
      },
      "outputs": [
        {
          "output_type": "execute_result",
          "data": {
            "text/plain": [
              "                                                   comment  nhelpful  \\\n",
              "11       Monitor life.\\nhttp://freesf.strandedinoz.com/...         0   \n",
              "12       You enter the moment of the naked lunch when y...         6   \n",
              "14       In these days of Echelon, Satellite spying, an...         1   \n",
              "29       C'est pour moi une premire exprience avec l'au...         0   \n",
              "61       Review posted here: http://offbeatvagabond.blo...         1   \n",
              "...                                                    ...       ...   \n",
              "1706975  http://boekenwijs.blogspot.com/2008/05/heart-o...         0   \n",
              "1706999  http://nwhyte.livejournal.com/1700514.html\\nHe...         0   \n",
              "1707039  http://library.tom-hanna.org/2007/margaret-lob...         0   \n",
              "1707063  http://olvasonaplo.freeblog.hu/archives/2007/0...         0   \n",
              "1707067  http://tamaranth.blogspot.com/1994/03/guilty-p...         0   \n",
              "\n",
              "             unixtime      work             user  stars          time  abuse  \\\n",
              "11       1.309910e+09  11162023      BlueTysonSS    3.5   Jul 6, 2011  False   \n",
              "12       1.286150e+09      5852        funkendub    5.0   Oct 4, 2010  False   \n",
              "14       1.169856e+09      1472        bluetyson    5.0  Jan 27, 2007  False   \n",
              "29       1.365034e+09   8311485   Moncoinlecture    3.0   Apr 4, 2013  False   \n",
              "61       1.336090e+09  11357432  harleyquinn0887    5.0   May 4, 2012  False   \n",
              "...               ...       ...              ...    ...           ...    ...   \n",
              "1706975  1.210464e+09      2575       boekenwijs    2.0  May 11, 2008  False   \n",
              "1706999  1.302307e+09   1411914           nwhyte    3.5   Apr 9, 2011  False   \n",
              "1707039  1.189037e+09     35552         tomhanna    4.0   Sep 6, 2007  False   \n",
              "1707063  1.209082e+09     76280           sorsha    3.0  Apr 25, 2008  False   \n",
              "1707067  1.176682e+09   4873693        tamaranth    4.5  Apr 16, 2007  False   \n",
              "\n",
              "         not_a_review  \n",
              "11              False  \n",
              "12              False  \n",
              "14              False  \n",
              "29              False  \n",
              "61              False  \n",
              "...               ...  \n",
              "1706975         False  \n",
              "1706999         False  \n",
              "1707039         False  \n",
              "1707063         False  \n",
              "1707067         False  \n",
              "\n",
              "[83774 rows x 9 columns]"
            ],
            "text/html": [
              "\n",
              "  <div id=\"df-f6fba195-5fb4-4edd-b1c7-0b61158c3774\">\n",
              "    <div class=\"colab-df-container\">\n",
              "      <div>\n",
              "<style scoped>\n",
              "    .dataframe tbody tr th:only-of-type {\n",
              "        vertical-align: middle;\n",
              "    }\n",
              "\n",
              "    .dataframe tbody tr th {\n",
              "        vertical-align: top;\n",
              "    }\n",
              "\n",
              "    .dataframe thead th {\n",
              "        text-align: right;\n",
              "    }\n",
              "</style>\n",
              "<table border=\"1\" class=\"dataframe\">\n",
              "  <thead>\n",
              "    <tr style=\"text-align: right;\">\n",
              "      <th></th>\n",
              "      <th>comment</th>\n",
              "      <th>nhelpful</th>\n",
              "      <th>unixtime</th>\n",
              "      <th>work</th>\n",
              "      <th>user</th>\n",
              "      <th>stars</th>\n",
              "      <th>time</th>\n",
              "      <th>abuse</th>\n",
              "      <th>not_a_review</th>\n",
              "    </tr>\n",
              "  </thead>\n",
              "  <tbody>\n",
              "    <tr>\n",
              "      <th>11</th>\n",
              "      <td>Monitor life.\\nhttp://freesf.strandedinoz.com/...</td>\n",
              "      <td>0</td>\n",
              "      <td>1.309910e+09</td>\n",
              "      <td>11162023</td>\n",
              "      <td>BlueTysonSS</td>\n",
              "      <td>3.5</td>\n",
              "      <td>Jul 6, 2011</td>\n",
              "      <td>False</td>\n",
              "      <td>False</td>\n",
              "    </tr>\n",
              "    <tr>\n",
              "      <th>12</th>\n",
              "      <td>You enter the moment of the naked lunch when y...</td>\n",
              "      <td>6</td>\n",
              "      <td>1.286150e+09</td>\n",
              "      <td>5852</td>\n",
              "      <td>funkendub</td>\n",
              "      <td>5.0</td>\n",
              "      <td>Oct 4, 2010</td>\n",
              "      <td>False</td>\n",
              "      <td>False</td>\n",
              "    </tr>\n",
              "    <tr>\n",
              "      <th>14</th>\n",
              "      <td>In these days of Echelon, Satellite spying, an...</td>\n",
              "      <td>1</td>\n",
              "      <td>1.169856e+09</td>\n",
              "      <td>1472</td>\n",
              "      <td>bluetyson</td>\n",
              "      <td>5.0</td>\n",
              "      <td>Jan 27, 2007</td>\n",
              "      <td>False</td>\n",
              "      <td>False</td>\n",
              "    </tr>\n",
              "    <tr>\n",
              "      <th>29</th>\n",
              "      <td>C'est pour moi une premire exprience avec l'au...</td>\n",
              "      <td>0</td>\n",
              "      <td>1.365034e+09</td>\n",
              "      <td>8311485</td>\n",
              "      <td>Moncoinlecture</td>\n",
              "      <td>3.0</td>\n",
              "      <td>Apr 4, 2013</td>\n",
              "      <td>False</td>\n",
              "      <td>False</td>\n",
              "    </tr>\n",
              "    <tr>\n",
              "      <th>61</th>\n",
              "      <td>Review posted here: http://offbeatvagabond.blo...</td>\n",
              "      <td>1</td>\n",
              "      <td>1.336090e+09</td>\n",
              "      <td>11357432</td>\n",
              "      <td>harleyquinn0887</td>\n",
              "      <td>5.0</td>\n",
              "      <td>May 4, 2012</td>\n",
              "      <td>False</td>\n",
              "      <td>False</td>\n",
              "    </tr>\n",
              "    <tr>\n",
              "      <th>...</th>\n",
              "      <td>...</td>\n",
              "      <td>...</td>\n",
              "      <td>...</td>\n",
              "      <td>...</td>\n",
              "      <td>...</td>\n",
              "      <td>...</td>\n",
              "      <td>...</td>\n",
              "      <td>...</td>\n",
              "      <td>...</td>\n",
              "    </tr>\n",
              "    <tr>\n",
              "      <th>1706975</th>\n",
              "      <td>http://boekenwijs.blogspot.com/2008/05/heart-o...</td>\n",
              "      <td>0</td>\n",
              "      <td>1.210464e+09</td>\n",
              "      <td>2575</td>\n",
              "      <td>boekenwijs</td>\n",
              "      <td>2.0</td>\n",
              "      <td>May 11, 2008</td>\n",
              "      <td>False</td>\n",
              "      <td>False</td>\n",
              "    </tr>\n",
              "    <tr>\n",
              "      <th>1706999</th>\n",
              "      <td>http://nwhyte.livejournal.com/1700514.html\\nHe...</td>\n",
              "      <td>0</td>\n",
              "      <td>1.302307e+09</td>\n",
              "      <td>1411914</td>\n",
              "      <td>nwhyte</td>\n",
              "      <td>3.5</td>\n",
              "      <td>Apr 9, 2011</td>\n",
              "      <td>False</td>\n",
              "      <td>False</td>\n",
              "    </tr>\n",
              "    <tr>\n",
              "      <th>1707039</th>\n",
              "      <td>http://library.tom-hanna.org/2007/margaret-lob...</td>\n",
              "      <td>0</td>\n",
              "      <td>1.189037e+09</td>\n",
              "      <td>35552</td>\n",
              "      <td>tomhanna</td>\n",
              "      <td>4.0</td>\n",
              "      <td>Sep 6, 2007</td>\n",
              "      <td>False</td>\n",
              "      <td>False</td>\n",
              "    </tr>\n",
              "    <tr>\n",
              "      <th>1707063</th>\n",
              "      <td>http://olvasonaplo.freeblog.hu/archives/2007/0...</td>\n",
              "      <td>0</td>\n",
              "      <td>1.209082e+09</td>\n",
              "      <td>76280</td>\n",
              "      <td>sorsha</td>\n",
              "      <td>3.0</td>\n",
              "      <td>Apr 25, 2008</td>\n",
              "      <td>False</td>\n",
              "      <td>False</td>\n",
              "    </tr>\n",
              "    <tr>\n",
              "      <th>1707067</th>\n",
              "      <td>http://tamaranth.blogspot.com/1994/03/guilty-p...</td>\n",
              "      <td>0</td>\n",
              "      <td>1.176682e+09</td>\n",
              "      <td>4873693</td>\n",
              "      <td>tamaranth</td>\n",
              "      <td>4.5</td>\n",
              "      <td>Apr 16, 2007</td>\n",
              "      <td>False</td>\n",
              "      <td>False</td>\n",
              "    </tr>\n",
              "  </tbody>\n",
              "</table>\n",
              "<p>83774 rows × 9 columns</p>\n",
              "</div>\n",
              "      <button class=\"colab-df-convert\" onclick=\"convertToInteractive('df-f6fba195-5fb4-4edd-b1c7-0b61158c3774')\"\n",
              "              title=\"Convert this dataframe to an interactive table.\"\n",
              "              style=\"display:none;\">\n",
              "        \n",
              "  <svg xmlns=\"http://www.w3.org/2000/svg\" height=\"24px\"viewBox=\"0 0 24 24\"\n",
              "       width=\"24px\">\n",
              "    <path d=\"M0 0h24v24H0V0z\" fill=\"none\"/>\n",
              "    <path d=\"M18.56 5.44l.94 2.06.94-2.06 2.06-.94-2.06-.94-.94-2.06-.94 2.06-2.06.94zm-11 1L8.5 8.5l.94-2.06 2.06-.94-2.06-.94L8.5 2.5l-.94 2.06-2.06.94zm10 10l.94 2.06.94-2.06 2.06-.94-2.06-.94-.94-2.06-.94 2.06-2.06.94z\"/><path d=\"M17.41 7.96l-1.37-1.37c-.4-.4-.92-.59-1.43-.59-.52 0-1.04.2-1.43.59L10.3 9.45l-7.72 7.72c-.78.78-.78 2.05 0 2.83L4 21.41c.39.39.9.59 1.41.59.51 0 1.02-.2 1.41-.59l7.78-7.78 2.81-2.81c.8-.78.8-2.07 0-2.86zM5.41 20L4 18.59l7.72-7.72 1.47 1.35L5.41 20z\"/>\n",
              "  </svg>\n",
              "      </button>\n",
              "      \n",
              "  <style>\n",
              "    .colab-df-container {\n",
              "      display:flex;\n",
              "      flex-wrap:wrap;\n",
              "      gap: 12px;\n",
              "    }\n",
              "\n",
              "    .colab-df-convert {\n",
              "      background-color: #E8F0FE;\n",
              "      border: none;\n",
              "      border-radius: 50%;\n",
              "      cursor: pointer;\n",
              "      display: none;\n",
              "      fill: #1967D2;\n",
              "      height: 32px;\n",
              "      padding: 0 0 0 0;\n",
              "      width: 32px;\n",
              "    }\n",
              "\n",
              "    .colab-df-convert:hover {\n",
              "      background-color: #E2EBFA;\n",
              "      box-shadow: 0px 1px 2px rgba(60, 64, 67, 0.3), 0px 1px 3px 1px rgba(60, 64, 67, 0.15);\n",
              "      fill: #174EA6;\n",
              "    }\n",
              "\n",
              "    [theme=dark] .colab-df-convert {\n",
              "      background-color: #3B4455;\n",
              "      fill: #D2E3FC;\n",
              "    }\n",
              "\n",
              "    [theme=dark] .colab-df-convert:hover {\n",
              "      background-color: #434B5C;\n",
              "      box-shadow: 0px 1px 3px 1px rgba(0, 0, 0, 0.15);\n",
              "      filter: drop-shadow(0px 1px 2px rgba(0, 0, 0, 0.3));\n",
              "      fill: #FFFFFF;\n",
              "    }\n",
              "  </style>\n",
              "\n",
              "      <script>\n",
              "        const buttonEl =\n",
              "          document.querySelector('#df-f6fba195-5fb4-4edd-b1c7-0b61158c3774 button.colab-df-convert');\n",
              "        buttonEl.style.display =\n",
              "          google.colab.kernel.accessAllowed ? 'block' : 'none';\n",
              "\n",
              "        async function convertToInteractive(key) {\n",
              "          const element = document.querySelector('#df-f6fba195-5fb4-4edd-b1c7-0b61158c3774');\n",
              "          const dataTable =\n",
              "            await google.colab.kernel.invokeFunction('convertToInteractive',\n",
              "                                                     [key], {});\n",
              "          if (!dataTable) return;\n",
              "\n",
              "          const docLinkHtml = 'Like what you see? Visit the ' +\n",
              "            '<a target=\"_blank\" href=https://colab.research.google.com/notebooks/data_table.ipynb>data table notebook</a>'\n",
              "            + ' to learn more about interactive tables.';\n",
              "          element.innerHTML = '';\n",
              "          dataTable['output_type'] = 'display_data';\n",
              "          await google.colab.output.renderOutput(dataTable, element);\n",
              "          const docLink = document.createElement('div');\n",
              "          docLink.innerHTML = docLinkHtml;\n",
              "          element.appendChild(docLink);\n",
              "        }\n",
              "      </script>\n",
              "    </div>\n",
              "  </div>\n",
              "  "
            ]
          },
          "metadata": {},
          "execution_count": 22
        }
      ],
      "source": [
        "review_df[review_df['comment'].str.contains('http|www')]"
      ]
    },
    {
      "cell_type": "code",
      "execution_count": 23,
      "id": "2750cadc",
      "metadata": {
        "colab": {
          "base_uri": "https://localhost:8080/"
        },
        "id": "2750cadc",
        "outputId": "e1612c7b-b5ed-4f4f-957d-e6578eee62e5"
      },
      "outputs": [
        {
          "output_type": "execute_result",
          "data": {
            "text/plain": [
              "0.061266294908126885"
            ]
          },
          "metadata": {},
          "execution_count": 23
        }
      ],
      "source": [
        "# Percentage reviews with containing 'http' or 'www'\n",
        "\n",
        "83774/review_df.shape[0]"
      ]
    },
    {
      "cell_type": "code",
      "execution_count": 24,
      "id": "ef9b9ddb",
      "metadata": {
        "colab": {
          "base_uri": "https://localhost:8080/",
          "height": 641
        },
        "id": "ef9b9ddb",
        "outputId": "b7273133-c9c4-486f-f9e7-8e389e9a46ff"
      },
      "outputs": [
        {
          "output_type": "execute_result",
          "data": {
            "text/plain": [
              "                                                   comment  nhelpful  \\\n",
              "12       You enter the moment of the naked lunch when y...         6   \n",
              "162      It's a real shame for Monica Pradhan that AMy ...         0   \n",
              "451      What is it like... to be considered: \"Genius?\"...         0   \n",
              "1084     I received this book through www.librarything....         0   \n",
              "1147     I decided to read this book, because the topic...         0   \n",
              "...                                                    ...       ...   \n",
              "1703742  Nel silenzio della campagna pugliese, in un'es...         1   \n",
              "1704179  I bought this from Amazon at random, as I have...         0   \n",
              "1705436  In current day India, the police have called i...         0   \n",
              "1705511  From the writers of the website www.gofugyours...         0   \n",
              "1706656  Heading into adolescence is never an easy time...         0   \n",
              "\n",
              "             unixtime      work                 user  stars          time  \\\n",
              "12       1.286150e+09      5852            funkendub    5.0   Oct 4, 2010   \n",
              "162      1.321488e+09   2411376             bookczuk    3.0  Nov 17, 2011   \n",
              "451      1.224634e+09   5787763      ANovelMenagerie    4.0  Oct 22, 2008   \n",
              "1084     1.323216e+09  11357953             apsing01    4.0   Dec 7, 2011   \n",
              "1147     1.307664e+09   7997468  Princetonbookreview    4.0  Jun 10, 2011   \n",
              "...               ...       ...                  ...    ...           ...   \n",
              "1703742  1.179619e+09   5950304         Streghissima    5.0  May 20, 2007   \n",
              "1704179  1.360368e+09  11160219             nina.jon    4.0   Feb 9, 2013   \n",
              "1705436  1.301616e+09   9819803            Nickelini    4.0   Apr 1, 2011   \n",
              "1705511  1.364688e+09   4792292                JenJ.    4.0  Mar 31, 2013   \n",
              "1706656  1.373760e+09  11807852      BaileysAndBooks    4.5  Jul 14, 2013   \n",
              "\n",
              "         abuse  not_a_review  \n",
              "12       False         False  \n",
              "162      False         False  \n",
              "451      False         False  \n",
              "1084     False         False  \n",
              "1147      True         False  \n",
              "...        ...           ...  \n",
              "1703742  False         False  \n",
              "1704179  False         False  \n",
              "1705436  False         False  \n",
              "1705511  False         False  \n",
              "1706656  False         False  \n",
              "\n",
              "[2388 rows x 9 columns]"
            ],
            "text/html": [
              "\n",
              "  <div id=\"df-e6debb79-21ce-45e0-ab85-500cf84d67cd\">\n",
              "    <div class=\"colab-df-container\">\n",
              "      <div>\n",
              "<style scoped>\n",
              "    .dataframe tbody tr th:only-of-type {\n",
              "        vertical-align: middle;\n",
              "    }\n",
              "\n",
              "    .dataframe tbody tr th {\n",
              "        vertical-align: top;\n",
              "    }\n",
              "\n",
              "    .dataframe thead th {\n",
              "        text-align: right;\n",
              "    }\n",
              "</style>\n",
              "<table border=\"1\" class=\"dataframe\">\n",
              "  <thead>\n",
              "    <tr style=\"text-align: right;\">\n",
              "      <th></th>\n",
              "      <th>comment</th>\n",
              "      <th>nhelpful</th>\n",
              "      <th>unixtime</th>\n",
              "      <th>work</th>\n",
              "      <th>user</th>\n",
              "      <th>stars</th>\n",
              "      <th>time</th>\n",
              "      <th>abuse</th>\n",
              "      <th>not_a_review</th>\n",
              "    </tr>\n",
              "  </thead>\n",
              "  <tbody>\n",
              "    <tr>\n",
              "      <th>12</th>\n",
              "      <td>You enter the moment of the naked lunch when y...</td>\n",
              "      <td>6</td>\n",
              "      <td>1.286150e+09</td>\n",
              "      <td>5852</td>\n",
              "      <td>funkendub</td>\n",
              "      <td>5.0</td>\n",
              "      <td>Oct 4, 2010</td>\n",
              "      <td>False</td>\n",
              "      <td>False</td>\n",
              "    </tr>\n",
              "    <tr>\n",
              "      <th>162</th>\n",
              "      <td>It's a real shame for Monica Pradhan that AMy ...</td>\n",
              "      <td>0</td>\n",
              "      <td>1.321488e+09</td>\n",
              "      <td>2411376</td>\n",
              "      <td>bookczuk</td>\n",
              "      <td>3.0</td>\n",
              "      <td>Nov 17, 2011</td>\n",
              "      <td>False</td>\n",
              "      <td>False</td>\n",
              "    </tr>\n",
              "    <tr>\n",
              "      <th>451</th>\n",
              "      <td>What is it like... to be considered: \"Genius?\"...</td>\n",
              "      <td>0</td>\n",
              "      <td>1.224634e+09</td>\n",
              "      <td>5787763</td>\n",
              "      <td>ANovelMenagerie</td>\n",
              "      <td>4.0</td>\n",
              "      <td>Oct 22, 2008</td>\n",
              "      <td>False</td>\n",
              "      <td>False</td>\n",
              "    </tr>\n",
              "    <tr>\n",
              "      <th>1084</th>\n",
              "      <td>I received this book through www.librarything....</td>\n",
              "      <td>0</td>\n",
              "      <td>1.323216e+09</td>\n",
              "      <td>11357953</td>\n",
              "      <td>apsing01</td>\n",
              "      <td>4.0</td>\n",
              "      <td>Dec 7, 2011</td>\n",
              "      <td>False</td>\n",
              "      <td>False</td>\n",
              "    </tr>\n",
              "    <tr>\n",
              "      <th>1147</th>\n",
              "      <td>I decided to read this book, because the topic...</td>\n",
              "      <td>0</td>\n",
              "      <td>1.307664e+09</td>\n",
              "      <td>7997468</td>\n",
              "      <td>Princetonbookreview</td>\n",
              "      <td>4.0</td>\n",
              "      <td>Jun 10, 2011</td>\n",
              "      <td>True</td>\n",
              "      <td>False</td>\n",
              "    </tr>\n",
              "    <tr>\n",
              "      <th>...</th>\n",
              "      <td>...</td>\n",
              "      <td>...</td>\n",
              "      <td>...</td>\n",
              "      <td>...</td>\n",
              "      <td>...</td>\n",
              "      <td>...</td>\n",
              "      <td>...</td>\n",
              "      <td>...</td>\n",
              "      <td>...</td>\n",
              "    </tr>\n",
              "    <tr>\n",
              "      <th>1703742</th>\n",
              "      <td>Nel silenzio della campagna pugliese, in un'es...</td>\n",
              "      <td>1</td>\n",
              "      <td>1.179619e+09</td>\n",
              "      <td>5950304</td>\n",
              "      <td>Streghissima</td>\n",
              "      <td>5.0</td>\n",
              "      <td>May 20, 2007</td>\n",
              "      <td>False</td>\n",
              "      <td>False</td>\n",
              "    </tr>\n",
              "    <tr>\n",
              "      <th>1704179</th>\n",
              "      <td>I bought this from Amazon at random, as I have...</td>\n",
              "      <td>0</td>\n",
              "      <td>1.360368e+09</td>\n",
              "      <td>11160219</td>\n",
              "      <td>nina.jon</td>\n",
              "      <td>4.0</td>\n",
              "      <td>Feb 9, 2013</td>\n",
              "      <td>False</td>\n",
              "      <td>False</td>\n",
              "    </tr>\n",
              "    <tr>\n",
              "      <th>1705436</th>\n",
              "      <td>In current day India, the police have called i...</td>\n",
              "      <td>0</td>\n",
              "      <td>1.301616e+09</td>\n",
              "      <td>9819803</td>\n",
              "      <td>Nickelini</td>\n",
              "      <td>4.0</td>\n",
              "      <td>Apr 1, 2011</td>\n",
              "      <td>False</td>\n",
              "      <td>False</td>\n",
              "    </tr>\n",
              "    <tr>\n",
              "      <th>1705511</th>\n",
              "      <td>From the writers of the website www.gofugyours...</td>\n",
              "      <td>0</td>\n",
              "      <td>1.364688e+09</td>\n",
              "      <td>4792292</td>\n",
              "      <td>JenJ.</td>\n",
              "      <td>4.0</td>\n",
              "      <td>Mar 31, 2013</td>\n",
              "      <td>False</td>\n",
              "      <td>False</td>\n",
              "    </tr>\n",
              "    <tr>\n",
              "      <th>1706656</th>\n",
              "      <td>Heading into adolescence is never an easy time...</td>\n",
              "      <td>0</td>\n",
              "      <td>1.373760e+09</td>\n",
              "      <td>11807852</td>\n",
              "      <td>BaileysAndBooks</td>\n",
              "      <td>4.5</td>\n",
              "      <td>Jul 14, 2013</td>\n",
              "      <td>False</td>\n",
              "      <td>False</td>\n",
              "    </tr>\n",
              "  </tbody>\n",
              "</table>\n",
              "<p>2388 rows × 9 columns</p>\n",
              "</div>\n",
              "      <button class=\"colab-df-convert\" onclick=\"convertToInteractive('df-e6debb79-21ce-45e0-ab85-500cf84d67cd')\"\n",
              "              title=\"Convert this dataframe to an interactive table.\"\n",
              "              style=\"display:none;\">\n",
              "        \n",
              "  <svg xmlns=\"http://www.w3.org/2000/svg\" height=\"24px\"viewBox=\"0 0 24 24\"\n",
              "       width=\"24px\">\n",
              "    <path d=\"M0 0h24v24H0V0z\" fill=\"none\"/>\n",
              "    <path d=\"M18.56 5.44l.94 2.06.94-2.06 2.06-.94-2.06-.94-.94-2.06-.94 2.06-2.06.94zm-11 1L8.5 8.5l.94-2.06 2.06-.94-2.06-.94L8.5 2.5l-.94 2.06-2.06.94zm10 10l.94 2.06.94-2.06 2.06-.94-2.06-.94-.94-2.06-.94 2.06-2.06.94z\"/><path d=\"M17.41 7.96l-1.37-1.37c-.4-.4-.92-.59-1.43-.59-.52 0-1.04.2-1.43.59L10.3 9.45l-7.72 7.72c-.78.78-.78 2.05 0 2.83L4 21.41c.39.39.9.59 1.41.59.51 0 1.02-.2 1.41-.59l7.78-7.78 2.81-2.81c.8-.78.8-2.07 0-2.86zM5.41 20L4 18.59l7.72-7.72 1.47 1.35L5.41 20z\"/>\n",
              "  </svg>\n",
              "      </button>\n",
              "      \n",
              "  <style>\n",
              "    .colab-df-container {\n",
              "      display:flex;\n",
              "      flex-wrap:wrap;\n",
              "      gap: 12px;\n",
              "    }\n",
              "\n",
              "    .colab-df-convert {\n",
              "      background-color: #E8F0FE;\n",
              "      border: none;\n",
              "      border-radius: 50%;\n",
              "      cursor: pointer;\n",
              "      display: none;\n",
              "      fill: #1967D2;\n",
              "      height: 32px;\n",
              "      padding: 0 0 0 0;\n",
              "      width: 32px;\n",
              "    }\n",
              "\n",
              "    .colab-df-convert:hover {\n",
              "      background-color: #E2EBFA;\n",
              "      box-shadow: 0px 1px 2px rgba(60, 64, 67, 0.3), 0px 1px 3px 1px rgba(60, 64, 67, 0.15);\n",
              "      fill: #174EA6;\n",
              "    }\n",
              "\n",
              "    [theme=dark] .colab-df-convert {\n",
              "      background-color: #3B4455;\n",
              "      fill: #D2E3FC;\n",
              "    }\n",
              "\n",
              "    [theme=dark] .colab-df-convert:hover {\n",
              "      background-color: #434B5C;\n",
              "      box-shadow: 0px 1px 3px 1px rgba(0, 0, 0, 0.15);\n",
              "      filter: drop-shadow(0px 1px 2px rgba(0, 0, 0, 0.3));\n",
              "      fill: #FFFFFF;\n",
              "    }\n",
              "  </style>\n",
              "\n",
              "      <script>\n",
              "        const buttonEl =\n",
              "          document.querySelector('#df-e6debb79-21ce-45e0-ab85-500cf84d67cd button.colab-df-convert');\n",
              "        buttonEl.style.display =\n",
              "          google.colab.kernel.accessAllowed ? 'block' : 'none';\n",
              "\n",
              "        async function convertToInteractive(key) {\n",
              "          const element = document.querySelector('#df-e6debb79-21ce-45e0-ab85-500cf84d67cd');\n",
              "          const dataTable =\n",
              "            await google.colab.kernel.invokeFunction('convertToInteractive',\n",
              "                                                     [key], {});\n",
              "          if (!dataTable) return;\n",
              "\n",
              "          const docLinkHtml = 'Like what you see? Visit the ' +\n",
              "            '<a target=\"_blank\" href=https://colab.research.google.com/notebooks/data_table.ipynb>data table notebook</a>'\n",
              "            + ' to learn more about interactive tables.';\n",
              "          element.innerHTML = '';\n",
              "          dataTable['output_type'] = 'display_data';\n",
              "          await google.colab.output.renderOutput(dataTable, element);\n",
              "          const docLink = document.createElement('div');\n",
              "          docLink.innerHTML = docLinkHtml;\n",
              "          element.appendChild(docLink);\n",
              "        }\n",
              "      </script>\n",
              "    </div>\n",
              "  </div>\n",
              "  "
            ]
          },
          "metadata": {},
          "execution_count": 24
        }
      ],
      "source": [
        "# URL not guaranteed to contain with 'http'.\n",
        "review_df[review_df['comment'].str.contains(' www')]"
      ]
    },
    {
      "cell_type": "markdown",
      "id": "49f4abdb",
      "metadata": {
        "id": "49f4abdb"
      },
      "source": [
        "We need to remove the URLs and use the remaining text as part of reviews. Also need to clean up any special characters, and handle escape sequences."
      ]
    },
    {
      "cell_type": "code",
      "execution_count": 25,
      "id": "3eb5b036",
      "metadata": {
        "id": "3eb5b036"
      },
      "outputs": [],
      "source": [
        "comments = review_df['comment'].copy()"
      ]
    },
    {
      "cell_type": "code",
      "execution_count": null,
      "id": "d439edf1",
      "metadata": {
        "id": "d439edf1",
        "outputId": "eb50b37a-01e2-4007-d8bd-a92d871858d7"
      },
      "outputs": [
        {
          "data": {
            "text/plain": [
              "0          Every evening, the brave queen of Persia, Shah...\n",
              "1          Its the 1983-84 school year and Edward Zanni o...\n",
              "2          I became privy to this book, when another auth...\n",
              "3                                                      .    \n",
              "4          This is a tremendous story of a freed woman an...\n",
              "                                 ...                        \n",
              "1707063    http://olvasonaplo.freeblog.hu/archives/2007/0...\n",
              "1707064    I came to this book with low expectations. The...\n",
              "1707066    This is a fairy tale which is very much a Cupi...\n",
              "1707067    http://tamaranth.blogspot.com/1994/03/guilty-p...\n",
              "1707069    I originally met most of the diseases covered ...\n",
              "Name: comment, Length: 1363410, dtype: object"
            ]
          },
          "execution_count": 43,
          "metadata": {},
          "output_type": "execute_result"
        }
      ],
      "source": [
        "comments"
      ]
    },
    {
      "cell_type": "markdown",
      "id": "582ca019",
      "metadata": {
        "id": "582ca019"
      },
      "source": [
        "#### 2.5.1 Clean URLs"
      ]
    },
    {
      "cell_type": "code",
      "execution_count": 26,
      "id": "e15f58c2",
      "metadata": {
        "id": "e15f58c2"
      },
      "outputs": [],
      "source": [
        "import re"
      ]
    },
    {
      "cell_type": "code",
      "execution_count": 27,
      "id": "71e85af8",
      "metadata": {
        "colab": {
          "base_uri": "https://localhost:8080/",
          "height": 35
        },
        "id": "71e85af8",
        "outputId": "17beba48-b659-49d5-e10c-4c8a42e980ec"
      },
      "outputs": [
        {
          "output_type": "execute_result",
          "data": {
            "text/plain": [
              "' '"
            ],
            "application/vnd.google.colaboratory.intrinsic+json": {
              "type": "string"
            }
          },
          "metadata": {},
          "execution_count": 27
        }
      ],
      "source": [
        "re.sub('https?://[\\S]+|www\\.[\\S]+', '',\n",
        "       'http://tamaranth.blogspot.com/1994/03/guilty-pleasures-laurell-k-hamilton.html ')"
      ]
    },
    {
      "cell_type": "code",
      "execution_count": 28,
      "id": "68d5a9f8",
      "metadata": {
        "colab": {
          "base_uri": "https://localhost:8080/",
          "height": 160
        },
        "id": "68d5a9f8",
        "outputId": "915750bd-737c-4067-b3ff-b616dda12cde"
      },
      "outputs": [
        {
          "output_type": "execute_result",
          "data": {
            "text/plain": [
              "\"I received this book through  and it's early reviewer's program. I really didn't know what to expect when I received this ebook. I started the book yesterday and finished it in one day. It was very engaging. The characters were interesting and the story was fast-paced. There were parts that were thrilling, especially the beginning. The off the wall antics of Brian help lighten the story. I enjoyed traveling along with Brenda and Brian, especially the dinner with the parents scene. I wish that it had been a little longer because I'm dying to know what happens next. The ending is a bit of a cliffhanger. Yes, they solved the immediate issue with the criminal at hand but who were those other people and what do they want? I really do think that this book is a great one. The author really knows how to make people laugh at the sheer craziness of the book. \\n \\n\\n\""
            ],
            "application/vnd.google.colaboratory.intrinsic+json": {
              "type": "string"
            }
          },
          "metadata": {},
          "execution_count": 28
        }
      ],
      "source": [
        "re.sub('https?://[\\S]+|www\\.[\\S]+',\n",
        "       '',\n",
        "       \"\"\"I received this book through www.librarything.com and it's early reviewer's program. I really didn't know what to expect when I received this ebook. I started the book yesterday and finished it in one day. It was very engaging. The characters were interesting and the story was fast-paced. There were parts that were thrilling, especially the beginning. The off the wall antics of Brian help lighten the story. I enjoyed traveling along with Brenda and Brian, especially the dinner with the parents scene. I wish that it had been a little longer because I'm dying to know what happens next. The ending is a bit of a cliffhanger. Yes, they solved the immediate issue with the criminal at hand but who were those other people and what do they want? I really do think that this book is a great one. The author really knows how to make people laugh at the sheer craziness of the book. \\nhttp://letthemalleatcake.blogspot.com/2011/12/medium-dead-by-chris-dolley.html \n",
        "\n",
        "\"\"\")"
      ]
    },
    {
      "cell_type": "code",
      "execution_count": 29,
      "id": "c437d290",
      "metadata": {
        "id": "c437d290"
      },
      "outputs": [],
      "source": [
        "reviews_df['comment']=reviews_df['comment'].str.replace('https?://[\\S]+|www\\.[\\S]+', '', regex = True)"
      ]
    },
    {
      "cell_type": "markdown",
      "id": "9d0c4c7f",
      "metadata": {
        "id": "9d0c4c7f"
      },
      "source": [
        "While we see some obvious invalid URLs due to user errors, a some are confusing. Let'slookat the below example."
      ]
    },
    {
      "cell_type": "markdown",
      "id": "b8ab598e",
      "metadata": {
        "id": "b8ab598e"
      },
      "source": [
        "It seems that the user mistakenly introduced a space between 'http://' and 'www'. We can fix these issues manually as we only have a handful of entries."
      ]
    },
    {
      "cell_type": "code",
      "execution_count": 30,
      "id": "a7dde0df",
      "metadata": {
        "id": "a7dde0df"
      },
      "outputs": [],
      "source": [
        "reviews_df['comment']=reviews_df['comment'].str.replace('https?://[\\S]*|https?:/[\\S]+|https?//:[\\S]*|https?/:[\\S]*|http:', '', regex = True)"
      ]
    },
    {
      "cell_type": "code",
      "execution_count": 31,
      "id": "d8354729",
      "metadata": {
        "id": "d8354729"
      },
      "outputs": [],
      "source": [
        "reviews_df['comment']=reviews_df['comment'].str.replace(\"[^a-zA-Z0-9 ]\",'',regex=\"True\")\n",
        "reviews_df['comment']=reviews_df['comment'].str.lower()\n",
        "reviews_df['comment']=reviews_df['comment'].str.replace(\"\\s+\",\" \",regex=\"True\")"
      ]
    },
    {
      "cell_type": "markdown",
      "id": "3f2807d1",
      "metadata": {
        "id": "3f2807d1"
      },
      "source": [
        "As we can see below, the remaining entries only contain http as par of the content."
      ]
    },
    {
      "cell_type": "code",
      "source": [
        "#### SVD\n",
        "!pip install scikit-surprise\n"
      ],
      "metadata": {
        "colab": {
          "base_uri": "https://localhost:8080/"
        },
        "id": "-N_P4JPEPC8Z",
        "outputId": "949760b7-90b7-45de-bcda-0bde848118dc"
      },
      "id": "-N_P4JPEPC8Z",
      "execution_count": 32,
      "outputs": [
        {
          "output_type": "stream",
          "name": "stdout",
          "text": [
            "Looking in indexes: https://pypi.org/simple, https://us-python.pkg.dev/colab-wheels/public/simple/\n",
            "Requirement already satisfied: scikit-surprise in /usr/local/lib/python3.10/dist-packages (1.1.3)\n",
            "Requirement already satisfied: numpy>=1.17.3 in /usr/local/lib/python3.10/dist-packages (from scikit-surprise) (1.22.4)\n",
            "Requirement already satisfied: joblib>=1.0.0 in /usr/local/lib/python3.10/dist-packages (from scikit-surprise) (1.2.0)\n",
            "Requirement already satisfied: scipy>=1.3.2 in /usr/local/lib/python3.10/dist-packages (from scikit-surprise) (1.10.1)\n"
          ]
        }
      ]
    },
    {
      "cell_type": "code",
      "source": [
        "# importing the library\n",
        "from surprise import Dataset, Reader, SVD\n",
        "from surprise.model_selection import train_test_split\n",
        "from surprise import accuracy\n",
        "from surprise.model_selection import cross_validate\n",
        "\n",
        "#  reviews_df containing user name, item ID, and ratings and creating the reader for the svd\n",
        "reader = Reader(rating_scale=(1, 5))\n",
        "data = Dataset.load_from_df(reviews_df[['user', 'work', 'stars']], reader)\n",
        "\n",
        "# Split the data into train and test sets\n",
        "trainset, testset = train_test_split(data, test_size=0.2)\n",
        "\n",
        "# Initialize the SVD algorithm\n",
        "algo = SVD()\n",
        "\n",
        "# Fit the algorithm on the training set\n",
        "cv_results = cross_validate(algo, data, measures=['RMSE'], cv=5, verbose=True)\n",
        "\n",
        "\n",
        "# Make predictions on the test set\n",
        "avg_rmse = round(np.mean(cv_results['test_rmse']), 3)\n",
        "print(\"Average RMSE:\", avg_rmse)\n"
      ],
      "metadata": {
        "colab": {
          "base_uri": "https://localhost:8080/"
        },
        "id": "MFrn294mSL-G",
        "outputId": "762524f5-8770-41a0-c072-90c613ed96f8"
      },
      "id": "MFrn294mSL-G",
      "execution_count": 37,
      "outputs": [
        {
          "output_type": "stream",
          "name": "stdout",
          "text": [
            "Evaluating RMSE of algorithm SVD on 5 split(s).\n",
            "\n",
            "                  Fold 1  Fold 2  Fold 3  Fold 4  Fold 5  Mean    Std     \n",
            "RMSE (testset)    0.8887  0.8862  0.8846  0.8864  0.8873  0.8866  0.0014  \n",
            "Fit time          35.90   39.16   37.42   40.07   39.63   38.44   1.55    \n",
            "Test time         2.76    2.75    4.07    3.13    2.64    3.07    0.52    \n",
            "Average RMSE: 0.887\n"
          ]
        }
      ]
    }
  ],
  "metadata": {
    "kernelspec": {
      "display_name": "Python 3 (ipykernel)",
      "language": "python",
      "name": "python3"
    },
    "language_info": {
      "codemirror_mode": {
        "name": "ipython",
        "version": 3
      },
      "file_extension": ".py",
      "mimetype": "text/x-python",
      "name": "python",
      "nbconvert_exporter": "python",
      "pygments_lexer": "ipython3",
      "version": "3.10.9"
    },
    "colab": {
      "provenance": []
    }
  },
  "nbformat": 4,
  "nbformat_minor": 5
}